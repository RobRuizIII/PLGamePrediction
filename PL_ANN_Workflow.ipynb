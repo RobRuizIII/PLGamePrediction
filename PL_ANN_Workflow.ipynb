{
 "cells": [
  {
   "cell_type": "markdown",
   "metadata": {},
   "source": [
    "## Premier League Matchup Prediction\n",
    "\n",
    "### Multiclass Classification Using Artificial Neural Network (ANN) Model\n",
    "\n",
    "#### Roberto Ruiz, B.S. Petroleum Engineering & Certificate in CS, The University of Texas at Austin\n",
    "\n",
    "This workflow demonstrates multiclass classification of Premier League data gathered from <a href=\"http://football-data.co.uk/englandm.php\">this</a> website and previously prepared in the DataPreperation workflow. An artificial neural network is used to classify matchup results as \"H\" (home team win), \"A\" (away team win), or \"D\" (draw).\n",
    "\n",
    "Feature selection is not done in this workflow as we attempt to use the most amount of data available for this particular ANN model.\n",
    "\n",
    "### Artificial Neural Network Background\n",
    "\n",
    "Artificial neural networks are powerful (nonlinear) machine learning methods inspired by nature that can be used for regression or classification. Additionally, artificial neural networks are considered universal function approximators (can learn any possible function over an interval). This workflow will use supervised learning and a multiclass classification artificial neural network.\n",
    "\n",
    "**Input Layer**<br>\n",
    "The input layer has input nodes for each predictor feature. Predictor features must be min/max normalized to remove any influence from scale differences. All predictor features' values should be in an interval from [-1,1] or [0,1]. This is done to not lose sensitivity when nonlinearly transforming inputs in nodes. We will use the [0,1] interval in this workflow.\n",
    "\n",
    "**Hidden Layers**<br>\n",
    "There can be multiple layers of nodes between the input layer and the output layer however, this workflow will contain a single hidden layer. The amount of nodes used for the hidden layer (width of the ANN) is a hyperparameter that will require tuning.\n",
    "\n",
    "**Output Layer**<br>\n",
    "The output layer will contain a node for each response feature. In this workflow, there will be three nodes (one for each class). The output function used will be the softmax activation function, giving probabilities for each class. The class with the highest probability will be the chosen response from the predictor features.\n",
    "\n",
    "**Connections**<br>\n",
    "The connections in ANN's are outputs from nodes in a layer inputted to nodes in another layer. Fully connected ANN's have every node in a layer connected to every node in the next layer. Feed-forward ANN's move information in a forward direction.\n",
    "\n",
    "**Nodes**<br>\n",
    "Nodes take a linearly weighted combination of inputs from previous layers of nodes, add a bias term, and nonlinearly transform the weighted combination. Nonlinear transformations at each node are called activation functions.\n",
    "\n",
    "**Activation Functions**<br>\n",
    "For this workflow the hidden layer will use a ReLU activation function and the output layer will use a Softmax activation function.\n",
    "\n",
    "- ReLU Activation Function\n",
    "$$f(x) = max(0,x)$$\n",
    "\n",
    "- Softmax Activation Function\n",
    "$$\\frac{e^T_k}{\\sum_{i=1}^K e^T_i}$$\n",
    "\n",
    "**Forward & Backward Pass**<br>\n",
    "In the forward pass the loss function is calculated and in the backward pass (backward propagation) the gradient of the loss with respect to each of the weights is calculated.\n",
    "\n",
    "**Batches and Epochs**<br>\n",
    "An epoch is considered one pass through all of the training data, while a batch is a certain number of samples considered for each forward and backward pass through the ANN.\n",
    "\n",
    "**Learning Rate**<br>\n",
    "The learning rate scales the change (calculated gradients from backward propagation) to the individual weights in the network.\n",
    "\n",
    "***Note***<br>\n",
    "Information and code for this workflow has been both inspired and adapted from <a href=\"https://github.com/GeostatsGuy\">GeostatsGuy</a> and <a href=\"https://towardsdatascience.com/pytorch-tabular-multiclass-classification-9f8211a123ab\">Akshaj Verma</a>\n",
    "\n",
    "### The Workflow\n",
    "Pytorch will be used to create, train, and test our ANN. We will need some standard packages for this workflow."
   ]
  },
  {
   "cell_type": "code",
   "execution_count": 30,
   "metadata": {},
   "outputs": [],
   "source": [
    "import pandas as pd               # Pandas data analysis and data frame tool\n",
    "import numpy as np                # Numpy scientific computing tool\n",
    "import matplotlib.pyplot as plt   # Matplotlib for visualizing data\n",
    "import seaborn as sns             # Seaborn for statistical data visualization\n",
    "%matplotlib inline\n",
    "\n",
    "import torch                      # Pytorch open source machine learning framework for ANN\n",
    "import torch.nn.functional as F\n",
    "from tqdm import tqdm             # Smart progress meter used in tarining and validation of ANN\n",
    "from torch import nn, optim\n",
    "from torch.utils.data import Dataset, DataLoader, WeightedRandomSampler\n",
    "\n",
    "from sklearn.model_selection import train_test_split  # Train, testing split function to split train and test data\n",
    "from sklearn.metrics import confusion_matrix, classification_report  # confusion matrix and classification report for result summary"
   ]
  },
  {
   "cell_type": "markdown",
   "metadata": {},
   "source": [
    "#### Observe Data Framework\n",
    "Have a quick glimpse at the features and data in the loaded framework. Keys to the abbreviations of the features are listed below.<br>\n",
    "- FTR = Full Time Result (H=Home Win, D=Draw, A=Away Win)\n",
    "- unixtime = Date in unixtime of when the match happened\n",
    "- HFUD = Home team Fatigue Unixtime Difference (unixtime difference between team's last game and current game)\n",
    "- AFUD = Away team Fatigue Unixtime Difference (unixtime difference between team's last game and current game)\n",
    "- HGDPH = Home team Goal Difference Playing Home (goals in favor - goals against -- while playing home before current matchup)\n",
    "- AGDPH = Away team Goal Difference Playing Home (goals in favor - goals against -- while playing home before current matchup)\n",
    "- HGDPA = Home team Goal Difference Playing Away (goals in favor - goals against -- while playing away before current matchup)\n",
    "- AGDPA = Away team Goal Difference Playing Away (goals in favor - goals against -- while playing away before current matchup)\n",
    "- HTGD = Home team Total Goal Difference (goals in favor - goals against before current matchup)\n",
    "- ATGD = Away team Total Goal Difference (goals in favor - goals against before current matchup)\n",
    "- HCP = Home team Current Points (points gained before current matchup)\n",
    "- ACP = Away team Current Points (points gained before current matchup)\n",
    "- HGP = Home team Games Played (games played before current matchup)\n",
    "- AGP = Away team Games Played (games played before current matchup)\n",
    "- HSOV = Home team Strength of Victory (how strong were the teams victories before current matchup)\n",
    "- ASOV = Away team Strength of Victory (how strong were the teams victories before current matchup)\n",
    "- HHGD = Home team Halftime Goal Difference (halftime goals in favor - halftime goals against -- before current matchup)\n",
    "- AHGD = Away team Halftime Goal Difference (halftime goals in favor - halftime goals against -- before current matchup)\n",
    "- HSPG = Home team Shots Per Game (shots per game before current matchup)\n",
    "- ASPG = Away team Shots Per Game (shots per game before current matchup)\n",
    "- HTSPG = Home team on Target Shots Per Game (on target shots per game before current matchup)\n",
    "- ATSPG = Away team on Target Shots Per Game (on target shots per game before current matchup)\n",
    "- HFPG = Home team Fouls Per Game (fouls per game before current matchup)\n",
    "- AFPG = Away team Fouls Per Game (fouls per game before current matchup)\n",
    "- HCPG = Home team Corners Per Game (corners per game before current matchup)\n",
    "- ACPG = Away team Corners Per Game (corners per game before current matchup\n",
    "- HYPG = Home team Yellows Per Game (yellow cards per game before current matchup)\n",
    "- AYPG = Away team Yellows Per Game (yellow cards per game before current matchup)\n",
    "- HRPG = Home team Reds Per Game (red cards per game before current matchup)\n",
    "- ARPG = Away team Reds Per Game (red cards per game before current matchup)"
   ]
  },
  {
   "cell_type": "code",
   "execution_count": 31,
   "metadata": {},
   "outputs": [
    {
     "data": {
      "text/html": [
       "<div>\n",
       "<style scoped>\n",
       "    .dataframe tbody tr th:only-of-type {\n",
       "        vertical-align: middle;\n",
       "    }\n",
       "\n",
       "    .dataframe tbody tr th {\n",
       "        vertical-align: top;\n",
       "    }\n",
       "\n",
       "    .dataframe thead th {\n",
       "        text-align: right;\n",
       "    }\n",
       "</style>\n",
       "<table border=\"1\" class=\"dataframe\">\n",
       "  <thead>\n",
       "    <tr style=\"text-align: right;\">\n",
       "      <th></th>\n",
       "      <th>HomeTeam</th>\n",
       "      <th>AwayTeam</th>\n",
       "      <th>FTR</th>\n",
       "      <th>unixtime</th>\n",
       "      <th>HFUD</th>\n",
       "      <th>AFUD</th>\n",
       "      <th>HGDPH</th>\n",
       "      <th>AGDPH</th>\n",
       "      <th>HGDPA</th>\n",
       "      <th>AGDPA</th>\n",
       "      <th>...</th>\n",
       "      <th>HTSPG</th>\n",
       "      <th>ATSPG</th>\n",
       "      <th>HFPG</th>\n",
       "      <th>AFPG</th>\n",
       "      <th>HCPG</th>\n",
       "      <th>ACPG</th>\n",
       "      <th>HYPG</th>\n",
       "      <th>AYPG</th>\n",
       "      <th>HRPG</th>\n",
       "      <th>ARPG</th>\n",
       "    </tr>\n",
       "  </thead>\n",
       "  <tbody>\n",
       "    <tr>\n",
       "      <th>0</th>\n",
       "      <td>Arsenal</td>\n",
       "      <td>Everton</td>\n",
       "      <td>H</td>\n",
       "      <td>1060992000</td>\n",
       "      <td>1209600.0</td>\n",
       "      <td>1209600.0</td>\n",
       "      <td>0.0</td>\n",
       "      <td>0.0</td>\n",
       "      <td>0.0</td>\n",
       "      <td>0.0</td>\n",
       "      <td>...</td>\n",
       "      <td>0.0</td>\n",
       "      <td>0.0</td>\n",
       "      <td>0.0</td>\n",
       "      <td>0.0</td>\n",
       "      <td>0.0</td>\n",
       "      <td>0.0</td>\n",
       "      <td>0.0</td>\n",
       "      <td>0.0</td>\n",
       "      <td>0.0</td>\n",
       "      <td>0.0</td>\n",
       "    </tr>\n",
       "    <tr>\n",
       "      <th>1</th>\n",
       "      <td>Birmingham</td>\n",
       "      <td>Tottenham</td>\n",
       "      <td>H</td>\n",
       "      <td>1060992000</td>\n",
       "      <td>1209600.0</td>\n",
       "      <td>1209600.0</td>\n",
       "      <td>0.0</td>\n",
       "      <td>0.0</td>\n",
       "      <td>0.0</td>\n",
       "      <td>0.0</td>\n",
       "      <td>...</td>\n",
       "      <td>0.0</td>\n",
       "      <td>0.0</td>\n",
       "      <td>0.0</td>\n",
       "      <td>0.0</td>\n",
       "      <td>0.0</td>\n",
       "      <td>0.0</td>\n",
       "      <td>0.0</td>\n",
       "      <td>0.0</td>\n",
       "      <td>0.0</td>\n",
       "      <td>0.0</td>\n",
       "    </tr>\n",
       "    <tr>\n",
       "      <th>2</th>\n",
       "      <td>Blackburn</td>\n",
       "      <td>Wolves</td>\n",
       "      <td>H</td>\n",
       "      <td>1060992000</td>\n",
       "      <td>1209600.0</td>\n",
       "      <td>1209600.0</td>\n",
       "      <td>0.0</td>\n",
       "      <td>0.0</td>\n",
       "      <td>0.0</td>\n",
       "      <td>0.0</td>\n",
       "      <td>...</td>\n",
       "      <td>0.0</td>\n",
       "      <td>0.0</td>\n",
       "      <td>0.0</td>\n",
       "      <td>0.0</td>\n",
       "      <td>0.0</td>\n",
       "      <td>0.0</td>\n",
       "      <td>0.0</td>\n",
       "      <td>0.0</td>\n",
       "      <td>0.0</td>\n",
       "      <td>0.0</td>\n",
       "    </tr>\n",
       "    <tr>\n",
       "      <th>3</th>\n",
       "      <td>Fulham</td>\n",
       "      <td>Middlesbrough</td>\n",
       "      <td>H</td>\n",
       "      <td>1060992000</td>\n",
       "      <td>1209600.0</td>\n",
       "      <td>1209600.0</td>\n",
       "      <td>0.0</td>\n",
       "      <td>0.0</td>\n",
       "      <td>0.0</td>\n",
       "      <td>0.0</td>\n",
       "      <td>...</td>\n",
       "      <td>0.0</td>\n",
       "      <td>0.0</td>\n",
       "      <td>0.0</td>\n",
       "      <td>0.0</td>\n",
       "      <td>0.0</td>\n",
       "      <td>0.0</td>\n",
       "      <td>0.0</td>\n",
       "      <td>0.0</td>\n",
       "      <td>0.0</td>\n",
       "      <td>0.0</td>\n",
       "    </tr>\n",
       "    <tr>\n",
       "      <th>4</th>\n",
       "      <td>Leicester</td>\n",
       "      <td>Southampton</td>\n",
       "      <td>D</td>\n",
       "      <td>1060992000</td>\n",
       "      <td>1209600.0</td>\n",
       "      <td>1209600.0</td>\n",
       "      <td>0.0</td>\n",
       "      <td>0.0</td>\n",
       "      <td>0.0</td>\n",
       "      <td>0.0</td>\n",
       "      <td>...</td>\n",
       "      <td>0.0</td>\n",
       "      <td>0.0</td>\n",
       "      <td>0.0</td>\n",
       "      <td>0.0</td>\n",
       "      <td>0.0</td>\n",
       "      <td>0.0</td>\n",
       "      <td>0.0</td>\n",
       "      <td>0.0</td>\n",
       "      <td>0.0</td>\n",
       "      <td>0.0</td>\n",
       "    </tr>\n",
       "  </tbody>\n",
       "</table>\n",
       "<p>5 rows × 32 columns</p>\n",
       "</div>"
      ],
      "text/plain": [
       "     HomeTeam       AwayTeam FTR    unixtime       HFUD       AFUD  HGDPH  \\\n",
       "0     Arsenal        Everton   H  1060992000  1209600.0  1209600.0    0.0   \n",
       "1  Birmingham      Tottenham   H  1060992000  1209600.0  1209600.0    0.0   \n",
       "2   Blackburn         Wolves   H  1060992000  1209600.0  1209600.0    0.0   \n",
       "3      Fulham  Middlesbrough   H  1060992000  1209600.0  1209600.0    0.0   \n",
       "4   Leicester    Southampton   D  1060992000  1209600.0  1209600.0    0.0   \n",
       "\n",
       "   AGDPH  HGDPA  AGDPA  ...  HTSPG  ATSPG  HFPG  AFPG  HCPG  ACPG  HYPG  AYPG  \\\n",
       "0    0.0    0.0    0.0  ...    0.0    0.0   0.0   0.0   0.0   0.0   0.0   0.0   \n",
       "1    0.0    0.0    0.0  ...    0.0    0.0   0.0   0.0   0.0   0.0   0.0   0.0   \n",
       "2    0.0    0.0    0.0  ...    0.0    0.0   0.0   0.0   0.0   0.0   0.0   0.0   \n",
       "3    0.0    0.0    0.0  ...    0.0    0.0   0.0   0.0   0.0   0.0   0.0   0.0   \n",
       "4    0.0    0.0    0.0  ...    0.0    0.0   0.0   0.0   0.0   0.0   0.0   0.0   \n",
       "\n",
       "   HRPG  ARPG  \n",
       "0   0.0   0.0  \n",
       "1   0.0   0.0  \n",
       "2   0.0   0.0  \n",
       "3   0.0   0.0  \n",
       "4   0.0   0.0  \n",
       "\n",
       "[5 rows x 32 columns]"
      ]
     },
     "execution_count": 31,
     "metadata": {},
     "output_type": "execute_result"
    }
   ],
   "source": [
    "full_df = pd.read_csv('PL_all_seasons.csv')\n",
    "full_df.head(5)"
   ]
  },
  {
   "cell_type": "markdown",
   "metadata": {},
   "source": [
    "#### Observe Summary Statistics\n",
    "Check for any missing data or irregular data."
   ]
  },
  {
   "cell_type": "code",
   "execution_count": 32,
   "metadata": {
    "scrolled": true
   },
   "outputs": [
    {
     "data": {
      "text/html": [
       "<div>\n",
       "<style scoped>\n",
       "    .dataframe tbody tr th:only-of-type {\n",
       "        vertical-align: middle;\n",
       "    }\n",
       "\n",
       "    .dataframe tbody tr th {\n",
       "        vertical-align: top;\n",
       "    }\n",
       "\n",
       "    .dataframe thead th {\n",
       "        text-align: right;\n",
       "    }\n",
       "</style>\n",
       "<table border=\"1\" class=\"dataframe\">\n",
       "  <thead>\n",
       "    <tr style=\"text-align: right;\">\n",
       "      <th></th>\n",
       "      <th>count</th>\n",
       "      <th>mean</th>\n",
       "      <th>std</th>\n",
       "      <th>min</th>\n",
       "      <th>25%</th>\n",
       "      <th>50%</th>\n",
       "      <th>75%</th>\n",
       "      <th>max</th>\n",
       "    </tr>\n",
       "  </thead>\n",
       "  <tbody>\n",
       "    <tr>\n",
       "      <th>unixtime</th>\n",
       "      <td>6577.0</td>\n",
       "      <td>1.330508e+09</td>\n",
       "      <td>1.579230e+08</td>\n",
       "      <td>1.060992e+09</td>\n",
       "      <td>1.194739e+09</td>\n",
       "      <td>1.329005e+09</td>\n",
       "      <td>1.463270e+09</td>\n",
       "      <td>1.607818e+09</td>\n",
       "    </tr>\n",
       "    <tr>\n",
       "      <th>HFUD</th>\n",
       "      <td>6577.0</td>\n",
       "      <td>6.651237e+05</td>\n",
       "      <td>4.424553e+05</td>\n",
       "      <td>1.728000e+05</td>\n",
       "      <td>5.184000e+05</td>\n",
       "      <td>6.048000e+05</td>\n",
       "      <td>6.912000e+05</td>\n",
       "      <td>9.158400e+06</td>\n",
       "    </tr>\n",
       "    <tr>\n",
       "      <th>AFUD</th>\n",
       "      <td>6577.0</td>\n",
       "      <td>6.686574e+05</td>\n",
       "      <td>4.453174e+05</td>\n",
       "      <td>1.728000e+05</td>\n",
       "      <td>5.184000e+05</td>\n",
       "      <td>6.048000e+05</td>\n",
       "      <td>6.912000e+05</td>\n",
       "      <td>9.244800e+06</td>\n",
       "    </tr>\n",
       "    <tr>\n",
       "      <th>HGDPH</th>\n",
       "      <td>6577.0</td>\n",
       "      <td>3.210430e+00</td>\n",
       "      <td>8.552016e+00</td>\n",
       "      <td>-2.700000e+01</td>\n",
       "      <td>-2.000000e+00</td>\n",
       "      <td>1.000000e+00</td>\n",
       "      <td>6.000000e+00</td>\n",
       "      <td>4.800000e+01</td>\n",
       "    </tr>\n",
       "    <tr>\n",
       "      <th>AGDPH</th>\n",
       "      <td>6577.0</td>\n",
       "      <td>3.388475e+00</td>\n",
       "      <td>8.873558e+00</td>\n",
       "      <td>-2.700000e+01</td>\n",
       "      <td>-2.000000e+00</td>\n",
       "      <td>1.000000e+00</td>\n",
       "      <td>7.000000e+00</td>\n",
       "      <td>4.700000e+01</td>\n",
       "    </tr>\n",
       "    <tr>\n",
       "      <th>HGDPA</th>\n",
       "      <td>6577.0</td>\n",
       "      <td>-3.296792e+00</td>\n",
       "      <td>8.739233e+00</td>\n",
       "      <td>-3.800000e+01</td>\n",
       "      <td>-8.000000e+00</td>\n",
       "      <td>-2.000000e+00</td>\n",
       "      <td>1.000000e+00</td>\n",
       "      <td>3.100000e+01</td>\n",
       "    </tr>\n",
       "    <tr>\n",
       "      <th>AGDPA</th>\n",
       "      <td>6577.0</td>\n",
       "      <td>-3.117227e+00</td>\n",
       "      <td>8.424874e+00</td>\n",
       "      <td>-3.600000e+01</td>\n",
       "      <td>-8.000000e+00</td>\n",
       "      <td>-2.000000e+00</td>\n",
       "      <td>1.000000e+00</td>\n",
       "      <td>3.100000e+01</td>\n",
       "    </tr>\n",
       "    <tr>\n",
       "      <th>HTGD</th>\n",
       "      <td>6577.0</td>\n",
       "      <td>-8.636156e-02</td>\n",
       "      <td>1.525004e+01</td>\n",
       "      <td>-6.500000e+01</td>\n",
       "      <td>-9.000000e+00</td>\n",
       "      <td>-1.000000e+00</td>\n",
       "      <td>6.000000e+00</td>\n",
       "      <td>7.600000e+01</td>\n",
       "    </tr>\n",
       "    <tr>\n",
       "      <th>ATGD</th>\n",
       "      <td>6577.0</td>\n",
       "      <td>2.712483e-01</td>\n",
       "      <td>1.523877e+01</td>\n",
       "      <td>-6.300000e+01</td>\n",
       "      <td>-8.000000e+00</td>\n",
       "      <td>-1.000000e+00</td>\n",
       "      <td>6.000000e+00</td>\n",
       "      <td>7.800000e+01</td>\n",
       "    </tr>\n",
       "    <tr>\n",
       "      <th>HCP</th>\n",
       "      <td>6577.0</td>\n",
       "      <td>2.496321e+01</td>\n",
       "      <td>1.826593e+01</td>\n",
       "      <td>0.000000e+00</td>\n",
       "      <td>1.000000e+01</td>\n",
       "      <td>2.200000e+01</td>\n",
       "      <td>3.600000e+01</td>\n",
       "      <td>9.400000e+01</td>\n",
       "    </tr>\n",
       "    <tr>\n",
       "      <th>ACP</th>\n",
       "      <td>6577.0</td>\n",
       "      <td>2.520116e+01</td>\n",
       "      <td>1.826272e+01</td>\n",
       "      <td>0.000000e+00</td>\n",
       "      <td>1.100000e+01</td>\n",
       "      <td>2.200000e+01</td>\n",
       "      <td>3.700000e+01</td>\n",
       "      <td>9.700000e+01</td>\n",
       "    </tr>\n",
       "    <tr>\n",
       "      <th>HGP</th>\n",
       "      <td>6577.0</td>\n",
       "      <td>1.826958e+01</td>\n",
       "      <td>1.101722e+01</td>\n",
       "      <td>0.000000e+00</td>\n",
       "      <td>9.000000e+00</td>\n",
       "      <td>1.800000e+01</td>\n",
       "      <td>2.800000e+01</td>\n",
       "      <td>3.700000e+01</td>\n",
       "    </tr>\n",
       "    <tr>\n",
       "      <th>AGP</th>\n",
       "      <td>6577.0</td>\n",
       "      <td>1.826304e+01</td>\n",
       "      <td>1.101446e+01</td>\n",
       "      <td>0.000000e+00</td>\n",
       "      <td>9.000000e+00</td>\n",
       "      <td>1.800000e+01</td>\n",
       "      <td>2.800000e+01</td>\n",
       "      <td>3.700000e+01</td>\n",
       "    </tr>\n",
       "    <tr>\n",
       "      <th>HSOV</th>\n",
       "      <td>6577.0</td>\n",
       "      <td>3.424616e-01</td>\n",
       "      <td>1.673721e-01</td>\n",
       "      <td>0.000000e+00</td>\n",
       "      <td>2.980600e-01</td>\n",
       "      <td>3.757440e-01</td>\n",
       "      <td>4.330069e-01</td>\n",
       "      <td>1.000000e+00</td>\n",
       "    </tr>\n",
       "    <tr>\n",
       "      <th>ASOV</th>\n",
       "      <td>6577.0</td>\n",
       "      <td>3.444277e-01</td>\n",
       "      <td>1.641477e-01</td>\n",
       "      <td>0.000000e+00</td>\n",
       "      <td>3.019841e-01</td>\n",
       "      <td>3.776053e-01</td>\n",
       "      <td>4.333333e-01</td>\n",
       "      <td>1.000000e+00</td>\n",
       "    </tr>\n",
       "    <tr>\n",
       "      <th>HHGD</th>\n",
       "      <td>6577.0</td>\n",
       "      <td>-7.343774e-02</td>\n",
       "      <td>7.446397e+00</td>\n",
       "      <td>-2.600000e+01</td>\n",
       "      <td>-4.000000e+00</td>\n",
       "      <td>0.000000e+00</td>\n",
       "      <td>3.000000e+00</td>\n",
       "      <td>3.900000e+01</td>\n",
       "    </tr>\n",
       "    <tr>\n",
       "      <th>AHGD</th>\n",
       "      <td>6577.0</td>\n",
       "      <td>9.016269e-02</td>\n",
       "      <td>7.439062e+00</td>\n",
       "      <td>-2.700000e+01</td>\n",
       "      <td>-4.000000e+00</td>\n",
       "      <td>0.000000e+00</td>\n",
       "      <td>3.000000e+00</td>\n",
       "      <td>3.800000e+01</td>\n",
       "    </tr>\n",
       "    <tr>\n",
       "      <th>HSPG</th>\n",
       "      <td>6577.0</td>\n",
       "      <td>1.184885e+01</td>\n",
       "      <td>3.322437e+00</td>\n",
       "      <td>0.000000e+00</td>\n",
       "      <td>1.014286e+01</td>\n",
       "      <td>1.173077e+01</td>\n",
       "      <td>1.368750e+01</td>\n",
       "      <td>2.900000e+01</td>\n",
       "    </tr>\n",
       "    <tr>\n",
       "      <th>ASPG</th>\n",
       "      <td>6577.0</td>\n",
       "      <td>1.201691e+01</td>\n",
       "      <td>3.396606e+00</td>\n",
       "      <td>0.000000e+00</td>\n",
       "      <td>1.025000e+01</td>\n",
       "      <td>1.183333e+01</td>\n",
       "      <td>1.386111e+01</td>\n",
       "      <td>3.100000e+01</td>\n",
       "    </tr>\n",
       "    <tr>\n",
       "      <th>HTSPG</th>\n",
       "      <td>6577.0</td>\n",
       "      <td>5.335754e+00</td>\n",
       "      <td>2.046286e+00</td>\n",
       "      <td>0.000000e+00</td>\n",
       "      <td>4.000000e+00</td>\n",
       "      <td>5.280000e+00</td>\n",
       "      <td>6.541667e+00</td>\n",
       "      <td>1.400000e+01</td>\n",
       "    </tr>\n",
       "    <tr>\n",
       "      <th>ATSPG</th>\n",
       "      <td>6577.0</td>\n",
       "      <td>5.407125e+00</td>\n",
       "      <td>2.103561e+00</td>\n",
       "      <td>0.000000e+00</td>\n",
       "      <td>4.000000e+00</td>\n",
       "      <td>5.342857e+00</td>\n",
       "      <td>6.625000e+00</td>\n",
       "      <td>1.900000e+01</td>\n",
       "    </tr>\n",
       "    <tr>\n",
       "      <th>HFPG</th>\n",
       "      <td>6577.0</td>\n",
       "      <td>1.141299e+01</td>\n",
       "      <td>2.669619e+00</td>\n",
       "      <td>0.000000e+00</td>\n",
       "      <td>1.035484e+01</td>\n",
       "      <td>1.150000e+01</td>\n",
       "      <td>1.285714e+01</td>\n",
       "      <td>2.700000e+01</td>\n",
       "    </tr>\n",
       "    <tr>\n",
       "      <th>AFPG</th>\n",
       "      <td>6577.0</td>\n",
       "      <td>1.140100e+01</td>\n",
       "      <td>2.643419e+00</td>\n",
       "      <td>0.000000e+00</td>\n",
       "      <td>1.035714e+01</td>\n",
       "      <td>1.150000e+01</td>\n",
       "      <td>1.282609e+01</td>\n",
       "      <td>2.700000e+01</td>\n",
       "    </tr>\n",
       "    <tr>\n",
       "      <th>HCPG</th>\n",
       "      <td>6577.0</td>\n",
       "      <td>5.217831e+00</td>\n",
       "      <td>1.507103e+00</td>\n",
       "      <td>0.000000e+00</td>\n",
       "      <td>4.545455e+00</td>\n",
       "      <td>5.200000e+00</td>\n",
       "      <td>6.000000e+00</td>\n",
       "      <td>1.300000e+01</td>\n",
       "    </tr>\n",
       "    <tr>\n",
       "      <th>ACPG</th>\n",
       "      <td>6577.0</td>\n",
       "      <td>5.294177e+00</td>\n",
       "      <td>1.550093e+00</td>\n",
       "      <td>0.000000e+00</td>\n",
       "      <td>4.583333e+00</td>\n",
       "      <td>5.250000e+00</td>\n",
       "      <td>6.105263e+00</td>\n",
       "      <td>1.800000e+01</td>\n",
       "    </tr>\n",
       "    <tr>\n",
       "      <th>HYPG</th>\n",
       "      <td>6577.0</td>\n",
       "      <td>1.610342e+00</td>\n",
       "      <td>5.342753e-01</td>\n",
       "      <td>0.000000e+00</td>\n",
       "      <td>1.363636e+00</td>\n",
       "      <td>1.621622e+00</td>\n",
       "      <td>1.909091e+00</td>\n",
       "      <td>5.000000e+00</td>\n",
       "    </tr>\n",
       "    <tr>\n",
       "      <th>AYPG</th>\n",
       "      <td>6577.0</td>\n",
       "      <td>1.588356e+00</td>\n",
       "      <td>5.274367e-01</td>\n",
       "      <td>0.000000e+00</td>\n",
       "      <td>1.344828e+00</td>\n",
       "      <td>1.607143e+00</td>\n",
       "      <td>1.894737e+00</td>\n",
       "      <td>5.000000e+00</td>\n",
       "    </tr>\n",
       "    <tr>\n",
       "      <th>HRPG</th>\n",
       "      <td>6577.0</td>\n",
       "      <td>7.933201e-02</td>\n",
       "      <td>1.046987e-01</td>\n",
       "      <td>0.000000e+00</td>\n",
       "      <td>0.000000e+00</td>\n",
       "      <td>5.882353e-02</td>\n",
       "      <td>1.176471e-01</td>\n",
       "      <td>2.000000e+00</td>\n",
       "    </tr>\n",
       "    <tr>\n",
       "      <th>ARPG</th>\n",
       "      <td>6577.0</td>\n",
       "      <td>7.719654e-02</td>\n",
       "      <td>9.714710e-02</td>\n",
       "      <td>0.000000e+00</td>\n",
       "      <td>0.000000e+00</td>\n",
       "      <td>5.882353e-02</td>\n",
       "      <td>1.176471e-01</td>\n",
       "      <td>2.000000e+00</td>\n",
       "    </tr>\n",
       "  </tbody>\n",
       "</table>\n",
       "</div>"
      ],
      "text/plain": [
       "           count          mean           std           min           25%  \\\n",
       "unixtime  6577.0  1.330508e+09  1.579230e+08  1.060992e+09  1.194739e+09   \n",
       "HFUD      6577.0  6.651237e+05  4.424553e+05  1.728000e+05  5.184000e+05   \n",
       "AFUD      6577.0  6.686574e+05  4.453174e+05  1.728000e+05  5.184000e+05   \n",
       "HGDPH     6577.0  3.210430e+00  8.552016e+00 -2.700000e+01 -2.000000e+00   \n",
       "AGDPH     6577.0  3.388475e+00  8.873558e+00 -2.700000e+01 -2.000000e+00   \n",
       "HGDPA     6577.0 -3.296792e+00  8.739233e+00 -3.800000e+01 -8.000000e+00   \n",
       "AGDPA     6577.0 -3.117227e+00  8.424874e+00 -3.600000e+01 -8.000000e+00   \n",
       "HTGD      6577.0 -8.636156e-02  1.525004e+01 -6.500000e+01 -9.000000e+00   \n",
       "ATGD      6577.0  2.712483e-01  1.523877e+01 -6.300000e+01 -8.000000e+00   \n",
       "HCP       6577.0  2.496321e+01  1.826593e+01  0.000000e+00  1.000000e+01   \n",
       "ACP       6577.0  2.520116e+01  1.826272e+01  0.000000e+00  1.100000e+01   \n",
       "HGP       6577.0  1.826958e+01  1.101722e+01  0.000000e+00  9.000000e+00   \n",
       "AGP       6577.0  1.826304e+01  1.101446e+01  0.000000e+00  9.000000e+00   \n",
       "HSOV      6577.0  3.424616e-01  1.673721e-01  0.000000e+00  2.980600e-01   \n",
       "ASOV      6577.0  3.444277e-01  1.641477e-01  0.000000e+00  3.019841e-01   \n",
       "HHGD      6577.0 -7.343774e-02  7.446397e+00 -2.600000e+01 -4.000000e+00   \n",
       "AHGD      6577.0  9.016269e-02  7.439062e+00 -2.700000e+01 -4.000000e+00   \n",
       "HSPG      6577.0  1.184885e+01  3.322437e+00  0.000000e+00  1.014286e+01   \n",
       "ASPG      6577.0  1.201691e+01  3.396606e+00  0.000000e+00  1.025000e+01   \n",
       "HTSPG     6577.0  5.335754e+00  2.046286e+00  0.000000e+00  4.000000e+00   \n",
       "ATSPG     6577.0  5.407125e+00  2.103561e+00  0.000000e+00  4.000000e+00   \n",
       "HFPG      6577.0  1.141299e+01  2.669619e+00  0.000000e+00  1.035484e+01   \n",
       "AFPG      6577.0  1.140100e+01  2.643419e+00  0.000000e+00  1.035714e+01   \n",
       "HCPG      6577.0  5.217831e+00  1.507103e+00  0.000000e+00  4.545455e+00   \n",
       "ACPG      6577.0  5.294177e+00  1.550093e+00  0.000000e+00  4.583333e+00   \n",
       "HYPG      6577.0  1.610342e+00  5.342753e-01  0.000000e+00  1.363636e+00   \n",
       "AYPG      6577.0  1.588356e+00  5.274367e-01  0.000000e+00  1.344828e+00   \n",
       "HRPG      6577.0  7.933201e-02  1.046987e-01  0.000000e+00  0.000000e+00   \n",
       "ARPG      6577.0  7.719654e-02  9.714710e-02  0.000000e+00  0.000000e+00   \n",
       "\n",
       "                   50%           75%           max  \n",
       "unixtime  1.329005e+09  1.463270e+09  1.607818e+09  \n",
       "HFUD      6.048000e+05  6.912000e+05  9.158400e+06  \n",
       "AFUD      6.048000e+05  6.912000e+05  9.244800e+06  \n",
       "HGDPH     1.000000e+00  6.000000e+00  4.800000e+01  \n",
       "AGDPH     1.000000e+00  7.000000e+00  4.700000e+01  \n",
       "HGDPA    -2.000000e+00  1.000000e+00  3.100000e+01  \n",
       "AGDPA    -2.000000e+00  1.000000e+00  3.100000e+01  \n",
       "HTGD     -1.000000e+00  6.000000e+00  7.600000e+01  \n",
       "ATGD     -1.000000e+00  6.000000e+00  7.800000e+01  \n",
       "HCP       2.200000e+01  3.600000e+01  9.400000e+01  \n",
       "ACP       2.200000e+01  3.700000e+01  9.700000e+01  \n",
       "HGP       1.800000e+01  2.800000e+01  3.700000e+01  \n",
       "AGP       1.800000e+01  2.800000e+01  3.700000e+01  \n",
       "HSOV      3.757440e-01  4.330069e-01  1.000000e+00  \n",
       "ASOV      3.776053e-01  4.333333e-01  1.000000e+00  \n",
       "HHGD      0.000000e+00  3.000000e+00  3.900000e+01  \n",
       "AHGD      0.000000e+00  3.000000e+00  3.800000e+01  \n",
       "HSPG      1.173077e+01  1.368750e+01  2.900000e+01  \n",
       "ASPG      1.183333e+01  1.386111e+01  3.100000e+01  \n",
       "HTSPG     5.280000e+00  6.541667e+00  1.400000e+01  \n",
       "ATSPG     5.342857e+00  6.625000e+00  1.900000e+01  \n",
       "HFPG      1.150000e+01  1.285714e+01  2.700000e+01  \n",
       "AFPG      1.150000e+01  1.282609e+01  2.700000e+01  \n",
       "HCPG      5.200000e+00  6.000000e+00  1.300000e+01  \n",
       "ACPG      5.250000e+00  6.105263e+00  1.800000e+01  \n",
       "HYPG      1.621622e+00  1.909091e+00  5.000000e+00  \n",
       "AYPG      1.607143e+00  1.894737e+00  5.000000e+00  \n",
       "HRPG      5.882353e-02  1.176471e-01  2.000000e+00  \n",
       "ARPG      5.882353e-02  1.176471e-01  2.000000e+00  "
      ]
     },
     "execution_count": 32,
     "metadata": {},
     "output_type": "execute_result"
    }
   ],
   "source": [
    "full_df.describe().transpose()"
   ]
  },
  {
   "cell_type": "markdown",
   "metadata": {},
   "source": [
    "#### Plot Bargraph of Final Time Results Count"
   ]
  },
  {
   "cell_type": "code",
   "execution_count": 33,
   "metadata": {
    "scrolled": true
   },
   "outputs": [
    {
     "name": "stderr",
     "output_type": "stream",
     "text": [
      "c:\\users\\roberto ruiz\\.conda\\envs\\plpenv\\lib\\site-packages\\seaborn\\_decorators.py:36: FutureWarning: Pass the following variable as a keyword arg: x. From version 0.12, the only valid positional argument will be `data`, and passing other arguments without an explicit keyword will result in an error or misinterpretation.\n",
      "  warnings.warn(\n"
     ]
    },
    {
     "data": {
      "text/plain": [
       "<AxesSubplot:xlabel='FTR', ylabel='count'>"
      ]
     },
     "execution_count": 33,
     "metadata": {},
     "output_type": "execute_result"
    },
    {
     "data": {
      "image/png": "[encoded data removed]",
      "text/plain": [
       "<Figure size 432x288 with 1 Axes>"
      ]
     },
     "metadata": {
      "needs_background": "light"
     },
     "output_type": "display_data"
    }
   ],
   "source": [
    "sns.countplot(full_df['FTR'])"
   ]
  },
  {
   "cell_type": "markdown",
   "metadata": {},
   "source": [
    "#### Calculate Percentage of Home team wins, Away team wins, and Draws"
   ]
  },
  {
   "cell_type": "code",
   "execution_count": 34,
   "metadata": {},
   "outputs": [
    {
     "data": {
      "text/plain": [
       "H    0.461761\n",
       "A    0.288125\n",
       "D    0.250114\n",
       "Name: FTR, dtype: float64"
      ]
     },
     "execution_count": 34,
     "metadata": {},
     "output_type": "execute_result"
    }
   ],
   "source": [
    "full_df['FTR'].value_counts()/len(full_df)"
   ]
  },
  {
   "cell_type": "markdown",
   "metadata": {},
   "source": [
    "#### Replace Categorical Values\n",
    "Let's replace categorical values \"A\", \"D\", and \"H\" from the FTR column with 0, 1, and 2, respectively. This is done because our ANN will need numerical values for classification."
   ]
  },
  {
   "cell_type": "code",
   "execution_count": 35,
   "metadata": {
    "scrolled": true
   },
   "outputs": [
    {
     "data": {
      "text/html": [
       "<div>\n",
       "<style scoped>\n",
       "    .dataframe tbody tr th:only-of-type {\n",
       "        vertical-align: middle;\n",
       "    }\n",
       "\n",
       "    .dataframe tbody tr th {\n",
       "        vertical-align: top;\n",
       "    }\n",
       "\n",
       "    .dataframe thead th {\n",
       "        text-align: right;\n",
       "    }\n",
       "</style>\n",
       "<table border=\"1\" class=\"dataframe\">\n",
       "  <thead>\n",
       "    <tr style=\"text-align: right;\">\n",
       "      <th></th>\n",
       "      <th>HomeTeam</th>\n",
       "      <th>AwayTeam</th>\n",
       "      <th>FTR</th>\n",
       "      <th>unixtime</th>\n",
       "      <th>HFUD</th>\n",
       "      <th>AFUD</th>\n",
       "      <th>HGDPH</th>\n",
       "      <th>AGDPH</th>\n",
       "      <th>HGDPA</th>\n",
       "      <th>AGDPA</th>\n",
       "      <th>...</th>\n",
       "      <th>HTSPG</th>\n",
       "      <th>ATSPG</th>\n",
       "      <th>HFPG</th>\n",
       "      <th>AFPG</th>\n",
       "      <th>HCPG</th>\n",
       "      <th>ACPG</th>\n",
       "      <th>HYPG</th>\n",
       "      <th>AYPG</th>\n",
       "      <th>HRPG</th>\n",
       "      <th>ARPG</th>\n",
       "    </tr>\n",
       "  </thead>\n",
       "  <tbody>\n",
       "    <tr>\n",
       "      <th>0</th>\n",
       "      <td>Arsenal</td>\n",
       "      <td>Everton</td>\n",
       "      <td>2</td>\n",
       "      <td>1060992000</td>\n",
       "      <td>1209600.0</td>\n",
       "      <td>1209600.0</td>\n",
       "      <td>0.0</td>\n",
       "      <td>0.0</td>\n",
       "      <td>0.0</td>\n",
       "      <td>0.0</td>\n",
       "      <td>...</td>\n",
       "      <td>0.0</td>\n",
       "      <td>0.0</td>\n",
       "      <td>0.0</td>\n",
       "      <td>0.0</td>\n",
       "      <td>0.0</td>\n",
       "      <td>0.0</td>\n",
       "      <td>0.0</td>\n",
       "      <td>0.0</td>\n",
       "      <td>0.0</td>\n",
       "      <td>0.0</td>\n",
       "    </tr>\n",
       "    <tr>\n",
       "      <th>1</th>\n",
       "      <td>Birmingham</td>\n",
       "      <td>Tottenham</td>\n",
       "      <td>2</td>\n",
       "      <td>1060992000</td>\n",
       "      <td>1209600.0</td>\n",
       "      <td>1209600.0</td>\n",
       "      <td>0.0</td>\n",
       "      <td>0.0</td>\n",
       "      <td>0.0</td>\n",
       "      <td>0.0</td>\n",
       "      <td>...</td>\n",
       "      <td>0.0</td>\n",
       "      <td>0.0</td>\n",
       "      <td>0.0</td>\n",
       "      <td>0.0</td>\n",
       "      <td>0.0</td>\n",
       "      <td>0.0</td>\n",
       "      <td>0.0</td>\n",
       "      <td>0.0</td>\n",
       "      <td>0.0</td>\n",
       "      <td>0.0</td>\n",
       "    </tr>\n",
       "    <tr>\n",
       "      <th>2</th>\n",
       "      <td>Blackburn</td>\n",
       "      <td>Wolves</td>\n",
       "      <td>2</td>\n",
       "      <td>1060992000</td>\n",
       "      <td>1209600.0</td>\n",
       "      <td>1209600.0</td>\n",
       "      <td>0.0</td>\n",
       "      <td>0.0</td>\n",
       "      <td>0.0</td>\n",
       "      <td>0.0</td>\n",
       "      <td>...</td>\n",
       "      <td>0.0</td>\n",
       "      <td>0.0</td>\n",
       "      <td>0.0</td>\n",
       "      <td>0.0</td>\n",
       "      <td>0.0</td>\n",
       "      <td>0.0</td>\n",
       "      <td>0.0</td>\n",
       "      <td>0.0</td>\n",
       "      <td>0.0</td>\n",
       "      <td>0.0</td>\n",
       "    </tr>\n",
       "    <tr>\n",
       "      <th>3</th>\n",
       "      <td>Fulham</td>\n",
       "      <td>Middlesbrough</td>\n",
       "      <td>2</td>\n",
       "      <td>1060992000</td>\n",
       "      <td>1209600.0</td>\n",
       "      <td>1209600.0</td>\n",
       "      <td>0.0</td>\n",
       "      <td>0.0</td>\n",
       "      <td>0.0</td>\n",
       "      <td>0.0</td>\n",
       "      <td>...</td>\n",
       "      <td>0.0</td>\n",
       "      <td>0.0</td>\n",
       "      <td>0.0</td>\n",
       "      <td>0.0</td>\n",
       "      <td>0.0</td>\n",
       "      <td>0.0</td>\n",
       "      <td>0.0</td>\n",
       "      <td>0.0</td>\n",
       "      <td>0.0</td>\n",
       "      <td>0.0</td>\n",
       "    </tr>\n",
       "    <tr>\n",
       "      <th>4</th>\n",
       "      <td>Leicester</td>\n",
       "      <td>Southampton</td>\n",
       "      <td>1</td>\n",
       "      <td>1060992000</td>\n",
       "      <td>1209600.0</td>\n",
       "      <td>1209600.0</td>\n",
       "      <td>0.0</td>\n",
       "      <td>0.0</td>\n",
       "      <td>0.0</td>\n",
       "      <td>0.0</td>\n",
       "      <td>...</td>\n",
       "      <td>0.0</td>\n",
       "      <td>0.0</td>\n",
       "      <td>0.0</td>\n",
       "      <td>0.0</td>\n",
       "      <td>0.0</td>\n",
       "      <td>0.0</td>\n",
       "      <td>0.0</td>\n",
       "      <td>0.0</td>\n",
       "      <td>0.0</td>\n",
       "      <td>0.0</td>\n",
       "    </tr>\n",
       "  </tbody>\n",
       "</table>\n",
       "<p>5 rows × 32 columns</p>\n",
       "</div>"
      ],
      "text/plain": [
       "     HomeTeam       AwayTeam  FTR    unixtime       HFUD       AFUD  HGDPH  \\\n",
       "0     Arsenal        Everton    2  1060992000  1209600.0  1209600.0    0.0   \n",
       "1  Birmingham      Tottenham    2  1060992000  1209600.0  1209600.0    0.0   \n",
       "2   Blackburn         Wolves    2  1060992000  1209600.0  1209600.0    0.0   \n",
       "3      Fulham  Middlesbrough    2  1060992000  1209600.0  1209600.0    0.0   \n",
       "4   Leicester    Southampton    1  1060992000  1209600.0  1209600.0    0.0   \n",
       "\n",
       "   AGDPH  HGDPA  AGDPA  ...  HTSPG  ATSPG  HFPG  AFPG  HCPG  ACPG  HYPG  AYPG  \\\n",
       "0    0.0    0.0    0.0  ...    0.0    0.0   0.0   0.0   0.0   0.0   0.0   0.0   \n",
       "1    0.0    0.0    0.0  ...    0.0    0.0   0.0   0.0   0.0   0.0   0.0   0.0   \n",
       "2    0.0    0.0    0.0  ...    0.0    0.0   0.0   0.0   0.0   0.0   0.0   0.0   \n",
       "3    0.0    0.0    0.0  ...    0.0    0.0   0.0   0.0   0.0   0.0   0.0   0.0   \n",
       "4    0.0    0.0    0.0  ...    0.0    0.0   0.0   0.0   0.0   0.0   0.0   0.0   \n",
       "\n",
       "   HRPG  ARPG  \n",
       "0   0.0   0.0  \n",
       "1   0.0   0.0  \n",
       "2   0.0   0.0  \n",
       "3   0.0   0.0  \n",
       "4   0.0   0.0  \n",
       "\n",
       "[5 rows x 32 columns]"
      ]
     },
     "execution_count": 35,
     "metadata": {},
     "output_type": "execute_result"
    }
   ],
   "source": [
    "full_df['FTR'].replace({'A':0, 'D':1, 'H':2}, inplace=True)\n",
    "full_df.head(5)"
   ]
  },
  {
   "cell_type": "code",
   "execution_count": 36,
   "metadata": {},
   "outputs": [],
   "source": [
    "class2indx = {0:'A',1:'D',2:'H'}"
   ]
  },
  {
   "cell_type": "markdown",
   "metadata": {},
   "source": [
    "#### Seperate Predictor Features and Labels"
   ]
  },
  {
   "cell_type": "code",
   "execution_count": 37,
   "metadata": {
    "scrolled": true
   },
   "outputs": [
    {
     "data": {
      "text/plain": [
       "0       2\n",
       "1       2\n",
       "2       2\n",
       "3       2\n",
       "4       1\n",
       "       ..\n",
       "6572    2\n",
       "6573    1\n",
       "6574    1\n",
       "6575    0\n",
       "6576    2\n",
       "Name: FTR, Length: 6577, dtype: int64"
      ]
     },
     "execution_count": 37,
     "metadata": {},
     "output_type": "execute_result"
    }
   ],
   "source": [
    "df_X = full_df.drop(columns=['HomeTeam','AwayTeam','FTR'])\n",
    "s_y = full_df['FTR']\n",
    "s_y"
   ]
  },
  {
   "cell_type": "markdown",
   "metadata": {},
   "source": [
    "#### Normalize Predictor Features\n",
    "We need to normalize input features between the interval [0,1]."
   ]
  },
  {
   "cell_type": "code",
   "execution_count": 38,
   "metadata": {
    "scrolled": false
   },
   "outputs": [
    {
     "data": {
      "text/html": [
       "<div>\n",
       "<style scoped>\n",
       "    .dataframe tbody tr th:only-of-type {\n",
       "        vertical-align: middle;\n",
       "    }\n",
       "\n",
       "    .dataframe tbody tr th {\n",
       "        vertical-align: top;\n",
       "    }\n",
       "\n",
       "    .dataframe thead th {\n",
       "        text-align: right;\n",
       "    }\n",
       "</style>\n",
       "<table border=\"1\" class=\"dataframe\">\n",
       "  <thead>\n",
       "    <tr style=\"text-align: right;\">\n",
       "      <th></th>\n",
       "      <th>unixtime</th>\n",
       "      <th>HFUD</th>\n",
       "      <th>AFUD</th>\n",
       "      <th>HGDPH</th>\n",
       "      <th>AGDPH</th>\n",
       "      <th>HGDPA</th>\n",
       "      <th>AGDPA</th>\n",
       "      <th>HTGD</th>\n",
       "      <th>ATGD</th>\n",
       "      <th>HCP</th>\n",
       "      <th>...</th>\n",
       "      <th>HTSPG</th>\n",
       "      <th>ATSPG</th>\n",
       "      <th>HFPG</th>\n",
       "      <th>AFPG</th>\n",
       "      <th>HCPG</th>\n",
       "      <th>ACPG</th>\n",
       "      <th>HYPG</th>\n",
       "      <th>AYPG</th>\n",
       "      <th>HRPG</th>\n",
       "      <th>ARPG</th>\n",
       "    </tr>\n",
       "  </thead>\n",
       "  <tbody>\n",
       "    <tr>\n",
       "      <th>0</th>\n",
       "      <td>0.0</td>\n",
       "      <td>0.115385</td>\n",
       "      <td>0.114286</td>\n",
       "      <td>0.360000</td>\n",
       "      <td>0.364865</td>\n",
       "      <td>0.550725</td>\n",
       "      <td>0.537313</td>\n",
       "      <td>0.460993</td>\n",
       "      <td>0.446809</td>\n",
       "      <td>0.000000</td>\n",
       "      <td>...</td>\n",
       "      <td>0.000000</td>\n",
       "      <td>0.000000</td>\n",
       "      <td>0.000000</td>\n",
       "      <td>0.000000</td>\n",
       "      <td>0.000000</td>\n",
       "      <td>0.000000</td>\n",
       "      <td>0.000000</td>\n",
       "      <td>0.000000</td>\n",
       "      <td>0.000000</td>\n",
       "      <td>0.000000</td>\n",
       "    </tr>\n",
       "    <tr>\n",
       "      <th>1</th>\n",
       "      <td>0.0</td>\n",
       "      <td>0.115385</td>\n",
       "      <td>0.114286</td>\n",
       "      <td>0.360000</td>\n",
       "      <td>0.364865</td>\n",
       "      <td>0.550725</td>\n",
       "      <td>0.537313</td>\n",
       "      <td>0.460993</td>\n",
       "      <td>0.446809</td>\n",
       "      <td>0.000000</td>\n",
       "      <td>...</td>\n",
       "      <td>0.000000</td>\n",
       "      <td>0.000000</td>\n",
       "      <td>0.000000</td>\n",
       "      <td>0.000000</td>\n",
       "      <td>0.000000</td>\n",
       "      <td>0.000000</td>\n",
       "      <td>0.000000</td>\n",
       "      <td>0.000000</td>\n",
       "      <td>0.000000</td>\n",
       "      <td>0.000000</td>\n",
       "    </tr>\n",
       "    <tr>\n",
       "      <th>2</th>\n",
       "      <td>0.0</td>\n",
       "      <td>0.115385</td>\n",
       "      <td>0.114286</td>\n",
       "      <td>0.360000</td>\n",
       "      <td>0.364865</td>\n",
       "      <td>0.550725</td>\n",
       "      <td>0.537313</td>\n",
       "      <td>0.460993</td>\n",
       "      <td>0.446809</td>\n",
       "      <td>0.000000</td>\n",
       "      <td>...</td>\n",
       "      <td>0.000000</td>\n",
       "      <td>0.000000</td>\n",
       "      <td>0.000000</td>\n",
       "      <td>0.000000</td>\n",
       "      <td>0.000000</td>\n",
       "      <td>0.000000</td>\n",
       "      <td>0.000000</td>\n",
       "      <td>0.000000</td>\n",
       "      <td>0.000000</td>\n",
       "      <td>0.000000</td>\n",
       "    </tr>\n",
       "    <tr>\n",
       "      <th>3</th>\n",
       "      <td>0.0</td>\n",
       "      <td>0.115385</td>\n",
       "      <td>0.114286</td>\n",
       "      <td>0.360000</td>\n",
       "      <td>0.364865</td>\n",
       "      <td>0.550725</td>\n",
       "      <td>0.537313</td>\n",
       "      <td>0.460993</td>\n",
       "      <td>0.446809</td>\n",
       "      <td>0.000000</td>\n",
       "      <td>...</td>\n",
       "      <td>0.000000</td>\n",
       "      <td>0.000000</td>\n",
       "      <td>0.000000</td>\n",
       "      <td>0.000000</td>\n",
       "      <td>0.000000</td>\n",
       "      <td>0.000000</td>\n",
       "      <td>0.000000</td>\n",
       "      <td>0.000000</td>\n",
       "      <td>0.000000</td>\n",
       "      <td>0.000000</td>\n",
       "    </tr>\n",
       "    <tr>\n",
       "      <th>4</th>\n",
       "      <td>0.0</td>\n",
       "      <td>0.115385</td>\n",
       "      <td>0.114286</td>\n",
       "      <td>0.360000</td>\n",
       "      <td>0.364865</td>\n",
       "      <td>0.550725</td>\n",
       "      <td>0.537313</td>\n",
       "      <td>0.460993</td>\n",
       "      <td>0.446809</td>\n",
       "      <td>0.000000</td>\n",
       "      <td>...</td>\n",
       "      <td>0.000000</td>\n",
       "      <td>0.000000</td>\n",
       "      <td>0.000000</td>\n",
       "      <td>0.000000</td>\n",
       "      <td>0.000000</td>\n",
       "      <td>0.000000</td>\n",
       "      <td>0.000000</td>\n",
       "      <td>0.000000</td>\n",
       "      <td>0.000000</td>\n",
       "      <td>0.000000</td>\n",
       "    </tr>\n",
       "    <tr>\n",
       "      <th>...</th>\n",
       "      <td>...</td>\n",
       "      <td>...</td>\n",
       "      <td>...</td>\n",
       "      <td>...</td>\n",
       "      <td>...</td>\n",
       "      <td>...</td>\n",
       "      <td>...</td>\n",
       "      <td>...</td>\n",
       "      <td>...</td>\n",
       "      <td>...</td>\n",
       "      <td>...</td>\n",
       "      <td>...</td>\n",
       "      <td>...</td>\n",
       "      <td>...</td>\n",
       "      <td>...</td>\n",
       "      <td>...</td>\n",
       "      <td>...</td>\n",
       "      <td>...</td>\n",
       "      <td>...</td>\n",
       "      <td>...</td>\n",
       "      <td>...</td>\n",
       "    </tr>\n",
       "    <tr>\n",
       "      <th>6572</th>\n",
       "      <td>1.0</td>\n",
       "      <td>0.038462</td>\n",
       "      <td>0.047619</td>\n",
       "      <td>0.386667</td>\n",
       "      <td>0.283784</td>\n",
       "      <td>0.579710</td>\n",
       "      <td>0.432836</td>\n",
       "      <td>0.489362</td>\n",
       "      <td>0.354610</td>\n",
       "      <td>0.212766</td>\n",
       "      <td>...</td>\n",
       "      <td>0.350649</td>\n",
       "      <td>0.153110</td>\n",
       "      <td>0.478114</td>\n",
       "      <td>0.437710</td>\n",
       "      <td>0.279720</td>\n",
       "      <td>0.282828</td>\n",
       "      <td>0.290909</td>\n",
       "      <td>0.272727</td>\n",
       "      <td>0.000000</td>\n",
       "      <td>0.045455</td>\n",
       "    </tr>\n",
       "    <tr>\n",
       "      <th>6573</th>\n",
       "      <td>1.0</td>\n",
       "      <td>0.048077</td>\n",
       "      <td>0.047619</td>\n",
       "      <td>0.373333</td>\n",
       "      <td>0.418919</td>\n",
       "      <td>0.550725</td>\n",
       "      <td>0.686567</td>\n",
       "      <td>0.468085</td>\n",
       "      <td>0.546099</td>\n",
       "      <td>0.170213</td>\n",
       "      <td>...</td>\n",
       "      <td>0.272727</td>\n",
       "      <td>0.258373</td>\n",
       "      <td>0.417508</td>\n",
       "      <td>0.478114</td>\n",
       "      <td>0.398601</td>\n",
       "      <td>0.227273</td>\n",
       "      <td>0.290909</td>\n",
       "      <td>0.236364</td>\n",
       "      <td>0.045455</td>\n",
       "      <td>0.000000</td>\n",
       "    </tr>\n",
       "    <tr>\n",
       "      <th>6574</th>\n",
       "      <td>1.0</td>\n",
       "      <td>0.057692</td>\n",
       "      <td>0.047619</td>\n",
       "      <td>0.280000</td>\n",
       "      <td>0.527027</td>\n",
       "      <td>0.492754</td>\n",
       "      <td>0.492537</td>\n",
       "      <td>0.390071</td>\n",
       "      <td>0.510638</td>\n",
       "      <td>0.074468</td>\n",
       "      <td>...</td>\n",
       "      <td>0.279221</td>\n",
       "      <td>0.334928</td>\n",
       "      <td>0.468013</td>\n",
       "      <td>0.377104</td>\n",
       "      <td>0.286713</td>\n",
       "      <td>0.333333</td>\n",
       "      <td>0.400000</td>\n",
       "      <td>0.163636</td>\n",
       "      <td>0.045455</td>\n",
       "      <td>0.000000</td>\n",
       "    </tr>\n",
       "    <tr>\n",
       "      <th>6575</th>\n",
       "      <td>1.0</td>\n",
       "      <td>0.048077</td>\n",
       "      <td>0.057143</td>\n",
       "      <td>0.320000</td>\n",
       "      <td>0.310811</td>\n",
       "      <td>0.536232</td>\n",
       "      <td>0.402985</td>\n",
       "      <td>0.432624</td>\n",
       "      <td>0.354610</td>\n",
       "      <td>0.138298</td>\n",
       "      <td>...</td>\n",
       "      <td>0.220779</td>\n",
       "      <td>0.142105</td>\n",
       "      <td>0.377104</td>\n",
       "      <td>0.377778</td>\n",
       "      <td>0.391608</td>\n",
       "      <td>0.244444</td>\n",
       "      <td>0.290909</td>\n",
       "      <td>0.260000</td>\n",
       "      <td>0.045455</td>\n",
       "      <td>0.000000</td>\n",
       "    </tr>\n",
       "    <tr>\n",
       "      <th>6576</th>\n",
       "      <td>1.0</td>\n",
       "      <td>0.048077</td>\n",
       "      <td>0.038095</td>\n",
       "      <td>0.333333</td>\n",
       "      <td>0.310811</td>\n",
       "      <td>0.666667</td>\n",
       "      <td>0.552239</td>\n",
       "      <td>0.503546</td>\n",
       "      <td>0.425532</td>\n",
       "      <td>0.223404</td>\n",
       "      <td>...</td>\n",
       "      <td>0.318182</td>\n",
       "      <td>0.181818</td>\n",
       "      <td>0.350168</td>\n",
       "      <td>0.484848</td>\n",
       "      <td>0.405594</td>\n",
       "      <td>0.272727</td>\n",
       "      <td>0.436364</td>\n",
       "      <td>0.327273</td>\n",
       "      <td>0.000000</td>\n",
       "      <td>0.136364</td>\n",
       "    </tr>\n",
       "  </tbody>\n",
       "</table>\n",
       "<p>6577 rows × 29 columns</p>\n",
       "</div>"
      ],
      "text/plain": [
       "      unixtime      HFUD      AFUD     HGDPH     AGDPH     HGDPA     AGDPA  \\\n",
       "0          0.0  0.115385  0.114286  0.360000  0.364865  0.550725  0.537313   \n",
       "1          0.0  0.115385  0.114286  0.360000  0.364865  0.550725  0.537313   \n",
       "2          0.0  0.115385  0.114286  0.360000  0.364865  0.550725  0.537313   \n",
       "3          0.0  0.115385  0.114286  0.360000  0.364865  0.550725  0.537313   \n",
       "4          0.0  0.115385  0.114286  0.360000  0.364865  0.550725  0.537313   \n",
       "...        ...       ...       ...       ...       ...       ...       ...   \n",
       "6572       1.0  0.038462  0.047619  0.386667  0.283784  0.579710  0.432836   \n",
       "6573       1.0  0.048077  0.047619  0.373333  0.418919  0.550725  0.686567   \n",
       "6574       1.0  0.057692  0.047619  0.280000  0.527027  0.492754  0.492537   \n",
       "6575       1.0  0.048077  0.057143  0.320000  0.310811  0.536232  0.402985   \n",
       "6576       1.0  0.048077  0.038095  0.333333  0.310811  0.666667  0.552239   \n",
       "\n",
       "          HTGD      ATGD       HCP  ...     HTSPG     ATSPG      HFPG  \\\n",
       "0     0.460993  0.446809  0.000000  ...  0.000000  0.000000  0.000000   \n",
       "1     0.460993  0.446809  0.000000  ...  0.000000  0.000000  0.000000   \n",
       "2     0.460993  0.446809  0.000000  ...  0.000000  0.000000  0.000000   \n",
       "3     0.460993  0.446809  0.000000  ...  0.000000  0.000000  0.000000   \n",
       "4     0.460993  0.446809  0.000000  ...  0.000000  0.000000  0.000000   \n",
       "...        ...       ...       ...  ...       ...       ...       ...   \n",
       "6572  0.489362  0.354610  0.212766  ...  0.350649  0.153110  0.478114   \n",
       "6573  0.468085  0.546099  0.170213  ...  0.272727  0.258373  0.417508   \n",
       "6574  0.390071  0.510638  0.074468  ...  0.279221  0.334928  0.468013   \n",
       "6575  0.432624  0.354610  0.138298  ...  0.220779  0.142105  0.377104   \n",
       "6576  0.503546  0.425532  0.223404  ...  0.318182  0.181818  0.350168   \n",
       "\n",
       "          AFPG      HCPG      ACPG      HYPG      AYPG      HRPG      ARPG  \n",
       "0     0.000000  0.000000  0.000000  0.000000  0.000000  0.000000  0.000000  \n",
       "1     0.000000  0.000000  0.000000  0.000000  0.000000  0.000000  0.000000  \n",
       "2     0.000000  0.000000  0.000000  0.000000  0.000000  0.000000  0.000000  \n",
       "3     0.000000  0.000000  0.000000  0.000000  0.000000  0.000000  0.000000  \n",
       "4     0.000000  0.000000  0.000000  0.000000  0.000000  0.000000  0.000000  \n",
       "...        ...       ...       ...       ...       ...       ...       ...  \n",
       "6572  0.437710  0.279720  0.282828  0.290909  0.272727  0.000000  0.045455  \n",
       "6573  0.478114  0.398601  0.227273  0.290909  0.236364  0.045455  0.000000  \n",
       "6574  0.377104  0.286713  0.333333  0.400000  0.163636  0.045455  0.000000  \n",
       "6575  0.377778  0.391608  0.244444  0.290909  0.260000  0.045455  0.000000  \n",
       "6576  0.484848  0.405594  0.272727  0.436364  0.327273  0.000000  0.136364  \n",
       "\n",
       "[6577 rows x 29 columns]"
      ]
     },
     "execution_count": 38,
     "metadata": {},
     "output_type": "execute_result"
    }
   ],
   "source": [
    "df_X = df_X.apply(lambda column: (column - min(column))/(max(column)-min(column)), axis=0)\n",
    "df_X"
   ]
  },
  {
   "cell_type": "markdown",
   "metadata": {},
   "source": [
    "#### Split Data Into Training, Validation, and Testing Sets\n",
    "We first split our data into train/validation (combined) set and test set. Then take the train/validation set and split it into a train set and validation set. <br><br>\n",
    "Set stratify to the corresponding labels to balance the unbalanced data set."
   ]
  },
  {
   "cell_type": "code",
   "execution_count": 39,
   "metadata": {},
   "outputs": [],
   "source": [
    "# Split train/validation and testing sets\n",
    "X_val_train, X_test, y_val_train, y_test = train_test_split(df_X, s_y, test_size = 0.2, stratify=s_y, random_state = 21)\n",
    "\n",
    "# Split train and validation\n",
    "X_train, X_val, y_train, y_val = train_test_split(X_val_train, y_val_train, test_size = 0.2, stratify=y_val_train, random_state = 69)"
   ]
  },
  {
   "cell_type": "markdown",
   "metadata": {},
   "source": [
    "#### Check if Distributions are Similar for All Sets"
   ]
  },
  {
   "cell_type": "code",
   "execution_count": 40,
   "metadata": {},
   "outputs": [
    {
     "data": {
      "text/plain": [
       "2    0.461740\n",
       "0    0.288023\n",
       "1    0.250238\n",
       "Name: FTR, dtype: float64"
      ]
     },
     "execution_count": 40,
     "metadata": {},
     "output_type": "execute_result"
    }
   ],
   "source": [
    "y_train.value_counts()/len(y_train)"
   ]
  },
  {
   "cell_type": "code",
   "execution_count": 41,
   "metadata": {},
   "outputs": [
    {
     "data": {
      "text/plain": [
       "2    0.461538\n",
       "0    0.288699\n",
       "1    0.249763\n",
       "Name: FTR, dtype: float64"
      ]
     },
     "execution_count": 41,
     "metadata": {},
     "output_type": "execute_result"
    }
   ],
   "source": [
    "y_val.value_counts()/len(y_val)"
   ]
  },
  {
   "cell_type": "code",
   "execution_count": 42,
   "metadata": {},
   "outputs": [
    {
     "data": {
      "text/plain": [
       "2    0.462006\n",
       "0    0.287994\n",
       "1    0.250000\n",
       "Name: FTR, dtype: float64"
      ]
     },
     "execution_count": 42,
     "metadata": {},
     "output_type": "execute_result"
    }
   ],
   "source": [
    "y_test.value_counts()/len(y_test)"
   ]
  },
  {
   "cell_type": "markdown",
   "metadata": {},
   "source": [
    "#### Create a Dataset Class\n",
    "Inherit from pytroch's Dataset class and define initialization, getitem, and length functions."
   ]
  },
  {
   "cell_type": "code",
   "execution_count": 43,
   "metadata": {},
   "outputs": [],
   "source": [
    "class PLDataset(Dataset):\n",
    "    \n",
    "    def __init__(self, X_features, y_labels):\n",
    "        self.X_features = X_features\n",
    "        self.y_labels = y_labels\n",
    "        \n",
    "    def __getitem__(self, index):\n",
    "        return self.X_features[index], self.y_labels[index]\n",
    "    \n",
    "    def __len__(self):\n",
    "        return len(self.X_features)"
   ]
  },
  {
   "cell_type": "markdown",
   "metadata": {},
   "source": [
    "#### Make Datasets into Object Datasets\n",
    "Turn the training, validation, and testing datasets into PLDataset objects. Turn predictor features and labels from numpy arrays to torch tensors."
   ]
  },
  {
   "cell_type": "code",
   "execution_count": 44,
   "metadata": {},
   "outputs": [],
   "source": [
    "train_set = PLDataset(torch.from_numpy(X_train.values).float(), torch.from_numpy(y_train.values).long())\n",
    "val_set = PLDataset(torch.from_numpy(X_val.values).float(), torch.from_numpy(y_val.values).long())\n",
    "test_set = PLDataset(torch.from_numpy(X_test.values).float(), torch.from_numpy(y_test.values).long())"
   ]
  },
  {
   "cell_type": "markdown",
   "metadata": {},
   "source": [
    "#### Class Balancing in Batches\n",
    "Although training, validation, and test datasets were stratified, each batch will no necessarily be balanced. Let's attempt to balance the classes in each batch of training our ANN sees, so it can be better trained for each case.\n",
    "<br><br>\n",
    "Obtain all labels from the training set in a list and convert to a tensor. We can now count the amount of times each class appears in our training labels, make weights of each class from these counts (meant to over-represent under-represented classes), and apply the weights to the labels tensor."
   ]
  },
  {
   "cell_type": "code",
   "execution_count": 45,
   "metadata": {},
   "outputs": [],
   "source": [
    "targets = [y for x,y in train_set] \n",
    "targets = torch.tensor(targets)\n",
    "class_count = [i for i in y_train.value_counts()]\n",
    "class_weights = 1./torch.tensor(class_count, dtype=torch.float) \n",
    "weight_per_sample = class_weights[targets]"
   ]
  },
  {
   "cell_type": "markdown",
   "metadata": {},
   "source": [
    "#### Create a Weighted Random Sampler Object\n",
    "Use the weight_per_sample as the weights parameter. This is done to balance the classes. Set replacement to true (sampling with replacement)."
   ]
  },
  {
   "cell_type": "code",
   "execution_count": 46,
   "metadata": {},
   "outputs": [],
   "source": [
    "sample_weights = WeightedRandomSampler(weights=weight_per_sample, num_samples=len(weight_per_sample), replacement=True)"
   ]
  },
  {
   "cell_type": "markdown",
   "metadata": {},
   "source": [
    "#### Set Important Variables\n",
    "Choose epochs, batch size, and learning rate. Multiple epochs, batch sizes, and learning rates were tested and these seemed to give the best result."
   ]
  },
  {
   "cell_type": "code",
   "execution_count": 47,
   "metadata": {},
   "outputs": [],
   "source": [
    "EPOCHS = 300\n",
    "BATCH_SIZE = 8\n",
    "LEARNING_RATE = 0.0007\n",
    "NUM_FEATURES = len(df_X.columns)\n",
    "NUM_CLASSES = 3"
   ]
  },
  {
   "cell_type": "markdown",
   "metadata": {},
   "source": [
    "#### Declare DataLoader Objects for Training, Validation, and Testing"
   ]
  },
  {
   "cell_type": "code",
   "execution_count": 48,
   "metadata": {},
   "outputs": [],
   "source": [
    "train_DL = DataLoader(dataset=train_set, batch_size=BATCH_SIZE, sampler=sample_weights)\n",
    "val_DL = DataLoader(dataset=val_set)\n",
    "test_DL = DataLoader(dataset=test_set)"
   ]
  },
  {
   "cell_type": "markdown",
   "metadata": {},
   "source": [
    "#### Create Artificial Neural Network\n",
    "Now we need to create a fully connected artificial neural network. This ANN will contain an input layer, a hidden layer with a ReLU activation function, and an output layer with a softmax activation function."
   ]
  },
  {
   "cell_type": "code",
   "execution_count": 49,
   "metadata": {},
   "outputs": [],
   "source": [
    "class PLNN(nn.Module):\n",
    "    \n",
    "    def __init__(self, n_features, n_classes):\n",
    "        super().__init__()\n",
    "        self.fc1 = nn.Linear(n_features,16)\n",
    "        self.fc2 = nn.Linear(16, n_classes)\n",
    "        \n",
    "        self.relu = nn.ReLU()\n",
    "        self.batchn1 = nn.BatchNorm1d(16)\n",
    "        \n",
    "    def forward(self, x):\n",
    "        x = self.relu(self.batchn1(self.fc1(x)))\n",
    "        x = self.fc2(x)\n",
    "        \n",
    "        return x\n",
    "        "
   ]
  },
  {
   "cell_type": "code",
   "execution_count": 50,
   "metadata": {},
   "outputs": [],
   "source": [
    "# let's set our device (cuda if available --> cpu if not )\n",
    "device = torch.device(\"cuda:0\" if torch.cuda.is_available() else \"cpu\")"
   ]
  },
  {
   "cell_type": "markdown",
   "metadata": {},
   "source": [
    "#### Declare PLNN (Premier League Neural Network) Object\n",
    "Make an instance of the PLNN object and make it run on gpu or cpu. The criterion is going to be the loss function that will be used for this ANN. Refer to the <a href=\"https://pytorch.org/docs/stable/generated/torch.nn.CrossEntropyLoss.html\">documentation</a> for more information. For our optimizer we will use Adam (Adaptive Moment Estimation) optimization. Adam is a variant of stochastic gradient descent. Print the model to observe the structure."
   ]
  },
  {
   "cell_type": "code",
   "execution_count": 51,
   "metadata": {},
   "outputs": [
    {
     "data": {
      "text/plain": [
       "PLNN(\n",
       "  (fc1): Linear(in_features=29, out_features=16, bias=True)\n",
       "  (fc2): Linear(in_features=16, out_features=3, bias=True)\n",
       "  (relu): ReLU()\n",
       "  (batchn1): BatchNorm1d(16, eps=1e-05, momentum=0.1, affine=True, track_running_stats=True)\n",
       ")"
      ]
     },
     "execution_count": 51,
     "metadata": {},
     "output_type": "execute_result"
    }
   ],
   "source": [
    "model = PLNN(NUM_FEATURES, NUM_CLASSES)\n",
    "model.to(device)\n",
    "criterion = nn.CrossEntropyLoss(weight=class_weights.to(device))\n",
    "optimizer = optim.Adam(model.parameters(), lr=LEARNING_RATE)\n",
    "model"
   ]
  },
  {
   "cell_type": "markdown",
   "metadata": {},
   "source": [
    "#### Function to Calculate Accuracy Per Epoch"
   ]
  },
  {
   "cell_type": "code",
   "execution_count": 52,
   "metadata": {},
   "outputs": [],
   "source": [
    "def acc_epoch(y_resp, y_correct):\n",
    "    \n",
    "    y_resp_softmax = torch.log_softmax(y_resp, dim = 1)\n",
    "    values, y_resp_idxs = torch.max(y_resp_softmax, dim = 1)   \n",
    "    correct = (y_resp_idxs == y_correct).float()\n",
    "    acc = correct.sum() / len(correct)\n",
    "    \n",
    "    return torch.round(acc) * 100"
   ]
  },
  {
   "cell_type": "code",
   "execution_count": 53,
   "metadata": {},
   "outputs": [],
   "source": [
    "acc_dict = {'train': [], \"val\": [] }\n",
    "loss_dict = {'train': [], \"val\": [] }"
   ]
  },
  {
   "cell_type": "markdown",
   "metadata": {},
   "source": [
    "#### Train Model and Use Model With Validation Set\n",
    "The code below is from an <a href=\"https://towardsdatascience.com/pytorch-tabular-multiclass-classification-9f8211a123ab\">article</a> written by Akshaj Verma. This code trains the ANN and tests the ANN on the validation set after each epoch. It also prints and formats accuracy and loss at each epoch nicely."
   ]
  },
  {
   "cell_type": "code",
   "execution_count": 54,
   "metadata": {
    "scrolled": true
   },
   "outputs": [
    {
     "name": "stderr",
     "output_type": "stream",
     "text": [
      "  0%|▎                                                                                 | 1/300 [00:01<08:32,  1.71s/it]"
     ]
    },
    {
     "name": "stdout",
     "output_type": "stream",
     "text": [
      "Epoch 001: | Train Loss: 0.92019 | Val Loss: 1.04791 | Train Acc: 41.445| Val Acc: 47.388\n"
     ]
    },
    {
     "name": "stderr",
     "output_type": "stream",
     "text": [
      "\r",
      "  1%|▌                                                                                 | 2/300 [00:03<08:31,  1.72s/it]"
     ]
    },
    {
     "name": "stdout",
     "output_type": "stream",
     "text": [
      "Epoch 002: | Train Loss: 0.87301 | Val Loss: 1.07967 | Train Acc: 49.810| Val Acc: 46.154\n"
     ]
    },
    {
     "name": "stderr",
     "output_type": "stream",
     "text": [
      "\r",
      "  1%|▊                                                                                 | 3/300 [00:05<08:39,  1.75s/it]"
     ]
    },
    {
     "name": "stdout",
     "output_type": "stream",
     "text": [
      "Epoch 003: | Train Loss: 0.86861 | Val Loss: 1.06674 | Train Acc: 44.867| Val Acc: 47.009\n"
     ]
    },
    {
     "name": "stderr",
     "output_type": "stream",
     "text": [
      "\r",
      "  1%|█                                                                                 | 4/300 [00:07<08:38,  1.75s/it]"
     ]
    },
    {
     "name": "stdout",
     "output_type": "stream",
     "text": [
      "Epoch 004: | Train Loss: 0.87482 | Val Loss: 1.06264 | Train Acc: 48.289| Val Acc: 48.243\n"
     ]
    },
    {
     "name": "stderr",
     "output_type": "stream",
     "text": [
      "\r",
      "  2%|█▎                                                                                | 5/300 [00:08<08:47,  1.79s/it]"
     ]
    },
    {
     "name": "stdout",
     "output_type": "stream",
     "text": [
      "Epoch 005: | Train Loss: 0.85792 | Val Loss: 1.06755 | Train Acc: 53.042| Val Acc: 47.673\n"
     ]
    },
    {
     "name": "stderr",
     "output_type": "stream",
     "text": [
      "\r",
      "  2%|█▋                                                                                | 6/300 [00:10<08:50,  1.81s/it]"
     ]
    },
    {
     "name": "stdout",
     "output_type": "stream",
     "text": [
      "Epoch 006: | Train Loss: 0.86072 | Val Loss: 1.08391 | Train Acc: 48.289| Val Acc: 47.198\n"
     ]
    },
    {
     "name": "stderr",
     "output_type": "stream",
     "text": [
      "\r",
      "  2%|█▉                                                                                | 7/300 [00:12<08:47,  1.80s/it]"
     ]
    },
    {
     "name": "stdout",
     "output_type": "stream",
     "text": [
      "Epoch 007: | Train Loss: 0.84472 | Val Loss: 1.08198 | Train Acc: 53.992| Val Acc: 47.009\n"
     ]
    },
    {
     "name": "stderr",
     "output_type": "stream",
     "text": [
      "\r",
      "  3%|██▏                                                                               | 8/300 [00:14<08:49,  1.81s/it]"
     ]
    },
    {
     "name": "stdout",
     "output_type": "stream",
     "text": [
      "Epoch 008: | Train Loss: 0.85166 | Val Loss: 1.06105 | Train Acc: 49.430| Val Acc: 47.483\n"
     ]
    },
    {
     "name": "stderr",
     "output_type": "stream",
     "text": [
      "\r",
      "  3%|██▍                                                                               | 9/300 [00:16<08:48,  1.82s/it]"
     ]
    },
    {
     "name": "stdout",
     "output_type": "stream",
     "text": [
      "Epoch 009: | Train Loss: 0.84334 | Val Loss: 1.08561 | Train Acc: 53.612| Val Acc: 48.433\n"
     ]
    },
    {
     "name": "stderr",
     "output_type": "stream",
     "text": [
      "\r",
      "  3%|██▋                                                                              | 10/300 [00:17<08:44,  1.81s/it]"
     ]
    },
    {
     "name": "stdout",
     "output_type": "stream",
     "text": [
      "Epoch 010: | Train Loss: 0.85781 | Val Loss: 1.08728 | Train Acc: 48.479| Val Acc: 46.724\n"
     ]
    },
    {
     "name": "stderr",
     "output_type": "stream",
     "text": [
      "\r",
      "  4%|██▉                                                                              | 11/300 [00:19<08:37,  1.79s/it]"
     ]
    },
    {
     "name": "stdout",
     "output_type": "stream",
     "text": [
      "Epoch 011: | Train Loss: 0.84961 | Val Loss: 1.10320 | Train Acc: 48.859| Val Acc: 46.724\n"
     ]
    },
    {
     "name": "stderr",
     "output_type": "stream",
     "text": [
      "\r",
      "  4%|███▏                                                                             | 12/300 [00:21<08:33,  1.78s/it]"
     ]
    },
    {
     "name": "stdout",
     "output_type": "stream",
     "text": [
      "Epoch 012: | Train Loss: 0.85592 | Val Loss: 1.08878 | Train Acc: 46.578| Val Acc: 47.578\n"
     ]
    },
    {
     "name": "stderr",
     "output_type": "stream",
     "text": [
      "\r",
      "  4%|███▌                                                                             | 13/300 [00:23<08:22,  1.75s/it]"
     ]
    },
    {
     "name": "stdout",
     "output_type": "stream",
     "text": [
      "Epoch 013: | Train Loss: 0.83483 | Val Loss: 1.08068 | Train Acc: 49.810| Val Acc: 46.724\n"
     ]
    },
    {
     "name": "stderr",
     "output_type": "stream",
     "text": [
      "\r",
      "  5%|███▊                                                                             | 14/300 [00:24<08:15,  1.73s/it]"
     ]
    },
    {
     "name": "stdout",
     "output_type": "stream",
     "text": [
      "Epoch 014: | Train Loss: 0.84534 | Val Loss: 1.09667 | Train Acc: 50.380| Val Acc: 46.534\n"
     ]
    },
    {
     "name": "stderr",
     "output_type": "stream",
     "text": [
      "\r",
      "  5%|████                                                                             | 15/300 [00:26<08:15,  1.74s/it]"
     ]
    },
    {
     "name": "stdout",
     "output_type": "stream",
     "text": [
      "Epoch 015: | Train Loss: 0.84635 | Val Loss: 1.08046 | Train Acc: 52.281| Val Acc: 47.578\n"
     ]
    },
    {
     "name": "stderr",
     "output_type": "stream",
     "text": [
      "\r",
      "  5%|████▎                                                                            | 16/300 [00:28<08:18,  1.76s/it]"
     ]
    },
    {
     "name": "stdout",
     "output_type": "stream",
     "text": [
      "Epoch 016: | Train Loss: 0.85685 | Val Loss: 1.07210 | Train Acc: 48.479| Val Acc: 47.198\n"
     ]
    },
    {
     "name": "stderr",
     "output_type": "stream",
     "text": [
      "\r",
      "  6%|████▌                                                                            | 17/300 [00:30<08:23,  1.78s/it]"
     ]
    },
    {
     "name": "stdout",
     "output_type": "stream",
     "text": [
      "Epoch 017: | Train Loss: 0.85770 | Val Loss: 1.07201 | Train Acc: 47.909| Val Acc: 47.104\n"
     ]
    },
    {
     "name": "stderr",
     "output_type": "stream",
     "text": [
      "\r",
      "  6%|████▊                                                                            | 18/300 [00:31<08:19,  1.77s/it]"
     ]
    },
    {
     "name": "stdout",
     "output_type": "stream",
     "text": [
      "Epoch 018: | Train Loss: 0.83657 | Val Loss: 1.09730 | Train Acc: 53.232| Val Acc: 46.724\n"
     ]
    },
    {
     "name": "stderr",
     "output_type": "stream",
     "text": [
      "\r",
      "  6%|█████▏                                                                           | 19/300 [00:33<08:15,  1.76s/it]"
     ]
    },
    {
     "name": "stdout",
     "output_type": "stream",
     "text": [
      "Epoch 019: | Train Loss: 0.84880 | Val Loss: 1.07960 | Train Acc: 48.859| Val Acc: 47.578\n"
     ]
    },
    {
     "name": "stderr",
     "output_type": "stream",
     "text": [
      "\r",
      "  7%|█████▍                                                                           | 20/300 [00:35<08:21,  1.79s/it]"
     ]
    },
    {
     "name": "stdout",
     "output_type": "stream",
     "text": [
      "Epoch 020: | Train Loss: 0.84632 | Val Loss: 1.06610 | Train Acc: 50.380| Val Acc: 47.768\n"
     ]
    },
    {
     "name": "stderr",
     "output_type": "stream",
     "text": [
      "\r",
      "  7%|█████▋                                                                           | 21/300 [00:37<08:17,  1.78s/it]"
     ]
    },
    {
     "name": "stdout",
     "output_type": "stream",
     "text": [
      "Epoch 021: | Train Loss: 0.84437 | Val Loss: 1.06772 | Train Acc: 53.612| Val Acc: 47.863\n"
     ]
    },
    {
     "name": "stderr",
     "output_type": "stream",
     "text": [
      "\r",
      "  7%|█████▉                                                                           | 22/300 [00:39<08:11,  1.77s/it]"
     ]
    },
    {
     "name": "stdout",
     "output_type": "stream",
     "text": [
      "Epoch 022: | Train Loss: 0.87053 | Val Loss: 1.06787 | Train Acc: 46.198| Val Acc: 47.768\n"
     ]
    },
    {
     "name": "stderr",
     "output_type": "stream",
     "text": [
      "\r",
      "  8%|██████▏                                                                          | 23/300 [00:40<08:18,  1.80s/it]"
     ]
    },
    {
     "name": "stdout",
     "output_type": "stream",
     "text": [
      "Epoch 023: | Train Loss: 0.84128 | Val Loss: 1.06662 | Train Acc: 53.422| Val Acc: 47.388\n"
     ]
    },
    {
     "name": "stderr",
     "output_type": "stream",
     "text": [
      "\r",
      "  8%|██████▍                                                                          | 24/300 [00:42<08:35,  1.87s/it]"
     ]
    },
    {
     "name": "stdout",
     "output_type": "stream",
     "text": [
      "Epoch 024: | Train Loss: 0.83514 | Val Loss: 1.09387 | Train Acc: 53.232| Val Acc: 47.578\n"
     ]
    },
    {
     "name": "stderr",
     "output_type": "stream",
     "text": [
      "\r",
      "  8%|██████▊                                                                          | 25/300 [00:44<08:38,  1.88s/it]"
     ]
    },
    {
     "name": "stdout",
     "output_type": "stream",
     "text": [
      "Epoch 025: | Train Loss: 0.84885 | Val Loss: 1.08074 | Train Acc: 50.951| Val Acc: 47.578\n"
     ]
    },
    {
     "name": "stderr",
     "output_type": "stream",
     "text": [
      "\r",
      "  9%|███████                                                                          | 26/300 [00:46<08:22,  1.83s/it]"
     ]
    },
    {
     "name": "stdout",
     "output_type": "stream",
     "text": [
      "Epoch 026: | Train Loss: 0.85378 | Val Loss: 1.10280 | Train Acc: 48.099| Val Acc: 47.578\n"
     ]
    },
    {
     "name": "stderr",
     "output_type": "stream",
     "text": [
      "\r",
      "  9%|███████▎                                                                         | 27/300 [00:48<08:13,  1.81s/it]"
     ]
    },
    {
     "name": "stdout",
     "output_type": "stream",
     "text": [
      "Epoch 027: | Train Loss: 0.83557 | Val Loss: 1.10167 | Train Acc: 53.612| Val Acc: 47.388\n"
     ]
    },
    {
     "name": "stderr",
     "output_type": "stream",
     "text": [
      "\r",
      "  9%|███████▌                                                                         | 28/300 [00:50<08:06,  1.79s/it]"
     ]
    },
    {
     "name": "stdout",
     "output_type": "stream",
     "text": [
      "Epoch 028: | Train Loss: 0.85159 | Val Loss: 1.08262 | Train Acc: 49.430| Val Acc: 46.914\n"
     ]
    },
    {
     "name": "stderr",
     "output_type": "stream",
     "text": [
      "\r",
      " 10%|███████▊                                                                         | 29/300 [00:51<07:57,  1.76s/it]"
     ]
    },
    {
     "name": "stdout",
     "output_type": "stream",
     "text": [
      "Epoch 029: | Train Loss: 0.84276 | Val Loss: 1.08249 | Train Acc: 50.760| Val Acc: 47.388\n"
     ]
    },
    {
     "name": "stderr",
     "output_type": "stream",
     "text": [
      "\r",
      " 10%|████████                                                                         | 30/300 [00:53<07:52,  1.75s/it]"
     ]
    },
    {
     "name": "stdout",
     "output_type": "stream",
     "text": [
      "Epoch 030: | Train Loss: 0.84337 | Val Loss: 1.07100 | Train Acc: 47.338| Val Acc: 47.958\n"
     ]
    },
    {
     "name": "stderr",
     "output_type": "stream",
     "text": [
      "\r",
      " 10%|████████▎                                                                        | 31/300 [00:55<07:47,  1.74s/it]"
     ]
    },
    {
     "name": "stdout",
     "output_type": "stream",
     "text": [
      "Epoch 031: | Train Loss: 0.83910 | Val Loss: 1.11147 | Train Acc: 49.240| Val Acc: 46.819\n"
     ]
    },
    {
     "name": "stderr",
     "output_type": "stream",
     "text": [
      "\r",
      " 11%|████████▋                                                                        | 32/300 [00:56<07:44,  1.73s/it]"
     ]
    },
    {
     "name": "stdout",
     "output_type": "stream",
     "text": [
      "Epoch 032: | Train Loss: 0.84268 | Val Loss: 1.08451 | Train Acc: 49.430| Val Acc: 46.629\n"
     ]
    },
    {
     "name": "stderr",
     "output_type": "stream",
     "text": [
      "\r",
      " 11%|████████▉                                                                        | 33/300 [00:58<07:40,  1.72s/it]"
     ]
    },
    {
     "name": "stdout",
     "output_type": "stream",
     "text": [
      "Epoch 033: | Train Loss: 0.84904 | Val Loss: 1.10924 | Train Acc: 50.570| Val Acc: 47.388\n"
     ]
    },
    {
     "name": "stderr",
     "output_type": "stream",
     "text": [
      "\r",
      " 11%|█████████▏                                                                       | 34/300 [01:00<07:39,  1.73s/it]"
     ]
    },
    {
     "name": "stdout",
     "output_type": "stream",
     "text": [
      "Epoch 034: | Train Loss: 0.84643 | Val Loss: 1.08547 | Train Acc: 48.479| Val Acc: 48.053\n"
     ]
    },
    {
     "name": "stderr",
     "output_type": "stream",
     "text": [
      "\r",
      " 12%|█████████▍                                                                       | 35/300 [01:02<07:40,  1.74s/it]"
     ]
    },
    {
     "name": "stdout",
     "output_type": "stream",
     "text": [
      "Epoch 035: | Train Loss: 0.84775 | Val Loss: 1.10400 | Train Acc: 49.430| Val Acc: 47.104\n"
     ]
    },
    {
     "name": "stderr",
     "output_type": "stream",
     "text": [
      "\r",
      " 12%|█████████▋                                                                       | 36/300 [01:03<07:35,  1.72s/it]"
     ]
    },
    {
     "name": "stdout",
     "output_type": "stream",
     "text": [
      "Epoch 036: | Train Loss: 0.84961 | Val Loss: 1.08331 | Train Acc: 50.760| Val Acc: 47.198\n"
     ]
    },
    {
     "name": "stderr",
     "output_type": "stream",
     "text": [
      "\r",
      " 12%|█████████▉                                                                       | 37/300 [01:05<07:31,  1.72s/it]"
     ]
    },
    {
     "name": "stdout",
     "output_type": "stream",
     "text": [
      "Epoch 037: | Train Loss: 0.84112 | Val Loss: 1.08277 | Train Acc: 50.760| Val Acc: 47.673\n"
     ]
    },
    {
     "name": "stderr",
     "output_type": "stream",
     "text": [
      "\r",
      " 13%|██████████▎                                                                      | 38/300 [01:07<07:30,  1.72s/it]"
     ]
    },
    {
     "name": "stdout",
     "output_type": "stream",
     "text": [
      "Epoch 038: | Train Loss: 0.84414 | Val Loss: 1.08838 | Train Acc: 53.042| Val Acc: 47.009\n"
     ]
    },
    {
     "name": "stderr",
     "output_type": "stream",
     "text": [
      "\r",
      " 13%|██████████▌                                                                      | 39/300 [01:09<07:39,  1.76s/it]"
     ]
    },
    {
     "name": "stdout",
     "output_type": "stream",
     "text": [
      "Epoch 039: | Train Loss: 0.84530 | Val Loss: 1.07808 | Train Acc: 48.099| Val Acc: 48.053\n"
     ]
    },
    {
     "name": "stderr",
     "output_type": "stream",
     "text": [
      "\r",
      " 13%|██████████▊                                                                      | 40/300 [01:10<07:34,  1.75s/it]"
     ]
    },
    {
     "name": "stdout",
     "output_type": "stream",
     "text": [
      "Epoch 040: | Train Loss: 0.86294 | Val Loss: 1.05752 | Train Acc: 46.388| Val Acc: 49.003\n"
     ]
    },
    {
     "name": "stderr",
     "output_type": "stream",
     "text": [
      "\r",
      " 14%|███████████                                                                      | 41/300 [01:12<07:27,  1.73s/it]"
     ]
    },
    {
     "name": "stdout",
     "output_type": "stream",
     "text": [
      "Epoch 041: | Train Loss: 0.83518 | Val Loss: 1.10031 | Train Acc: 51.141| Val Acc: 47.768\n"
     ]
    },
    {
     "name": "stderr",
     "output_type": "stream",
     "text": [
      "\r",
      " 14%|███████████▎                                                                     | 42/300 [01:14<07:22,  1.71s/it]"
     ]
    },
    {
     "name": "stdout",
     "output_type": "stream",
     "text": [
      "Epoch 042: | Train Loss: 0.84224 | Val Loss: 1.09583 | Train Acc: 52.662| Val Acc: 47.009\n"
     ]
    },
    {
     "name": "stderr",
     "output_type": "stream",
     "text": [
      "\r",
      " 14%|███████████▌                                                                     | 43/300 [01:15<07:17,  1.70s/it]"
     ]
    },
    {
     "name": "stdout",
     "output_type": "stream",
     "text": [
      "Epoch 043: | Train Loss: 0.85919 | Val Loss: 1.07672 | Train Acc: 48.099| Val Acc: 48.148\n"
     ]
    },
    {
     "name": "stderr",
     "output_type": "stream",
     "text": [
      "\r",
      " 15%|███████████▉                                                                     | 44/300 [01:17<07:13,  1.69s/it]"
     ]
    },
    {
     "name": "stdout",
     "output_type": "stream",
     "text": [
      "Epoch 044: | Train Loss: 0.82561 | Val Loss: 1.08164 | Train Acc: 53.802| Val Acc: 47.863\n"
     ]
    },
    {
     "name": "stderr",
     "output_type": "stream",
     "text": [
      "\r",
      " 15%|████████████▏                                                                    | 45/300 [01:19<07:10,  1.69s/it]"
     ]
    },
    {
     "name": "stdout",
     "output_type": "stream",
     "text": [
      "Epoch 045: | Train Loss: 0.84182 | Val Loss: 1.09759 | Train Acc: 49.049| Val Acc: 46.914\n"
     ]
    },
    {
     "name": "stderr",
     "output_type": "stream",
     "text": [
      "\r",
      " 15%|████████████▍                                                                    | 46/300 [01:20<07:07,  1.68s/it]"
     ]
    },
    {
     "name": "stdout",
     "output_type": "stream",
     "text": [
      "Epoch 046: | Train Loss: 0.83770 | Val Loss: 1.09625 | Train Acc: 50.951| Val Acc: 46.724\n"
     ]
    },
    {
     "name": "stderr",
     "output_type": "stream",
     "text": [
      "\r",
      " 16%|████████████▋                                                                    | 47/300 [01:22<07:13,  1.71s/it]"
     ]
    },
    {
     "name": "stdout",
     "output_type": "stream",
     "text": [
      "Epoch 047: | Train Loss: 0.84299 | Val Loss: 1.08647 | Train Acc: 53.042| Val Acc: 47.483\n"
     ]
    },
    {
     "name": "stderr",
     "output_type": "stream",
     "text": [
      "\r",
      " 16%|████████████▉                                                                    | 48/300 [01:24<07:11,  1.71s/it]"
     ]
    },
    {
     "name": "stdout",
     "output_type": "stream",
     "text": [
      "Epoch 048: | Train Loss: 0.83529 | Val Loss: 1.09021 | Train Acc: 51.901| Val Acc: 48.053\n"
     ]
    },
    {
     "name": "stderr",
     "output_type": "stream",
     "text": [
      "\r",
      " 16%|█████████████▏                                                                   | 49/300 [01:26<07:19,  1.75s/it]"
     ]
    },
    {
     "name": "stdout",
     "output_type": "stream",
     "text": [
      "Epoch 049: | Train Loss: 0.85114 | Val Loss: 1.07415 | Train Acc: 50.190| Val Acc: 47.483\n"
     ]
    },
    {
     "name": "stderr",
     "output_type": "stream",
     "text": [
      "\r",
      " 17%|█████████████▌                                                                   | 50/300 [01:28<07:21,  1.77s/it]"
     ]
    },
    {
     "name": "stdout",
     "output_type": "stream",
     "text": [
      "Epoch 050: | Train Loss: 0.84850 | Val Loss: 1.09909 | Train Acc: 50.951| Val Acc: 46.439\n"
     ]
    },
    {
     "name": "stderr",
     "output_type": "stream",
     "text": [
      "\r",
      " 17%|█████████████▊                                                                   | 51/300 [01:29<07:19,  1.77s/it]"
     ]
    },
    {
     "name": "stdout",
     "output_type": "stream",
     "text": [
      "Epoch 051: | Train Loss: 0.84537 | Val Loss: 1.10348 | Train Acc: 46.768| Val Acc: 46.629\n"
     ]
    },
    {
     "name": "stderr",
     "output_type": "stream",
     "text": [
      "\r",
      " 17%|██████████████                                                                   | 52/300 [01:31<07:16,  1.76s/it]"
     ]
    },
    {
     "name": "stdout",
     "output_type": "stream",
     "text": [
      "Epoch 052: | Train Loss: 0.85271 | Val Loss: 1.08947 | Train Acc: 47.529| Val Acc: 46.439\n"
     ]
    },
    {
     "name": "stderr",
     "output_type": "stream",
     "text": [
      "\r",
      " 18%|██████████████▎                                                                  | 53/300 [01:33<07:10,  1.74s/it]"
     ]
    },
    {
     "name": "stdout",
     "output_type": "stream",
     "text": [
      "Epoch 053: | Train Loss: 0.85617 | Val Loss: 1.08209 | Train Acc: 48.289| Val Acc: 47.293\n"
     ]
    },
    {
     "name": "stderr",
     "output_type": "stream",
     "text": [
      "\r",
      " 18%|██████████████▌                                                                  | 54/300 [01:34<07:03,  1.72s/it]"
     ]
    },
    {
     "name": "stdout",
     "output_type": "stream",
     "text": [
      "Epoch 054: | Train Loss: 0.82916 | Val Loss: 1.12153 | Train Acc: 53.612| Val Acc: 46.819\n"
     ]
    },
    {
     "name": "stderr",
     "output_type": "stream",
     "text": [
      "\r",
      " 18%|██████████████▊                                                                  | 55/300 [01:36<06:58,  1.71s/it]"
     ]
    },
    {
     "name": "stdout",
     "output_type": "stream",
     "text": [
      "Epoch 055: | Train Loss: 0.85003 | Val Loss: 1.08196 | Train Acc: 49.049| Val Acc: 47.673\n"
     ]
    },
    {
     "name": "stderr",
     "output_type": "stream",
     "text": [
      "\r",
      " 19%|███████████████                                                                  | 56/300 [01:38<06:54,  1.70s/it]"
     ]
    },
    {
     "name": "stdout",
     "output_type": "stream",
     "text": [
      "Epoch 056: | Train Loss: 0.83717 | Val Loss: 1.07862 | Train Acc: 52.471| Val Acc: 48.053\n"
     ]
    },
    {
     "name": "stderr",
     "output_type": "stream",
     "text": [
      "\r",
      " 19%|███████████████▍                                                                 | 57/300 [01:39<06:51,  1.69s/it]"
     ]
    },
    {
     "name": "stdout",
     "output_type": "stream",
     "text": [
      "Epoch 057: | Train Loss: 0.84491 | Val Loss: 1.12040 | Train Acc: 49.810| Val Acc: 46.819\n"
     ]
    },
    {
     "name": "stderr",
     "output_type": "stream",
     "text": [
      "\r",
      " 19%|███████████████▋                                                                 | 58/300 [01:41<06:48,  1.69s/it]"
     ]
    },
    {
     "name": "stdout",
     "output_type": "stream",
     "text": [
      "Epoch 058: | Train Loss: 0.84340 | Val Loss: 1.09401 | Train Acc: 50.190| Val Acc: 48.243\n"
     ]
    },
    {
     "name": "stderr",
     "output_type": "stream",
     "text": [
      "\r",
      " 20%|███████████████▉                                                                 | 59/300 [01:43<06:47,  1.69s/it]"
     ]
    },
    {
     "name": "stdout",
     "output_type": "stream",
     "text": [
      "Epoch 059: | Train Loss: 0.83577 | Val Loss: 1.07660 | Train Acc: 51.331| Val Acc: 47.768\n"
     ]
    },
    {
     "name": "stderr",
     "output_type": "stream",
     "text": [
      "\r",
      " 20%|████████████████▏                                                                | 60/300 [01:45<06:45,  1.69s/it]"
     ]
    },
    {
     "name": "stdout",
     "output_type": "stream",
     "text": [
      "Epoch 060: | Train Loss: 0.84079 | Val Loss: 1.09951 | Train Acc: 49.430| Val Acc: 47.388\n"
     ]
    },
    {
     "name": "stderr",
     "output_type": "stream",
     "text": [
      "\r",
      " 20%|████████████████▍                                                                | 61/300 [01:46<06:43,  1.69s/it]"
     ]
    },
    {
     "name": "stdout",
     "output_type": "stream",
     "text": [
      "Epoch 061: | Train Loss: 0.83423 | Val Loss: 1.09016 | Train Acc: 54.373| Val Acc: 46.629\n"
     ]
    },
    {
     "name": "stderr",
     "output_type": "stream",
     "text": [
      "\r",
      " 21%|████████████████▋                                                                | 62/300 [01:48<06:41,  1.69s/it]"
     ]
    },
    {
     "name": "stdout",
     "output_type": "stream",
     "text": [
      "Epoch 062: | Train Loss: 0.82962 | Val Loss: 1.09724 | Train Acc: 54.373| Val Acc: 47.104\n"
     ]
    },
    {
     "name": "stderr",
     "output_type": "stream",
     "text": [
      "\r",
      " 21%|█████████████████                                                                | 63/300 [01:50<06:38,  1.68s/it]"
     ]
    },
    {
     "name": "stdout",
     "output_type": "stream",
     "text": [
      "Epoch 063: | Train Loss: 0.84504 | Val Loss: 1.10308 | Train Acc: 52.662| Val Acc: 46.914\n"
     ]
    },
    {
     "name": "stderr",
     "output_type": "stream",
     "text": [
      "\r",
      " 21%|█████████████████▎                                                               | 64/300 [01:51<06:36,  1.68s/it]"
     ]
    },
    {
     "name": "stdout",
     "output_type": "stream",
     "text": [
      "Epoch 064: | Train Loss: 0.83235 | Val Loss: 1.10078 | Train Acc: 53.992| Val Acc: 47.483\n"
     ]
    },
    {
     "name": "stderr",
     "output_type": "stream",
     "text": [
      "\r",
      " 22%|█████████████████▌                                                               | 65/300 [01:53<06:35,  1.68s/it]"
     ]
    },
    {
     "name": "stdout",
     "output_type": "stream",
     "text": [
      "Epoch 065: | Train Loss: 0.84875 | Val Loss: 1.08119 | Train Acc: 48.289| Val Acc: 48.243\n"
     ]
    },
    {
     "name": "stderr",
     "output_type": "stream",
     "text": [
      "\r",
      " 22%|█████████████████▊                                                               | 66/300 [01:55<06:34,  1.69s/it]"
     ]
    },
    {
     "name": "stdout",
     "output_type": "stream",
     "text": [
      "Epoch 066: | Train Loss: 0.85227 | Val Loss: 1.07785 | Train Acc: 49.049| Val Acc: 47.863\n"
     ]
    },
    {
     "name": "stderr",
     "output_type": "stream",
     "text": [
      "\r",
      " 22%|██████████████████                                                               | 67/300 [01:56<06:32,  1.69s/it]"
     ]
    },
    {
     "name": "stdout",
     "output_type": "stream",
     "text": [
      "Epoch 067: | Train Loss: 0.83984 | Val Loss: 1.08843 | Train Acc: 49.810| Val Acc: 47.388\n"
     ]
    },
    {
     "name": "stderr",
     "output_type": "stream",
     "text": [
      "\r",
      " 23%|██████████████████▎                                                              | 68/300 [01:58<06:36,  1.71s/it]"
     ]
    },
    {
     "name": "stdout",
     "output_type": "stream",
     "text": [
      "Epoch 068: | Train Loss: 0.84612 | Val Loss: 1.08059 | Train Acc: 51.331| Val Acc: 48.908\n"
     ]
    },
    {
     "name": "stderr",
     "output_type": "stream",
     "text": [
      "\r",
      " 23%|██████████████████▋                                                              | 69/300 [02:00<06:37,  1.72s/it]"
     ]
    },
    {
     "name": "stdout",
     "output_type": "stream",
     "text": [
      "Epoch 069: | Train Loss: 0.85451 | Val Loss: 1.07879 | Train Acc: 50.000| Val Acc: 48.623\n"
     ]
    },
    {
     "name": "stderr",
     "output_type": "stream",
     "text": [
      "\r",
      " 23%|██████████████████▉                                                              | 70/300 [02:02<06:34,  1.71s/it]"
     ]
    },
    {
     "name": "stdout",
     "output_type": "stream",
     "text": [
      "Epoch 070: | Train Loss: 0.84030 | Val Loss: 1.08668 | Train Acc: 49.240| Val Acc: 47.483\n"
     ]
    },
    {
     "name": "stderr",
     "output_type": "stream",
     "text": [
      "\r",
      " 24%|███████████████████▏                                                             | 71/300 [02:03<06:32,  1.71s/it]"
     ]
    },
    {
     "name": "stdout",
     "output_type": "stream",
     "text": [
      "Epoch 071: | Train Loss: 0.83617 | Val Loss: 1.09965 | Train Acc: 51.711| Val Acc: 47.578\n"
     ]
    },
    {
     "name": "stderr",
     "output_type": "stream",
     "text": [
      "\r",
      " 24%|███████████████████▍                                                             | 72/300 [02:05<06:28,  1.70s/it]"
     ]
    },
    {
     "name": "stdout",
     "output_type": "stream",
     "text": [
      "Epoch 072: | Train Loss: 0.85270 | Val Loss: 1.09092 | Train Acc: 46.768| Val Acc: 47.388\n"
     ]
    },
    {
     "name": "stderr",
     "output_type": "stream",
     "text": [
      "\r",
      " 24%|███████████████████▋                                                             | 73/300 [02:07<06:24,  1.70s/it]"
     ]
    },
    {
     "name": "stdout",
     "output_type": "stream",
     "text": [
      "Epoch 073: | Train Loss: 0.84228 | Val Loss: 1.08534 | Train Acc: 51.521| Val Acc: 48.148\n"
     ]
    },
    {
     "name": "stderr",
     "output_type": "stream",
     "text": [
      "\r",
      " 25%|███████████████████▉                                                             | 74/300 [02:08<06:22,  1.69s/it]"
     ]
    },
    {
     "name": "stdout",
     "output_type": "stream",
     "text": [
      "Epoch 074: | Train Loss: 0.84490 | Val Loss: 1.09268 | Train Acc: 47.529| Val Acc: 47.673\n"
     ]
    },
    {
     "name": "stderr",
     "output_type": "stream",
     "text": [
      "\r",
      " 25%|████████████████████▎                                                            | 75/300 [02:10<06:19,  1.69s/it]"
     ]
    },
    {
     "name": "stdout",
     "output_type": "stream",
     "text": [
      "Epoch 075: | Train Loss: 0.84040 | Val Loss: 1.07721 | Train Acc: 49.620| Val Acc: 47.768\n"
     ]
    },
    {
     "name": "stderr",
     "output_type": "stream",
     "text": [
      "\r",
      " 25%|████████████████████▌                                                            | 76/300 [02:12<06:17,  1.68s/it]"
     ]
    },
    {
     "name": "stdout",
     "output_type": "stream",
     "text": [
      "Epoch 076: | Train Loss: 0.84162 | Val Loss: 1.09222 | Train Acc: 50.760| Val Acc: 46.819\n"
     ]
    },
    {
     "name": "stderr",
     "output_type": "stream",
     "text": [
      "\r",
      " 26%|████████████████████▊                                                            | 77/300 [02:13<06:18,  1.70s/it]"
     ]
    },
    {
     "name": "stdout",
     "output_type": "stream",
     "text": [
      "Epoch 077: | Train Loss: 0.83573 | Val Loss: 1.08684 | Train Acc: 51.901| Val Acc: 48.433\n"
     ]
    },
    {
     "name": "stderr",
     "output_type": "stream",
     "text": [
      "\r",
      " 26%|█████████████████████                                                            | 78/300 [02:15<06:17,  1.70s/it]"
     ]
    },
    {
     "name": "stdout",
     "output_type": "stream",
     "text": [
      "Epoch 078: | Train Loss: 0.84420 | Val Loss: 1.10257 | Train Acc: 51.901| Val Acc: 47.198\n"
     ]
    },
    {
     "name": "stderr",
     "output_type": "stream",
     "text": [
      "\r",
      " 26%|█████████████████████▎                                                           | 79/300 [02:17<06:14,  1.69s/it]"
     ]
    },
    {
     "name": "stdout",
     "output_type": "stream",
     "text": [
      "Epoch 079: | Train Loss: 0.84539 | Val Loss: 1.08025 | Train Acc: 46.578| Val Acc: 47.293\n"
     ]
    },
    {
     "name": "stderr",
     "output_type": "stream",
     "text": [
      "\r",
      " 27%|█████████████████████▌                                                           | 80/300 [02:18<06:14,  1.70s/it]"
     ]
    },
    {
     "name": "stdout",
     "output_type": "stream",
     "text": [
      "Epoch 080: | Train Loss: 0.84839 | Val Loss: 1.07909 | Train Acc: 48.669| Val Acc: 47.009\n"
     ]
    },
    {
     "name": "stderr",
     "output_type": "stream",
     "text": [
      "\r",
      " 27%|█████████████████████▊                                                           | 81/300 [02:20<06:12,  1.70s/it]"
     ]
    },
    {
     "name": "stdout",
     "output_type": "stream",
     "text": [
      "Epoch 081: | Train Loss: 0.84386 | Val Loss: 1.08071 | Train Acc: 50.951| Val Acc: 47.673\n"
     ]
    },
    {
     "name": "stderr",
     "output_type": "stream",
     "text": [
      "\r",
      " 27%|██████████████████████▏                                                          | 82/300 [02:22<06:09,  1.69s/it]"
     ]
    },
    {
     "name": "stdout",
     "output_type": "stream",
     "text": [
      "Epoch 082: | Train Loss: 0.81394 | Val Loss: 1.08621 | Train Acc: 51.711| Val Acc: 48.053\n"
     ]
    },
    {
     "name": "stderr",
     "output_type": "stream",
     "text": [
      "\r",
      " 28%|██████████████████████▍                                                          | 83/300 [02:24<06:08,  1.70s/it]"
     ]
    },
    {
     "name": "stdout",
     "output_type": "stream",
     "text": [
      "Epoch 083: | Train Loss: 0.84326 | Val Loss: 1.07091 | Train Acc: 50.190| Val Acc: 48.148\n"
     ]
    },
    {
     "name": "stderr",
     "output_type": "stream",
     "text": [
      "\r",
      " 28%|██████████████████████▋                                                          | 84/300 [02:25<06:09,  1.71s/it]"
     ]
    },
    {
     "name": "stdout",
     "output_type": "stream",
     "text": [
      "Epoch 084: | Train Loss: 0.85404 | Val Loss: 1.08467 | Train Acc: 48.669| Val Acc: 47.009\n"
     ]
    },
    {
     "name": "stderr",
     "output_type": "stream",
     "text": [
      "\r",
      " 28%|██████████████████████▉                                                          | 85/300 [02:27<06:05,  1.70s/it]"
     ]
    },
    {
     "name": "stdout",
     "output_type": "stream",
     "text": [
      "Epoch 085: | Train Loss: 0.84762 | Val Loss: 1.07814 | Train Acc: 48.289| Val Acc: 48.338\n"
     ]
    },
    {
     "name": "stderr",
     "output_type": "stream",
     "text": [
      "\r",
      " 29%|███████████████████████▏                                                         | 86/300 [02:29<06:02,  1.69s/it]"
     ]
    },
    {
     "name": "stdout",
     "output_type": "stream",
     "text": [
      "Epoch 086: | Train Loss: 0.85456 | Val Loss: 1.06981 | Train Acc: 47.529| Val Acc: 48.338\n"
     ]
    },
    {
     "name": "stderr",
     "output_type": "stream",
     "text": [
      "\r",
      " 29%|███████████████████████▍                                                         | 87/300 [02:30<06:00,  1.69s/it]"
     ]
    },
    {
     "name": "stdout",
     "output_type": "stream",
     "text": [
      "Epoch 087: | Train Loss: 0.84200 | Val Loss: 1.09950 | Train Acc: 51.141| Val Acc: 47.483\n"
     ]
    },
    {
     "name": "stderr",
     "output_type": "stream",
     "text": [
      "\r",
      " 29%|███████████████████████▊                                                         | 88/300 [02:32<06:03,  1.72s/it]"
     ]
    },
    {
     "name": "stdout",
     "output_type": "stream",
     "text": [
      "Epoch 088: | Train Loss: 0.83695 | Val Loss: 1.08834 | Train Acc: 53.422| Val Acc: 47.293\n"
     ]
    },
    {
     "name": "stderr",
     "output_type": "stream",
     "text": [
      "\r",
      " 30%|████████████████████████                                                         | 89/300 [02:34<06:02,  1.72s/it]"
     ]
    },
    {
     "name": "stdout",
     "output_type": "stream",
     "text": [
      "Epoch 089: | Train Loss: 0.83845 | Val Loss: 1.10618 | Train Acc: 48.099| Val Acc: 47.293\n"
     ]
    },
    {
     "name": "stderr",
     "output_type": "stream",
     "text": [
      "\r",
      " 30%|████████████████████████▎                                                        | 90/300 [02:36<06:00,  1.72s/it]"
     ]
    },
    {
     "name": "stdout",
     "output_type": "stream",
     "text": [
      "Epoch 090: | Train Loss: 0.84349 | Val Loss: 1.09627 | Train Acc: 49.810| Val Acc: 46.819\n"
     ]
    },
    {
     "name": "stderr",
     "output_type": "stream",
     "text": [
      "\r",
      " 30%|████████████████████████▌                                                        | 91/300 [02:37<05:58,  1.72s/it]"
     ]
    },
    {
     "name": "stdout",
     "output_type": "stream",
     "text": [
      "Epoch 091: | Train Loss: 0.84765 | Val Loss: 1.09276 | Train Acc: 51.141| Val Acc: 47.388\n"
     ]
    },
    {
     "name": "stderr",
     "output_type": "stream",
     "text": [
      "\r",
      " 31%|████████████████████████▊                                                        | 92/300 [02:39<06:02,  1.74s/it]"
     ]
    },
    {
     "name": "stdout",
     "output_type": "stream",
     "text": [
      "Epoch 092: | Train Loss: 0.83195 | Val Loss: 1.10380 | Train Acc: 53.042| Val Acc: 47.768\n"
     ]
    },
    {
     "name": "stderr",
     "output_type": "stream",
     "text": [
      "\r",
      " 31%|█████████████████████████                                                        | 93/300 [02:41<06:02,  1.75s/it]"
     ]
    },
    {
     "name": "stdout",
     "output_type": "stream",
     "text": [
      "Epoch 093: | Train Loss: 0.83538 | Val Loss: 1.08787 | Train Acc: 50.570| Val Acc: 47.863\n"
     ]
    },
    {
     "name": "stderr",
     "output_type": "stream",
     "text": [
      "\r",
      " 31%|█████████████████████████▍                                                       | 94/300 [02:43<06:07,  1.78s/it]"
     ]
    },
    {
     "name": "stdout",
     "output_type": "stream",
     "text": [
      "Epoch 094: | Train Loss: 0.81719 | Val Loss: 1.11400 | Train Acc: 51.141| Val Acc: 47.293\n"
     ]
    },
    {
     "name": "stderr",
     "output_type": "stream",
     "text": [
      "\r",
      " 32%|█████████████████████████▋                                                       | 95/300 [02:45<06:11,  1.81s/it]"
     ]
    },
    {
     "name": "stdout",
     "output_type": "stream",
     "text": [
      "Epoch 095: | Train Loss: 0.85849 | Val Loss: 1.08424 | Train Acc: 49.810| Val Acc: 47.293\n"
     ]
    },
    {
     "name": "stderr",
     "output_type": "stream",
     "text": [
      "\r",
      " 32%|█████████████████████████▉                                                       | 96/300 [02:46<06:03,  1.78s/it]"
     ]
    },
    {
     "name": "stdout",
     "output_type": "stream",
     "text": [
      "Epoch 096: | Train Loss: 0.82809 | Val Loss: 1.10513 | Train Acc: 54.373| Val Acc: 47.009\n"
     ]
    },
    {
     "name": "stderr",
     "output_type": "stream",
     "text": [
      "\r",
      " 32%|██████████████████████████▏                                                      | 97/300 [02:48<05:55,  1.75s/it]"
     ]
    },
    {
     "name": "stdout",
     "output_type": "stream",
     "text": [
      "Epoch 097: | Train Loss: 0.83295 | Val Loss: 1.10358 | Train Acc: 52.091| Val Acc: 47.388\n"
     ]
    },
    {
     "name": "stderr",
     "output_type": "stream",
     "text": [
      "\r",
      " 33%|██████████████████████████▍                                                      | 98/300 [02:50<05:51,  1.74s/it]"
     ]
    },
    {
     "name": "stdout",
     "output_type": "stream",
     "text": [
      "Epoch 098: | Train Loss: 0.84704 | Val Loss: 1.09477 | Train Acc: 50.570| Val Acc: 47.293\n"
     ]
    },
    {
     "name": "stderr",
     "output_type": "stream",
     "text": [
      "\r",
      " 33%|██████████████████████████▋                                                      | 99/300 [02:52<05:55,  1.77s/it]"
     ]
    },
    {
     "name": "stdout",
     "output_type": "stream",
     "text": [
      "Epoch 099: | Train Loss: 0.84434 | Val Loss: 1.06924 | Train Acc: 50.570| Val Acc: 47.293\n"
     ]
    },
    {
     "name": "stderr",
     "output_type": "stream",
     "text": [
      "\r",
      " 33%|██████████████████████████▋                                                     | 100/300 [02:53<05:55,  1.78s/it]"
     ]
    },
    {
     "name": "stdout",
     "output_type": "stream",
     "text": [
      "Epoch 100: | Train Loss: 0.83778 | Val Loss: 1.08375 | Train Acc: 53.232| Val Acc: 47.483\n"
     ]
    },
    {
     "name": "stderr",
     "output_type": "stream",
     "text": [
      "\r",
      " 34%|██████████████████████████▉                                                     | 101/300 [02:55<05:52,  1.77s/it]"
     ]
    },
    {
     "name": "stdout",
     "output_type": "stream",
     "text": [
      "Epoch 101: | Train Loss: 0.85904 | Val Loss: 1.08094 | Train Acc: 48.669| Val Acc: 48.053\n"
     ]
    },
    {
     "name": "stderr",
     "output_type": "stream",
     "text": [
      "\r",
      " 34%|███████████████████████████▏                                                    | 102/300 [02:57<05:50,  1.77s/it]"
     ]
    },
    {
     "name": "stdout",
     "output_type": "stream",
     "text": [
      "Epoch 102: | Train Loss: 0.84036 | Val Loss: 1.08524 | Train Acc: 50.951| Val Acc: 47.104\n"
     ]
    },
    {
     "name": "stderr",
     "output_type": "stream",
     "text": [
      "\r",
      " 34%|███████████████████████████▍                                                    | 103/300 [02:59<05:50,  1.78s/it]"
     ]
    },
    {
     "name": "stdout",
     "output_type": "stream",
     "text": [
      "Epoch 103: | Train Loss: 0.82477 | Val Loss: 1.08086 | Train Acc: 53.042| Val Acc: 46.534\n"
     ]
    },
    {
     "name": "stderr",
     "output_type": "stream",
     "text": [
      "\r",
      " 35%|███████████████████████████▋                                                    | 104/300 [03:00<05:51,  1.79s/it]"
     ]
    },
    {
     "name": "stdout",
     "output_type": "stream",
     "text": [
      "Epoch 104: | Train Loss: 0.82840 | Val Loss: 1.12558 | Train Acc: 52.281| Val Acc: 47.388\n"
     ]
    },
    {
     "name": "stderr",
     "output_type": "stream",
     "text": [
      "\r",
      " 35%|████████████████████████████                                                    | 105/300 [03:02<05:59,  1.84s/it]"
     ]
    },
    {
     "name": "stdout",
     "output_type": "stream",
     "text": [
      "Epoch 105: | Train Loss: 0.83905 | Val Loss: 1.12830 | Train Acc: 51.141| Val Acc: 46.819\n"
     ]
    },
    {
     "name": "stderr",
     "output_type": "stream",
     "text": [
      "\r",
      " 35%|████████████████████████████▎                                                   | 106/300 [03:04<05:50,  1.81s/it]"
     ]
    },
    {
     "name": "stdout",
     "output_type": "stream",
     "text": [
      "Epoch 106: | Train Loss: 0.83260 | Val Loss: 1.11399 | Train Acc: 52.852| Val Acc: 47.388\n"
     ]
    },
    {
     "name": "stderr",
     "output_type": "stream",
     "text": [
      "\r",
      " 36%|████████████████████████████▌                                                   | 107/300 [03:06<05:48,  1.81s/it]"
     ]
    },
    {
     "name": "stdout",
     "output_type": "stream",
     "text": [
      "Epoch 107: | Train Loss: 0.83662 | Val Loss: 1.10084 | Train Acc: 47.909| Val Acc: 46.724\n"
     ]
    },
    {
     "name": "stderr",
     "output_type": "stream",
     "text": [
      "\r",
      " 36%|████████████████████████████▊                                                   | 108/300 [03:08<05:49,  1.82s/it]"
     ]
    },
    {
     "name": "stdout",
     "output_type": "stream",
     "text": [
      "Epoch 108: | Train Loss: 0.83864 | Val Loss: 1.11444 | Train Acc: 49.810| Val Acc: 46.914\n"
     ]
    },
    {
     "name": "stderr",
     "output_type": "stream",
     "text": [
      "\r",
      " 36%|█████████████████████████████                                                   | 109/300 [03:10<05:41,  1.79s/it]"
     ]
    },
    {
     "name": "stdout",
     "output_type": "stream",
     "text": [
      "Epoch 109: | Train Loss: 0.84817 | Val Loss: 1.08491 | Train Acc: 50.380| Val Acc: 47.104\n"
     ]
    },
    {
     "name": "stderr",
     "output_type": "stream",
     "text": [
      "\r",
      " 37%|█████████████████████████████▎                                                  | 110/300 [03:11<05:34,  1.76s/it]"
     ]
    },
    {
     "name": "stdout",
     "output_type": "stream",
     "text": [
      "Epoch 110: | Train Loss: 0.83814 | Val Loss: 1.08933 | Train Acc: 49.430| Val Acc: 48.243\n"
     ]
    },
    {
     "name": "stderr",
     "output_type": "stream",
     "text": [
      "\r",
      " 37%|█████████████████████████████▌                                                  | 111/300 [03:13<05:29,  1.74s/it]"
     ]
    },
    {
     "name": "stdout",
     "output_type": "stream",
     "text": [
      "Epoch 111: | Train Loss: 0.85178 | Val Loss: 1.09484 | Train Acc: 50.190| Val Acc: 47.578\n"
     ]
    },
    {
     "name": "stderr",
     "output_type": "stream",
     "text": [
      "\r",
      " 37%|█████████████████████████████▊                                                  | 112/300 [03:15<05:24,  1.73s/it]"
     ]
    },
    {
     "name": "stdout",
     "output_type": "stream",
     "text": [
      "Epoch 112: | Train Loss: 0.83722 | Val Loss: 1.07807 | Train Acc: 50.190| Val Acc: 48.243\n"
     ]
    },
    {
     "name": "stderr",
     "output_type": "stream",
     "text": [
      "\r",
      " 38%|██████████████████████████████▏                                                 | 113/300 [03:16<05:24,  1.74s/it]"
     ]
    },
    {
     "name": "stdout",
     "output_type": "stream",
     "text": [
      "Epoch 113: | Train Loss: 0.85544 | Val Loss: 1.08511 | Train Acc: 49.049| Val Acc: 47.198\n"
     ]
    },
    {
     "name": "stderr",
     "output_type": "stream",
     "text": [
      "\r",
      " 38%|██████████████████████████████▍                                                 | 114/300 [03:18<05:25,  1.75s/it]"
     ]
    },
    {
     "name": "stdout",
     "output_type": "stream",
     "text": [
      "Epoch 114: | Train Loss: 0.84428 | Val Loss: 1.09543 | Train Acc: 49.240| Val Acc: 47.578\n"
     ]
    },
    {
     "name": "stderr",
     "output_type": "stream",
     "text": [
      "\r",
      " 38%|██████████████████████████████▋                                                 | 115/300 [03:20<05:24,  1.75s/it]"
     ]
    },
    {
     "name": "stdout",
     "output_type": "stream",
     "text": [
      "Epoch 115: | Train Loss: 0.84133 | Val Loss: 1.07500 | Train Acc: 52.091| Val Acc: 48.338\n"
     ]
    },
    {
     "name": "stderr",
     "output_type": "stream",
     "text": [
      "\r",
      " 39%|██████████████████████████████▉                                                 | 116/300 [03:22<05:22,  1.75s/it]"
     ]
    },
    {
     "name": "stdout",
     "output_type": "stream",
     "text": [
      "Epoch 116: | Train Loss: 0.83559 | Val Loss: 1.10502 | Train Acc: 53.612| Val Acc: 47.958\n"
     ]
    },
    {
     "name": "stderr",
     "output_type": "stream",
     "text": [
      "\r",
      " 39%|███████████████████████████████▏                                                | 117/300 [03:23<05:16,  1.73s/it]"
     ]
    },
    {
     "name": "stdout",
     "output_type": "stream",
     "text": [
      "Epoch 117: | Train Loss: 0.84268 | Val Loss: 1.07740 | Train Acc: 53.802| Val Acc: 47.863\n"
     ]
    },
    {
     "name": "stderr",
     "output_type": "stream",
     "text": [
      "\r",
      " 39%|███████████████████████████████▍                                                | 118/300 [03:25<05:14,  1.73s/it]"
     ]
    },
    {
     "name": "stdout",
     "output_type": "stream",
     "text": [
      "Epoch 118: | Train Loss: 0.83307 | Val Loss: 1.09408 | Train Acc: 50.951| Val Acc: 46.819\n"
     ]
    },
    {
     "name": "stderr",
     "output_type": "stream",
     "text": [
      "\r",
      " 40%|███████████████████████████████▋                                                | 119/300 [03:27<05:10,  1.72s/it]"
     ]
    },
    {
     "name": "stdout",
     "output_type": "stream",
     "text": [
      "Epoch 119: | Train Loss: 0.85394 | Val Loss: 1.06871 | Train Acc: 46.958| Val Acc: 47.958\n"
     ]
    },
    {
     "name": "stderr",
     "output_type": "stream",
     "text": [
      "\r",
      " 40%|████████████████████████████████                                                | 120/300 [03:28<05:09,  1.72s/it]"
     ]
    },
    {
     "name": "stdout",
     "output_type": "stream",
     "text": [
      "Epoch 120: | Train Loss: 0.82793 | Val Loss: 1.09246 | Train Acc: 54.183| Val Acc: 47.768\n"
     ]
    },
    {
     "name": "stderr",
     "output_type": "stream",
     "text": [
      "\r",
      " 40%|████████████████████████████████▎                                               | 121/300 [03:30<05:06,  1.71s/it]"
     ]
    },
    {
     "name": "stdout",
     "output_type": "stream",
     "text": [
      "Epoch 121: | Train Loss: 0.81782 | Val Loss: 1.13240 | Train Acc: 51.901| Val Acc: 47.483\n"
     ]
    },
    {
     "name": "stderr",
     "output_type": "stream",
     "text": [
      "\r",
      " 41%|████████████████████████████████▌                                               | 122/300 [03:32<05:02,  1.70s/it]"
     ]
    },
    {
     "name": "stdout",
     "output_type": "stream",
     "text": [
      "Epoch 122: | Train Loss: 0.83575 | Val Loss: 1.08636 | Train Acc: 50.570| Val Acc: 48.433\n"
     ]
    },
    {
     "name": "stderr",
     "output_type": "stream",
     "text": [
      "\r",
      " 41%|████████████████████████████████▊                                               | 123/300 [03:34<04:59,  1.69s/it]"
     ]
    },
    {
     "name": "stdout",
     "output_type": "stream",
     "text": [
      "Epoch 123: | Train Loss: 0.83748 | Val Loss: 1.09764 | Train Acc: 50.380| Val Acc: 47.293\n"
     ]
    },
    {
     "name": "stderr",
     "output_type": "stream",
     "text": [
      "\r",
      " 41%|█████████████████████████████████                                               | 124/300 [03:35<04:57,  1.69s/it]"
     ]
    },
    {
     "name": "stdout",
     "output_type": "stream",
     "text": [
      "Epoch 124: | Train Loss: 0.84367 | Val Loss: 1.08833 | Train Acc: 52.852| Val Acc: 48.148\n"
     ]
    },
    {
     "name": "stderr",
     "output_type": "stream",
     "text": [
      "\r",
      " 42%|█████████████████████████████████▎                                              | 125/300 [03:37<04:55,  1.69s/it]"
     ]
    },
    {
     "name": "stdout",
     "output_type": "stream",
     "text": [
      "Epoch 125: | Train Loss: 0.83633 | Val Loss: 1.08430 | Train Acc: 55.133| Val Acc: 48.528\n"
     ]
    },
    {
     "name": "stderr",
     "output_type": "stream",
     "text": [
      "\r",
      " 42%|█████████████████████████████████▌                                              | 126/300 [03:39<04:53,  1.69s/it]"
     ]
    },
    {
     "name": "stdout",
     "output_type": "stream",
     "text": [
      "Epoch 126: | Train Loss: 0.83540 | Val Loss: 1.08907 | Train Acc: 52.471| Val Acc: 47.293\n"
     ]
    },
    {
     "name": "stderr",
     "output_type": "stream",
     "text": [
      "\r",
      " 42%|█████████████████████████████████▊                                              | 127/300 [03:40<04:53,  1.70s/it]"
     ]
    },
    {
     "name": "stdout",
     "output_type": "stream",
     "text": [
      "Epoch 127: | Train Loss: 0.83906 | Val Loss: 1.10032 | Train Acc: 50.760| Val Acc: 47.483\n"
     ]
    },
    {
     "name": "stderr",
     "output_type": "stream",
     "text": [
      "\r",
      " 43%|██████████████████████████████████▏                                             | 128/300 [03:42<04:53,  1.71s/it]"
     ]
    },
    {
     "name": "stdout",
     "output_type": "stream",
     "text": [
      "Epoch 128: | Train Loss: 0.83544 | Val Loss: 1.06420 | Train Acc: 51.901| Val Acc: 48.243\n"
     ]
    },
    {
     "name": "stderr",
     "output_type": "stream",
     "text": [
      "\r",
      " 43%|██████████████████████████████████▍                                             | 129/300 [03:44<04:54,  1.72s/it]"
     ]
    },
    {
     "name": "stdout",
     "output_type": "stream",
     "text": [
      "Epoch 129: | Train Loss: 0.83605 | Val Loss: 1.09768 | Train Acc: 52.662| Val Acc: 46.534\n"
     ]
    },
    {
     "name": "stderr",
     "output_type": "stream",
     "text": [
      "\r",
      " 43%|██████████████████████████████████▋                                             | 130/300 [03:45<04:52,  1.72s/it]"
     ]
    },
    {
     "name": "stdout",
     "output_type": "stream",
     "text": [
      "Epoch 130: | Train Loss: 0.84155 | Val Loss: 1.06803 | Train Acc: 54.943| Val Acc: 48.813\n"
     ]
    },
    {
     "name": "stderr",
     "output_type": "stream",
     "text": [
      "\r",
      " 44%|██████████████████████████████████▉                                             | 131/300 [03:47<04:50,  1.72s/it]"
     ]
    },
    {
     "name": "stdout",
     "output_type": "stream",
     "text": [
      "Epoch 131: | Train Loss: 0.83428 | Val Loss: 1.08507 | Train Acc: 52.091| Val Acc: 47.673\n"
     ]
    },
    {
     "name": "stderr",
     "output_type": "stream",
     "text": [
      "\r",
      " 44%|███████████████████████████████████▏                                            | 132/300 [03:49<04:47,  1.71s/it]"
     ]
    },
    {
     "name": "stdout",
     "output_type": "stream",
     "text": [
      "Epoch 132: | Train Loss: 0.83347 | Val Loss: 1.08161 | Train Acc: 51.711| Val Acc: 47.578\n"
     ]
    },
    {
     "name": "stderr",
     "output_type": "stream",
     "text": [
      "\r",
      " 44%|███████████████████████████████████▍                                            | 133/300 [03:51<04:49,  1.73s/it]"
     ]
    },
    {
     "name": "stdout",
     "output_type": "stream",
     "text": [
      "Epoch 133: | Train Loss: 0.84285 | Val Loss: 1.10678 | Train Acc: 52.091| Val Acc: 47.673\n"
     ]
    },
    {
     "name": "stderr",
     "output_type": "stream",
     "text": [
      "\r",
      " 45%|███████████████████████████████████▋                                            | 134/300 [03:52<04:50,  1.75s/it]"
     ]
    },
    {
     "name": "stdout",
     "output_type": "stream",
     "text": [
      "Epoch 134: | Train Loss: 0.85207 | Val Loss: 1.06116 | Train Acc: 50.380| Val Acc: 48.338\n"
     ]
    },
    {
     "name": "stderr",
     "output_type": "stream",
     "text": [
      "\r",
      " 45%|████████████████████████████████████                                            | 135/300 [03:54<04:49,  1.76s/it]"
     ]
    },
    {
     "name": "stdout",
     "output_type": "stream",
     "text": [
      "Epoch 135: | Train Loss: 0.83358 | Val Loss: 1.11244 | Train Acc: 53.232| Val Acc: 46.819\n"
     ]
    },
    {
     "name": "stderr",
     "output_type": "stream",
     "text": [
      "\r",
      " 45%|████████████████████████████████████▎                                           | 136/300 [03:56<04:51,  1.78s/it]"
     ]
    },
    {
     "name": "stdout",
     "output_type": "stream",
     "text": [
      "Epoch 136: | Train Loss: 0.83959 | Val Loss: 1.08208 | Train Acc: 49.240| Val Acc: 49.003\n"
     ]
    },
    {
     "name": "stderr",
     "output_type": "stream",
     "text": [
      "\r",
      " 46%|████████████████████████████████████▌                                           | 137/300 [03:58<04:49,  1.78s/it]"
     ]
    },
    {
     "name": "stdout",
     "output_type": "stream",
     "text": [
      "Epoch 137: | Train Loss: 0.82868 | Val Loss: 1.10085 | Train Acc: 51.901| Val Acc: 47.863\n"
     ]
    },
    {
     "name": "stderr",
     "output_type": "stream",
     "text": [
      "\r",
      " 46%|████████████████████████████████████▊                                           | 138/300 [04:00<04:45,  1.76s/it]"
     ]
    },
    {
     "name": "stdout",
     "output_type": "stream",
     "text": [
      "Epoch 138: | Train Loss: 0.84500 | Val Loss: 1.07902 | Train Acc: 52.091| Val Acc: 48.433\n"
     ]
    },
    {
     "name": "stderr",
     "output_type": "stream",
     "text": [
      "\r",
      " 46%|█████████████████████████████████████                                           | 139/300 [04:01<04:43,  1.76s/it]"
     ]
    },
    {
     "name": "stdout",
     "output_type": "stream",
     "text": [
      "Epoch 139: | Train Loss: 0.84189 | Val Loss: 1.11808 | Train Acc: 50.000| Val Acc: 47.104\n"
     ]
    },
    {
     "name": "stderr",
     "output_type": "stream",
     "text": [
      "\r",
      " 47%|█████████████████████████████████████▎                                          | 140/300 [04:03<04:38,  1.74s/it]"
     ]
    },
    {
     "name": "stdout",
     "output_type": "stream",
     "text": [
      "Epoch 140: | Train Loss: 0.83759 | Val Loss: 1.08487 | Train Acc: 50.951| Val Acc: 48.718\n"
     ]
    },
    {
     "name": "stderr",
     "output_type": "stream",
     "text": [
      "\r",
      " 47%|█████████████████████████████████████▌                                          | 141/300 [04:05<04:34,  1.73s/it]"
     ]
    },
    {
     "name": "stdout",
     "output_type": "stream",
     "text": [
      "Epoch 141: | Train Loss: 0.83264 | Val Loss: 1.09796 | Train Acc: 55.894| Val Acc: 47.388\n"
     ]
    },
    {
     "name": "stderr",
     "output_type": "stream",
     "text": [
      "\r",
      " 47%|█████████████████████████████████████▊                                          | 142/300 [04:06<04:32,  1.72s/it]"
     ]
    },
    {
     "name": "stdout",
     "output_type": "stream",
     "text": [
      "Epoch 142: | Train Loss: 0.84325 | Val Loss: 1.08219 | Train Acc: 50.951| Val Acc: 48.338\n"
     ]
    },
    {
     "name": "stderr",
     "output_type": "stream",
     "text": [
      "\r",
      " 48%|██████████████████████████████████████▏                                         | 143/300 [04:08<04:28,  1.71s/it]"
     ]
    },
    {
     "name": "stdout",
     "output_type": "stream",
     "text": [
      "Epoch 143: | Train Loss: 0.83475 | Val Loss: 1.07267 | Train Acc: 52.852| Val Acc: 49.383\n"
     ]
    },
    {
     "name": "stderr",
     "output_type": "stream",
     "text": [
      "\r",
      " 48%|██████████████████████████████████████▍                                         | 144/300 [04:10<04:31,  1.74s/it]"
     ]
    },
    {
     "name": "stdout",
     "output_type": "stream",
     "text": [
      "Epoch 144: | Train Loss: 0.85010 | Val Loss: 1.10451 | Train Acc: 50.951| Val Acc: 47.104\n"
     ]
    },
    {
     "name": "stderr",
     "output_type": "stream",
     "text": [
      "\r",
      " 48%|██████████████████████████████████████▋                                         | 145/300 [04:12<04:35,  1.78s/it]"
     ]
    },
    {
     "name": "stdout",
     "output_type": "stream",
     "text": [
      "Epoch 145: | Train Loss: 0.81869 | Val Loss: 1.11489 | Train Acc: 54.943| Val Acc: 47.198\n"
     ]
    },
    {
     "name": "stderr",
     "output_type": "stream",
     "text": [
      "\r",
      " 49%|██████████████████████████████████████▉                                         | 146/300 [04:14<04:39,  1.81s/it]"
     ]
    },
    {
     "name": "stdout",
     "output_type": "stream",
     "text": [
      "Epoch 146: | Train Loss: 0.81959 | Val Loss: 1.08952 | Train Acc: 52.281| Val Acc: 47.388\n"
     ]
    },
    {
     "name": "stderr",
     "output_type": "stream",
     "text": [
      "\r",
      " 49%|███████████████████████████████████████▏                                        | 147/300 [04:16<04:37,  1.81s/it]"
     ]
    },
    {
     "name": "stdout",
     "output_type": "stream",
     "text": [
      "Epoch 147: | Train Loss: 0.84473 | Val Loss: 1.07494 | Train Acc: 51.331| Val Acc: 49.383\n"
     ]
    },
    {
     "name": "stderr",
     "output_type": "stream",
     "text": [
      "\r",
      " 49%|███████████████████████████████████████▍                                        | 148/300 [04:17<04:31,  1.78s/it]"
     ]
    },
    {
     "name": "stdout",
     "output_type": "stream",
     "text": [
      "Epoch 148: | Train Loss: 0.82578 | Val Loss: 1.08653 | Train Acc: 53.042| Val Acc: 47.293\n"
     ]
    },
    {
     "name": "stderr",
     "output_type": "stream",
     "text": [
      "\r",
      " 50%|███████████████████████████████████████▋                                        | 149/300 [04:19<04:28,  1.78s/it]"
     ]
    },
    {
     "name": "stdout",
     "output_type": "stream",
     "text": [
      "Epoch 149: | Train Loss: 0.83384 | Val Loss: 1.09049 | Train Acc: 49.810| Val Acc: 47.578\n"
     ]
    },
    {
     "name": "stderr",
     "output_type": "stream",
     "text": [
      "\r",
      " 50%|████████████████████████████████████████                                        | 150/300 [04:21<04:22,  1.75s/it]"
     ]
    },
    {
     "name": "stdout",
     "output_type": "stream",
     "text": [
      "Epoch 150: | Train Loss: 0.82710 | Val Loss: 1.11358 | Train Acc: 52.091| Val Acc: 47.104\n"
     ]
    },
    {
     "name": "stderr",
     "output_type": "stream",
     "text": [
      "\r",
      " 50%|████████████████████████████████████████▎                                       | 151/300 [04:22<04:19,  1.74s/it]"
     ]
    },
    {
     "name": "stdout",
     "output_type": "stream",
     "text": [
      "Epoch 151: | Train Loss: 0.84004 | Val Loss: 1.11972 | Train Acc: 52.662| Val Acc: 47.958\n"
     ]
    },
    {
     "name": "stderr",
     "output_type": "stream",
     "text": [
      "\r",
      " 51%|████████████████████████████████████████▌                                       | 152/300 [04:24<04:17,  1.74s/it]"
     ]
    },
    {
     "name": "stdout",
     "output_type": "stream",
     "text": [
      "Epoch 152: | Train Loss: 0.83907 | Val Loss: 1.10463 | Train Acc: 52.662| Val Acc: 47.293\n"
     ]
    },
    {
     "name": "stderr",
     "output_type": "stream",
     "text": [
      "\r",
      " 51%|████████████████████████████████████████▊                                       | 153/300 [04:26<04:16,  1.74s/it]"
     ]
    },
    {
     "name": "stdout",
     "output_type": "stream",
     "text": [
      "Epoch 153: | Train Loss: 0.83059 | Val Loss: 1.10399 | Train Acc: 50.951| Val Acc: 47.578\n"
     ]
    },
    {
     "name": "stderr",
     "output_type": "stream",
     "text": [
      "\r",
      " 51%|█████████████████████████████████████████                                       | 154/300 [04:28<04:14,  1.75s/it]"
     ]
    },
    {
     "name": "stdout",
     "output_type": "stream",
     "text": [
      "Epoch 154: | Train Loss: 0.82832 | Val Loss: 1.12970 | Train Acc: 53.612| Val Acc: 46.819\n"
     ]
    },
    {
     "name": "stderr",
     "output_type": "stream",
     "text": [
      "\r",
      " 52%|█████████████████████████████████████████▎                                      | 155/300 [04:29<04:13,  1.75s/it]"
     ]
    },
    {
     "name": "stdout",
     "output_type": "stream",
     "text": [
      "Epoch 155: | Train Loss: 0.83596 | Val Loss: 1.09817 | Train Acc: 52.091| Val Acc: 47.673\n"
     ]
    },
    {
     "name": "stderr",
     "output_type": "stream",
     "text": [
      "\r",
      " 52%|█████████████████████████████████████████▌                                      | 156/300 [04:31<04:09,  1.73s/it]"
     ]
    },
    {
     "name": "stdout",
     "output_type": "stream",
     "text": [
      "Epoch 156: | Train Loss: 0.82741 | Val Loss: 1.10060 | Train Acc: 55.133| Val Acc: 47.578\n"
     ]
    },
    {
     "name": "stderr",
     "output_type": "stream",
     "text": [
      "\r",
      " 52%|█████████████████████████████████████████▊                                      | 157/300 [04:33<04:07,  1.73s/it]"
     ]
    },
    {
     "name": "stdout",
     "output_type": "stream",
     "text": [
      "Epoch 157: | Train Loss: 0.83925 | Val Loss: 1.07848 | Train Acc: 53.802| Val Acc: 48.623\n"
     ]
    },
    {
     "name": "stderr",
     "output_type": "stream",
     "text": [
      "\r",
      " 53%|██████████████████████████████████████████▏                                     | 158/300 [04:35<04:06,  1.74s/it]"
     ]
    },
    {
     "name": "stdout",
     "output_type": "stream",
     "text": [
      "Epoch 158: | Train Loss: 0.84286 | Val Loss: 1.06568 | Train Acc: 49.049| Val Acc: 49.383\n"
     ]
    },
    {
     "name": "stderr",
     "output_type": "stream",
     "text": [
      "\r",
      " 53%|██████████████████████████████████████████▍                                     | 159/300 [04:36<04:07,  1.75s/it]"
     ]
    },
    {
     "name": "stdout",
     "output_type": "stream",
     "text": [
      "Epoch 159: | Train Loss: 0.83795 | Val Loss: 1.09283 | Train Acc: 53.802| Val Acc: 48.433\n"
     ]
    },
    {
     "name": "stderr",
     "output_type": "stream",
     "text": [
      "\r",
      " 53%|██████████████████████████████████████████▋                                     | 160/300 [04:38<04:07,  1.77s/it]"
     ]
    },
    {
     "name": "stdout",
     "output_type": "stream",
     "text": [
      "Epoch 160: | Train Loss: 0.83379 | Val Loss: 1.08762 | Train Acc: 53.232| Val Acc: 48.338\n"
     ]
    },
    {
     "name": "stderr",
     "output_type": "stream",
     "text": [
      "\r",
      " 54%|██████████████████████████████████████████▉                                     | 161/300 [04:40<04:05,  1.77s/it]"
     ]
    },
    {
     "name": "stdout",
     "output_type": "stream",
     "text": [
      "Epoch 161: | Train Loss: 0.83429 | Val Loss: 1.09844 | Train Acc: 51.141| Val Acc: 48.338\n"
     ]
    },
    {
     "name": "stderr",
     "output_type": "stream",
     "text": [
      "\r",
      " 54%|███████████████████████████████████████████▏                                    | 162/300 [04:42<04:06,  1.79s/it]"
     ]
    },
    {
     "name": "stdout",
     "output_type": "stream",
     "text": [
      "Epoch 162: | Train Loss: 0.84071 | Val Loss: 1.08346 | Train Acc: 50.570| Val Acc: 48.148\n"
     ]
    },
    {
     "name": "stderr",
     "output_type": "stream",
     "text": [
      "\r",
      " 54%|███████████████████████████████████████████▍                                    | 163/300 [04:44<04:05,  1.79s/it]"
     ]
    },
    {
     "name": "stdout",
     "output_type": "stream",
     "text": [
      "Epoch 163: | Train Loss: 0.81316 | Val Loss: 1.10734 | Train Acc: 57.414| Val Acc: 47.483\n"
     ]
    },
    {
     "name": "stderr",
     "output_type": "stream",
     "text": [
      "\r",
      " 55%|███████████████████████████████████████████▋                                    | 164/300 [04:45<03:59,  1.76s/it]"
     ]
    },
    {
     "name": "stdout",
     "output_type": "stream",
     "text": [
      "Epoch 164: | Train Loss: 0.83633 | Val Loss: 1.10805 | Train Acc: 50.760| Val Acc: 47.293\n"
     ]
    },
    {
     "name": "stderr",
     "output_type": "stream",
     "text": [
      "\r",
      " 55%|████████████████████████████████████████████                                    | 165/300 [04:47<03:54,  1.74s/it]"
     ]
    },
    {
     "name": "stdout",
     "output_type": "stream",
     "text": [
      "Epoch 165: | Train Loss: 0.82300 | Val Loss: 1.08341 | Train Acc: 53.612| Val Acc: 47.198\n"
     ]
    },
    {
     "name": "stderr",
     "output_type": "stream",
     "text": [
      "\r",
      " 55%|████████████████████████████████████████████▎                                   | 166/300 [04:49<03:52,  1.73s/it]"
     ]
    },
    {
     "name": "stdout",
     "output_type": "stream",
     "text": [
      "Epoch 166: | Train Loss: 0.82632 | Val Loss: 1.08676 | Train Acc: 54.753| Val Acc: 47.863\n"
     ]
    },
    {
     "name": "stderr",
     "output_type": "stream",
     "text": [
      "\r",
      " 56%|████████████████████████████████████████████▌                                   | 167/300 [04:50<03:49,  1.73s/it]"
     ]
    },
    {
     "name": "stdout",
     "output_type": "stream",
     "text": [
      "Epoch 167: | Train Loss: 0.81860 | Val Loss: 1.12380 | Train Acc: 54.943| Val Acc: 47.104\n"
     ]
    },
    {
     "name": "stderr",
     "output_type": "stream",
     "text": [
      "\r",
      " 56%|████████████████████████████████████████████▊                                   | 168/300 [04:52<03:50,  1.74s/it]"
     ]
    },
    {
     "name": "stdout",
     "output_type": "stream",
     "text": [
      "Epoch 168: | Train Loss: 0.82951 | Val Loss: 1.08185 | Train Acc: 55.133| Val Acc: 47.578\n"
     ]
    },
    {
     "name": "stderr",
     "output_type": "stream",
     "text": [
      "\r",
      " 56%|█████████████████████████████████████████████                                   | 169/300 [04:54<03:50,  1.76s/it]"
     ]
    },
    {
     "name": "stdout",
     "output_type": "stream",
     "text": [
      "Epoch 169: | Train Loss: 0.83417 | Val Loss: 1.11157 | Train Acc: 49.810| Val Acc: 48.053\n"
     ]
    },
    {
     "name": "stderr",
     "output_type": "stream",
     "text": [
      "\r",
      " 57%|█████████████████████████████████████████████▎                                  | 170/300 [04:56<03:48,  1.76s/it]"
     ]
    },
    {
     "name": "stdout",
     "output_type": "stream",
     "text": [
      "Epoch 170: | Train Loss: 0.83326 | Val Loss: 1.12255 | Train Acc: 54.943| Val Acc: 47.673\n"
     ]
    },
    {
     "name": "stderr",
     "output_type": "stream",
     "text": [
      "\r",
      " 57%|█████████████████████████████████████████████▌                                  | 171/300 [04:58<03:50,  1.79s/it]"
     ]
    },
    {
     "name": "stdout",
     "output_type": "stream",
     "text": [
      "Epoch 171: | Train Loss: 0.83667 | Val Loss: 1.08470 | Train Acc: 53.042| Val Acc: 47.958\n"
     ]
    },
    {
     "name": "stderr",
     "output_type": "stream",
     "text": [
      "\r",
      " 57%|█████████████████████████████████████████████▊                                  | 172/300 [04:59<03:48,  1.79s/it]"
     ]
    },
    {
     "name": "stdout",
     "output_type": "stream",
     "text": [
      "Epoch 172: | Train Loss: 0.83868 | Val Loss: 1.09951 | Train Acc: 51.331| Val Acc: 48.053\n"
     ]
    },
    {
     "name": "stderr",
     "output_type": "stream",
     "text": [
      "\r",
      " 58%|██████████████████████████████████████████████▏                                 | 173/300 [05:01<03:46,  1.78s/it]"
     ]
    },
    {
     "name": "stdout",
     "output_type": "stream",
     "text": [
      "Epoch 173: | Train Loss: 0.83520 | Val Loss: 1.10948 | Train Acc: 52.281| Val Acc: 47.198\n"
     ]
    },
    {
     "name": "stderr",
     "output_type": "stream",
     "text": [
      "\r",
      " 58%|██████████████████████████████████████████████▍                                 | 174/300 [05:03<03:47,  1.80s/it]"
     ]
    },
    {
     "name": "stdout",
     "output_type": "stream",
     "text": [
      "Epoch 174: | Train Loss: 0.84773 | Val Loss: 1.08786 | Train Acc: 52.852| Val Acc: 49.098\n"
     ]
    },
    {
     "name": "stderr",
     "output_type": "stream",
     "text": [
      "\r",
      " 58%|██████████████████████████████████████████████▋                                 | 175/300 [05:05<03:43,  1.79s/it]"
     ]
    },
    {
     "name": "stdout",
     "output_type": "stream",
     "text": [
      "Epoch 175: | Train Loss: 0.82255 | Val Loss: 1.13399 | Train Acc: 53.802| Val Acc: 47.104\n"
     ]
    },
    {
     "name": "stderr",
     "output_type": "stream",
     "text": [
      "\r",
      " 59%|██████████████████████████████████████████████▉                                 | 176/300 [05:06<03:39,  1.77s/it]"
     ]
    },
    {
     "name": "stdout",
     "output_type": "stream",
     "text": [
      "Epoch 176: | Train Loss: 0.82767 | Val Loss: 1.10329 | Train Acc: 53.802| Val Acc: 47.673\n"
     ]
    },
    {
     "name": "stderr",
     "output_type": "stream",
     "text": [
      "\r",
      " 59%|███████████████████████████████████████████████▏                                | 177/300 [05:08<03:39,  1.79s/it]"
     ]
    },
    {
     "name": "stdout",
     "output_type": "stream",
     "text": [
      "Epoch 177: | Train Loss: 0.84429 | Val Loss: 1.10268 | Train Acc: 51.141| Val Acc: 47.578\n"
     ]
    },
    {
     "name": "stderr",
     "output_type": "stream",
     "text": [
      "\r",
      " 59%|███████████████████████████████████████████████▍                                | 178/300 [05:10<03:40,  1.81s/it]"
     ]
    },
    {
     "name": "stdout",
     "output_type": "stream",
     "text": [
      "Epoch 178: | Train Loss: 0.84882 | Val Loss: 1.12823 | Train Acc: 54.373| Val Acc: 47.009\n"
     ]
    },
    {
     "name": "stderr",
     "output_type": "stream",
     "text": [
      "\r",
      " 60%|███████████████████████████████████████████████▋                                | 179/300 [05:12<03:40,  1.82s/it]"
     ]
    },
    {
     "name": "stdout",
     "output_type": "stream",
     "text": [
      "Epoch 179: | Train Loss: 0.83243 | Val Loss: 1.05696 | Train Acc: 54.563| Val Acc: 49.193\n"
     ]
    },
    {
     "name": "stderr",
     "output_type": "stream",
     "text": [
      "\r",
      " 60%|████████████████████████████████████████████████                                | 180/300 [05:14<03:38,  1.82s/it]"
     ]
    },
    {
     "name": "stdout",
     "output_type": "stream",
     "text": [
      "Epoch 180: | Train Loss: 0.84092 | Val Loss: 1.10992 | Train Acc: 53.042| Val Acc: 47.958\n"
     ]
    },
    {
     "name": "stderr",
     "output_type": "stream",
     "text": [
      "\r",
      " 60%|████████████████████████████████████████████████▎                               | 181/300 [05:16<03:34,  1.80s/it]"
     ]
    },
    {
     "name": "stdout",
     "output_type": "stream",
     "text": [
      "Epoch 181: | Train Loss: 0.82378 | Val Loss: 1.08920 | Train Acc: 56.274| Val Acc: 47.958\n"
     ]
    },
    {
     "name": "stderr",
     "output_type": "stream",
     "text": [
      "\r",
      " 61%|████████████████████████████████████████████████▌                               | 182/300 [05:17<03:31,  1.79s/it]"
     ]
    },
    {
     "name": "stdout",
     "output_type": "stream",
     "text": [
      "Epoch 182: | Train Loss: 0.83497 | Val Loss: 1.08735 | Train Acc: 52.091| Val Acc: 48.053\n"
     ]
    },
    {
     "name": "stderr",
     "output_type": "stream",
     "text": [
      "\r",
      " 61%|████████████████████████████████████████████████▊                               | 183/300 [05:19<03:29,  1.79s/it]"
     ]
    },
    {
     "name": "stdout",
     "output_type": "stream",
     "text": [
      "Epoch 183: | Train Loss: 0.83019 | Val Loss: 1.10878 | Train Acc: 52.471| Val Acc: 46.439\n"
     ]
    },
    {
     "name": "stderr",
     "output_type": "stream",
     "text": [
      "\r",
      " 61%|█████████████████████████████████████████████████                               | 184/300 [05:21<03:27,  1.79s/it]"
     ]
    },
    {
     "name": "stdout",
     "output_type": "stream",
     "text": [
      "Epoch 184: | Train Loss: 0.82872 | Val Loss: 1.11779 | Train Acc: 56.084| Val Acc: 47.293\n"
     ]
    },
    {
     "name": "stderr",
     "output_type": "stream",
     "text": [
      "\r",
      " 62%|█████████████████████████████████████████████████▎                              | 185/300 [05:23<03:22,  1.77s/it]"
     ]
    },
    {
     "name": "stdout",
     "output_type": "stream",
     "text": [
      "Epoch 185: | Train Loss: 0.83636 | Val Loss: 1.08825 | Train Acc: 53.612| Val Acc: 47.198\n"
     ]
    },
    {
     "name": "stderr",
     "output_type": "stream",
     "text": [
      "\r",
      " 62%|█████████████████████████████████████████████████▌                              | 186/300 [05:24<03:20,  1.76s/it]"
     ]
    },
    {
     "name": "stdout",
     "output_type": "stream",
     "text": [
      "Epoch 186: | Train Loss: 0.83975 | Val Loss: 1.11666 | Train Acc: 51.331| Val Acc: 47.483\n"
     ]
    },
    {
     "name": "stderr",
     "output_type": "stream",
     "text": [
      "\r",
      " 62%|█████████████████████████████████████████████████▊                              | 187/300 [05:26<03:19,  1.76s/it]"
     ]
    },
    {
     "name": "stdout",
     "output_type": "stream",
     "text": [
      "Epoch 187: | Train Loss: 0.82884 | Val Loss: 1.09102 | Train Acc: 52.471| Val Acc: 48.148\n"
     ]
    },
    {
     "name": "stderr",
     "output_type": "stream",
     "text": [
      "\r",
      " 63%|██████████████████████████████████████████████████▏                             | 188/300 [05:28<03:15,  1.75s/it]"
     ]
    },
    {
     "name": "stdout",
     "output_type": "stream",
     "text": [
      "Epoch 188: | Train Loss: 0.83425 | Val Loss: 1.11103 | Train Acc: 54.563| Val Acc: 48.053\n"
     ]
    },
    {
     "name": "stderr",
     "output_type": "stream",
     "text": [
      "\r",
      " 63%|██████████████████████████████████████████████████▍                             | 189/300 [05:30<03:14,  1.75s/it]"
     ]
    },
    {
     "name": "stdout",
     "output_type": "stream",
     "text": [
      "Epoch 189: | Train Loss: 0.82595 | Val Loss: 1.11318 | Train Acc: 54.753| Val Acc: 47.009\n"
     ]
    },
    {
     "name": "stderr",
     "output_type": "stream",
     "text": [
      "\r",
      " 63%|██████████████████████████████████████████████████▋                             | 190/300 [05:31<03:13,  1.76s/it]"
     ]
    },
    {
     "name": "stdout",
     "output_type": "stream",
     "text": [
      "Epoch 190: | Train Loss: 0.82382 | Val Loss: 1.14200 | Train Acc: 57.034| Val Acc: 47.198\n"
     ]
    },
    {
     "name": "stderr",
     "output_type": "stream",
     "text": [
      "\r",
      " 64%|██████████████████████████████████████████████████▉                             | 191/300 [05:33<03:11,  1.75s/it]"
     ]
    },
    {
     "name": "stdout",
     "output_type": "stream",
     "text": [
      "Epoch 191: | Train Loss: 0.82967 | Val Loss: 1.12576 | Train Acc: 53.802| Val Acc: 47.863\n"
     ]
    },
    {
     "name": "stderr",
     "output_type": "stream",
     "text": [
      "\r",
      " 64%|███████████████████████████████████████████████████▏                            | 192/300 [05:35<03:10,  1.76s/it]"
     ]
    },
    {
     "name": "stdout",
     "output_type": "stream",
     "text": [
      "Epoch 192: | Train Loss: 0.82716 | Val Loss: 1.08934 | Train Acc: 55.894| Val Acc: 48.718\n"
     ]
    },
    {
     "name": "stderr",
     "output_type": "stream",
     "text": [
      "\r",
      " 64%|███████████████████████████████████████████████████▍                            | 193/300 [05:37<03:09,  1.77s/it]"
     ]
    },
    {
     "name": "stdout",
     "output_type": "stream",
     "text": [
      "Epoch 193: | Train Loss: 0.82589 | Val Loss: 1.11164 | Train Acc: 51.901| Val Acc: 47.863\n"
     ]
    },
    {
     "name": "stderr",
     "output_type": "stream",
     "text": [
      "\r",
      " 65%|███████████████████████████████████████████████████▋                            | 194/300 [05:38<03:06,  1.76s/it]"
     ]
    },
    {
     "name": "stdout",
     "output_type": "stream",
     "text": [
      "Epoch 194: | Train Loss: 0.83836 | Val Loss: 1.08593 | Train Acc: 55.323| Val Acc: 47.009\n"
     ]
    },
    {
     "name": "stderr",
     "output_type": "stream",
     "text": [
      "\r",
      " 65%|████████████████████████████████████████████████████                            | 195/300 [05:40<03:04,  1.76s/it]"
     ]
    },
    {
     "name": "stdout",
     "output_type": "stream",
     "text": [
      "Epoch 195: | Train Loss: 0.83367 | Val Loss: 1.08673 | Train Acc: 51.141| Val Acc: 47.958\n"
     ]
    },
    {
     "name": "stderr",
     "output_type": "stream",
     "text": [
      "\r",
      " 65%|████████████████████████████████████████████████████▎                           | 196/300 [05:42<03:02,  1.75s/it]"
     ]
    },
    {
     "name": "stdout",
     "output_type": "stream",
     "text": [
      "Epoch 196: | Train Loss: 0.83854 | Val Loss: 1.11048 | Train Acc: 50.760| Val Acc: 46.914\n"
     ]
    },
    {
     "name": "stderr",
     "output_type": "stream",
     "text": [
      "\r",
      " 66%|████████████████████████████████████████████████████▌                           | 197/300 [05:44<03:00,  1.75s/it]"
     ]
    },
    {
     "name": "stdout",
     "output_type": "stream",
     "text": [
      "Epoch 197: | Train Loss: 0.83604 | Val Loss: 1.10913 | Train Acc: 53.612| Val Acc: 47.104\n"
     ]
    },
    {
     "name": "stderr",
     "output_type": "stream",
     "text": [
      "\r",
      " 66%|████████████████████████████████████████████████████▊                           | 198/300 [05:45<02:59,  1.76s/it]"
     ]
    },
    {
     "name": "stdout",
     "output_type": "stream",
     "text": [
      "Epoch 198: | Train Loss: 0.83857 | Val Loss: 1.10131 | Train Acc: 50.760| Val Acc: 47.578\n"
     ]
    },
    {
     "name": "stderr",
     "output_type": "stream",
     "text": [
      "\r",
      " 66%|█████████████████████████████████████████████████████                           | 199/300 [05:47<02:57,  1.76s/it]"
     ]
    },
    {
     "name": "stdout",
     "output_type": "stream",
     "text": [
      "Epoch 199: | Train Loss: 0.82525 | Val Loss: 1.08976 | Train Acc: 53.612| Val Acc: 47.198\n"
     ]
    },
    {
     "name": "stderr",
     "output_type": "stream",
     "text": [
      "\r",
      " 67%|█████████████████████████████████████████████████████▎                          | 200/300 [05:49<02:54,  1.75s/it]"
     ]
    },
    {
     "name": "stdout",
     "output_type": "stream",
     "text": [
      "Epoch 200: | Train Loss: 0.82703 | Val Loss: 1.08807 | Train Acc: 53.802| Val Acc: 47.958\n"
     ]
    },
    {
     "name": "stderr",
     "output_type": "stream",
     "text": [
      "\r",
      " 67%|█████████████████████████████████████████████████████▌                          | 201/300 [05:51<02:51,  1.74s/it]"
     ]
    },
    {
     "name": "stdout",
     "output_type": "stream",
     "text": [
      "Epoch 201: | Train Loss: 0.83056 | Val Loss: 1.11379 | Train Acc: 53.232| Val Acc: 47.104\n"
     ]
    },
    {
     "name": "stderr",
     "output_type": "stream",
     "text": [
      "\r",
      " 67%|█████████████████████████████████████████████████████▊                          | 202/300 [05:52<02:51,  1.75s/it]"
     ]
    },
    {
     "name": "stdout",
     "output_type": "stream",
     "text": [
      "Epoch 202: | Train Loss: 0.84342 | Val Loss: 1.10293 | Train Acc: 52.091| Val Acc: 46.914\n"
     ]
    },
    {
     "name": "stderr",
     "output_type": "stream",
     "text": [
      "\r",
      " 68%|██████████████████████████████████████████████████████▏                         | 203/300 [05:54<02:50,  1.76s/it]"
     ]
    },
    {
     "name": "stdout",
     "output_type": "stream",
     "text": [
      "Epoch 203: | Train Loss: 0.83565 | Val Loss: 1.09910 | Train Acc: 50.951| Val Acc: 47.293\n"
     ]
    },
    {
     "name": "stderr",
     "output_type": "stream",
     "text": [
      "\r",
      " 68%|██████████████████████████████████████████████████████▍                         | 204/300 [05:56<02:48,  1.76s/it]"
     ]
    },
    {
     "name": "stdout",
     "output_type": "stream",
     "text": [
      "Epoch 204: | Train Loss: 0.83239 | Val Loss: 1.08423 | Train Acc: 53.612| Val Acc: 49.193\n"
     ]
    },
    {
     "name": "stderr",
     "output_type": "stream",
     "text": [
      "\r",
      " 68%|██████████████████████████████████████████████████████▋                         | 205/300 [05:58<02:48,  1.77s/it]"
     ]
    },
    {
     "name": "stdout",
     "output_type": "stream",
     "text": [
      "Epoch 205: | Train Loss: 0.82206 | Val Loss: 1.12145 | Train Acc: 54.943| Val Acc: 48.338\n"
     ]
    },
    {
     "name": "stderr",
     "output_type": "stream",
     "text": [
      "\r",
      " 69%|██████████████████████████████████████████████████████▉                         | 206/300 [06:00<02:48,  1.79s/it]"
     ]
    },
    {
     "name": "stdout",
     "output_type": "stream",
     "text": [
      "Epoch 206: | Train Loss: 0.84017 | Val Loss: 1.08935 | Train Acc: 50.951| Val Acc: 47.863\n"
     ]
    },
    {
     "name": "stderr",
     "output_type": "stream",
     "text": [
      "\r",
      " 69%|███████████████████████████████████████████████████████▏                        | 207/300 [06:01<02:46,  1.79s/it]"
     ]
    },
    {
     "name": "stdout",
     "output_type": "stream",
     "text": [
      "Epoch 207: | Train Loss: 0.83932 | Val Loss: 1.08750 | Train Acc: 50.570| Val Acc: 49.573\n"
     ]
    },
    {
     "name": "stderr",
     "output_type": "stream",
     "text": [
      "\r",
      " 69%|███████████████████████████████████████████████████████▍                        | 208/300 [06:03<02:44,  1.78s/it]"
     ]
    },
    {
     "name": "stdout",
     "output_type": "stream",
     "text": [
      "Epoch 208: | Train Loss: 0.83063 | Val Loss: 1.10477 | Train Acc: 53.422| Val Acc: 47.863\n"
     ]
    },
    {
     "name": "stderr",
     "output_type": "stream",
     "text": [
      "\r",
      " 70%|███████████████████████████████████████████████████████▋                        | 209/300 [06:05<02:42,  1.78s/it]"
     ]
    },
    {
     "name": "stdout",
     "output_type": "stream",
     "text": [
      "Epoch 209: | Train Loss: 0.83119 | Val Loss: 1.09010 | Train Acc: 52.852| Val Acc: 45.204\n"
     ]
    },
    {
     "name": "stderr",
     "output_type": "stream",
     "text": [
      "\r",
      " 70%|████████████████████████████████████████████████████████                        | 210/300 [06:07<02:38,  1.76s/it]"
     ]
    },
    {
     "name": "stdout",
     "output_type": "stream",
     "text": [
      "Epoch 210: | Train Loss: 0.83113 | Val Loss: 1.08729 | Train Acc: 52.471| Val Acc: 49.573\n"
     ]
    },
    {
     "name": "stderr",
     "output_type": "stream",
     "text": [
      "\r",
      " 70%|████████████████████████████████████████████████████████▎                       | 211/300 [06:08<02:38,  1.78s/it]"
     ]
    },
    {
     "name": "stdout",
     "output_type": "stream",
     "text": [
      "Epoch 211: | Train Loss: 0.83704 | Val Loss: 1.08182 | Train Acc: 52.091| Val Acc: 47.198\n"
     ]
    },
    {
     "name": "stderr",
     "output_type": "stream",
     "text": [
      "\r",
      " 71%|████████████████████████████████████████████████████████▌                       | 212/300 [06:10<02:37,  1.79s/it]"
     ]
    },
    {
     "name": "stdout",
     "output_type": "stream",
     "text": [
      "Epoch 212: | Train Loss: 0.81538 | Val Loss: 1.11001 | Train Acc: 57.034| Val Acc: 48.243\n"
     ]
    },
    {
     "name": "stderr",
     "output_type": "stream",
     "text": [
      "\r",
      " 71%|████████████████████████████████████████████████████████▊                       | 213/300 [06:12<02:35,  1.78s/it]"
     ]
    },
    {
     "name": "stdout",
     "output_type": "stream",
     "text": [
      "Epoch 213: | Train Loss: 0.83976 | Val Loss: 1.08426 | Train Acc: 52.662| Val Acc: 49.098\n"
     ]
    },
    {
     "name": "stderr",
     "output_type": "stream",
     "text": [
      "\r",
      " 71%|█████████████████████████████████████████████████████████                       | 214/300 [06:14<02:33,  1.79s/it]"
     ]
    },
    {
     "name": "stdout",
     "output_type": "stream",
     "text": [
      "Epoch 214: | Train Loss: 0.82692 | Val Loss: 1.08384 | Train Acc: 53.042| Val Acc: 46.914\n"
     ]
    },
    {
     "name": "stderr",
     "output_type": "stream",
     "text": [
      "\r",
      " 72%|█████████████████████████████████████████████████████████▎                      | 215/300 [06:16<02:31,  1.78s/it]"
     ]
    },
    {
     "name": "stdout",
     "output_type": "stream",
     "text": [
      "Epoch 215: | Train Loss: 0.84969 | Val Loss: 1.08118 | Train Acc: 51.141| Val Acc: 46.724\n"
     ]
    },
    {
     "name": "stderr",
     "output_type": "stream",
     "text": [
      "\r",
      " 72%|█████████████████████████████████████████████████████████▌                      | 216/300 [06:17<02:29,  1.78s/it]"
     ]
    },
    {
     "name": "stdout",
     "output_type": "stream",
     "text": [
      "Epoch 216: | Train Loss: 0.83371 | Val Loss: 1.08316 | Train Acc: 53.992| Val Acc: 48.148\n"
     ]
    },
    {
     "name": "stderr",
     "output_type": "stream",
     "text": [
      "\r",
      " 72%|█████████████████████████████████████████████████████████▊                      | 217/300 [06:19<02:26,  1.77s/it]"
     ]
    },
    {
     "name": "stdout",
     "output_type": "stream",
     "text": [
      "Epoch 217: | Train Loss: 0.82547 | Val Loss: 1.10552 | Train Acc: 55.323| Val Acc: 47.673\n"
     ]
    },
    {
     "name": "stderr",
     "output_type": "stream",
     "text": [
      "\r",
      " 73%|██████████████████████████████████████████████████████████▏                     | 218/300 [06:21<02:24,  1.76s/it]"
     ]
    },
    {
     "name": "stdout",
     "output_type": "stream",
     "text": [
      "Epoch 218: | Train Loss: 0.81632 | Val Loss: 1.10369 | Train Acc: 53.992| Val Acc: 47.483\n"
     ]
    },
    {
     "name": "stderr",
     "output_type": "stream",
     "text": [
      "\r",
      " 73%|██████████████████████████████████████████████████████████▍                     | 219/300 [06:23<02:21,  1.75s/it]"
     ]
    },
    {
     "name": "stdout",
     "output_type": "stream",
     "text": [
      "Epoch 219: | Train Loss: 0.83594 | Val Loss: 1.07923 | Train Acc: 52.662| Val Acc: 48.433\n"
     ]
    },
    {
     "name": "stderr",
     "output_type": "stream",
     "text": [
      "\r",
      " 73%|██████████████████████████████████████████████████████████▋                     | 220/300 [06:24<02:18,  1.73s/it]"
     ]
    },
    {
     "name": "stdout",
     "output_type": "stream",
     "text": [
      "Epoch 220: | Train Loss: 0.83035 | Val Loss: 1.08374 | Train Acc: 55.513| Val Acc: 48.053\n"
     ]
    },
    {
     "name": "stderr",
     "output_type": "stream",
     "text": [
      "\r",
      " 74%|██████████████████████████████████████████████████████████▉                     | 221/300 [06:26<02:16,  1.73s/it]"
     ]
    },
    {
     "name": "stdout",
     "output_type": "stream",
     "text": [
      "Epoch 221: | Train Loss: 0.85183 | Val Loss: 1.09092 | Train Acc: 49.240| Val Acc: 46.059\n"
     ]
    },
    {
     "name": "stderr",
     "output_type": "stream",
     "text": [
      "\r",
      " 74%|███████████████████████████████████████████████████████████▏                    | 222/300 [06:28<02:16,  1.75s/it]"
     ]
    },
    {
     "name": "stdout",
     "output_type": "stream",
     "text": [
      "Epoch 222: | Train Loss: 0.83977 | Val Loss: 1.08599 | Train Acc: 52.281| Val Acc: 47.958\n"
     ]
    },
    {
     "name": "stderr",
     "output_type": "stream",
     "text": [
      "\r",
      " 74%|███████████████████████████████████████████████████████████▍                    | 223/300 [06:30<02:15,  1.76s/it]"
     ]
    },
    {
     "name": "stdout",
     "output_type": "stream",
     "text": [
      "Epoch 223: | Train Loss: 0.83128 | Val Loss: 1.08086 | Train Acc: 53.802| Val Acc: 48.528\n"
     ]
    },
    {
     "name": "stderr",
     "output_type": "stream",
     "text": [
      "\r",
      " 75%|███████████████████████████████████████████████████████████▋                    | 224/300 [06:31<02:14,  1.78s/it]"
     ]
    },
    {
     "name": "stdout",
     "output_type": "stream",
     "text": [
      "Epoch 224: | Train Loss: 0.84813 | Val Loss: 1.08903 | Train Acc: 49.810| Val Acc: 47.958\n"
     ]
    },
    {
     "name": "stderr",
     "output_type": "stream",
     "text": [
      "\r",
      " 75%|████████████████████████████████████████████████████████████                    | 225/300 [06:33<02:13,  1.77s/it]"
     ]
    },
    {
     "name": "stdout",
     "output_type": "stream",
     "text": [
      "Epoch 225: | Train Loss: 0.82170 | Val Loss: 1.13198 | Train Acc: 54.563| Val Acc: 47.578\n"
     ]
    },
    {
     "name": "stderr",
     "output_type": "stream",
     "text": [
      "\r",
      " 75%|████████████████████████████████████████████████████████████▎                   | 226/300 [06:35<02:11,  1.78s/it]"
     ]
    },
    {
     "name": "stdout",
     "output_type": "stream",
     "text": [
      "Epoch 226: | Train Loss: 0.83243 | Val Loss: 1.10817 | Train Acc: 50.570| Val Acc: 48.053\n"
     ]
    },
    {
     "name": "stderr",
     "output_type": "stream",
     "text": [
      "\r",
      " 76%|████████████████████████████████████████████████████████████▌                   | 227/300 [06:37<02:09,  1.77s/it]"
     ]
    },
    {
     "name": "stdout",
     "output_type": "stream",
     "text": [
      "Epoch 227: | Train Loss: 0.82287 | Val Loss: 1.11821 | Train Acc: 53.992| Val Acc: 48.053\n"
     ]
    },
    {
     "name": "stderr",
     "output_type": "stream",
     "text": [
      "\r",
      " 76%|████████████████████████████████████████████████████████████▊                   | 228/300 [06:39<02:07,  1.77s/it]"
     ]
    },
    {
     "name": "stdout",
     "output_type": "stream",
     "text": [
      "Epoch 228: | Train Loss: 0.83955 | Val Loss: 1.07175 | Train Acc: 50.000| Val Acc: 47.863\n"
     ]
    },
    {
     "name": "stderr",
     "output_type": "stream",
     "text": [
      "\r",
      " 76%|█████████████████████████████████████████████████████████████                   | 229/300 [06:40<02:05,  1.77s/it]"
     ]
    },
    {
     "name": "stdout",
     "output_type": "stream",
     "text": [
      "Epoch 229: | Train Loss: 0.83418 | Val Loss: 1.09834 | Train Acc: 53.042| Val Acc: 46.249\n"
     ]
    },
    {
     "name": "stderr",
     "output_type": "stream",
     "text": [
      "\r",
      " 77%|█████████████████████████████████████████████████████████████▎                  | 230/300 [06:42<02:04,  1.78s/it]"
     ]
    },
    {
     "name": "stdout",
     "output_type": "stream",
     "text": [
      "Epoch 230: | Train Loss: 0.83010 | Val Loss: 1.11290 | Train Acc: 53.802| Val Acc: 47.863\n"
     ]
    },
    {
     "name": "stderr",
     "output_type": "stream",
     "text": [
      "\r",
      " 77%|█████████████████████████████████████████████████████████████▌                  | 231/300 [06:44<02:02,  1.78s/it]"
     ]
    },
    {
     "name": "stdout",
     "output_type": "stream",
     "text": [
      "Epoch 231: | Train Loss: 0.81358 | Val Loss: 1.12652 | Train Acc: 58.175| Val Acc: 46.629\n"
     ]
    },
    {
     "name": "stderr",
     "output_type": "stream",
     "text": [
      "\r",
      " 77%|█████████████████████████████████████████████████████████████▊                  | 232/300 [06:46<02:00,  1.77s/it]"
     ]
    },
    {
     "name": "stdout",
     "output_type": "stream",
     "text": [
      "Epoch 232: | Train Loss: 0.82544 | Val Loss: 1.08533 | Train Acc: 53.042| Val Acc: 47.483\n"
     ]
    },
    {
     "name": "stderr",
     "output_type": "stream",
     "text": [
      "\r",
      " 78%|██████████████████████████████████████████████████████████████▏                 | 233/300 [06:47<01:57,  1.76s/it]"
     ]
    },
    {
     "name": "stdout",
     "output_type": "stream",
     "text": [
      "Epoch 233: | Train Loss: 0.82271 | Val Loss: 1.10272 | Train Acc: 56.084| Val Acc: 47.673\n"
     ]
    },
    {
     "name": "stderr",
     "output_type": "stream",
     "text": [
      "\r",
      " 78%|██████████████████████████████████████████████████████████████▍                 | 234/300 [06:49<01:56,  1.76s/it]"
     ]
    },
    {
     "name": "stdout",
     "output_type": "stream",
     "text": [
      "Epoch 234: | Train Loss: 0.83710 | Val Loss: 1.11051 | Train Acc: 53.992| Val Acc: 47.104\n"
     ]
    },
    {
     "name": "stderr",
     "output_type": "stream",
     "text": [
      "\r",
      " 78%|██████████████████████████████████████████████████████████████▋                 | 235/300 [06:51<01:54,  1.76s/it]"
     ]
    },
    {
     "name": "stdout",
     "output_type": "stream",
     "text": [
      "Epoch 235: | Train Loss: 0.82869 | Val Loss: 1.13205 | Train Acc: 52.281| Val Acc: 47.483\n"
     ]
    },
    {
     "name": "stderr",
     "output_type": "stream",
     "text": [
      "\r",
      " 79%|██████████████████████████████████████████████████████████████▉                 | 236/300 [06:53<01:53,  1.78s/it]"
     ]
    },
    {
     "name": "stdout",
     "output_type": "stream",
     "text": [
      "Epoch 236: | Train Loss: 0.82296 | Val Loss: 1.12391 | Train Acc: 51.141| Val Acc: 47.673\n"
     ]
    },
    {
     "name": "stderr",
     "output_type": "stream",
     "text": [
      "\r",
      " 79%|███████████████████████████████████████████████████████████████▏                | 237/300 [06:54<01:51,  1.77s/it]"
     ]
    },
    {
     "name": "stdout",
     "output_type": "stream",
     "text": [
      "Epoch 237: | Train Loss: 0.83225 | Val Loss: 1.09798 | Train Acc: 54.183| Val Acc: 47.768\n"
     ]
    },
    {
     "name": "stderr",
     "output_type": "stream",
     "text": [
      "\r",
      " 79%|███████████████████████████████████████████████████████████████▍                | 238/300 [06:56<01:48,  1.75s/it]"
     ]
    },
    {
     "name": "stdout",
     "output_type": "stream",
     "text": [
      "Epoch 238: | Train Loss: 0.81279 | Val Loss: 1.10123 | Train Acc: 55.513| Val Acc: 47.958\n"
     ]
    },
    {
     "name": "stderr",
     "output_type": "stream",
     "text": [
      "\r",
      " 80%|███████████████████████████████████████████████████████████████▋                | 239/300 [06:58<01:46,  1.74s/it]"
     ]
    },
    {
     "name": "stdout",
     "output_type": "stream",
     "text": [
      "Epoch 239: | Train Loss: 0.83055 | Val Loss: 1.12337 | Train Acc: 52.471| Val Acc: 47.863\n"
     ]
    },
    {
     "name": "stderr",
     "output_type": "stream",
     "text": [
      "\r",
      " 80%|████████████████████████████████████████████████████████████████                | 240/300 [07:00<01:43,  1.73s/it]"
     ]
    },
    {
     "name": "stdout",
     "output_type": "stream",
     "text": [
      "Epoch 240: | Train Loss: 0.83185 | Val Loss: 1.10648 | Train Acc: 53.802| Val Acc: 47.863\n"
     ]
    },
    {
     "name": "stderr",
     "output_type": "stream",
     "text": [
      "\r",
      " 80%|████████████████████████████████████████████████████████████████▎               | 241/300 [07:01<01:42,  1.73s/it]"
     ]
    },
    {
     "name": "stdout",
     "output_type": "stream",
     "text": [
      "Epoch 241: | Train Loss: 0.83548 | Val Loss: 1.13102 | Train Acc: 51.901| Val Acc: 47.578\n"
     ]
    },
    {
     "name": "stderr",
     "output_type": "stream",
     "text": [
      "\r",
      " 81%|████████████████████████████████████████████████████████████████▌               | 242/300 [07:03<01:41,  1.75s/it]"
     ]
    },
    {
     "name": "stdout",
     "output_type": "stream",
     "text": [
      "Epoch 242: | Train Loss: 0.82631 | Val Loss: 1.10675 | Train Acc: 55.133| Val Acc: 47.958\n"
     ]
    },
    {
     "name": "stderr",
     "output_type": "stream",
     "text": [
      "\r",
      " 81%|████████████████████████████████████████████████████████████████▊               | 243/300 [07:05<01:40,  1.76s/it]"
     ]
    },
    {
     "name": "stdout",
     "output_type": "stream",
     "text": [
      "Epoch 243: | Train Loss: 0.84129 | Val Loss: 1.09559 | Train Acc: 51.521| Val Acc: 48.148\n"
     ]
    },
    {
     "name": "stderr",
     "output_type": "stream",
     "text": [
      "\r",
      " 81%|█████████████████████████████████████████████████████████████████               | 244/300 [07:07<01:38,  1.75s/it]"
     ]
    },
    {
     "name": "stdout",
     "output_type": "stream",
     "text": [
      "Epoch 244: | Train Loss: 0.82699 | Val Loss: 1.07704 | Train Acc: 53.042| Val Acc: 49.288\n"
     ]
    },
    {
     "name": "stderr",
     "output_type": "stream",
     "text": [
      "\r",
      " 82%|█████████████████████████████████████████████████████████████████▎              | 245/300 [07:08<01:37,  1.76s/it]"
     ]
    },
    {
     "name": "stdout",
     "output_type": "stream",
     "text": [
      "Epoch 245: | Train Loss: 0.83038 | Val Loss: 1.11851 | Train Acc: 51.331| Val Acc: 47.958\n"
     ]
    },
    {
     "name": "stderr",
     "output_type": "stream",
     "text": [
      "\r",
      " 82%|█████████████████████████████████████████████████████████████████▌              | 246/300 [07:10<01:34,  1.76s/it]"
     ]
    },
    {
     "name": "stdout",
     "output_type": "stream",
     "text": [
      "Epoch 246: | Train Loss: 0.84187 | Val Loss: 1.07400 | Train Acc: 53.042| Val Acc: 48.148\n"
     ]
    },
    {
     "name": "stderr",
     "output_type": "stream",
     "text": [
      "\r",
      " 82%|█████████████████████████████████████████████████████████████████▊              | 247/300 [07:12<01:34,  1.78s/it]"
     ]
    },
    {
     "name": "stdout",
     "output_type": "stream",
     "text": [
      "Epoch 247: | Train Loss: 0.81258 | Val Loss: 1.11275 | Train Acc: 56.274| Val Acc: 47.863\n"
     ]
    },
    {
     "name": "stderr",
     "output_type": "stream",
     "text": [
      "\r",
      " 83%|██████████████████████████████████████████████████████████████████▏             | 248/300 [07:14<01:34,  1.81s/it]"
     ]
    },
    {
     "name": "stdout",
     "output_type": "stream",
     "text": [
      "Epoch 248: | Train Loss: 0.82147 | Val Loss: 1.07720 | Train Acc: 57.795| Val Acc: 48.908\n"
     ]
    },
    {
     "name": "stderr",
     "output_type": "stream",
     "text": [
      "\r",
      " 83%|██████████████████████████████████████████████████████████████████▍             | 249/300 [07:16<01:31,  1.79s/it]"
     ]
    },
    {
     "name": "stdout",
     "output_type": "stream",
     "text": [
      "Epoch 249: | Train Loss: 0.83412 | Val Loss: 1.07971 | Train Acc: 53.232| Val Acc: 48.813\n"
     ]
    },
    {
     "name": "stderr",
     "output_type": "stream",
     "text": [
      "\r",
      " 83%|██████████████████████████████████████████████████████████████████▋             | 250/300 [07:17<01:28,  1.77s/it]"
     ]
    },
    {
     "name": "stdout",
     "output_type": "stream",
     "text": [
      "Epoch 250: | Train Loss: 0.82201 | Val Loss: 1.07527 | Train Acc: 52.471| Val Acc: 48.148\n"
     ]
    },
    {
     "name": "stderr",
     "output_type": "stream",
     "text": [
      "\r",
      " 84%|██████████████████████████████████████████████████████████████████▉             | 251/300 [07:19<01:26,  1.76s/it]"
     ]
    },
    {
     "name": "stdout",
     "output_type": "stream",
     "text": [
      "Epoch 251: | Train Loss: 0.81480 | Val Loss: 1.10770 | Train Acc: 57.985| Val Acc: 48.148\n"
     ]
    },
    {
     "name": "stderr",
     "output_type": "stream",
     "text": [
      "\r",
      " 84%|███████████████████████████████████████████████████████████████████▏            | 252/300 [07:21<01:24,  1.75s/it]"
     ]
    },
    {
     "name": "stdout",
     "output_type": "stream",
     "text": [
      "Epoch 252: | Train Loss: 0.83691 | Val Loss: 1.10190 | Train Acc: 53.992| Val Acc: 47.104\n"
     ]
    },
    {
     "name": "stderr",
     "output_type": "stream",
     "text": [
      "\r",
      " 84%|███████████████████████████████████████████████████████████████████▍            | 253/300 [07:23<01:22,  1.76s/it]"
     ]
    },
    {
     "name": "stdout",
     "output_type": "stream",
     "text": [
      "Epoch 253: | Train Loss: 0.83363 | Val Loss: 1.10917 | Train Acc: 53.802| Val Acc: 47.863\n"
     ]
    },
    {
     "name": "stderr",
     "output_type": "stream",
     "text": [
      "\r",
      " 85%|███████████████████████████████████████████████████████████████████▋            | 254/300 [07:24<01:20,  1.74s/it]"
     ]
    },
    {
     "name": "stdout",
     "output_type": "stream",
     "text": [
      "Epoch 254: | Train Loss: 0.84307 | Val Loss: 1.09262 | Train Acc: 51.901| Val Acc: 48.148\n"
     ]
    },
    {
     "name": "stderr",
     "output_type": "stream",
     "text": [
      "\r",
      " 85%|████████████████████████████████████████████████████████████████████            | 255/300 [07:26<01:18,  1.75s/it]"
     ]
    },
    {
     "name": "stdout",
     "output_type": "stream",
     "text": [
      "Epoch 255: | Train Loss: 0.83784 | Val Loss: 1.11430 | Train Acc: 53.232| Val Acc: 48.053\n"
     ]
    },
    {
     "name": "stderr",
     "output_type": "stream",
     "text": [
      "\r",
      " 85%|████████████████████████████████████████████████████████████████████▎           | 256/300 [07:28<01:16,  1.74s/it]"
     ]
    },
    {
     "name": "stdout",
     "output_type": "stream",
     "text": [
      "Epoch 256: | Train Loss: 0.82757 | Val Loss: 1.07079 | Train Acc: 55.133| Val Acc: 49.193\n"
     ]
    },
    {
     "name": "stderr",
     "output_type": "stream",
     "text": [
      "\r",
      " 86%|████████████████████████████████████████████████████████████████████▌           | 257/300 [07:29<01:14,  1.73s/it]"
     ]
    },
    {
     "name": "stdout",
     "output_type": "stream",
     "text": [
      "Epoch 257: | Train Loss: 0.82698 | Val Loss: 1.08517 | Train Acc: 53.612| Val Acc: 47.673\n"
     ]
    },
    {
     "name": "stderr",
     "output_type": "stream",
     "text": [
      "\r",
      " 86%|████████████████████████████████████████████████████████████████████▊           | 258/300 [07:31<01:12,  1.73s/it]"
     ]
    },
    {
     "name": "stdout",
     "output_type": "stream",
     "text": [
      "Epoch 258: | Train Loss: 0.80179 | Val Loss: 1.10941 | Train Acc: 58.555| Val Acc: 48.148\n"
     ]
    },
    {
     "name": "stderr",
     "output_type": "stream",
     "text": [
      "\r",
      " 86%|█████████████████████████████████████████████████████████████████████           | 259/300 [07:33<01:10,  1.72s/it]"
     ]
    },
    {
     "name": "stdout",
     "output_type": "stream",
     "text": [
      "Epoch 259: | Train Loss: 0.82426 | Val Loss: 1.12077 | Train Acc: 52.662| Val Acc: 47.673\n"
     ]
    },
    {
     "name": "stderr",
     "output_type": "stream",
     "text": [
      "\r",
      " 87%|█████████████████████████████████████████████████████████████████████▎          | 260/300 [07:35<01:08,  1.72s/it]"
     ]
    },
    {
     "name": "stdout",
     "output_type": "stream",
     "text": [
      "Epoch 260: | Train Loss: 0.81719 | Val Loss: 1.10538 | Train Acc: 54.183| Val Acc: 47.483\n"
     ]
    },
    {
     "name": "stderr",
     "output_type": "stream",
     "text": [
      "\r",
      " 87%|█████████████████████████████████████████████████████████████████████▌          | 261/300 [07:36<01:06,  1.71s/it]"
     ]
    },
    {
     "name": "stdout",
     "output_type": "stream",
     "text": [
      "Epoch 261: | Train Loss: 0.83848 | Val Loss: 1.11010 | Train Acc: 54.183| Val Acc: 47.483\n"
     ]
    },
    {
     "name": "stderr",
     "output_type": "stream",
     "text": [
      "\r",
      " 87%|█████████████████████████████████████████████████████████████████████▊          | 262/300 [07:38<01:05,  1.71s/it]"
     ]
    },
    {
     "name": "stdout",
     "output_type": "stream",
     "text": [
      "Epoch 262: | Train Loss: 0.85116 | Val Loss: 1.08467 | Train Acc: 49.240| Val Acc: 48.338\n"
     ]
    },
    {
     "name": "stderr",
     "output_type": "stream",
     "text": [
      "\r",
      " 88%|██████████████████████████████████████████████████████████████████████▏         | 263/300 [07:40<01:03,  1.71s/it]"
     ]
    },
    {
     "name": "stdout",
     "output_type": "stream",
     "text": [
      "Epoch 263: | Train Loss: 0.83172 | Val Loss: 1.11751 | Train Acc: 54.373| Val Acc: 48.053\n"
     ]
    },
    {
     "name": "stderr",
     "output_type": "stream",
     "text": [
      "\r",
      " 88%|██████████████████████████████████████████████████████████████████████▍         | 264/300 [07:41<01:02,  1.72s/it]"
     ]
    },
    {
     "name": "stdout",
     "output_type": "stream",
     "text": [
      "Epoch 264: | Train Loss: 0.84313 | Val Loss: 1.10629 | Train Acc: 52.662| Val Acc: 47.958\n"
     ]
    },
    {
     "name": "stderr",
     "output_type": "stream",
     "text": [
      "\r",
      " 88%|██████████████████████████████████████████████████████████████████████▋         | 265/300 [07:43<01:00,  1.72s/it]"
     ]
    },
    {
     "name": "stdout",
     "output_type": "stream",
     "text": [
      "Epoch 265: | Train Loss: 0.84392 | Val Loss: 1.09414 | Train Acc: 52.281| Val Acc: 46.819\n"
     ]
    },
    {
     "name": "stderr",
     "output_type": "stream",
     "text": [
      "\r",
      " 89%|██████████████████████████████████████████████████████████████████████▉         | 266/300 [07:45<00:58,  1.72s/it]"
     ]
    },
    {
     "name": "stdout",
     "output_type": "stream",
     "text": [
      "Epoch 266: | Train Loss: 0.80572 | Val Loss: 1.08786 | Train Acc: 57.414| Val Acc: 48.243\n"
     ]
    },
    {
     "name": "stderr",
     "output_type": "stream",
     "text": [
      "\r",
      " 89%|███████████████████████████████████████████████████████████████████████▏        | 267/300 [07:47<00:56,  1.72s/it]"
     ]
    },
    {
     "name": "stdout",
     "output_type": "stream",
     "text": [
      "Epoch 267: | Train Loss: 0.83896 | Val Loss: 1.10733 | Train Acc: 50.951| Val Acc: 46.819\n"
     ]
    },
    {
     "name": "stderr",
     "output_type": "stream",
     "text": [
      "\r",
      " 89%|███████████████████████████████████████████████████████████████████████▍        | 268/300 [07:48<00:54,  1.72s/it]"
     ]
    },
    {
     "name": "stdout",
     "output_type": "stream",
     "text": [
      "Epoch 268: | Train Loss: 0.81740 | Val Loss: 1.09913 | Train Acc: 55.894| Val Acc: 48.243\n"
     ]
    },
    {
     "name": "stderr",
     "output_type": "stream",
     "text": [
      "\r",
      " 90%|███████████████████████████████████████████████████████████████████████▋        | 269/300 [07:50<00:53,  1.71s/it]"
     ]
    },
    {
     "name": "stdout",
     "output_type": "stream",
     "text": [
      "Epoch 269: | Train Loss: 0.82954 | Val Loss: 1.08932 | Train Acc: 52.471| Val Acc: 48.528\n"
     ]
    },
    {
     "name": "stderr",
     "output_type": "stream",
     "text": [
      "\r",
      " 90%|████████████████████████████████████████████████████████████████████████        | 270/300 [07:52<00:51,  1.71s/it]"
     ]
    },
    {
     "name": "stdout",
     "output_type": "stream",
     "text": [
      "Epoch 270: | Train Loss: 0.82901 | Val Loss: 1.06954 | Train Acc: 53.042| Val Acc: 47.958\n"
     ]
    },
    {
     "name": "stderr",
     "output_type": "stream",
     "text": [
      "\r",
      " 90%|████████████████████████████████████████████████████████████████████████▎       | 271/300 [07:53<00:49,  1.72s/it]"
     ]
    },
    {
     "name": "stdout",
     "output_type": "stream",
     "text": [
      "Epoch 271: | Train Loss: 0.83977 | Val Loss: 1.13299 | Train Acc: 51.901| Val Acc: 47.293\n"
     ]
    },
    {
     "name": "stderr",
     "output_type": "stream",
     "text": [
      "\r",
      " 91%|████████████████████████████████████████████████████████████████████████▌       | 272/300 [07:55<00:48,  1.72s/it]"
     ]
    },
    {
     "name": "stdout",
     "output_type": "stream",
     "text": [
      "Epoch 272: | Train Loss: 0.82411 | Val Loss: 1.09527 | Train Acc: 53.992| Val Acc: 47.388\n"
     ]
    },
    {
     "name": "stderr",
     "output_type": "stream",
     "text": [
      "\r",
      " 91%|████████████████████████████████████████████████████████████████████████▊       | 273/300 [07:57<00:47,  1.74s/it]"
     ]
    },
    {
     "name": "stdout",
     "output_type": "stream",
     "text": [
      "Epoch 273: | Train Loss: 0.83379 | Val Loss: 1.07937 | Train Acc: 52.852| Val Acc: 47.483\n"
     ]
    },
    {
     "name": "stderr",
     "output_type": "stream",
     "text": [
      "\r",
      " 91%|█████████████████████████████████████████████████████████████████████████       | 274/300 [07:59<00:45,  1.73s/it]"
     ]
    },
    {
     "name": "stdout",
     "output_type": "stream",
     "text": [
      "Epoch 274: | Train Loss: 0.81907 | Val Loss: 1.08409 | Train Acc: 55.133| Val Acc: 47.673\n"
     ]
    },
    {
     "name": "stderr",
     "output_type": "stream",
     "text": [
      "\r",
      " 92%|█████████████████████████████████████████████████████████████████████████▎      | 275/300 [08:00<00:43,  1.73s/it]"
     ]
    },
    {
     "name": "stdout",
     "output_type": "stream",
     "text": [
      "Epoch 275: | Train Loss: 0.81795 | Val Loss: 1.12461 | Train Acc: 56.274| Val Acc: 47.198\n"
     ]
    },
    {
     "name": "stderr",
     "output_type": "stream",
     "text": [
      "\r",
      " 92%|█████████████████████████████████████████████████████████████████████████▌      | 276/300 [08:02<00:42,  1.75s/it]"
     ]
    },
    {
     "name": "stdout",
     "output_type": "stream",
     "text": [
      "Epoch 276: | Train Loss: 0.82118 | Val Loss: 1.08698 | Train Acc: 56.464| Val Acc: 46.724\n"
     ]
    },
    {
     "name": "stderr",
     "output_type": "stream",
     "text": [
      "\r",
      " 92%|█████████████████████████████████████████████████████████████████████████▊      | 277/300 [08:04<00:40,  1.75s/it]"
     ]
    },
    {
     "name": "stdout",
     "output_type": "stream",
     "text": [
      "Epoch 277: | Train Loss: 0.82524 | Val Loss: 1.11191 | Train Acc: 54.563| Val Acc: 47.009\n"
     ]
    },
    {
     "name": "stderr",
     "output_type": "stream",
     "text": [
      "\r",
      " 93%|██████████████████████████████████████████████████████████████████████████▏     | 278/300 [08:06<00:38,  1.76s/it]"
     ]
    },
    {
     "name": "stdout",
     "output_type": "stream",
     "text": [
      "Epoch 278: | Train Loss: 0.82785 | Val Loss: 1.09595 | Train Acc: 53.992| Val Acc: 48.813\n"
     ]
    },
    {
     "name": "stderr",
     "output_type": "stream",
     "text": [
      "\r",
      " 93%|██████████████████████████████████████████████████████████████████████████▍     | 279/300 [08:08<00:37,  1.79s/it]"
     ]
    },
    {
     "name": "stdout",
     "output_type": "stream",
     "text": [
      "Epoch 279: | Train Loss: 0.82821 | Val Loss: 1.08128 | Train Acc: 55.133| Val Acc: 48.148\n"
     ]
    },
    {
     "name": "stderr",
     "output_type": "stream",
     "text": [
      "\r",
      " 93%|██████████████████████████████████████████████████████████████████████████▋     | 280/300 [08:09<00:35,  1.79s/it]"
     ]
    },
    {
     "name": "stdout",
     "output_type": "stream",
     "text": [
      "Epoch 280: | Train Loss: 0.82192 | Val Loss: 1.13590 | Train Acc: 54.753| Val Acc: 47.388\n"
     ]
    },
    {
     "name": "stderr",
     "output_type": "stream",
     "text": [
      "\r",
      " 94%|██████████████████████████████████████████████████████████████████████████▉     | 281/300 [08:11<00:33,  1.78s/it]"
     ]
    },
    {
     "name": "stdout",
     "output_type": "stream",
     "text": [
      "Epoch 281: | Train Loss: 0.83516 | Val Loss: 1.08342 | Train Acc: 53.232| Val Acc: 48.148\n"
     ]
    },
    {
     "name": "stderr",
     "output_type": "stream",
     "text": [
      "\r",
      " 94%|███████████████████████████████████████████████████████████████████████████▏    | 282/300 [08:13<00:32,  1.80s/it]"
     ]
    },
    {
     "name": "stdout",
     "output_type": "stream",
     "text": [
      "Epoch 282: | Train Loss: 0.84005 | Val Loss: 1.08624 | Train Acc: 49.620| Val Acc: 48.338\n"
     ]
    },
    {
     "name": "stderr",
     "output_type": "stream",
     "text": [
      "\r",
      " 94%|███████████████████████████████████████████████████████████████████████████▍    | 283/300 [08:15<00:30,  1.81s/it]"
     ]
    },
    {
     "name": "stdout",
     "output_type": "stream",
     "text": [
      "Epoch 283: | Train Loss: 0.83653 | Val Loss: 1.10268 | Train Acc: 50.190| Val Acc: 47.104\n"
     ]
    },
    {
     "name": "stderr",
     "output_type": "stream",
     "text": [
      "\r",
      " 95%|███████████████████████████████████████████████████████████████████████████▋    | 284/300 [08:17<00:28,  1.78s/it]"
     ]
    },
    {
     "name": "stdout",
     "output_type": "stream",
     "text": [
      "Epoch 284: | Train Loss: 0.82968 | Val Loss: 1.10068 | Train Acc: 54.183| Val Acc: 47.768\n"
     ]
    },
    {
     "name": "stderr",
     "output_type": "stream",
     "text": [
      "\r",
      " 95%|████████████████████████████████████████████████████████████████████████████    | 285/300 [08:18<00:26,  1.77s/it]"
     ]
    },
    {
     "name": "stdout",
     "output_type": "stream",
     "text": [
      "Epoch 285: | Train Loss: 0.84786 | Val Loss: 1.08067 | Train Acc: 51.521| Val Acc: 47.958\n"
     ]
    },
    {
     "name": "stderr",
     "output_type": "stream",
     "text": [
      "\r",
      " 95%|████████████████████████████████████████████████████████████████████████████▎   | 286/300 [08:20<00:24,  1.77s/it]"
     ]
    },
    {
     "name": "stdout",
     "output_type": "stream",
     "text": [
      "Epoch 286: | Train Loss: 0.82567 | Val Loss: 1.08682 | Train Acc: 55.513| Val Acc: 49.003\n"
     ]
    },
    {
     "name": "stderr",
     "output_type": "stream",
     "text": [
      "\r",
      " 96%|████████████████████████████████████████████████████████████████████████████▌   | 287/300 [08:22<00:23,  1.77s/it]"
     ]
    },
    {
     "name": "stdout",
     "output_type": "stream",
     "text": [
      "Epoch 287: | Train Loss: 0.81277 | Val Loss: 1.13909 | Train Acc: 53.992| Val Acc: 46.724\n"
     ]
    },
    {
     "name": "stderr",
     "output_type": "stream",
     "text": [
      "\r",
      " 96%|████████████████████████████████████████████████████████████████████████████▊   | 288/300 [08:24<00:21,  1.76s/it]"
     ]
    },
    {
     "name": "stdout",
     "output_type": "stream",
     "text": [
      "Epoch 288: | Train Loss: 0.84004 | Val Loss: 1.09612 | Train Acc: 53.612| Val Acc: 47.198\n"
     ]
    },
    {
     "name": "stderr",
     "output_type": "stream",
     "text": [
      "\r",
      " 96%|█████████████████████████████████████████████████████████████████████████████   | 289/300 [08:25<00:19,  1.77s/it]"
     ]
    },
    {
     "name": "stdout",
     "output_type": "stream",
     "text": [
      "Epoch 289: | Train Loss: 0.83206 | Val Loss: 1.10957 | Train Acc: 52.281| Val Acc: 47.863\n"
     ]
    },
    {
     "name": "stderr",
     "output_type": "stream",
     "text": [
      "\r",
      " 97%|█████████████████████████████████████████████████████████████████████████████▎  | 290/300 [08:27<00:17,  1.77s/it]"
     ]
    },
    {
     "name": "stdout",
     "output_type": "stream",
     "text": [
      "Epoch 290: | Train Loss: 0.82595 | Val Loss: 1.10579 | Train Acc: 55.323| Val Acc: 47.958\n"
     ]
    },
    {
     "name": "stderr",
     "output_type": "stream",
     "text": [
      "\r",
      " 97%|█████████████████████████████████████████████████████████████████████████████▌  | 291/300 [08:29<00:15,  1.77s/it]"
     ]
    },
    {
     "name": "stdout",
     "output_type": "stream",
     "text": [
      "Epoch 291: | Train Loss: 0.83841 | Val Loss: 1.09888 | Train Acc: 53.422| Val Acc: 47.483\n"
     ]
    },
    {
     "name": "stderr",
     "output_type": "stream",
     "text": [
      "\r",
      " 97%|█████████████████████████████████████████████████████████████████████████████▊  | 292/300 [08:31<00:14,  1.76s/it]"
     ]
    },
    {
     "name": "stdout",
     "output_type": "stream",
     "text": [
      "Epoch 292: | Train Loss: 0.83373 | Val Loss: 1.09908 | Train Acc: 53.612| Val Acc: 46.914\n"
     ]
    },
    {
     "name": "stderr",
     "output_type": "stream",
     "text": [
      "\r",
      " 98%|██████████████████████████████████████████████████████████████████████████████▏ | 293/300 [08:32<00:12,  1.77s/it]"
     ]
    },
    {
     "name": "stdout",
     "output_type": "stream",
     "text": [
      "Epoch 293: | Train Loss: 0.82506 | Val Loss: 1.10283 | Train Acc: 53.802| Val Acc: 47.578\n"
     ]
    },
    {
     "name": "stderr",
     "output_type": "stream",
     "text": [
      "\r",
      " 98%|██████████████████████████████████████████████████████████████████████████████▍ | 294/300 [08:34<00:10,  1.76s/it]"
     ]
    },
    {
     "name": "stdout",
     "output_type": "stream",
     "text": [
      "Epoch 294: | Train Loss: 0.83604 | Val Loss: 1.13072 | Train Acc: 52.091| Val Acc: 47.388\n"
     ]
    },
    {
     "name": "stderr",
     "output_type": "stream",
     "text": [
      "\r",
      " 98%|██████████████████████████████████████████████████████████████████████████████▋ | 295/300 [08:36<00:08,  1.76s/it]"
     ]
    },
    {
     "name": "stdout",
     "output_type": "stream",
     "text": [
      "Epoch 295: | Train Loss: 0.83529 | Val Loss: 1.08554 | Train Acc: 52.281| Val Acc: 47.578\n"
     ]
    },
    {
     "name": "stderr",
     "output_type": "stream",
     "text": [
      "\r",
      " 99%|██████████████████████████████████████████████████████████████████████████████▉ | 296/300 [08:38<00:07,  1.77s/it]"
     ]
    },
    {
     "name": "stdout",
     "output_type": "stream",
     "text": [
      "Epoch 296: | Train Loss: 0.84345 | Val Loss: 1.08955 | Train Acc: 54.943| Val Acc: 47.578\n"
     ]
    },
    {
     "name": "stderr",
     "output_type": "stream",
     "text": [
      "\r",
      " 99%|███████████████████████████████████████████████████████████████████████████████▏| 297/300 [08:40<00:05,  1.78s/it]"
     ]
    },
    {
     "name": "stdout",
     "output_type": "stream",
     "text": [
      "Epoch 297: | Train Loss: 0.82541 | Val Loss: 1.08895 | Train Acc: 54.943| Val Acc: 47.673\n"
     ]
    },
    {
     "name": "stderr",
     "output_type": "stream",
     "text": [
      "\r",
      " 99%|███████████████████████████████████████████████████████████████████████████████▍| 298/300 [08:41<00:03,  1.77s/it]"
     ]
    },
    {
     "name": "stdout",
     "output_type": "stream",
     "text": [
      "Epoch 298: | Train Loss: 0.83959 | Val Loss: 1.10143 | Train Acc: 52.091| Val Acc: 47.293\n"
     ]
    },
    {
     "name": "stderr",
     "output_type": "stream",
     "text": [
      "\r",
      "100%|███████████████████████████████████████████████████████████████████████████████▋| 299/300 [08:43<00:01,  1.75s/it]"
     ]
    },
    {
     "name": "stdout",
     "output_type": "stream",
     "text": [
      "Epoch 299: | Train Loss: 0.82620 | Val Loss: 1.11182 | Train Acc: 54.943| Val Acc: 47.768\n"
     ]
    },
    {
     "name": "stderr",
     "output_type": "stream",
     "text": [
      "100%|████████████████████████████████████████████████████████████████████████████████| 300/300 [08:45<00:00,  1.75s/it]"
     ]
    },
    {
     "name": "stdout",
     "output_type": "stream",
     "text": [
      "Epoch 300: | Train Loss: 0.83774 | Val Loss: 1.07314 | Train Acc: 53.802| Val Acc: 48.528\n"
     ]
    },
    {
     "name": "stderr",
     "output_type": "stream",
     "text": [
      "\n"
     ]
    }
   ],
   "source": [
    "for e in tqdm(range(1, EPOCHS+1)):\n",
    "    \n",
    "    # Train model\n",
    "    train_epoch_loss = 0\n",
    "    train_epoch_acc = 0\n",
    "    model.train()\n",
    "    for X_train_batch, y_train_batch in train_DL:\n",
    "        X_train_batch, y_train_batch = X_train_batch.to(device), y_train_batch.to(device)\n",
    "        optimizer.zero_grad()\n",
    "        \n",
    "        y_train_pred = model(X_train_batch)\n",
    "        \n",
    "        train_loss = criterion(y_train_pred, y_train_batch)\n",
    "        train_acc = acc_epoch(y_train_pred, y_train_batch)\n",
    "        \n",
    "        train_loss.backward()\n",
    "        optimizer.step()\n",
    "        \n",
    "        train_epoch_loss += train_loss.item()\n",
    "        train_epoch_acc += train_acc.item()\n",
    "        \n",
    "        \n",
    "    # Test model with validation set    \n",
    "    with torch.no_grad():\n",
    "        \n",
    "        val_epoch_loss = 0\n",
    "        val_epoch_acc = 0\n",
    "        \n",
    "        model.eval()\n",
    "        for X_val_batch, y_val_batch in val_DL:\n",
    "            X_val_batch, y_val_batch = X_val_batch.to(device), y_val_batch.to(device)\n",
    "            \n",
    "            y_val_pred = model(X_val_batch)\n",
    "                        \n",
    "            val_loss = criterion(y_val_pred, y_val_batch)\n",
    "            val_acc = acc_epoch(y_val_pred, y_val_batch)\n",
    "            \n",
    "            val_epoch_loss += val_loss.item()\n",
    "            val_epoch_acc += val_acc.item()\n",
    "    \n",
    "    loss_dict['train'].append(train_epoch_loss/len(train_DL))\n",
    "    loss_dict['val'].append(val_epoch_loss/len(val_DL))\n",
    "    acc_dict['train'].append(train_epoch_acc/len(train_DL))\n",
    "    acc_dict['val'].append(val_epoch_acc/len(val_DL))\n",
    "                              \n",
    "    \n",
    "    print(f'Epoch {e+0:03}: | Train Loss: {train_epoch_loss/len(train_DL):.5f} | Val Loss: {val_epoch_loss/len(val_DL):.5f} | Train Acc: {train_epoch_acc/len(train_DL):.3f}| Val Acc: {val_epoch_acc/len(val_DL):.3f}')"
   ]
  },
  {
   "cell_type": "markdown",
   "metadata": {},
   "source": [
    "#### Show Plots\n",
    "Show the plots for training and validation accuracy per epoch and loss per epoch."
   ]
  },
  {
   "cell_type": "code",
   "execution_count": 55,
   "metadata": {
    "scrolled": false
   },
   "outputs": [
    {
     "data": {
      "text/plain": [
       "Text(0.5, 1.0, 'Train & Validation Loss per Epoch')"
      ]
     },
     "execution_count": 55,
     "metadata": {},
     "output_type": "execute_result"
    },
    {
     "data": {
      "image/png": "[encoded data removed]",
      "text/plain": [
       "<Figure size 1440x504 with 2 Axes>"
      ]
     },
     "metadata": {
      "needs_background": "light"
     },
     "output_type": "display_data"
    }
   ],
   "source": [
    "# Create dataframes\n",
    "train_val_acc_df = pd.DataFrame.from_dict(acc_dict).reset_index().melt(id_vars=['index']).rename(columns={\"index\":\"epochs\"})\n",
    "train_val_loss_df = pd.DataFrame.from_dict(loss_dict).reset_index().melt(id_vars=['index']).rename(columns={\"index\":\"epochs\"})\n",
    "# Plot the dataframes\n",
    "fig, axes = plt.subplots(nrows=1, ncols=2, figsize=(20,7))\n",
    "sns.lineplot(data=train_val_acc_df, x = \"epochs\", y=\"value\", hue=\"variable\",  ax=axes[0]).set_title('Train & Validation Accuracy per Epoch')\n",
    "sns.lineplot(data=train_val_loss_df, x = \"epochs\", y=\"value\", hue=\"variable\", ax=axes[1]).set_title('Train & Validation Loss per Epoch')"
   ]
  },
  {
   "cell_type": "markdown",
   "metadata": {},
   "source": [
    "#### Response Features From Testing Predictor Features\n",
    "Get the predicted classes (matchup results) from the testing data features."
   ]
  },
  {
   "cell_type": "code",
   "execution_count": 56,
   "metadata": {},
   "outputs": [],
   "source": [
    "y_pred_list = []\n",
    "with torch.no_grad():\n",
    "    model.eval()\n",
    "    for X_batch, _ in test_DL:\n",
    "        X_batch = X_batch.to('cuda:0')\n",
    "        y_test_pred = model(X_batch)\n",
    "        _, y_pred_tags = torch.max(y_test_pred, dim = 1)\n",
    "        y_pred_list.append(y_pred_tags.cpu().numpy())\n",
    "y_pred_list = [a.squeeze().tolist() for a in y_pred_list]"
   ]
  },
  {
   "cell_type": "markdown",
   "metadata": {},
   "source": [
    "#### Confusion Matrix"
   ]
  },
  {
   "cell_type": "code",
   "execution_count": 57,
   "metadata": {},
   "outputs": [
    {
     "data": {
      "text/plain": [
       "array([[ 33,  45, 301],\n",
       "       [ 12,  31, 286],\n",
       "       [  7,  39, 562]], dtype=int64)"
      ]
     },
     "execution_count": 57,
     "metadata": {},
     "output_type": "execute_result"
    }
   ],
   "source": [
    "confusion_matrix(y_test, y_pred_list)"
   ]
  },
  {
   "cell_type": "markdown",
   "metadata": {},
   "source": [
    "#### Results\n",
    "The classification report below shows precision, recall, f1-score, and accuracy of the model with the testing dataset. It can be observed that the created ANN does not perform great in this particular case. Collecting much more data and additional features would make using this ANN more beneficial. Additionally, feature evaluation and selection could lead to faster tuning of the model parameters."
   ]
  },
  {
   "cell_type": "code",
   "execution_count": 58,
   "metadata": {},
   "outputs": [
    {
     "name": "stdout",
     "output_type": "stream",
     "text": [
      "              precision    recall  f1-score   support\n",
      "\n",
      "           0       0.63      0.09      0.15       379\n",
      "           1       0.27      0.09      0.14       329\n",
      "           2       0.49      0.92      0.64       608\n",
      "\n",
      "    accuracy                           0.48      1316\n",
      "   macro avg       0.46      0.37      0.31      1316\n",
      "weighted avg       0.48      0.48      0.37      1316\n",
      "\n"
     ]
    }
   ],
   "source": [
    "print(classification_report(y_test, y_pred_list))"
   ]
  }
 ],
 "metadata": {
  "kernelspec": {
   "display_name": "Python 3",
   "language": "python",
   "name": "python3"
  },
  "language_info": {
   "codemirror_mode": {
    "name": "ipython",
    "version": 3
   },
   "file_extension": ".py",
   "mimetype": "text/x-python",
   "name": "python",
   "nbconvert_exporter": "python",
   "pygments_lexer": "ipython3",
   "version": "3.8.5"
  }
 },
 "nbformat": 4,
 "nbformat_minor": 4
}
