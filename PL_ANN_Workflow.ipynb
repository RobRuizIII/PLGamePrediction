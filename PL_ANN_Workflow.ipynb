{
 "cells": [
  {
   "cell_type": "markdown",
   "metadata": {},
   "source": [
    "## Premier League Matchup Prediction\n",
    "\n",
    "### Multiclass Classification Using Artificial Neural Network (ANN) Model\n",
    "\n",
    "#### Roberto Ruiz, B.S. Petroleum Engineering & Certificate in CS, The University of Texas at Austin\n",
    "\n",
    "This workflow demonstrates multiclass classification of Premier League data gathered from <a href=\"http://football-data.co.uk/englandm.php\">this</a> website and previously prepared in the DataPreperation workflow. An artificial neural network is used to classify matchup results as \"H\" (home team win), \"A\" (away team win), or \"D\" (draw).\n",
    "\n",
    "Feature selection is not done in this workflow as we attempt to use the most amount of data available for this particular ANN model.\n",
    "\n",
    "### Artificial Neural Network Background\n",
    "\n",
    "Artificial neural networks are powerful (nonlinear) machine learning methods inspired by nature that can be used for regression or classification. Additionally, artificial neural networks are considered universal function approximators (can learn any possible function over an interval). This workflow will use supervised learning and a multiclass classification artificial neural network.\n",
    "\n",
    "**Input Layer**<br>\n",
    "The input layer has input nodes for each predictor feature. Predictor features must be min/max normalized to remove any influence from scale differences. All predictor features' values should be in an interval from [-1,1] or [0,1]. This is done to not lose sensitivity when nonlinearly transforming inputs in nodes. We will use the [0,1] interval in this workflow.\n",
    "\n",
    "**Hidden Layers**<br>\n",
    "There can be multiple layers of nodes between the input layer and the output layer however, this workflow will contain a single hidden layer. The amount of nodes used for the hidden layer (width of the ANN) is a hyperparameter that will require tuning.\n",
    "\n",
    "**Output Layer**<br>\n",
    "The output layer will contain a node for each response feature. In this workflow, there will be three nodes (one for each class). The output function used will be the softmax activation function, giving probabilities for each class. The class with the highest probability will be the chosen response from the predictor features.\n",
    "\n",
    "**Connections**<br>\n",
    "The connections in ANN's are outputs from nodes in a layer inputted to nodes in another layer. Fully connected ANN's have every node in a layer connected to every node in the next layer. Feed-forward ANN's move information in a forward direction.\n",
    "\n",
    "**Nodes**<br>\n",
    "Nodes take a linearly weighted combination of inputs from previous layers of nodes, add a bias term, and nonlinearly transform the weighted combination. Nonlinear transformations at each node are called activation functions.\n",
    "\n",
    "**Activation Functions**<br>\n",
    "For this workflow the hidden layer will use a ReLU activation function and the output layer will use a Softmax activation function.\n",
    "\n",
    "- ReLU Activation Function\n",
    "$$f(x) = max(0,x)$$\n",
    "\n",
    "- Softmax Activation Function\n",
    "$$\\frac{e^T_k}{\\sum_{i=1}^K e^T_i}$$\n",
    "\n",
    "**Forward & Backward Pass**<br>\n",
    "In the forward pass the loss function is calculated and in the backward pass (backward propagation) the gradient of the loss with respect to each of the weights is calculated.\n",
    "\n",
    "**Batches and Epochs**<br>\n",
    "An epoch is considered one pass through all of the training data, while a batch is a certain number of samples considered for each forward and backward pass through the ANN.\n",
    "\n",
    "**Learning Rate**<br>\n",
    "The learning rate scales the change (calculated gradients from backward propagation) to the individual weights in the network.\n",
    "\n",
    "***Note***<br>\n",
    "Information and code for this workflow has been both inspired and adapted from <a href=\"https://github.com/GeostatsGuy\">GeostatsGuy</a> and <a href=\"https://towardsdatascience.com/pytorch-tabular-multiclass-classification-9f8211a123ab\">Akshaj Verma</a>\n",
    "\n",
    "### The Workflow\n",
    "Pytorch will be used to create, train, and test our ANN. We will need some standard packages for this workflow."
   ]
  },
  {
   "cell_type": "code",
   "execution_count": 1,
   "metadata": {},
   "outputs": [],
   "source": [
    "import pandas as pd               # Pandas data analysis and data frame tool\n",
    "import numpy as np                # Numpy scientific computing tool\n",
    "import matplotlib.pyplot as plt   # Matplotlib for visualizing data\n",
    "import seaborn as sns             # Seaborn for statistical data visualization\n",
    "%matplotlib inline\n",
    "\n",
    "import torch                      # Pytorch open source machine learning framework for ANN\n",
    "import torch.nn.functional as F\n",
    "from tqdm import tqdm             # Smart progress meter used in tarining and validation of ANN\n",
    "from torch import nn, optim\n",
    "from torch.utils.data import Dataset, DataLoader, WeightedRandomSampler\n",
    "\n",
    "from sklearn.model_selection import train_test_split  # Train, testing split function to split train and test data\n",
    "from sklearn.metrics import confusion_matrix, classification_report  # confusion matrix and classification report for result summary"
   ]
  },
  {
   "cell_type": "markdown",
   "metadata": {},
   "source": [
    "#### Observe Data Framework\n",
    "Have a quick glimpse at the features and data in the loaded framework. Keys to the abbreviations of the features are listed below.<br>\n",
    "- FTR = Full Time Result (H=Home Win, D=Draw, A=Away Win)\n",
    "- unixtime = Date in unixtime of when the match happened\n",
    "- HFUD = Home team Fatigue Unixtime Difference (unixtime difference between team's last game and current game)\n",
    "- AFUD = Away team Fatigue Unixtime Difference (unixtime difference between team's last game and current game)\n",
    "- HGDPH = Home team Goal Difference Playing Home (goals in favor - goals against -- while playing home before current matchup)\n",
    "- AGDPH = Away team Goal Difference Playing Home (goals in favor - goals against -- while playing home before current matchup)\n",
    "- HGDPA = Home team Goal Difference Playing Away (goals in favor - goals against -- while playing away before current matchup)\n",
    "- AGDPA = Away team Goal Difference Playing Away (goals in favor - goals against -- while playing away before current matchup)\n",
    "- HTGD = Home team Total Goal Difference (goals in favor - goals against before current matchup)\n",
    "- ATGD = Away team Total Goal Difference (goals in favor - goals against before current matchup)\n",
    "- HCP = Home team Current Points (points gained before current matchup)\n",
    "- ACP = Away team Current Points (points gained before current matchup)\n",
    "- HGP = Home team Games Played (games played before current matchup)\n",
    "- AGP = Away team Games Played (games played before current matchup)\n",
    "- HSOV = Home team Strength of Victory (how strong were the teams victories before current matchup)\n",
    "- ASOV = Away team Strength of Victory (how strong were the teams victories before current matchup)\n",
    "- HHGD = Home team Halftime Goal Difference (halftime goals in favor - halftime goals against -- before current matchup)\n",
    "- AHGD = Away team Halftime Goal Difference (halftime goals in favor - halftime goals against -- before current matchup)\n",
    "- HSPG = Home team Shots Per Game (shots per game before current matchup)\n",
    "- ASPG = Away team Shots Per Game (shots per game before current matchup)\n",
    "- HTSPG = Home team on Target Shots Per Game (on target shots per game before current matchup)\n",
    "- ATSPG = Away team on Target Shots Per Game (on target shots per game before current matchup)\n",
    "- HFPG = Home team Fouls Per Game (fouls per game before current matchup)\n",
    "- AFPG = Away team Fouls Per Game (fouls per game before current matchup)\n",
    "- HCPG = Home team Corners Per Game (corners per game before current matchup)\n",
    "- ACPG = Away team Corners Per Game (corners per game before current matchup\n",
    "- HYPG = Home team Yellows Per Game (yellow cards per game before current matchup)\n",
    "- AYPG = Away team Yellows Per Game (yellow cards per game before current matchup)\n",
    "- HRPG = Home team Reds Per Game (red cards per game before current matchup)\n",
    "- ARPG = Away team Reds Per Game (red cards per game before current matchup)"
   ]
  },
  {
   "cell_type": "code",
   "execution_count": 2,
   "metadata": {},
   "outputs": [
    {
     "data": {
      "text/html": [
       "<div>\n",
       "<style scoped>\n",
       "    .dataframe tbody tr th:only-of-type {\n",
       "        vertical-align: middle;\n",
       "    }\n",
       "\n",
       "    .dataframe tbody tr th {\n",
       "        vertical-align: top;\n",
       "    }\n",
       "\n",
       "    .dataframe thead th {\n",
       "        text-align: right;\n",
       "    }\n",
       "</style>\n",
       "<table border=\"1\" class=\"dataframe\">\n",
       "  <thead>\n",
       "    <tr style=\"text-align: right;\">\n",
       "      <th></th>\n",
       "      <th>HomeTeam</th>\n",
       "      <th>AwayTeam</th>\n",
       "      <th>FTR</th>\n",
       "      <th>unixtime</th>\n",
       "      <th>HFUD</th>\n",
       "      <th>AFUD</th>\n",
       "      <th>HGDPH</th>\n",
       "      <th>AGDPH</th>\n",
       "      <th>HGDPA</th>\n",
       "      <th>AGDPA</th>\n",
       "      <th>...</th>\n",
       "      <th>HTSPG</th>\n",
       "      <th>ATSPG</th>\n",
       "      <th>HFPG</th>\n",
       "      <th>AFPG</th>\n",
       "      <th>HCPG</th>\n",
       "      <th>ACPG</th>\n",
       "      <th>HYPG</th>\n",
       "      <th>AYPG</th>\n",
       "      <th>HRPG</th>\n",
       "      <th>ARPG</th>\n",
       "    </tr>\n",
       "  </thead>\n",
       "  <tbody>\n",
       "    <tr>\n",
       "      <th>0</th>\n",
       "      <td>Arsenal</td>\n",
       "      <td>Everton</td>\n",
       "      <td>H</td>\n",
       "      <td>1060992000</td>\n",
       "      <td>1209600.0</td>\n",
       "      <td>1209600.0</td>\n",
       "      <td>0.0</td>\n",
       "      <td>0.0</td>\n",
       "      <td>0.0</td>\n",
       "      <td>0.0</td>\n",
       "      <td>...</td>\n",
       "      <td>0.0</td>\n",
       "      <td>0.0</td>\n",
       "      <td>0.0</td>\n",
       "      <td>0.0</td>\n",
       "      <td>0.0</td>\n",
       "      <td>0.0</td>\n",
       "      <td>0.0</td>\n",
       "      <td>0.0</td>\n",
       "      <td>0.0</td>\n",
       "      <td>0.0</td>\n",
       "    </tr>\n",
       "    <tr>\n",
       "      <th>1</th>\n",
       "      <td>Birmingham</td>\n",
       "      <td>Tottenham</td>\n",
       "      <td>H</td>\n",
       "      <td>1060992000</td>\n",
       "      <td>1209600.0</td>\n",
       "      <td>1209600.0</td>\n",
       "      <td>0.0</td>\n",
       "      <td>0.0</td>\n",
       "      <td>0.0</td>\n",
       "      <td>0.0</td>\n",
       "      <td>...</td>\n",
       "      <td>0.0</td>\n",
       "      <td>0.0</td>\n",
       "      <td>0.0</td>\n",
       "      <td>0.0</td>\n",
       "      <td>0.0</td>\n",
       "      <td>0.0</td>\n",
       "      <td>0.0</td>\n",
       "      <td>0.0</td>\n",
       "      <td>0.0</td>\n",
       "      <td>0.0</td>\n",
       "    </tr>\n",
       "    <tr>\n",
       "      <th>2</th>\n",
       "      <td>Blackburn</td>\n",
       "      <td>Wolves</td>\n",
       "      <td>H</td>\n",
       "      <td>1060992000</td>\n",
       "      <td>1209600.0</td>\n",
       "      <td>1209600.0</td>\n",
       "      <td>0.0</td>\n",
       "      <td>0.0</td>\n",
       "      <td>0.0</td>\n",
       "      <td>0.0</td>\n",
       "      <td>...</td>\n",
       "      <td>0.0</td>\n",
       "      <td>0.0</td>\n",
       "      <td>0.0</td>\n",
       "      <td>0.0</td>\n",
       "      <td>0.0</td>\n",
       "      <td>0.0</td>\n",
       "      <td>0.0</td>\n",
       "      <td>0.0</td>\n",
       "      <td>0.0</td>\n",
       "      <td>0.0</td>\n",
       "    </tr>\n",
       "    <tr>\n",
       "      <th>3</th>\n",
       "      <td>Fulham</td>\n",
       "      <td>Middlesbrough</td>\n",
       "      <td>H</td>\n",
       "      <td>1060992000</td>\n",
       "      <td>1209600.0</td>\n",
       "      <td>1209600.0</td>\n",
       "      <td>0.0</td>\n",
       "      <td>0.0</td>\n",
       "      <td>0.0</td>\n",
       "      <td>0.0</td>\n",
       "      <td>...</td>\n",
       "      <td>0.0</td>\n",
       "      <td>0.0</td>\n",
       "      <td>0.0</td>\n",
       "      <td>0.0</td>\n",
       "      <td>0.0</td>\n",
       "      <td>0.0</td>\n",
       "      <td>0.0</td>\n",
       "      <td>0.0</td>\n",
       "      <td>0.0</td>\n",
       "      <td>0.0</td>\n",
       "    </tr>\n",
       "    <tr>\n",
       "      <th>4</th>\n",
       "      <td>Leicester</td>\n",
       "      <td>Southampton</td>\n",
       "      <td>D</td>\n",
       "      <td>1060992000</td>\n",
       "      <td>1209600.0</td>\n",
       "      <td>1209600.0</td>\n",
       "      <td>0.0</td>\n",
       "      <td>0.0</td>\n",
       "      <td>0.0</td>\n",
       "      <td>0.0</td>\n",
       "      <td>...</td>\n",
       "      <td>0.0</td>\n",
       "      <td>0.0</td>\n",
       "      <td>0.0</td>\n",
       "      <td>0.0</td>\n",
       "      <td>0.0</td>\n",
       "      <td>0.0</td>\n",
       "      <td>0.0</td>\n",
       "      <td>0.0</td>\n",
       "      <td>0.0</td>\n",
       "      <td>0.0</td>\n",
       "    </tr>\n",
       "  </tbody>\n",
       "</table>\n",
       "<p>5 rows × 32 columns</p>\n",
       "</div>"
      ],
      "text/plain": [
       "     HomeTeam       AwayTeam FTR    unixtime       HFUD       AFUD  HGDPH  \\\n",
       "0     Arsenal        Everton   H  1060992000  1209600.0  1209600.0    0.0   \n",
       "1  Birmingham      Tottenham   H  1060992000  1209600.0  1209600.0    0.0   \n",
       "2   Blackburn         Wolves   H  1060992000  1209600.0  1209600.0    0.0   \n",
       "3      Fulham  Middlesbrough   H  1060992000  1209600.0  1209600.0    0.0   \n",
       "4   Leicester    Southampton   D  1060992000  1209600.0  1209600.0    0.0   \n",
       "\n",
       "   AGDPH  HGDPA  AGDPA  ...  HTSPG  ATSPG  HFPG  AFPG  HCPG  ACPG  HYPG  AYPG  \\\n",
       "0    0.0    0.0    0.0  ...    0.0    0.0   0.0   0.0   0.0   0.0   0.0   0.0   \n",
       "1    0.0    0.0    0.0  ...    0.0    0.0   0.0   0.0   0.0   0.0   0.0   0.0   \n",
       "2    0.0    0.0    0.0  ...    0.0    0.0   0.0   0.0   0.0   0.0   0.0   0.0   \n",
       "3    0.0    0.0    0.0  ...    0.0    0.0   0.0   0.0   0.0   0.0   0.0   0.0   \n",
       "4    0.0    0.0    0.0  ...    0.0    0.0   0.0   0.0   0.0   0.0   0.0   0.0   \n",
       "\n",
       "   HRPG  ARPG  \n",
       "0   0.0   0.0  \n",
       "1   0.0   0.0  \n",
       "2   0.0   0.0  \n",
       "3   0.0   0.0  \n",
       "4   0.0   0.0  \n",
       "\n",
       "[5 rows x 32 columns]"
      ]
     },
     "execution_count": 2,
     "metadata": {},
     "output_type": "execute_result"
    }
   ],
   "source": [
    "full_df = pd.read_csv('PL_all_seasons.csv')\n",
    "full_df.head(5)"
   ]
  },
  {
   "cell_type": "markdown",
   "metadata": {},
   "source": [
    "#### Observe Summary Statistics\n",
    "Check for any missing data or irregular data."
   ]
  },
  {
   "cell_type": "code",
   "execution_count": 3,
   "metadata": {
    "scrolled": true
   },
   "outputs": [
    {
     "data": {
      "text/html": [
       "<div>\n",
       "<style scoped>\n",
       "    .dataframe tbody tr th:only-of-type {\n",
       "        vertical-align: middle;\n",
       "    }\n",
       "\n",
       "    .dataframe tbody tr th {\n",
       "        vertical-align: top;\n",
       "    }\n",
       "\n",
       "    .dataframe thead th {\n",
       "        text-align: right;\n",
       "    }\n",
       "</style>\n",
       "<table border=\"1\" class=\"dataframe\">\n",
       "  <thead>\n",
       "    <tr style=\"text-align: right;\">\n",
       "      <th></th>\n",
       "      <th>count</th>\n",
       "      <th>mean</th>\n",
       "      <th>std</th>\n",
       "      <th>min</th>\n",
       "      <th>25%</th>\n",
       "      <th>50%</th>\n",
       "      <th>75%</th>\n",
       "      <th>max</th>\n",
       "    </tr>\n",
       "  </thead>\n",
       "  <tbody>\n",
       "    <tr>\n",
       "      <th>unixtime</th>\n",
       "      <td>6577.0</td>\n",
       "      <td>1.330508e+09</td>\n",
       "      <td>1.579230e+08</td>\n",
       "      <td>1.060992e+09</td>\n",
       "      <td>1.194739e+09</td>\n",
       "      <td>1.329005e+09</td>\n",
       "      <td>1.463270e+09</td>\n",
       "      <td>1.607818e+09</td>\n",
       "    </tr>\n",
       "    <tr>\n",
       "      <th>HFUD</th>\n",
       "      <td>6577.0</td>\n",
       "      <td>6.651237e+05</td>\n",
       "      <td>4.424553e+05</td>\n",
       "      <td>1.728000e+05</td>\n",
       "      <td>5.184000e+05</td>\n",
       "      <td>6.048000e+05</td>\n",
       "      <td>6.912000e+05</td>\n",
       "      <td>9.158400e+06</td>\n",
       "    </tr>\n",
       "    <tr>\n",
       "      <th>AFUD</th>\n",
       "      <td>6577.0</td>\n",
       "      <td>6.686574e+05</td>\n",
       "      <td>4.453174e+05</td>\n",
       "      <td>1.728000e+05</td>\n",
       "      <td>5.184000e+05</td>\n",
       "      <td>6.048000e+05</td>\n",
       "      <td>6.912000e+05</td>\n",
       "      <td>9.244800e+06</td>\n",
       "    </tr>\n",
       "    <tr>\n",
       "      <th>HGDPH</th>\n",
       "      <td>6577.0</td>\n",
       "      <td>3.210430e+00</td>\n",
       "      <td>8.552016e+00</td>\n",
       "      <td>-2.700000e+01</td>\n",
       "      <td>-2.000000e+00</td>\n",
       "      <td>1.000000e+00</td>\n",
       "      <td>6.000000e+00</td>\n",
       "      <td>4.800000e+01</td>\n",
       "    </tr>\n",
       "    <tr>\n",
       "      <th>AGDPH</th>\n",
       "      <td>6577.0</td>\n",
       "      <td>3.388475e+00</td>\n",
       "      <td>8.873558e+00</td>\n",
       "      <td>-2.700000e+01</td>\n",
       "      <td>-2.000000e+00</td>\n",
       "      <td>1.000000e+00</td>\n",
       "      <td>7.000000e+00</td>\n",
       "      <td>4.700000e+01</td>\n",
       "    </tr>\n",
       "    <tr>\n",
       "      <th>HGDPA</th>\n",
       "      <td>6577.0</td>\n",
       "      <td>-3.296792e+00</td>\n",
       "      <td>8.739233e+00</td>\n",
       "      <td>-3.800000e+01</td>\n",
       "      <td>-8.000000e+00</td>\n",
       "      <td>-2.000000e+00</td>\n",
       "      <td>1.000000e+00</td>\n",
       "      <td>3.100000e+01</td>\n",
       "    </tr>\n",
       "    <tr>\n",
       "      <th>AGDPA</th>\n",
       "      <td>6577.0</td>\n",
       "      <td>-3.117227e+00</td>\n",
       "      <td>8.424874e+00</td>\n",
       "      <td>-3.600000e+01</td>\n",
       "      <td>-8.000000e+00</td>\n",
       "      <td>-2.000000e+00</td>\n",
       "      <td>1.000000e+00</td>\n",
       "      <td>3.100000e+01</td>\n",
       "    </tr>\n",
       "    <tr>\n",
       "      <th>HTGD</th>\n",
       "      <td>6577.0</td>\n",
       "      <td>-8.636156e-02</td>\n",
       "      <td>1.525004e+01</td>\n",
       "      <td>-6.500000e+01</td>\n",
       "      <td>-9.000000e+00</td>\n",
       "      <td>-1.000000e+00</td>\n",
       "      <td>6.000000e+00</td>\n",
       "      <td>7.600000e+01</td>\n",
       "    </tr>\n",
       "    <tr>\n",
       "      <th>ATGD</th>\n",
       "      <td>6577.0</td>\n",
       "      <td>2.712483e-01</td>\n",
       "      <td>1.523877e+01</td>\n",
       "      <td>-6.300000e+01</td>\n",
       "      <td>-8.000000e+00</td>\n",
       "      <td>-1.000000e+00</td>\n",
       "      <td>6.000000e+00</td>\n",
       "      <td>7.800000e+01</td>\n",
       "    </tr>\n",
       "    <tr>\n",
       "      <th>HCP</th>\n",
       "      <td>6577.0</td>\n",
       "      <td>2.496321e+01</td>\n",
       "      <td>1.826593e+01</td>\n",
       "      <td>0.000000e+00</td>\n",
       "      <td>1.000000e+01</td>\n",
       "      <td>2.200000e+01</td>\n",
       "      <td>3.600000e+01</td>\n",
       "      <td>9.400000e+01</td>\n",
       "    </tr>\n",
       "    <tr>\n",
       "      <th>ACP</th>\n",
       "      <td>6577.0</td>\n",
       "      <td>2.520116e+01</td>\n",
       "      <td>1.826272e+01</td>\n",
       "      <td>0.000000e+00</td>\n",
       "      <td>1.100000e+01</td>\n",
       "      <td>2.200000e+01</td>\n",
       "      <td>3.700000e+01</td>\n",
       "      <td>9.700000e+01</td>\n",
       "    </tr>\n",
       "    <tr>\n",
       "      <th>HGP</th>\n",
       "      <td>6577.0</td>\n",
       "      <td>1.826958e+01</td>\n",
       "      <td>1.101722e+01</td>\n",
       "      <td>0.000000e+00</td>\n",
       "      <td>9.000000e+00</td>\n",
       "      <td>1.800000e+01</td>\n",
       "      <td>2.800000e+01</td>\n",
       "      <td>3.700000e+01</td>\n",
       "    </tr>\n",
       "    <tr>\n",
       "      <th>AGP</th>\n",
       "      <td>6577.0</td>\n",
       "      <td>1.826304e+01</td>\n",
       "      <td>1.101446e+01</td>\n",
       "      <td>0.000000e+00</td>\n",
       "      <td>9.000000e+00</td>\n",
       "      <td>1.800000e+01</td>\n",
       "      <td>2.800000e+01</td>\n",
       "      <td>3.700000e+01</td>\n",
       "    </tr>\n",
       "    <tr>\n",
       "      <th>HSOV</th>\n",
       "      <td>6577.0</td>\n",
       "      <td>1.823277e-01</td>\n",
       "      <td>2.512375e-01</td>\n",
       "      <td>0.000000e+00</td>\n",
       "      <td>0.000000e+00</td>\n",
       "      <td>0.000000e+00</td>\n",
       "      <td>3.528768e-01</td>\n",
       "      <td>9.326951e-01</td>\n",
       "    </tr>\n",
       "    <tr>\n",
       "      <th>ASOV</th>\n",
       "      <td>6577.0</td>\n",
       "      <td>1.178555e-01</td>\n",
       "      <td>2.253690e-01</td>\n",
       "      <td>0.000000e+00</td>\n",
       "      <td>0.000000e+00</td>\n",
       "      <td>0.000000e+00</td>\n",
       "      <td>1.111111e-01</td>\n",
       "      <td>9.310629e-01</td>\n",
       "    </tr>\n",
       "    <tr>\n",
       "      <th>HHGD</th>\n",
       "      <td>6577.0</td>\n",
       "      <td>-7.343774e-02</td>\n",
       "      <td>7.446397e+00</td>\n",
       "      <td>-2.600000e+01</td>\n",
       "      <td>-4.000000e+00</td>\n",
       "      <td>0.000000e+00</td>\n",
       "      <td>3.000000e+00</td>\n",
       "      <td>3.900000e+01</td>\n",
       "    </tr>\n",
       "    <tr>\n",
       "      <th>AHGD</th>\n",
       "      <td>6577.0</td>\n",
       "      <td>9.016269e-02</td>\n",
       "      <td>7.439062e+00</td>\n",
       "      <td>-2.700000e+01</td>\n",
       "      <td>-4.000000e+00</td>\n",
       "      <td>0.000000e+00</td>\n",
       "      <td>3.000000e+00</td>\n",
       "      <td>3.800000e+01</td>\n",
       "    </tr>\n",
       "    <tr>\n",
       "      <th>HSPG</th>\n",
       "      <td>6577.0</td>\n",
       "      <td>1.184885e+01</td>\n",
       "      <td>3.322437e+00</td>\n",
       "      <td>0.000000e+00</td>\n",
       "      <td>1.014286e+01</td>\n",
       "      <td>1.173077e+01</td>\n",
       "      <td>1.368750e+01</td>\n",
       "      <td>2.900000e+01</td>\n",
       "    </tr>\n",
       "    <tr>\n",
       "      <th>ASPG</th>\n",
       "      <td>6577.0</td>\n",
       "      <td>1.201691e+01</td>\n",
       "      <td>3.396606e+00</td>\n",
       "      <td>0.000000e+00</td>\n",
       "      <td>1.025000e+01</td>\n",
       "      <td>1.183333e+01</td>\n",
       "      <td>1.386111e+01</td>\n",
       "      <td>3.100000e+01</td>\n",
       "    </tr>\n",
       "    <tr>\n",
       "      <th>HTSPG</th>\n",
       "      <td>6577.0</td>\n",
       "      <td>5.335754e+00</td>\n",
       "      <td>2.046286e+00</td>\n",
       "      <td>0.000000e+00</td>\n",
       "      <td>4.000000e+00</td>\n",
       "      <td>5.280000e+00</td>\n",
       "      <td>6.541667e+00</td>\n",
       "      <td>1.400000e+01</td>\n",
       "    </tr>\n",
       "    <tr>\n",
       "      <th>ATSPG</th>\n",
       "      <td>6577.0</td>\n",
       "      <td>5.407125e+00</td>\n",
       "      <td>2.103561e+00</td>\n",
       "      <td>0.000000e+00</td>\n",
       "      <td>4.000000e+00</td>\n",
       "      <td>5.342857e+00</td>\n",
       "      <td>6.625000e+00</td>\n",
       "      <td>1.900000e+01</td>\n",
       "    </tr>\n",
       "    <tr>\n",
       "      <th>HFPG</th>\n",
       "      <td>6577.0</td>\n",
       "      <td>1.141299e+01</td>\n",
       "      <td>2.669619e+00</td>\n",
       "      <td>0.000000e+00</td>\n",
       "      <td>1.035484e+01</td>\n",
       "      <td>1.150000e+01</td>\n",
       "      <td>1.285714e+01</td>\n",
       "      <td>2.700000e+01</td>\n",
       "    </tr>\n",
       "    <tr>\n",
       "      <th>AFPG</th>\n",
       "      <td>6577.0</td>\n",
       "      <td>1.140100e+01</td>\n",
       "      <td>2.643419e+00</td>\n",
       "      <td>0.000000e+00</td>\n",
       "      <td>1.035714e+01</td>\n",
       "      <td>1.150000e+01</td>\n",
       "      <td>1.282609e+01</td>\n",
       "      <td>2.700000e+01</td>\n",
       "    </tr>\n",
       "    <tr>\n",
       "      <th>HCPG</th>\n",
       "      <td>6577.0</td>\n",
       "      <td>5.217831e+00</td>\n",
       "      <td>1.507103e+00</td>\n",
       "      <td>0.000000e+00</td>\n",
       "      <td>4.545455e+00</td>\n",
       "      <td>5.200000e+00</td>\n",
       "      <td>6.000000e+00</td>\n",
       "      <td>1.300000e+01</td>\n",
       "    </tr>\n",
       "    <tr>\n",
       "      <th>ACPG</th>\n",
       "      <td>6577.0</td>\n",
       "      <td>5.294177e+00</td>\n",
       "      <td>1.550093e+00</td>\n",
       "      <td>0.000000e+00</td>\n",
       "      <td>4.583333e+00</td>\n",
       "      <td>5.250000e+00</td>\n",
       "      <td>6.105263e+00</td>\n",
       "      <td>1.800000e+01</td>\n",
       "    </tr>\n",
       "    <tr>\n",
       "      <th>HYPG</th>\n",
       "      <td>6577.0</td>\n",
       "      <td>1.610342e+00</td>\n",
       "      <td>5.342753e-01</td>\n",
       "      <td>0.000000e+00</td>\n",
       "      <td>1.363636e+00</td>\n",
       "      <td>1.621622e+00</td>\n",
       "      <td>1.909091e+00</td>\n",
       "      <td>5.000000e+00</td>\n",
       "    </tr>\n",
       "    <tr>\n",
       "      <th>AYPG</th>\n",
       "      <td>6577.0</td>\n",
       "      <td>1.588356e+00</td>\n",
       "      <td>5.274367e-01</td>\n",
       "      <td>0.000000e+00</td>\n",
       "      <td>1.344828e+00</td>\n",
       "      <td>1.607143e+00</td>\n",
       "      <td>1.894737e+00</td>\n",
       "      <td>5.000000e+00</td>\n",
       "    </tr>\n",
       "    <tr>\n",
       "      <th>HRPG</th>\n",
       "      <td>6577.0</td>\n",
       "      <td>7.933201e-02</td>\n",
       "      <td>1.046987e-01</td>\n",
       "      <td>0.000000e+00</td>\n",
       "      <td>0.000000e+00</td>\n",
       "      <td>5.882353e-02</td>\n",
       "      <td>1.176471e-01</td>\n",
       "      <td>2.000000e+00</td>\n",
       "    </tr>\n",
       "    <tr>\n",
       "      <th>ARPG</th>\n",
       "      <td>6577.0</td>\n",
       "      <td>7.719654e-02</td>\n",
       "      <td>9.714710e-02</td>\n",
       "      <td>0.000000e+00</td>\n",
       "      <td>0.000000e+00</td>\n",
       "      <td>5.882353e-02</td>\n",
       "      <td>1.176471e-01</td>\n",
       "      <td>2.000000e+00</td>\n",
       "    </tr>\n",
       "  </tbody>\n",
       "</table>\n",
       "</div>"
      ],
      "text/plain": [
       "           count          mean           std           min           25%  \\\n",
       "unixtime  6577.0  1.330508e+09  1.579230e+08  1.060992e+09  1.194739e+09   \n",
       "HFUD      6577.0  6.651237e+05  4.424553e+05  1.728000e+05  5.184000e+05   \n",
       "AFUD      6577.0  6.686574e+05  4.453174e+05  1.728000e+05  5.184000e+05   \n",
       "HGDPH     6577.0  3.210430e+00  8.552016e+00 -2.700000e+01 -2.000000e+00   \n",
       "AGDPH     6577.0  3.388475e+00  8.873558e+00 -2.700000e+01 -2.000000e+00   \n",
       "HGDPA     6577.0 -3.296792e+00  8.739233e+00 -3.800000e+01 -8.000000e+00   \n",
       "AGDPA     6577.0 -3.117227e+00  8.424874e+00 -3.600000e+01 -8.000000e+00   \n",
       "HTGD      6577.0 -8.636156e-02  1.525004e+01 -6.500000e+01 -9.000000e+00   \n",
       "ATGD      6577.0  2.712483e-01  1.523877e+01 -6.300000e+01 -8.000000e+00   \n",
       "HCP       6577.0  2.496321e+01  1.826593e+01  0.000000e+00  1.000000e+01   \n",
       "ACP       6577.0  2.520116e+01  1.826272e+01  0.000000e+00  1.100000e+01   \n",
       "HGP       6577.0  1.826958e+01  1.101722e+01  0.000000e+00  9.000000e+00   \n",
       "AGP       6577.0  1.826304e+01  1.101446e+01  0.000000e+00  9.000000e+00   \n",
       "HSOV      6577.0  1.823277e-01  2.512375e-01  0.000000e+00  0.000000e+00   \n",
       "ASOV      6577.0  1.178555e-01  2.253690e-01  0.000000e+00  0.000000e+00   \n",
       "HHGD      6577.0 -7.343774e-02  7.446397e+00 -2.600000e+01 -4.000000e+00   \n",
       "AHGD      6577.0  9.016269e-02  7.439062e+00 -2.700000e+01 -4.000000e+00   \n",
       "HSPG      6577.0  1.184885e+01  3.322437e+00  0.000000e+00  1.014286e+01   \n",
       "ASPG      6577.0  1.201691e+01  3.396606e+00  0.000000e+00  1.025000e+01   \n",
       "HTSPG     6577.0  5.335754e+00  2.046286e+00  0.000000e+00  4.000000e+00   \n",
       "ATSPG     6577.0  5.407125e+00  2.103561e+00  0.000000e+00  4.000000e+00   \n",
       "HFPG      6577.0  1.141299e+01  2.669619e+00  0.000000e+00  1.035484e+01   \n",
       "AFPG      6577.0  1.140100e+01  2.643419e+00  0.000000e+00  1.035714e+01   \n",
       "HCPG      6577.0  5.217831e+00  1.507103e+00  0.000000e+00  4.545455e+00   \n",
       "ACPG      6577.0  5.294177e+00  1.550093e+00  0.000000e+00  4.583333e+00   \n",
       "HYPG      6577.0  1.610342e+00  5.342753e-01  0.000000e+00  1.363636e+00   \n",
       "AYPG      6577.0  1.588356e+00  5.274367e-01  0.000000e+00  1.344828e+00   \n",
       "HRPG      6577.0  7.933201e-02  1.046987e-01  0.000000e+00  0.000000e+00   \n",
       "ARPG      6577.0  7.719654e-02  9.714710e-02  0.000000e+00  0.000000e+00   \n",
       "\n",
       "                   50%           75%           max  \n",
       "unixtime  1.329005e+09  1.463270e+09  1.607818e+09  \n",
       "HFUD      6.048000e+05  6.912000e+05  9.158400e+06  \n",
       "AFUD      6.048000e+05  6.912000e+05  9.244800e+06  \n",
       "HGDPH     1.000000e+00  6.000000e+00  4.800000e+01  \n",
       "AGDPH     1.000000e+00  7.000000e+00  4.700000e+01  \n",
       "HGDPA    -2.000000e+00  1.000000e+00  3.100000e+01  \n",
       "AGDPA    -2.000000e+00  1.000000e+00  3.100000e+01  \n",
       "HTGD     -1.000000e+00  6.000000e+00  7.600000e+01  \n",
       "ATGD     -1.000000e+00  6.000000e+00  7.800000e+01  \n",
       "HCP       2.200000e+01  3.600000e+01  9.400000e+01  \n",
       "ACP       2.200000e+01  3.700000e+01  9.700000e+01  \n",
       "HGP       1.800000e+01  2.800000e+01  3.700000e+01  \n",
       "AGP       1.800000e+01  2.800000e+01  3.700000e+01  \n",
       "HSOV      0.000000e+00  3.528768e-01  9.326951e-01  \n",
       "ASOV      0.000000e+00  1.111111e-01  9.310629e-01  \n",
       "HHGD      0.000000e+00  3.000000e+00  3.900000e+01  \n",
       "AHGD      0.000000e+00  3.000000e+00  3.800000e+01  \n",
       "HSPG      1.173077e+01  1.368750e+01  2.900000e+01  \n",
       "ASPG      1.183333e+01  1.386111e+01  3.100000e+01  \n",
       "HTSPG     5.280000e+00  6.541667e+00  1.400000e+01  \n",
       "ATSPG     5.342857e+00  6.625000e+00  1.900000e+01  \n",
       "HFPG      1.150000e+01  1.285714e+01  2.700000e+01  \n",
       "AFPG      1.150000e+01  1.282609e+01  2.700000e+01  \n",
       "HCPG      5.200000e+00  6.000000e+00  1.300000e+01  \n",
       "ACPG      5.250000e+00  6.105263e+00  1.800000e+01  \n",
       "HYPG      1.621622e+00  1.909091e+00  5.000000e+00  \n",
       "AYPG      1.607143e+00  1.894737e+00  5.000000e+00  \n",
       "HRPG      5.882353e-02  1.176471e-01  2.000000e+00  \n",
       "ARPG      5.882353e-02  1.176471e-01  2.000000e+00  "
      ]
     },
     "execution_count": 3,
     "metadata": {},
     "output_type": "execute_result"
    }
   ],
   "source": [
    "full_df.describe().transpose()"
   ]
  },
  {
   "cell_type": "markdown",
   "metadata": {},
   "source": [
    "#### Plot Bargraph of Final Time Results Count"
   ]
  },
  {
   "cell_type": "code",
   "execution_count": 4,
   "metadata": {
    "scrolled": true
   },
   "outputs": [
    {
     "name": "stderr",
     "output_type": "stream",
     "text": [
      "c:\\users\\roberto ruiz\\.conda\\envs\\plpenv\\lib\\site-packages\\seaborn\\_decorators.py:36: FutureWarning: Pass the following variable as a keyword arg: x. From version 0.12, the only valid positional argument will be `data`, and passing other arguments without an explicit keyword will result in an error or misinterpretation.\n",
      "  warnings.warn(\n"
     ]
    },
    {
     "data": {
      "text/plain": [
       "<AxesSubplot:xlabel='FTR', ylabel='count'>"
      ]
     },
     "execution_count": 4,
     "metadata": {},
     "output_type": "execute_result"
    },
    {
     "data": {
      "image/png": "[encoded data removed]",
      "text/plain": [
       "<Figure size 432x288 with 1 Axes>"
      ]
     },
     "metadata": {
      "needs_background": "light"
     },
     "output_type": "display_data"
    }
   ],
   "source": [
    "sns.countplot(full_df['FTR'])"
   ]
  },
  {
   "cell_type": "markdown",
   "metadata": {},
   "source": [
    "#### Calculate Percentage of Home team wins, Away team wins, and Draws"
   ]
  },
  {
   "cell_type": "code",
   "execution_count": 5,
   "metadata": {},
   "outputs": [
    {
     "data": {
      "text/plain": [
       "H    0.461761\n",
       "A    0.288125\n",
       "D    0.250114\n",
       "Name: FTR, dtype: float64"
      ]
     },
     "execution_count": 5,
     "metadata": {},
     "output_type": "execute_result"
    }
   ],
   "source": [
    "full_df['FTR'].value_counts()/len(full_df)"
   ]
  },
  {
   "cell_type": "markdown",
   "metadata": {},
   "source": [
    "#### Replace Categorical Values\n",
    "Let's replace categorical values \"A\", \"D\", and \"H\" from the FTR column with 0, 1, and 2, respectively. This is done because our ANN will need numerical values for classification."
   ]
  },
  {
   "cell_type": "code",
   "execution_count": 6,
   "metadata": {
    "scrolled": true
   },
   "outputs": [
    {
     "data": {
      "text/html": [
       "<div>\n",
       "<style scoped>\n",
       "    .dataframe tbody tr th:only-of-type {\n",
       "        vertical-align: middle;\n",
       "    }\n",
       "\n",
       "    .dataframe tbody tr th {\n",
       "        vertical-align: top;\n",
       "    }\n",
       "\n",
       "    .dataframe thead th {\n",
       "        text-align: right;\n",
       "    }\n",
       "</style>\n",
       "<table border=\"1\" class=\"dataframe\">\n",
       "  <thead>\n",
       "    <tr style=\"text-align: right;\">\n",
       "      <th></th>\n",
       "      <th>HomeTeam</th>\n",
       "      <th>AwayTeam</th>\n",
       "      <th>FTR</th>\n",
       "      <th>unixtime</th>\n",
       "      <th>HFUD</th>\n",
       "      <th>AFUD</th>\n",
       "      <th>HGDPH</th>\n",
       "      <th>AGDPH</th>\n",
       "      <th>HGDPA</th>\n",
       "      <th>AGDPA</th>\n",
       "      <th>...</th>\n",
       "      <th>HTSPG</th>\n",
       "      <th>ATSPG</th>\n",
       "      <th>HFPG</th>\n",
       "      <th>AFPG</th>\n",
       "      <th>HCPG</th>\n",
       "      <th>ACPG</th>\n",
       "      <th>HYPG</th>\n",
       "      <th>AYPG</th>\n",
       "      <th>HRPG</th>\n",
       "      <th>ARPG</th>\n",
       "    </tr>\n",
       "  </thead>\n",
       "  <tbody>\n",
       "    <tr>\n",
       "      <th>0</th>\n",
       "      <td>Arsenal</td>\n",
       "      <td>Everton</td>\n",
       "      <td>2</td>\n",
       "      <td>1060992000</td>\n",
       "      <td>1209600.0</td>\n",
       "      <td>1209600.0</td>\n",
       "      <td>0.0</td>\n",
       "      <td>0.0</td>\n",
       "      <td>0.0</td>\n",
       "      <td>0.0</td>\n",
       "      <td>...</td>\n",
       "      <td>0.0</td>\n",
       "      <td>0.0</td>\n",
       "      <td>0.0</td>\n",
       "      <td>0.0</td>\n",
       "      <td>0.0</td>\n",
       "      <td>0.0</td>\n",
       "      <td>0.0</td>\n",
       "      <td>0.0</td>\n",
       "      <td>0.0</td>\n",
       "      <td>0.0</td>\n",
       "    </tr>\n",
       "    <tr>\n",
       "      <th>1</th>\n",
       "      <td>Birmingham</td>\n",
       "      <td>Tottenham</td>\n",
       "      <td>2</td>\n",
       "      <td>1060992000</td>\n",
       "      <td>1209600.0</td>\n",
       "      <td>1209600.0</td>\n",
       "      <td>0.0</td>\n",
       "      <td>0.0</td>\n",
       "      <td>0.0</td>\n",
       "      <td>0.0</td>\n",
       "      <td>...</td>\n",
       "      <td>0.0</td>\n",
       "      <td>0.0</td>\n",
       "      <td>0.0</td>\n",
       "      <td>0.0</td>\n",
       "      <td>0.0</td>\n",
       "      <td>0.0</td>\n",
       "      <td>0.0</td>\n",
       "      <td>0.0</td>\n",
       "      <td>0.0</td>\n",
       "      <td>0.0</td>\n",
       "    </tr>\n",
       "    <tr>\n",
       "      <th>2</th>\n",
       "      <td>Blackburn</td>\n",
       "      <td>Wolves</td>\n",
       "      <td>2</td>\n",
       "      <td>1060992000</td>\n",
       "      <td>1209600.0</td>\n",
       "      <td>1209600.0</td>\n",
       "      <td>0.0</td>\n",
       "      <td>0.0</td>\n",
       "      <td>0.0</td>\n",
       "      <td>0.0</td>\n",
       "      <td>...</td>\n",
       "      <td>0.0</td>\n",
       "      <td>0.0</td>\n",
       "      <td>0.0</td>\n",
       "      <td>0.0</td>\n",
       "      <td>0.0</td>\n",
       "      <td>0.0</td>\n",
       "      <td>0.0</td>\n",
       "      <td>0.0</td>\n",
       "      <td>0.0</td>\n",
       "      <td>0.0</td>\n",
       "    </tr>\n",
       "    <tr>\n",
       "      <th>3</th>\n",
       "      <td>Fulham</td>\n",
       "      <td>Middlesbrough</td>\n",
       "      <td>2</td>\n",
       "      <td>1060992000</td>\n",
       "      <td>1209600.0</td>\n",
       "      <td>1209600.0</td>\n",
       "      <td>0.0</td>\n",
       "      <td>0.0</td>\n",
       "      <td>0.0</td>\n",
       "      <td>0.0</td>\n",
       "      <td>...</td>\n",
       "      <td>0.0</td>\n",
       "      <td>0.0</td>\n",
       "      <td>0.0</td>\n",
       "      <td>0.0</td>\n",
       "      <td>0.0</td>\n",
       "      <td>0.0</td>\n",
       "      <td>0.0</td>\n",
       "      <td>0.0</td>\n",
       "      <td>0.0</td>\n",
       "      <td>0.0</td>\n",
       "    </tr>\n",
       "    <tr>\n",
       "      <th>4</th>\n",
       "      <td>Leicester</td>\n",
       "      <td>Southampton</td>\n",
       "      <td>1</td>\n",
       "      <td>1060992000</td>\n",
       "      <td>1209600.0</td>\n",
       "      <td>1209600.0</td>\n",
       "      <td>0.0</td>\n",
       "      <td>0.0</td>\n",
       "      <td>0.0</td>\n",
       "      <td>0.0</td>\n",
       "      <td>...</td>\n",
       "      <td>0.0</td>\n",
       "      <td>0.0</td>\n",
       "      <td>0.0</td>\n",
       "      <td>0.0</td>\n",
       "      <td>0.0</td>\n",
       "      <td>0.0</td>\n",
       "      <td>0.0</td>\n",
       "      <td>0.0</td>\n",
       "      <td>0.0</td>\n",
       "      <td>0.0</td>\n",
       "    </tr>\n",
       "  </tbody>\n",
       "</table>\n",
       "<p>5 rows × 32 columns</p>\n",
       "</div>"
      ],
      "text/plain": [
       "     HomeTeam       AwayTeam  FTR    unixtime       HFUD       AFUD  HGDPH  \\\n",
       "0     Arsenal        Everton    2  1060992000  1209600.0  1209600.0    0.0   \n",
       "1  Birmingham      Tottenham    2  1060992000  1209600.0  1209600.0    0.0   \n",
       "2   Blackburn         Wolves    2  1060992000  1209600.0  1209600.0    0.0   \n",
       "3      Fulham  Middlesbrough    2  1060992000  1209600.0  1209600.0    0.0   \n",
       "4   Leicester    Southampton    1  1060992000  1209600.0  1209600.0    0.0   \n",
       "\n",
       "   AGDPH  HGDPA  AGDPA  ...  HTSPG  ATSPG  HFPG  AFPG  HCPG  ACPG  HYPG  AYPG  \\\n",
       "0    0.0    0.0    0.0  ...    0.0    0.0   0.0   0.0   0.0   0.0   0.0   0.0   \n",
       "1    0.0    0.0    0.0  ...    0.0    0.0   0.0   0.0   0.0   0.0   0.0   0.0   \n",
       "2    0.0    0.0    0.0  ...    0.0    0.0   0.0   0.0   0.0   0.0   0.0   0.0   \n",
       "3    0.0    0.0    0.0  ...    0.0    0.0   0.0   0.0   0.0   0.0   0.0   0.0   \n",
       "4    0.0    0.0    0.0  ...    0.0    0.0   0.0   0.0   0.0   0.0   0.0   0.0   \n",
       "\n",
       "   HRPG  ARPG  \n",
       "0   0.0   0.0  \n",
       "1   0.0   0.0  \n",
       "2   0.0   0.0  \n",
       "3   0.0   0.0  \n",
       "4   0.0   0.0  \n",
       "\n",
       "[5 rows x 32 columns]"
      ]
     },
     "execution_count": 6,
     "metadata": {},
     "output_type": "execute_result"
    }
   ],
   "source": [
    "full_df['FTR'].replace({'A':0, 'D':1, 'H':2}, inplace=True)\n",
    "full_df.head(5)"
   ]
  },
  {
   "cell_type": "code",
   "execution_count": 7,
   "metadata": {},
   "outputs": [],
   "source": [
    "class2indx = {0:'A',1:'D',2:'H'}"
   ]
  },
  {
   "cell_type": "markdown",
   "metadata": {},
   "source": [
    "#### Seperate Predictor Features and Labels"
   ]
  },
  {
   "cell_type": "code",
   "execution_count": 8,
   "metadata": {
    "scrolled": true
   },
   "outputs": [
    {
     "data": {
      "text/plain": [
       "0       2\n",
       "1       2\n",
       "2       2\n",
       "3       2\n",
       "4       1\n",
       "       ..\n",
       "6572    2\n",
       "6573    1\n",
       "6574    1\n",
       "6575    0\n",
       "6576    2\n",
       "Name: FTR, Length: 6577, dtype: int64"
      ]
     },
     "execution_count": 8,
     "metadata": {},
     "output_type": "execute_result"
    }
   ],
   "source": [
    "df_X = full_df.drop(columns=['HomeTeam','AwayTeam','FTR'])\n",
    "s_y = full_df['FTR']\n",
    "s_y"
   ]
  },
  {
   "cell_type": "markdown",
   "metadata": {},
   "source": [
    "#### Normalize Predictor Features\n",
    "We need to normalize input features between the interval [0,1]."
   ]
  },
  {
   "cell_type": "code",
   "execution_count": 9,
   "metadata": {
    "scrolled": true
   },
   "outputs": [
    {
     "data": {
      "text/html": [
       "<div>\n",
       "<style scoped>\n",
       "    .dataframe tbody tr th:only-of-type {\n",
       "        vertical-align: middle;\n",
       "    }\n",
       "\n",
       "    .dataframe tbody tr th {\n",
       "        vertical-align: top;\n",
       "    }\n",
       "\n",
       "    .dataframe thead th {\n",
       "        text-align: right;\n",
       "    }\n",
       "</style>\n",
       "<table border=\"1\" class=\"dataframe\">\n",
       "  <thead>\n",
       "    <tr style=\"text-align: right;\">\n",
       "      <th></th>\n",
       "      <th>unixtime</th>\n",
       "      <th>HFUD</th>\n",
       "      <th>AFUD</th>\n",
       "      <th>HGDPH</th>\n",
       "      <th>AGDPH</th>\n",
       "      <th>HGDPA</th>\n",
       "      <th>AGDPA</th>\n",
       "      <th>HTGD</th>\n",
       "      <th>ATGD</th>\n",
       "      <th>HCP</th>\n",
       "      <th>...</th>\n",
       "      <th>HTSPG</th>\n",
       "      <th>ATSPG</th>\n",
       "      <th>HFPG</th>\n",
       "      <th>AFPG</th>\n",
       "      <th>HCPG</th>\n",
       "      <th>ACPG</th>\n",
       "      <th>HYPG</th>\n",
       "      <th>AYPG</th>\n",
       "      <th>HRPG</th>\n",
       "      <th>ARPG</th>\n",
       "    </tr>\n",
       "  </thead>\n",
       "  <tbody>\n",
       "    <tr>\n",
       "      <th>0</th>\n",
       "      <td>0.0</td>\n",
       "      <td>0.115385</td>\n",
       "      <td>0.114286</td>\n",
       "      <td>0.360000</td>\n",
       "      <td>0.364865</td>\n",
       "      <td>0.550725</td>\n",
       "      <td>0.537313</td>\n",
       "      <td>0.460993</td>\n",
       "      <td>0.446809</td>\n",
       "      <td>0.000000</td>\n",
       "      <td>...</td>\n",
       "      <td>0.000000</td>\n",
       "      <td>0.000000</td>\n",
       "      <td>0.000000</td>\n",
       "      <td>0.000000</td>\n",
       "      <td>0.000000</td>\n",
       "      <td>0.000000</td>\n",
       "      <td>0.000000</td>\n",
       "      <td>0.000000</td>\n",
       "      <td>0.000000</td>\n",
       "      <td>0.000000</td>\n",
       "    </tr>\n",
       "    <tr>\n",
       "      <th>1</th>\n",
       "      <td>0.0</td>\n",
       "      <td>0.115385</td>\n",
       "      <td>0.114286</td>\n",
       "      <td>0.360000</td>\n",
       "      <td>0.364865</td>\n",
       "      <td>0.550725</td>\n",
       "      <td>0.537313</td>\n",
       "      <td>0.460993</td>\n",
       "      <td>0.446809</td>\n",
       "      <td>0.000000</td>\n",
       "      <td>...</td>\n",
       "      <td>0.000000</td>\n",
       "      <td>0.000000</td>\n",
       "      <td>0.000000</td>\n",
       "      <td>0.000000</td>\n",
       "      <td>0.000000</td>\n",
       "      <td>0.000000</td>\n",
       "      <td>0.000000</td>\n",
       "      <td>0.000000</td>\n",
       "      <td>0.000000</td>\n",
       "      <td>0.000000</td>\n",
       "    </tr>\n",
       "    <tr>\n",
       "      <th>2</th>\n",
       "      <td>0.0</td>\n",
       "      <td>0.115385</td>\n",
       "      <td>0.114286</td>\n",
       "      <td>0.360000</td>\n",
       "      <td>0.364865</td>\n",
       "      <td>0.550725</td>\n",
       "      <td>0.537313</td>\n",
       "      <td>0.460993</td>\n",
       "      <td>0.446809</td>\n",
       "      <td>0.000000</td>\n",
       "      <td>...</td>\n",
       "      <td>0.000000</td>\n",
       "      <td>0.000000</td>\n",
       "      <td>0.000000</td>\n",
       "      <td>0.000000</td>\n",
       "      <td>0.000000</td>\n",
       "      <td>0.000000</td>\n",
       "      <td>0.000000</td>\n",
       "      <td>0.000000</td>\n",
       "      <td>0.000000</td>\n",
       "      <td>0.000000</td>\n",
       "    </tr>\n",
       "    <tr>\n",
       "      <th>3</th>\n",
       "      <td>0.0</td>\n",
       "      <td>0.115385</td>\n",
       "      <td>0.114286</td>\n",
       "      <td>0.360000</td>\n",
       "      <td>0.364865</td>\n",
       "      <td>0.550725</td>\n",
       "      <td>0.537313</td>\n",
       "      <td>0.460993</td>\n",
       "      <td>0.446809</td>\n",
       "      <td>0.000000</td>\n",
       "      <td>...</td>\n",
       "      <td>0.000000</td>\n",
       "      <td>0.000000</td>\n",
       "      <td>0.000000</td>\n",
       "      <td>0.000000</td>\n",
       "      <td>0.000000</td>\n",
       "      <td>0.000000</td>\n",
       "      <td>0.000000</td>\n",
       "      <td>0.000000</td>\n",
       "      <td>0.000000</td>\n",
       "      <td>0.000000</td>\n",
       "    </tr>\n",
       "    <tr>\n",
       "      <th>4</th>\n",
       "      <td>0.0</td>\n",
       "      <td>0.115385</td>\n",
       "      <td>0.114286</td>\n",
       "      <td>0.360000</td>\n",
       "      <td>0.364865</td>\n",
       "      <td>0.550725</td>\n",
       "      <td>0.537313</td>\n",
       "      <td>0.460993</td>\n",
       "      <td>0.446809</td>\n",
       "      <td>0.000000</td>\n",
       "      <td>...</td>\n",
       "      <td>0.000000</td>\n",
       "      <td>0.000000</td>\n",
       "      <td>0.000000</td>\n",
       "      <td>0.000000</td>\n",
       "      <td>0.000000</td>\n",
       "      <td>0.000000</td>\n",
       "      <td>0.000000</td>\n",
       "      <td>0.000000</td>\n",
       "      <td>0.000000</td>\n",
       "      <td>0.000000</td>\n",
       "    </tr>\n",
       "    <tr>\n",
       "      <th>...</th>\n",
       "      <td>...</td>\n",
       "      <td>...</td>\n",
       "      <td>...</td>\n",
       "      <td>...</td>\n",
       "      <td>...</td>\n",
       "      <td>...</td>\n",
       "      <td>...</td>\n",
       "      <td>...</td>\n",
       "      <td>...</td>\n",
       "      <td>...</td>\n",
       "      <td>...</td>\n",
       "      <td>...</td>\n",
       "      <td>...</td>\n",
       "      <td>...</td>\n",
       "      <td>...</td>\n",
       "      <td>...</td>\n",
       "      <td>...</td>\n",
       "      <td>...</td>\n",
       "      <td>...</td>\n",
       "      <td>...</td>\n",
       "      <td>...</td>\n",
       "    </tr>\n",
       "    <tr>\n",
       "      <th>6572</th>\n",
       "      <td>1.0</td>\n",
       "      <td>0.038462</td>\n",
       "      <td>0.047619</td>\n",
       "      <td>0.386667</td>\n",
       "      <td>0.283784</td>\n",
       "      <td>0.579710</td>\n",
       "      <td>0.432836</td>\n",
       "      <td>0.489362</td>\n",
       "      <td>0.354610</td>\n",
       "      <td>0.212766</td>\n",
       "      <td>...</td>\n",
       "      <td>0.350649</td>\n",
       "      <td>0.153110</td>\n",
       "      <td>0.478114</td>\n",
       "      <td>0.437710</td>\n",
       "      <td>0.279720</td>\n",
       "      <td>0.282828</td>\n",
       "      <td>0.290909</td>\n",
       "      <td>0.272727</td>\n",
       "      <td>0.000000</td>\n",
       "      <td>0.045455</td>\n",
       "    </tr>\n",
       "    <tr>\n",
       "      <th>6573</th>\n",
       "      <td>1.0</td>\n",
       "      <td>0.048077</td>\n",
       "      <td>0.047619</td>\n",
       "      <td>0.373333</td>\n",
       "      <td>0.418919</td>\n",
       "      <td>0.550725</td>\n",
       "      <td>0.686567</td>\n",
       "      <td>0.468085</td>\n",
       "      <td>0.546099</td>\n",
       "      <td>0.170213</td>\n",
       "      <td>...</td>\n",
       "      <td>0.272727</td>\n",
       "      <td>0.258373</td>\n",
       "      <td>0.417508</td>\n",
       "      <td>0.478114</td>\n",
       "      <td>0.398601</td>\n",
       "      <td>0.227273</td>\n",
       "      <td>0.290909</td>\n",
       "      <td>0.236364</td>\n",
       "      <td>0.045455</td>\n",
       "      <td>0.000000</td>\n",
       "    </tr>\n",
       "    <tr>\n",
       "      <th>6574</th>\n",
       "      <td>1.0</td>\n",
       "      <td>0.057692</td>\n",
       "      <td>0.047619</td>\n",
       "      <td>0.280000</td>\n",
       "      <td>0.527027</td>\n",
       "      <td>0.492754</td>\n",
       "      <td>0.492537</td>\n",
       "      <td>0.390071</td>\n",
       "      <td>0.510638</td>\n",
       "      <td>0.074468</td>\n",
       "      <td>...</td>\n",
       "      <td>0.279221</td>\n",
       "      <td>0.334928</td>\n",
       "      <td>0.468013</td>\n",
       "      <td>0.377104</td>\n",
       "      <td>0.286713</td>\n",
       "      <td>0.333333</td>\n",
       "      <td>0.400000</td>\n",
       "      <td>0.163636</td>\n",
       "      <td>0.045455</td>\n",
       "      <td>0.000000</td>\n",
       "    </tr>\n",
       "    <tr>\n",
       "      <th>6575</th>\n",
       "      <td>1.0</td>\n",
       "      <td>0.048077</td>\n",
       "      <td>0.057143</td>\n",
       "      <td>0.320000</td>\n",
       "      <td>0.310811</td>\n",
       "      <td>0.536232</td>\n",
       "      <td>0.402985</td>\n",
       "      <td>0.432624</td>\n",
       "      <td>0.354610</td>\n",
       "      <td>0.138298</td>\n",
       "      <td>...</td>\n",
       "      <td>0.220779</td>\n",
       "      <td>0.142105</td>\n",
       "      <td>0.377104</td>\n",
       "      <td>0.377778</td>\n",
       "      <td>0.391608</td>\n",
       "      <td>0.244444</td>\n",
       "      <td>0.290909</td>\n",
       "      <td>0.260000</td>\n",
       "      <td>0.045455</td>\n",
       "      <td>0.000000</td>\n",
       "    </tr>\n",
       "    <tr>\n",
       "      <th>6576</th>\n",
       "      <td>1.0</td>\n",
       "      <td>0.048077</td>\n",
       "      <td>0.038095</td>\n",
       "      <td>0.333333</td>\n",
       "      <td>0.310811</td>\n",
       "      <td>0.666667</td>\n",
       "      <td>0.552239</td>\n",
       "      <td>0.503546</td>\n",
       "      <td>0.425532</td>\n",
       "      <td>0.223404</td>\n",
       "      <td>...</td>\n",
       "      <td>0.318182</td>\n",
       "      <td>0.181818</td>\n",
       "      <td>0.350168</td>\n",
       "      <td>0.484848</td>\n",
       "      <td>0.405594</td>\n",
       "      <td>0.272727</td>\n",
       "      <td>0.436364</td>\n",
       "      <td>0.327273</td>\n",
       "      <td>0.000000</td>\n",
       "      <td>0.136364</td>\n",
       "    </tr>\n",
       "  </tbody>\n",
       "</table>\n",
       "<p>6577 rows × 29 columns</p>\n",
       "</div>"
      ],
      "text/plain": [
       "      unixtime      HFUD      AFUD     HGDPH     AGDPH     HGDPA     AGDPA  \\\n",
       "0          0.0  0.115385  0.114286  0.360000  0.364865  0.550725  0.537313   \n",
       "1          0.0  0.115385  0.114286  0.360000  0.364865  0.550725  0.537313   \n",
       "2          0.0  0.115385  0.114286  0.360000  0.364865  0.550725  0.537313   \n",
       "3          0.0  0.115385  0.114286  0.360000  0.364865  0.550725  0.537313   \n",
       "4          0.0  0.115385  0.114286  0.360000  0.364865  0.550725  0.537313   \n",
       "...        ...       ...       ...       ...       ...       ...       ...   \n",
       "6572       1.0  0.038462  0.047619  0.386667  0.283784  0.579710  0.432836   \n",
       "6573       1.0  0.048077  0.047619  0.373333  0.418919  0.550725  0.686567   \n",
       "6574       1.0  0.057692  0.047619  0.280000  0.527027  0.492754  0.492537   \n",
       "6575       1.0  0.048077  0.057143  0.320000  0.310811  0.536232  0.402985   \n",
       "6576       1.0  0.048077  0.038095  0.333333  0.310811  0.666667  0.552239   \n",
       "\n",
       "          HTGD      ATGD       HCP  ...     HTSPG     ATSPG      HFPG  \\\n",
       "0     0.460993  0.446809  0.000000  ...  0.000000  0.000000  0.000000   \n",
       "1     0.460993  0.446809  0.000000  ...  0.000000  0.000000  0.000000   \n",
       "2     0.460993  0.446809  0.000000  ...  0.000000  0.000000  0.000000   \n",
       "3     0.460993  0.446809  0.000000  ...  0.000000  0.000000  0.000000   \n",
       "4     0.460993  0.446809  0.000000  ...  0.000000  0.000000  0.000000   \n",
       "...        ...       ...       ...  ...       ...       ...       ...   \n",
       "6572  0.489362  0.354610  0.212766  ...  0.350649  0.153110  0.478114   \n",
       "6573  0.468085  0.546099  0.170213  ...  0.272727  0.258373  0.417508   \n",
       "6574  0.390071  0.510638  0.074468  ...  0.279221  0.334928  0.468013   \n",
       "6575  0.432624  0.354610  0.138298  ...  0.220779  0.142105  0.377104   \n",
       "6576  0.503546  0.425532  0.223404  ...  0.318182  0.181818  0.350168   \n",
       "\n",
       "          AFPG      HCPG      ACPG      HYPG      AYPG      HRPG      ARPG  \n",
       "0     0.000000  0.000000  0.000000  0.000000  0.000000  0.000000  0.000000  \n",
       "1     0.000000  0.000000  0.000000  0.000000  0.000000  0.000000  0.000000  \n",
       "2     0.000000  0.000000  0.000000  0.000000  0.000000  0.000000  0.000000  \n",
       "3     0.000000  0.000000  0.000000  0.000000  0.000000  0.000000  0.000000  \n",
       "4     0.000000  0.000000  0.000000  0.000000  0.000000  0.000000  0.000000  \n",
       "...        ...       ...       ...       ...       ...       ...       ...  \n",
       "6572  0.437710  0.279720  0.282828  0.290909  0.272727  0.000000  0.045455  \n",
       "6573  0.478114  0.398601  0.227273  0.290909  0.236364  0.045455  0.000000  \n",
       "6574  0.377104  0.286713  0.333333  0.400000  0.163636  0.045455  0.000000  \n",
       "6575  0.377778  0.391608  0.244444  0.290909  0.260000  0.045455  0.000000  \n",
       "6576  0.484848  0.405594  0.272727  0.436364  0.327273  0.000000  0.136364  \n",
       "\n",
       "[6577 rows x 29 columns]"
      ]
     },
     "execution_count": 9,
     "metadata": {},
     "output_type": "execute_result"
    }
   ],
   "source": [
    "df_X = df_X.apply(lambda column: (column - min(column))/(max(column)-min(column)), axis=0)\n",
    "df_X"
   ]
  },
  {
   "cell_type": "markdown",
   "metadata": {},
   "source": [
    "#### Split Data Into Training, Validation, and Testing Sets\n",
    "We first split our data into train/validation (combined) set and test set. Then take the train/validation set and split it into a train set and validation set. <br><br>\n",
    "Set stratify to the corresponding labels to balance the unbalanced data set."
   ]
  },
  {
   "cell_type": "code",
   "execution_count": 10,
   "metadata": {},
   "outputs": [],
   "source": [
    "# Split train/validation and testing sets\n",
    "X_val_train, X_test, y_val_train, y_test = train_test_split(df_X, s_y, test_size = 0.2, stratify=s_y, random_state = 21)\n",
    "\n",
    "# Split train and validation\n",
    "X_train, X_val, y_train, y_val = train_test_split(X_val_train, y_val_train, test_size = 0.2, stratify=y_val_train, random_state = 69)"
   ]
  },
  {
   "cell_type": "markdown",
   "metadata": {},
   "source": [
    "#### Check if Distributions are Similar for All Sets"
   ]
  },
  {
   "cell_type": "code",
   "execution_count": 11,
   "metadata": {},
   "outputs": [
    {
     "data": {
      "text/plain": [
       "2    0.461740\n",
       "0    0.288023\n",
       "1    0.250238\n",
       "Name: FTR, dtype: float64"
      ]
     },
     "execution_count": 11,
     "metadata": {},
     "output_type": "execute_result"
    }
   ],
   "source": [
    "y_train.value_counts()/len(y_train)"
   ]
  },
  {
   "cell_type": "code",
   "execution_count": 12,
   "metadata": {},
   "outputs": [
    {
     "data": {
      "text/plain": [
       "2    0.461538\n",
       "0    0.288699\n",
       "1    0.249763\n",
       "Name: FTR, dtype: float64"
      ]
     },
     "execution_count": 12,
     "metadata": {},
     "output_type": "execute_result"
    }
   ],
   "source": [
    "y_val.value_counts()/len(y_val)"
   ]
  },
  {
   "cell_type": "code",
   "execution_count": 13,
   "metadata": {},
   "outputs": [
    {
     "data": {
      "text/plain": [
       "2    0.462006\n",
       "0    0.287994\n",
       "1    0.250000\n",
       "Name: FTR, dtype: float64"
      ]
     },
     "execution_count": 13,
     "metadata": {},
     "output_type": "execute_result"
    }
   ],
   "source": [
    "y_test.value_counts()/len(y_test)"
   ]
  },
  {
   "cell_type": "markdown",
   "metadata": {},
   "source": [
    "#### Create a Dataset Class\n",
    "Inherit from pytroch's Dataset class and define initialization, getitem, and length functions."
   ]
  },
  {
   "cell_type": "code",
   "execution_count": 14,
   "metadata": {},
   "outputs": [],
   "source": [
    "class PLDataset(Dataset):\n",
    "    \n",
    "    def __init__(self, X_features, y_labels):\n",
    "        self.X_features = X_features\n",
    "        self.y_labels = y_labels\n",
    "        \n",
    "    def __getitem__(self, index):\n",
    "        return self.X_features[index], self.y_labels[index]\n",
    "    \n",
    "    def __len__(self):\n",
    "        return len(self.X_features)"
   ]
  },
  {
   "cell_type": "markdown",
   "metadata": {},
   "source": [
    "#### Make Datasets into Object Datasets\n",
    "Turn the training, validation, and testing datasets into PLDataset objects. Turn predictor features and labels from numpy arrays to torch tensors."
   ]
  },
  {
   "cell_type": "code",
   "execution_count": 15,
   "metadata": {},
   "outputs": [],
   "source": [
    "train_set = PLDataset(torch.from_numpy(X_train.values).float(), torch.from_numpy(y_train.values).long())\n",
    "val_set = PLDataset(torch.from_numpy(X_val.values).float(), torch.from_numpy(y_val.values).long())\n",
    "test_set = PLDataset(torch.from_numpy(X_test.values).float(), torch.from_numpy(y_test.values).long())"
   ]
  },
  {
   "cell_type": "markdown",
   "metadata": {},
   "source": [
    "#### Class Balancing in Batches\n",
    "Although training, validation, and test datasets were stratified, each batch will no necessarily be balanced. Let's attempt to balance the classes in each batch of training our ANN sees, so it can be better trained for each case.\n",
    "<br><br>\n",
    "Obtain all labels from the training set in a list and convert to a tensor. We can now count the amount of times each class appears in our training labels, make weights of each class from these counts (meant to over-represent under-represented classes), and apply the weights to the labels tensor."
   ]
  },
  {
   "cell_type": "code",
   "execution_count": 16,
   "metadata": {},
   "outputs": [],
   "source": [
    "targets = [y for x,y in train_set] \n",
    "targets = torch.tensor(targets)\n",
    "class_count = [i for i in y_train.value_counts()]\n",
    "class_weights = 1./torch.tensor(class_count, dtype=torch.float) \n",
    "weight_per_sample = class_weights[targets]"
   ]
  },
  {
   "cell_type": "markdown",
   "metadata": {},
   "source": [
    "#### Create a Weighted Random Sampler Object\n",
    "Use the weight_per_sample as the weights parameter. This is done to balance the classes. Set replacement to true (sampling with replacement)."
   ]
  },
  {
   "cell_type": "code",
   "execution_count": 17,
   "metadata": {},
   "outputs": [],
   "source": [
    "sample_weights = WeightedRandomSampler(weights=weight_per_sample, num_samples=len(weight_per_sample), replacement=True)"
   ]
  },
  {
   "cell_type": "markdown",
   "metadata": {},
   "source": [
    "#### Set Important Variables\n",
    "Choose epochs, batch size, and learning rate. Multiple epochs, batch sizes, and learning rates were tested and these seemed to give the best result."
   ]
  },
  {
   "cell_type": "code",
   "execution_count": 18,
   "metadata": {},
   "outputs": [],
   "source": [
    "EPOCHS = 300\n",
    "BATCH_SIZE = 8\n",
    "LEARNING_RATE = 0.0007\n",
    "NUM_FEATURES = len(df_X.columns)\n",
    "NUM_CLASSES = 3"
   ]
  },
  {
   "cell_type": "markdown",
   "metadata": {},
   "source": [
    "#### Declare DataLoader Objects for Training, Validation, and Testing"
   ]
  },
  {
   "cell_type": "code",
   "execution_count": 19,
   "metadata": {},
   "outputs": [],
   "source": [
    "train_DL = DataLoader(dataset=train_set, batch_size=BATCH_SIZE, sampler=sample_weights)\n",
    "val_DL = DataLoader(dataset=val_set)\n",
    "test_DL = DataLoader(dataset=test_set)"
   ]
  },
  {
   "cell_type": "markdown",
   "metadata": {},
   "source": [
    "#### Create Artificial Neural Network\n",
    "Now we need to create a fully connected artificial neural network. This ANN will contain an input layer, a hidden layer with a ReLU activation function, and an output layer with a softmax activation function."
   ]
  },
  {
   "cell_type": "code",
   "execution_count": 20,
   "metadata": {},
   "outputs": [],
   "source": [
    "class PLNN(nn.Module):\n",
    "    \n",
    "    def __init__(self, n_features, n_classes):\n",
    "        super().__init__()\n",
    "        self.fc1 = nn.Linear(n_features,16)\n",
    "        self.fc2 = nn.Linear(16, n_classes)\n",
    "        \n",
    "        self.relu = nn.ReLU()\n",
    "        self.batchn1 = nn.BatchNorm1d(16)\n",
    "        \n",
    "    def forward(self, x):\n",
    "        x = self.relu(self.batchn1(self.fc1(x)))\n",
    "        x = self.fc2(x)\n",
    "        \n",
    "        return x\n",
    "        "
   ]
  },
  {
   "cell_type": "code",
   "execution_count": 21,
   "metadata": {},
   "outputs": [],
   "source": [
    "# let's set our device (cuda if available --> cpu if not )\n",
    "device = torch.device(\"cuda:0\" if torch.cuda.is_available() else \"cpu\")"
   ]
  },
  {
   "cell_type": "markdown",
   "metadata": {},
   "source": [
    "#### Declare PLNN (Premier League Neural Network) Object\n",
    "Make an instance of the PLNN object and make it run on gpu or cpu. The criterion is going to be the loss function that will be used for this ANN. Refer to the <a href=\"https://pytorch.org/docs/stable/generated/torch.nn.CrossEntropyLoss.html\">documentation</a> for more information. For our optimizer we will use Adam (Adaptive Moment Estimation) optimization. Adam is a variant of stochastic gradient descent. Print the model to observe the structure."
   ]
  },
  {
   "cell_type": "code",
   "execution_count": 22,
   "metadata": {},
   "outputs": [
    {
     "data": {
      "text/plain": [
       "PLNN(\n",
       "  (fc1): Linear(in_features=29, out_features=16, bias=True)\n",
       "  (fc2): Linear(in_features=16, out_features=3, bias=True)\n",
       "  (relu): ReLU()\n",
       "  (batchn1): BatchNorm1d(16, eps=1e-05, momentum=0.1, affine=True, track_running_stats=True)\n",
       ")"
      ]
     },
     "execution_count": 22,
     "metadata": {},
     "output_type": "execute_result"
    }
   ],
   "source": [
    "model = PLNN(NUM_FEATURES, NUM_CLASSES)\n",
    "model.to(device)\n",
    "criterion = nn.CrossEntropyLoss(weight=class_weights.to(device))\n",
    "optimizer = optim.Adam(model.parameters(), lr=LEARNING_RATE)\n",
    "model"
   ]
  },
  {
   "cell_type": "markdown",
   "metadata": {},
   "source": [
    "#### Function to Calculate Accuracy Per Epoch"
   ]
  },
  {
   "cell_type": "code",
   "execution_count": 23,
   "metadata": {},
   "outputs": [],
   "source": [
    "def acc_epoch(y_resp, y_correct):\n",
    "    \n",
    "    y_resp_softmax = torch.log_softmax(y_resp, dim = 1)\n",
    "    values, y_resp_idxs = torch.max(y_resp_softmax, dim = 1)   \n",
    "    correct = (y_resp_idxs == y_correct).float()\n",
    "    acc = correct.sum() / len(correct)\n",
    "    \n",
    "    return torch.round(acc) * 100"
   ]
  },
  {
   "cell_type": "code",
   "execution_count": 24,
   "metadata": {},
   "outputs": [],
   "source": [
    "acc_dict = {'train': [], \"val\": [] }\n",
    "loss_dict = {'train': [], \"val\": [] }"
   ]
  },
  {
   "cell_type": "markdown",
   "metadata": {},
   "source": [
    "#### Train Model and Use Model With Validation Set\n",
    "The code below is from an <a href=\"https://towardsdatascience.com/pytorch-tabular-multiclass-classification-9f8211a123ab\">article</a> written by Akshaj Verma. This code trains the ANN and tests the ANN on the validation set after each epoch. It also prints and formats accuracy and loss at each epoch nicely."
   ]
  },
  {
   "cell_type": "code",
   "execution_count": 25,
   "metadata": {
    "scrolled": true
   },
   "outputs": [
    {
     "name": "stderr",
     "output_type": "stream",
     "text": [
      "  0%|▎                                                                                 | 1/300 [00:03<15:32,  3.12s/it]"
     ]
    },
    {
     "name": "stdout",
     "output_type": "stream",
     "text": [
      "Epoch 001: | Train Loss: 0.63667 | Val Loss: 0.49023 | Train Acc: 78.327| Val Acc: 86.325\n"
     ]
    },
    {
     "name": "stderr",
     "output_type": "stream",
     "text": [
      "\r",
      "  1%|▌                                                                                 | 2/300 [00:05<13:50,  2.79s/it]"
     ]
    },
    {
     "name": "stdout",
     "output_type": "stream",
     "text": [
      "Epoch 002: | Train Loss: 0.35797 | Val Loss: 0.27992 | Train Acc: 96.578| Val Acc: 91.453\n"
     ]
    },
    {
     "name": "stderr",
     "output_type": "stream",
     "text": [
      "\r",
      "  1%|▊                                                                                 | 3/300 [00:06<12:20,  2.49s/it]"
     ]
    },
    {
     "name": "stdout",
     "output_type": "stream",
     "text": [
      "Epoch 003: | Train Loss: 0.30676 | Val Loss: 0.23723 | Train Acc: 98.289| Val Acc: 92.023\n"
     ]
    },
    {
     "name": "stderr",
     "output_type": "stream",
     "text": [
      "\r",
      "  1%|█                                                                                 | 4/300 [00:08<11:12,  2.27s/it]"
     ]
    },
    {
     "name": "stdout",
     "output_type": "stream",
     "text": [
      "Epoch 004: | Train Loss: 0.27374 | Val Loss: 0.23190 | Train Acc: 98.479| Val Acc: 92.023\n"
     ]
    },
    {
     "name": "stderr",
     "output_type": "stream",
     "text": [
      "\r",
      "  2%|█▎                                                                                | 5/300 [00:10<10:22,  2.11s/it]"
     ]
    },
    {
     "name": "stdout",
     "output_type": "stream",
     "text": [
      "Epoch 005: | Train Loss: 0.26641 | Val Loss: 0.24601 | Train Acc: 98.859| Val Acc: 91.928\n"
     ]
    },
    {
     "name": "stderr",
     "output_type": "stream",
     "text": [
      "\r",
      "  2%|█▋                                                                                | 6/300 [00:12<09:45,  1.99s/it]"
     ]
    },
    {
     "name": "stdout",
     "output_type": "stream",
     "text": [
      "Epoch 006: | Train Loss: 0.25533 | Val Loss: 0.22103 | Train Acc: 98.859| Val Acc: 92.498\n"
     ]
    },
    {
     "name": "stderr",
     "output_type": "stream",
     "text": [
      "\r",
      "  2%|█▉                                                                                | 7/300 [00:13<09:20,  1.91s/it]"
     ]
    },
    {
     "name": "stdout",
     "output_type": "stream",
     "text": [
      "Epoch 007: | Train Loss: 0.24023 | Val Loss: 0.21692 | Train Acc: 98.669| Val Acc: 91.833\n"
     ]
    },
    {
     "name": "stderr",
     "output_type": "stream",
     "text": [
      "\r",
      "  3%|██▏                                                                               | 8/300 [00:15<09:01,  1.86s/it]"
     ]
    },
    {
     "name": "stdout",
     "output_type": "stream",
     "text": [
      "Epoch 008: | Train Loss: 0.25280 | Val Loss: 0.19885 | Train Acc: 98.479| Val Acc: 92.498\n"
     ]
    },
    {
     "name": "stderr",
     "output_type": "stream",
     "text": [
      "\r",
      "  3%|██▍                                                                               | 9/300 [00:17<08:48,  1.81s/it]"
     ]
    },
    {
     "name": "stdout",
     "output_type": "stream",
     "text": [
      "Epoch 009: | Train Loss: 0.23598 | Val Loss: 0.19168 | Train Acc: 99.049| Val Acc: 92.023\n"
     ]
    },
    {
     "name": "stderr",
     "output_type": "stream",
     "text": [
      "\r",
      "  3%|██▋                                                                              | 10/300 [00:19<08:38,  1.79s/it]"
     ]
    },
    {
     "name": "stdout",
     "output_type": "stream",
     "text": [
      "Epoch 010: | Train Loss: 0.23168 | Val Loss: 0.20295 | Train Acc: 98.479| Val Acc: 92.403\n"
     ]
    },
    {
     "name": "stderr",
     "output_type": "stream",
     "text": [
      "\r",
      "  4%|██▉                                                                              | 11/300 [00:20<08:31,  1.77s/it]"
     ]
    },
    {
     "name": "stdout",
     "output_type": "stream",
     "text": [
      "Epoch 011: | Train Loss: 0.21515 | Val Loss: 0.20150 | Train Acc: 98.669| Val Acc: 92.023\n"
     ]
    },
    {
     "name": "stderr",
     "output_type": "stream",
     "text": [
      "\r",
      "  4%|███▏                                                                             | 12/300 [00:22<08:32,  1.78s/it]"
     ]
    },
    {
     "name": "stdout",
     "output_type": "stream",
     "text": [
      "Epoch 012: | Train Loss: 0.21896 | Val Loss: 0.19371 | Train Acc: 99.430| Val Acc: 91.738\n"
     ]
    },
    {
     "name": "stderr",
     "output_type": "stream",
     "text": [
      "\r",
      "  4%|███▌                                                                             | 13/300 [00:24<08:34,  1.79s/it]"
     ]
    },
    {
     "name": "stdout",
     "output_type": "stream",
     "text": [
      "Epoch 013: | Train Loss: 0.21912 | Val Loss: 0.18722 | Train Acc: 98.669| Val Acc: 92.498\n"
     ]
    },
    {
     "name": "stderr",
     "output_type": "stream",
     "text": [
      "\r",
      "  5%|███▊                                                                             | 14/300 [00:26<08:48,  1.85s/it]"
     ]
    },
    {
     "name": "stdout",
     "output_type": "stream",
     "text": [
      "Epoch 014: | Train Loss: 0.22289 | Val Loss: 0.19368 | Train Acc: 98.669| Val Acc: 92.972\n"
     ]
    },
    {
     "name": "stderr",
     "output_type": "stream",
     "text": [
      "\r",
      "  5%|████                                                                             | 15/300 [00:28<08:37,  1.82s/it]"
     ]
    },
    {
     "name": "stdout",
     "output_type": "stream",
     "text": [
      "Epoch 015: | Train Loss: 0.21568 | Val Loss: 0.19942 | Train Acc: 99.240| Val Acc: 92.213\n"
     ]
    },
    {
     "name": "stderr",
     "output_type": "stream",
     "text": [
      "\r",
      "  5%|████▎                                                                            | 16/300 [00:29<08:31,  1.80s/it]"
     ]
    },
    {
     "name": "stdout",
     "output_type": "stream",
     "text": [
      "Epoch 016: | Train Loss: 0.20555 | Val Loss: 0.18713 | Train Acc: 99.430| Val Acc: 92.688\n"
     ]
    },
    {
     "name": "stderr",
     "output_type": "stream",
     "text": [
      "\r",
      "  6%|████▌                                                                            | 17/300 [00:31<08:25,  1.78s/it]"
     ]
    },
    {
     "name": "stdout",
     "output_type": "stream",
     "text": [
      "Epoch 017: | Train Loss: 0.22480 | Val Loss: 0.19093 | Train Acc: 98.859| Val Acc: 92.403\n"
     ]
    },
    {
     "name": "stderr",
     "output_type": "stream",
     "text": [
      "\r",
      "  6%|████▊                                                                            | 18/300 [00:33<08:22,  1.78s/it]"
     ]
    },
    {
     "name": "stdout",
     "output_type": "stream",
     "text": [
      "Epoch 018: | Train Loss: 0.20880 | Val Loss: 0.18759 | Train Acc: 99.049| Val Acc: 92.498\n"
     ]
    },
    {
     "name": "stderr",
     "output_type": "stream",
     "text": [
      "\r",
      "  6%|█████▏                                                                           | 19/300 [00:35<08:19,  1.78s/it]"
     ]
    },
    {
     "name": "stdout",
     "output_type": "stream",
     "text": [
      "Epoch 019: | Train Loss: 0.20920 | Val Loss: 0.17897 | Train Acc: 99.430| Val Acc: 92.688\n"
     ]
    },
    {
     "name": "stderr",
     "output_type": "stream",
     "text": [
      "\r",
      "  7%|█████▍                                                                           | 20/300 [00:37<08:27,  1.81s/it]"
     ]
    },
    {
     "name": "stdout",
     "output_type": "stream",
     "text": [
      "Epoch 020: | Train Loss: 0.21687 | Val Loss: 0.17831 | Train Acc: 98.859| Val Acc: 92.498\n"
     ]
    },
    {
     "name": "stderr",
     "output_type": "stream",
     "text": [
      "\r",
      "  7%|█████▋                                                                           | 21/300 [00:38<08:22,  1.80s/it]"
     ]
    },
    {
     "name": "stdout",
     "output_type": "stream",
     "text": [
      "Epoch 021: | Train Loss: 0.21446 | Val Loss: 0.19180 | Train Acc: 98.859| Val Acc: 92.688\n"
     ]
    },
    {
     "name": "stderr",
     "output_type": "stream",
     "text": [
      "\r",
      "  7%|█████▉                                                                           | 22/300 [00:40<08:21,  1.80s/it]"
     ]
    },
    {
     "name": "stdout",
     "output_type": "stream",
     "text": [
      "Epoch 022: | Train Loss: 0.20554 | Val Loss: 0.18452 | Train Acc: 99.240| Val Acc: 92.498\n"
     ]
    },
    {
     "name": "stderr",
     "output_type": "stream",
     "text": [
      "\r",
      "  8%|██████▏                                                                          | 23/300 [00:42<08:11,  1.78s/it]"
     ]
    },
    {
     "name": "stdout",
     "output_type": "stream",
     "text": [
      "Epoch 023: | Train Loss: 0.19766 | Val Loss: 0.18234 | Train Acc: 99.049| Val Acc: 92.593\n"
     ]
    },
    {
     "name": "stderr",
     "output_type": "stream",
     "text": [
      "\r",
      "  8%|██████▍                                                                          | 24/300 [00:44<08:07,  1.77s/it]"
     ]
    },
    {
     "name": "stdout",
     "output_type": "stream",
     "text": [
      "Epoch 024: | Train Loss: 0.20587 | Val Loss: 0.19374 | Train Acc: 99.240| Val Acc: 92.118\n"
     ]
    },
    {
     "name": "stderr",
     "output_type": "stream",
     "text": [
      "\r",
      "  8%|██████▊                                                                          | 25/300 [00:45<08:03,  1.76s/it]"
     ]
    },
    {
     "name": "stdout",
     "output_type": "stream",
     "text": [
      "Epoch 025: | Train Loss: 0.20612 | Val Loss: 0.18604 | Train Acc: 98.859| Val Acc: 92.403\n"
     ]
    },
    {
     "name": "stderr",
     "output_type": "stream",
     "text": [
      "\r",
      "  9%|███████                                                                          | 26/300 [00:47<08:00,  1.76s/it]"
     ]
    },
    {
     "name": "stdout",
     "output_type": "stream",
     "text": [
      "Epoch 026: | Train Loss: 0.21120 | Val Loss: 0.18374 | Train Acc: 99.240| Val Acc: 92.118\n"
     ]
    },
    {
     "name": "stderr",
     "output_type": "stream",
     "text": [
      "\r",
      "  9%|███████▎                                                                         | 27/300 [00:49<07:59,  1.76s/it]"
     ]
    },
    {
     "name": "stdout",
     "output_type": "stream",
     "text": [
      "Epoch 027: | Train Loss: 0.22808 | Val Loss: 0.17807 | Train Acc: 98.859| Val Acc: 92.118\n"
     ]
    },
    {
     "name": "stderr",
     "output_type": "stream",
     "text": [
      "\r",
      "  9%|███████▌                                                                         | 28/300 [00:51<08:02,  1.77s/it]"
     ]
    },
    {
     "name": "stdout",
     "output_type": "stream",
     "text": [
      "Epoch 028: | Train Loss: 0.18801 | Val Loss: 0.19195 | Train Acc: 99.620| Val Acc: 92.403\n"
     ]
    },
    {
     "name": "stderr",
     "output_type": "stream",
     "text": [
      "\r",
      " 10%|███████▊                                                                         | 29/300 [00:53<08:09,  1.81s/it]"
     ]
    },
    {
     "name": "stdout",
     "output_type": "stream",
     "text": [
      "Epoch 029: | Train Loss: 0.20231 | Val Loss: 0.18493 | Train Acc: 98.479| Val Acc: 92.403\n"
     ]
    },
    {
     "name": "stderr",
     "output_type": "stream",
     "text": [
      "\r",
      " 10%|████████                                                                         | 30/300 [00:54<08:06,  1.80s/it]"
     ]
    },
    {
     "name": "stdout",
     "output_type": "stream",
     "text": [
      "Epoch 030: | Train Loss: 0.19919 | Val Loss: 0.19988 | Train Acc: 99.430| Val Acc: 92.308\n"
     ]
    },
    {
     "name": "stderr",
     "output_type": "stream",
     "text": [
      "\r",
      " 10%|████████▎                                                                        | 31/300 [00:56<07:59,  1.78s/it]"
     ]
    },
    {
     "name": "stdout",
     "output_type": "stream",
     "text": [
      "Epoch 031: | Train Loss: 0.19904 | Val Loss: 0.17427 | Train Acc: 99.430| Val Acc: 92.877\n"
     ]
    },
    {
     "name": "stderr",
     "output_type": "stream",
     "text": [
      "\r",
      " 11%|████████▋                                                                        | 32/300 [00:58<07:53,  1.77s/it]"
     ]
    },
    {
     "name": "stdout",
     "output_type": "stream",
     "text": [
      "Epoch 032: | Train Loss: 0.20021 | Val Loss: 0.19759 | Train Acc: 98.859| Val Acc: 91.548\n"
     ]
    },
    {
     "name": "stderr",
     "output_type": "stream",
     "text": [
      "\r",
      " 11%|████████▉                                                                        | 33/300 [01:00<07:56,  1.78s/it]"
     ]
    },
    {
     "name": "stdout",
     "output_type": "stream",
     "text": [
      "Epoch 033: | Train Loss: 0.19419 | Val Loss: 0.18408 | Train Acc: 99.430| Val Acc: 92.593\n"
     ]
    },
    {
     "name": "stderr",
     "output_type": "stream",
     "text": [
      "\r",
      " 11%|█████████▏                                                                       | 34/300 [01:01<07:52,  1.78s/it]"
     ]
    },
    {
     "name": "stdout",
     "output_type": "stream",
     "text": [
      "Epoch 034: | Train Loss: 0.20156 | Val Loss: 0.18477 | Train Acc: 99.430| Val Acc: 92.308\n"
     ]
    },
    {
     "name": "stderr",
     "output_type": "stream",
     "text": [
      "\r",
      " 12%|█████████▍                                                                       | 35/300 [01:03<07:47,  1.76s/it]"
     ]
    },
    {
     "name": "stdout",
     "output_type": "stream",
     "text": [
      "Epoch 035: | Train Loss: 0.20336 | Val Loss: 0.18843 | Train Acc: 99.430| Val Acc: 92.403\n"
     ]
    },
    {
     "name": "stderr",
     "output_type": "stream",
     "text": [
      "\r",
      " 12%|█████████▋                                                                       | 36/300 [01:05<07:45,  1.76s/it]"
     ]
    },
    {
     "name": "stdout",
     "output_type": "stream",
     "text": [
      "Epoch 036: | Train Loss: 0.19567 | Val Loss: 0.17973 | Train Acc: 99.240| Val Acc: 92.972\n"
     ]
    },
    {
     "name": "stderr",
     "output_type": "stream",
     "text": [
      "\r",
      " 12%|█████████▉                                                                       | 37/300 [01:07<07:44,  1.77s/it]"
     ]
    },
    {
     "name": "stdout",
     "output_type": "stream",
     "text": [
      "Epoch 037: | Train Loss: 0.20548 | Val Loss: 0.19701 | Train Acc: 99.049| Val Acc: 91.738\n"
     ]
    },
    {
     "name": "stderr",
     "output_type": "stream",
     "text": [
      "\r",
      " 13%|██████████▎                                                                      | 38/300 [01:08<07:42,  1.77s/it]"
     ]
    },
    {
     "name": "stdout",
     "output_type": "stream",
     "text": [
      "Epoch 038: | Train Loss: 0.19551 | Val Loss: 0.19215 | Train Acc: 99.240| Val Acc: 91.833\n"
     ]
    },
    {
     "name": "stderr",
     "output_type": "stream",
     "text": [
      "\r",
      " 13%|██████████▌                                                                      | 39/300 [01:10<07:38,  1.76s/it]"
     ]
    },
    {
     "name": "stdout",
     "output_type": "stream",
     "text": [
      "Epoch 039: | Train Loss: 0.20109 | Val Loss: 0.19034 | Train Acc: 98.479| Val Acc: 92.593\n"
     ]
    },
    {
     "name": "stderr",
     "output_type": "stream",
     "text": [
      "\r",
      " 13%|██████████▊                                                                      | 40/300 [01:12<07:36,  1.76s/it]"
     ]
    },
    {
     "name": "stdout",
     "output_type": "stream",
     "text": [
      "Epoch 040: | Train Loss: 0.20626 | Val Loss: 0.17283 | Train Acc: 98.859| Val Acc: 92.688\n"
     ]
    },
    {
     "name": "stderr",
     "output_type": "stream",
     "text": [
      "\r",
      " 14%|███████████                                                                      | 41/300 [01:14<07:36,  1.76s/it]"
     ]
    },
    {
     "name": "stdout",
     "output_type": "stream",
     "text": [
      "Epoch 041: | Train Loss: 0.19683 | Val Loss: 0.18275 | Train Acc: 99.430| Val Acc: 92.783\n"
     ]
    },
    {
     "name": "stderr",
     "output_type": "stream",
     "text": [
      "\r",
      " 14%|███████████▎                                                                     | 42/300 [01:15<07:34,  1.76s/it]"
     ]
    },
    {
     "name": "stdout",
     "output_type": "stream",
     "text": [
      "Epoch 042: | Train Loss: 0.18455 | Val Loss: 0.17341 | Train Acc: 99.810| Val Acc: 92.783\n"
     ]
    },
    {
     "name": "stderr",
     "output_type": "stream",
     "text": [
      "\r",
      " 14%|███████████▌                                                                     | 43/300 [01:17<07:30,  1.75s/it]"
     ]
    },
    {
     "name": "stdout",
     "output_type": "stream",
     "text": [
      "Epoch 043: | Train Loss: 0.18618 | Val Loss: 0.17498 | Train Acc: 99.430| Val Acc: 93.067\n"
     ]
    },
    {
     "name": "stderr",
     "output_type": "stream",
     "text": [
      "\r",
      " 15%|███████████▉                                                                     | 44/300 [01:19<07:27,  1.75s/it]"
     ]
    },
    {
     "name": "stdout",
     "output_type": "stream",
     "text": [
      "Epoch 044: | Train Loss: 0.20028 | Val Loss: 0.17747 | Train Acc: 99.430| Val Acc: 92.783\n"
     ]
    },
    {
     "name": "stderr",
     "output_type": "stream",
     "text": [
      "\r",
      " 15%|████████████▏                                                                    | 45/300 [01:21<07:24,  1.74s/it]"
     ]
    },
    {
     "name": "stdout",
     "output_type": "stream",
     "text": [
      "Epoch 045: | Train Loss: 0.17931 | Val Loss: 0.17293 | Train Acc: 99.620| Val Acc: 93.162\n"
     ]
    },
    {
     "name": "stderr",
     "output_type": "stream",
     "text": [
      "\r",
      " 15%|████████████▍                                                                    | 46/300 [01:22<07:23,  1.75s/it]"
     ]
    },
    {
     "name": "stdout",
     "output_type": "stream",
     "text": [
      "Epoch 046: | Train Loss: 0.19469 | Val Loss: 0.17119 | Train Acc: 99.620| Val Acc: 93.067\n"
     ]
    },
    {
     "name": "stderr",
     "output_type": "stream",
     "text": [
      "\r",
      " 16%|████████████▋                                                                    | 47/300 [01:24<07:25,  1.76s/it]"
     ]
    },
    {
     "name": "stdout",
     "output_type": "stream",
     "text": [
      "Epoch 047: | Train Loss: 0.18837 | Val Loss: 0.18904 | Train Acc: 99.430| Val Acc: 92.972\n"
     ]
    },
    {
     "name": "stderr",
     "output_type": "stream",
     "text": [
      "\r",
      " 16%|████████████▉                                                                    | 48/300 [01:26<07:23,  1.76s/it]"
     ]
    },
    {
     "name": "stdout",
     "output_type": "stream",
     "text": [
      "Epoch 048: | Train Loss: 0.19255 | Val Loss: 0.16991 | Train Acc: 99.430| Val Acc: 93.067\n"
     ]
    },
    {
     "name": "stderr",
     "output_type": "stream",
     "text": [
      "\r",
      " 16%|█████████████▏                                                                   | 49/300 [01:28<07:20,  1.75s/it]"
     ]
    },
    {
     "name": "stdout",
     "output_type": "stream",
     "text": [
      "Epoch 049: | Train Loss: 0.20007 | Val Loss: 0.18158 | Train Acc: 99.810| Val Acc: 92.972\n"
     ]
    },
    {
     "name": "stderr",
     "output_type": "stream",
     "text": [
      "\r",
      " 17%|█████████████▌                                                                   | 50/300 [01:29<07:17,  1.75s/it]"
     ]
    },
    {
     "name": "stdout",
     "output_type": "stream",
     "text": [
      "Epoch 050: | Train Loss: 0.19905 | Val Loss: 0.17532 | Train Acc: 99.620| Val Acc: 92.972\n"
     ]
    },
    {
     "name": "stderr",
     "output_type": "stream",
     "text": [
      "\r",
      " 17%|█████████████▊                                                                   | 51/300 [01:31<07:14,  1.75s/it]"
     ]
    },
    {
     "name": "stdout",
     "output_type": "stream",
     "text": [
      "Epoch 051: | Train Loss: 0.19052 | Val Loss: 0.17941 | Train Acc: 99.240| Val Acc: 93.067\n"
     ]
    },
    {
     "name": "stderr",
     "output_type": "stream",
     "text": [
      "\r",
      " 17%|██████████████                                                                   | 52/300 [01:33<07:12,  1.74s/it]"
     ]
    },
    {
     "name": "stdout",
     "output_type": "stream",
     "text": [
      "Epoch 052: | Train Loss: 0.19937 | Val Loss: 0.17176 | Train Acc: 99.810| Val Acc: 92.877\n"
     ]
    },
    {
     "name": "stderr",
     "output_type": "stream",
     "text": [
      "\r",
      " 18%|██████████████▎                                                                  | 53/300 [01:35<07:10,  1.74s/it]"
     ]
    },
    {
     "name": "stdout",
     "output_type": "stream",
     "text": [
      "Epoch 053: | Train Loss: 0.19620 | Val Loss: 0.17562 | Train Acc: 99.810| Val Acc: 92.498\n"
     ]
    },
    {
     "name": "stderr",
     "output_type": "stream",
     "text": [
      "\r",
      " 18%|██████████████▌                                                                  | 54/300 [01:36<07:09,  1.75s/it]"
     ]
    },
    {
     "name": "stdout",
     "output_type": "stream",
     "text": [
      "Epoch 054: | Train Loss: 0.20932 | Val Loss: 0.19026 | Train Acc: 98.859| Val Acc: 92.783\n"
     ]
    },
    {
     "name": "stderr",
     "output_type": "stream",
     "text": [
      "\r",
      " 18%|██████████████▊                                                                  | 55/300 [01:38<07:06,  1.74s/it]"
     ]
    },
    {
     "name": "stdout",
     "output_type": "stream",
     "text": [
      "Epoch 055: | Train Loss: 0.20058 | Val Loss: 0.17359 | Train Acc: 98.669| Val Acc: 93.257\n"
     ]
    },
    {
     "name": "stderr",
     "output_type": "stream",
     "text": [
      "\r",
      " 19%|███████████████                                                                  | 56/300 [01:40<07:04,  1.74s/it]"
     ]
    },
    {
     "name": "stdout",
     "output_type": "stream",
     "text": [
      "Epoch 056: | Train Loss: 0.19568 | Val Loss: 0.17766 | Train Acc: 99.049| Val Acc: 92.593\n"
     ]
    },
    {
     "name": "stderr",
     "output_type": "stream",
     "text": [
      "\r",
      " 19%|███████████████▍                                                                 | 57/300 [01:42<07:03,  1.74s/it]"
     ]
    },
    {
     "name": "stdout",
     "output_type": "stream",
     "text": [
      "Epoch 057: | Train Loss: 0.19999 | Val Loss: 0.17395 | Train Acc: 99.620| Val Acc: 92.688\n"
     ]
    },
    {
     "name": "stderr",
     "output_type": "stream",
     "text": [
      "\r",
      " 19%|███████████████▋                                                                 | 58/300 [01:43<07:04,  1.75s/it]"
     ]
    },
    {
     "name": "stdout",
     "output_type": "stream",
     "text": [
      "Epoch 058: | Train Loss: 0.18055 | Val Loss: 0.18488 | Train Acc: 99.620| Val Acc: 93.067\n"
     ]
    },
    {
     "name": "stderr",
     "output_type": "stream",
     "text": [
      "\r",
      " 20%|███████████████▉                                                                 | 59/300 [01:45<07:02,  1.75s/it]"
     ]
    },
    {
     "name": "stdout",
     "output_type": "stream",
     "text": [
      "Epoch 059: | Train Loss: 0.18560 | Val Loss: 0.17752 | Train Acc: 99.430| Val Acc: 92.783\n"
     ]
    },
    {
     "name": "stderr",
     "output_type": "stream",
     "text": [
      "\r",
      " 20%|████████████████▏                                                                | 60/300 [01:47<06:59,  1.75s/it]"
     ]
    },
    {
     "name": "stdout",
     "output_type": "stream",
     "text": [
      "Epoch 060: | Train Loss: 0.18839 | Val Loss: 0.17015 | Train Acc: 99.430| Val Acc: 92.877\n"
     ]
    },
    {
     "name": "stderr",
     "output_type": "stream",
     "text": [
      "\r",
      " 20%|████████████████▍                                                                | 61/300 [01:49<06:57,  1.75s/it]"
     ]
    },
    {
     "name": "stdout",
     "output_type": "stream",
     "text": [
      "Epoch 061: | Train Loss: 0.17780 | Val Loss: 0.17458 | Train Acc: 99.240| Val Acc: 93.352\n"
     ]
    },
    {
     "name": "stderr",
     "output_type": "stream",
     "text": [
      "\r",
      " 21%|████████████████▋                                                                | 62/300 [01:50<06:56,  1.75s/it]"
     ]
    },
    {
     "name": "stdout",
     "output_type": "stream",
     "text": [
      "Epoch 062: | Train Loss: 0.18833 | Val Loss: 0.18146 | Train Acc: 99.049| Val Acc: 93.257\n"
     ]
    },
    {
     "name": "stderr",
     "output_type": "stream",
     "text": [
      "\r",
      " 21%|█████████████████                                                                | 63/300 [01:52<06:54,  1.75s/it]"
     ]
    },
    {
     "name": "stdout",
     "output_type": "stream",
     "text": [
      "Epoch 063: | Train Loss: 0.19476 | Val Loss: 0.17088 | Train Acc: 99.430| Val Acc: 93.067\n"
     ]
    },
    {
     "name": "stderr",
     "output_type": "stream",
     "text": [
      "\r",
      " 21%|█████████████████▎                                                               | 64/300 [01:54<06:54,  1.76s/it]"
     ]
    },
    {
     "name": "stdout",
     "output_type": "stream",
     "text": [
      "Epoch 064: | Train Loss: 0.18228 | Val Loss: 0.17757 | Train Acc: 99.430| Val Acc: 92.593\n"
     ]
    },
    {
     "name": "stderr",
     "output_type": "stream",
     "text": [
      "\r",
      " 22%|█████████████████▌                                                               | 65/300 [01:56<06:52,  1.75s/it]"
     ]
    },
    {
     "name": "stdout",
     "output_type": "stream",
     "text": [
      "Epoch 065: | Train Loss: 0.20533 | Val Loss: 0.17586 | Train Acc: 99.620| Val Acc: 92.972\n"
     ]
    },
    {
     "name": "stderr",
     "output_type": "stream",
     "text": [
      "\r",
      " 22%|█████████████████▊                                                               | 66/300 [01:57<06:49,  1.75s/it]"
     ]
    },
    {
     "name": "stdout",
     "output_type": "stream",
     "text": [
      "Epoch 066: | Train Loss: 0.18168 | Val Loss: 0.17658 | Train Acc: 99.810| Val Acc: 93.257\n"
     ]
    },
    {
     "name": "stderr",
     "output_type": "stream",
     "text": [
      "\r",
      " 22%|██████████████████                                                               | 67/300 [01:59<06:47,  1.75s/it]"
     ]
    },
    {
     "name": "stdout",
     "output_type": "stream",
     "text": [
      "Epoch 067: | Train Loss: 0.20525 | Val Loss: 0.17665 | Train Acc: 98.099| Val Acc: 92.877\n"
     ]
    },
    {
     "name": "stderr",
     "output_type": "stream",
     "text": [
      "\r",
      " 23%|██████████████████▎                                                              | 68/300 [02:01<06:45,  1.75s/it]"
     ]
    },
    {
     "name": "stdout",
     "output_type": "stream",
     "text": [
      "Epoch 068: | Train Loss: 0.18588 | Val Loss: 0.18596 | Train Acc: 99.430| Val Acc: 92.688\n"
     ]
    },
    {
     "name": "stderr",
     "output_type": "stream",
     "text": [
      "\r",
      " 23%|██████████████████▋                                                              | 69/300 [02:03<06:45,  1.76s/it]"
     ]
    },
    {
     "name": "stdout",
     "output_type": "stream",
     "text": [
      "Epoch 069: | Train Loss: 0.18829 | Val Loss: 0.17703 | Train Acc: 99.620| Val Acc: 93.067\n"
     ]
    },
    {
     "name": "stderr",
     "output_type": "stream",
     "text": [
      "\r",
      " 23%|██████████████████▉                                                              | 70/300 [02:04<06:43,  1.75s/it]"
     ]
    },
    {
     "name": "stdout",
     "output_type": "stream",
     "text": [
      "Epoch 070: | Train Loss: 0.19102 | Val Loss: 0.17934 | Train Acc: 99.430| Val Acc: 92.783\n"
     ]
    },
    {
     "name": "stderr",
     "output_type": "stream",
     "text": [
      "\r",
      " 24%|███████████████████▏                                                             | 71/300 [02:06<06:40,  1.75s/it]"
     ]
    },
    {
     "name": "stdout",
     "output_type": "stream",
     "text": [
      "Epoch 071: | Train Loss: 0.17463 | Val Loss: 0.17786 | Train Acc: 99.240| Val Acc: 93.067\n"
     ]
    },
    {
     "name": "stderr",
     "output_type": "stream",
     "text": [
      "\r",
      " 24%|███████████████████▍                                                             | 72/300 [02:08<06:37,  1.74s/it]"
     ]
    },
    {
     "name": "stdout",
     "output_type": "stream",
     "text": [
      "Epoch 072: | Train Loss: 0.18359 | Val Loss: 0.16631 | Train Acc: 99.810| Val Acc: 93.257\n"
     ]
    },
    {
     "name": "stderr",
     "output_type": "stream",
     "text": [
      "\r",
      " 24%|███████████████████▋                                                             | 73/300 [02:10<06:35,  1.74s/it]"
     ]
    },
    {
     "name": "stdout",
     "output_type": "stream",
     "text": [
      "Epoch 073: | Train Loss: 0.19853 | Val Loss: 0.17459 | Train Acc: 99.240| Val Acc: 92.972\n"
     ]
    },
    {
     "name": "stderr",
     "output_type": "stream",
     "text": [
      "\r",
      " 25%|███████████████████▉                                                             | 74/300 [02:11<06:34,  1.75s/it]"
     ]
    },
    {
     "name": "stdout",
     "output_type": "stream",
     "text": [
      "Epoch 074: | Train Loss: 0.19834 | Val Loss: 0.17998 | Train Acc: 99.240| Val Acc: 92.498\n"
     ]
    },
    {
     "name": "stderr",
     "output_type": "stream",
     "text": [
      "\r",
      " 25%|████████████████████▎                                                            | 75/300 [02:13<06:34,  1.75s/it]"
     ]
    },
    {
     "name": "stdout",
     "output_type": "stream",
     "text": [
      "Epoch 075: | Train Loss: 0.18700 | Val Loss: 0.18359 | Train Acc: 99.620| Val Acc: 92.498\n"
     ]
    },
    {
     "name": "stderr",
     "output_type": "stream",
     "text": [
      "\r",
      " 25%|████████████████████▌                                                            | 76/300 [02:15<06:31,  1.75s/it]"
     ]
    },
    {
     "name": "stdout",
     "output_type": "stream",
     "text": [
      "Epoch 076: | Train Loss: 0.19066 | Val Loss: 0.18184 | Train Acc: 99.620| Val Acc: 92.213\n"
     ]
    },
    {
     "name": "stderr",
     "output_type": "stream",
     "text": [
      "\r",
      " 26%|████████████████████▊                                                            | 77/300 [02:17<06:30,  1.75s/it]"
     ]
    },
    {
     "name": "stdout",
     "output_type": "stream",
     "text": [
      "Epoch 077: | Train Loss: 0.20442 | Val Loss: 0.17272 | Train Acc: 99.240| Val Acc: 92.783\n"
     ]
    },
    {
     "name": "stderr",
     "output_type": "stream",
     "text": [
      "\r",
      " 26%|█████████████████████                                                            | 78/300 [02:18<06:27,  1.75s/it]"
     ]
    },
    {
     "name": "stdout",
     "output_type": "stream",
     "text": [
      "Epoch 078: | Train Loss: 0.19443 | Val Loss: 0.18282 | Train Acc: 99.620| Val Acc: 92.972\n"
     ]
    },
    {
     "name": "stderr",
     "output_type": "stream",
     "text": [
      "\r",
      " 26%|█████████████████████▎                                                           | 79/300 [02:20<06:25,  1.74s/it]"
     ]
    },
    {
     "name": "stdout",
     "output_type": "stream",
     "text": [
      "Epoch 079: | Train Loss: 0.18894 | Val Loss: 0.17190 | Train Acc: 99.240| Val Acc: 93.162\n"
     ]
    },
    {
     "name": "stderr",
     "output_type": "stream",
     "text": [
      "\r",
      " 27%|█████████████████████▌                                                           | 80/300 [02:22<06:22,  1.74s/it]"
     ]
    },
    {
     "name": "stdout",
     "output_type": "stream",
     "text": [
      "Epoch 080: | Train Loss: 0.18458 | Val Loss: 0.17953 | Train Acc: 99.049| Val Acc: 92.972\n"
     ]
    },
    {
     "name": "stderr",
     "output_type": "stream",
     "text": [
      "\r",
      " 27%|█████████████████████▊                                                           | 81/300 [02:24<06:20,  1.74s/it]"
     ]
    },
    {
     "name": "stdout",
     "output_type": "stream",
     "text": [
      "Epoch 081: | Train Loss: 0.18671 | Val Loss: 0.17269 | Train Acc: 99.240| Val Acc: 92.783\n"
     ]
    },
    {
     "name": "stderr",
     "output_type": "stream",
     "text": [
      "\r",
      " 27%|██████████████████████▏                                                          | 82/300 [02:25<06:20,  1.74s/it]"
     ]
    },
    {
     "name": "stdout",
     "output_type": "stream",
     "text": [
      "Epoch 082: | Train Loss: 0.17722 | Val Loss: 0.17554 | Train Acc: 99.430| Val Acc: 92.688\n"
     ]
    },
    {
     "name": "stderr",
     "output_type": "stream",
     "text": [
      "\r",
      " 28%|██████████████████████▍                                                          | 83/300 [02:27<06:19,  1.75s/it]"
     ]
    },
    {
     "name": "stdout",
     "output_type": "stream",
     "text": [
      "Epoch 083: | Train Loss: 0.17584 | Val Loss: 0.17511 | Train Acc: 99.810| Val Acc: 93.257\n"
     ]
    },
    {
     "name": "stderr",
     "output_type": "stream",
     "text": [
      "\r",
      " 28%|██████████████████████▋                                                          | 84/300 [02:29<06:16,  1.74s/it]"
     ]
    },
    {
     "name": "stdout",
     "output_type": "stream",
     "text": [
      "Epoch 084: | Train Loss: 0.18644 | Val Loss: 0.18491 | Train Acc: 99.240| Val Acc: 92.118\n"
     ]
    },
    {
     "name": "stderr",
     "output_type": "stream",
     "text": [
      "\r",
      " 28%|██████████████████████▉                                                          | 85/300 [02:31<06:14,  1.74s/it]"
     ]
    },
    {
     "name": "stdout",
     "output_type": "stream",
     "text": [
      "Epoch 085: | Train Loss: 0.18561 | Val Loss: 0.17774 | Train Acc: 100.000| Val Acc: 92.593\n"
     ]
    },
    {
     "name": "stderr",
     "output_type": "stream",
     "text": [
      "\r",
      " 29%|███████████████████████▏                                                         | 86/300 [02:32<06:12,  1.74s/it]"
     ]
    },
    {
     "name": "stdout",
     "output_type": "stream",
     "text": [
      "Epoch 086: | Train Loss: 0.19167 | Val Loss: 0.17657 | Train Acc: 99.810| Val Acc: 93.067\n"
     ]
    },
    {
     "name": "stderr",
     "output_type": "stream",
     "text": [
      "\r",
      " 29%|███████████████████████▍                                                         | 87/300 [02:34<06:12,  1.75s/it]"
     ]
    },
    {
     "name": "stdout",
     "output_type": "stream",
     "text": [
      "Epoch 087: | Train Loss: 0.19940 | Val Loss: 0.18530 | Train Acc: 99.430| Val Acc: 92.783\n"
     ]
    },
    {
     "name": "stderr",
     "output_type": "stream",
     "text": [
      "\r",
      " 29%|███████████████████████▊                                                         | 88/300 [02:36<06:10,  1.75s/it]"
     ]
    },
    {
     "name": "stdout",
     "output_type": "stream",
     "text": [
      "Epoch 088: | Train Loss: 0.17612 | Val Loss: 0.17584 | Train Acc: 99.620| Val Acc: 92.213\n"
     ]
    },
    {
     "name": "stderr",
     "output_type": "stream",
     "text": [
      "\r",
      " 30%|████████████████████████                                                         | 89/300 [02:38<06:10,  1.76s/it]"
     ]
    },
    {
     "name": "stdout",
     "output_type": "stream",
     "text": [
      "Epoch 089: | Train Loss: 0.18204 | Val Loss: 0.18532 | Train Acc: 98.859| Val Acc: 92.877\n"
     ]
    },
    {
     "name": "stderr",
     "output_type": "stream",
     "text": [
      "\r",
      " 30%|████████████████████████▎                                                        | 90/300 [02:39<06:11,  1.77s/it]"
     ]
    },
    {
     "name": "stdout",
     "output_type": "stream",
     "text": [
      "Epoch 090: | Train Loss: 0.16952 | Val Loss: 0.17440 | Train Acc: 99.810| Val Acc: 92.688\n"
     ]
    },
    {
     "name": "stderr",
     "output_type": "stream",
     "text": [
      "\r",
      " 30%|████████████████████████▌                                                        | 91/300 [02:41<06:13,  1.79s/it]"
     ]
    },
    {
     "name": "stdout",
     "output_type": "stream",
     "text": [
      "Epoch 091: | Train Loss: 0.18297 | Val Loss: 0.17553 | Train Acc: 99.430| Val Acc: 92.783\n"
     ]
    },
    {
     "name": "stderr",
     "output_type": "stream",
     "text": [
      "\r",
      " 31%|████████████████████████▊                                                        | 92/300 [02:43<06:17,  1.81s/it]"
     ]
    },
    {
     "name": "stdout",
     "output_type": "stream",
     "text": [
      "Epoch 092: | Train Loss: 0.17211 | Val Loss: 0.17527 | Train Acc: 99.620| Val Acc: 92.688\n"
     ]
    },
    {
     "name": "stderr",
     "output_type": "stream",
     "text": [
      "\r",
      " 31%|█████████████████████████                                                        | 93/300 [02:45<06:16,  1.82s/it]"
     ]
    },
    {
     "name": "stdout",
     "output_type": "stream",
     "text": [
      "Epoch 093: | Train Loss: 0.16892 | Val Loss: 0.17305 | Train Acc: 99.810| Val Acc: 92.498\n"
     ]
    },
    {
     "name": "stderr",
     "output_type": "stream",
     "text": [
      "\r",
      " 31%|█████████████████████████▍                                                       | 94/300 [02:47<06:15,  1.82s/it]"
     ]
    },
    {
     "name": "stdout",
     "output_type": "stream",
     "text": [
      "Epoch 094: | Train Loss: 0.17708 | Val Loss: 0.18216 | Train Acc: 99.810| Val Acc: 92.403\n"
     ]
    },
    {
     "name": "stderr",
     "output_type": "stream",
     "text": [
      "\r",
      " 32%|█████████████████████████▋                                                       | 95/300 [02:49<06:13,  1.82s/it]"
     ]
    },
    {
     "name": "stdout",
     "output_type": "stream",
     "text": [
      "Epoch 095: | Train Loss: 0.19156 | Val Loss: 0.18366 | Train Acc: 99.049| Val Acc: 92.593\n"
     ]
    },
    {
     "name": "stderr",
     "output_type": "stream",
     "text": [
      "\r",
      " 32%|█████████████████████████▉                                                       | 96/300 [02:50<06:13,  1.83s/it]"
     ]
    },
    {
     "name": "stdout",
     "output_type": "stream",
     "text": [
      "Epoch 096: | Train Loss: 0.19440 | Val Loss: 0.17959 | Train Acc: 99.810| Val Acc: 93.067\n"
     ]
    },
    {
     "name": "stderr",
     "output_type": "stream",
     "text": [
      "\r",
      " 32%|██████████████████████████▏                                                      | 97/300 [02:52<06:16,  1.86s/it]"
     ]
    },
    {
     "name": "stdout",
     "output_type": "stream",
     "text": [
      "Epoch 097: | Train Loss: 0.17774 | Val Loss: 0.17998 | Train Acc: 99.240| Val Acc: 93.162\n"
     ]
    },
    {
     "name": "stderr",
     "output_type": "stream",
     "text": [
      "\r",
      " 33%|██████████████████████████▍                                                      | 98/300 [02:54<06:14,  1.85s/it]"
     ]
    },
    {
     "name": "stdout",
     "output_type": "stream",
     "text": [
      "Epoch 098: | Train Loss: 0.21109 | Val Loss: 0.18302 | Train Acc: 98.859| Val Acc: 92.498\n"
     ]
    },
    {
     "name": "stderr",
     "output_type": "stream",
     "text": [
      "\r",
      " 33%|██████████████████████████▋                                                      | 99/300 [02:56<06:16,  1.88s/it]"
     ]
    },
    {
     "name": "stdout",
     "output_type": "stream",
     "text": [
      "Epoch 099: | Train Loss: 0.19377 | Val Loss: 0.18172 | Train Acc: 99.240| Val Acc: 92.593\n"
     ]
    },
    {
     "name": "stderr",
     "output_type": "stream",
     "text": [
      "\r",
      " 33%|██████████████████████████▋                                                     | 100/300 [02:58<06:14,  1.87s/it]"
     ]
    },
    {
     "name": "stdout",
     "output_type": "stream",
     "text": [
      "Epoch 100: | Train Loss: 0.19108 | Val Loss: 0.17345 | Train Acc: 99.620| Val Acc: 92.783\n"
     ]
    },
    {
     "name": "stderr",
     "output_type": "stream",
     "text": [
      "\r",
      " 34%|██████████████████████████▉                                                     | 101/300 [03:00<06:08,  1.85s/it]"
     ]
    },
    {
     "name": "stdout",
     "output_type": "stream",
     "text": [
      "Epoch 101: | Train Loss: 0.17111 | Val Loss: 0.18122 | Train Acc: 99.620| Val Acc: 92.783\n"
     ]
    },
    {
     "name": "stderr",
     "output_type": "stream",
     "text": [
      "\r",
      " 34%|███████████████████████████▏                                                    | 102/300 [03:02<06:02,  1.83s/it]"
     ]
    },
    {
     "name": "stdout",
     "output_type": "stream",
     "text": [
      "Epoch 102: | Train Loss: 0.18955 | Val Loss: 0.18244 | Train Acc: 99.049| Val Acc: 92.213\n"
     ]
    },
    {
     "name": "stderr",
     "output_type": "stream",
     "text": [
      "\r",
      " 34%|███████████████████████████▍                                                    | 103/300 [03:03<05:59,  1.82s/it]"
     ]
    },
    {
     "name": "stdout",
     "output_type": "stream",
     "text": [
      "Epoch 103: | Train Loss: 0.18304 | Val Loss: 0.17293 | Train Acc: 99.049| Val Acc: 92.498\n"
     ]
    },
    {
     "name": "stderr",
     "output_type": "stream",
     "text": [
      "\r",
      " 35%|███████████████████████████▋                                                    | 104/300 [03:05<06:03,  1.85s/it]"
     ]
    },
    {
     "name": "stdout",
     "output_type": "stream",
     "text": [
      "Epoch 104: | Train Loss: 0.18353 | Val Loss: 0.18439 | Train Acc: 99.240| Val Acc: 92.877\n"
     ]
    },
    {
     "name": "stderr",
     "output_type": "stream",
     "text": [
      "\r",
      " 35%|████████████████████████████                                                    | 105/300 [03:07<06:03,  1.87s/it]"
     ]
    },
    {
     "name": "stdout",
     "output_type": "stream",
     "text": [
      "Epoch 105: | Train Loss: 0.17541 | Val Loss: 0.17435 | Train Acc: 99.810| Val Acc: 93.162\n"
     ]
    },
    {
     "name": "stderr",
     "output_type": "stream",
     "text": [
      "\r",
      " 35%|████████████████████████████▎                                                   | 106/300 [03:09<05:57,  1.84s/it]"
     ]
    },
    {
     "name": "stdout",
     "output_type": "stream",
     "text": [
      "Epoch 106: | Train Loss: 0.18651 | Val Loss: 0.17744 | Train Acc: 99.620| Val Acc: 92.593\n"
     ]
    },
    {
     "name": "stderr",
     "output_type": "stream",
     "text": [
      "\r",
      " 36%|████████████████████████████▌                                                   | 107/300 [03:11<05:58,  1.86s/it]"
     ]
    },
    {
     "name": "stdout",
     "output_type": "stream",
     "text": [
      "Epoch 107: | Train Loss: 0.19132 | Val Loss: 0.17357 | Train Acc: 100.000| Val Acc: 92.972\n"
     ]
    },
    {
     "name": "stderr",
     "output_type": "stream",
     "text": [
      "\r",
      " 36%|████████████████████████████▊                                                   | 108/300 [03:13<05:53,  1.84s/it]"
     ]
    },
    {
     "name": "stdout",
     "output_type": "stream",
     "text": [
      "Epoch 108: | Train Loss: 0.19240 | Val Loss: 0.17596 | Train Acc: 99.240| Val Acc: 92.972\n"
     ]
    },
    {
     "name": "stderr",
     "output_type": "stream",
     "text": [
      "\r",
      " 36%|█████████████████████████████                                                   | 109/300 [03:14<05:49,  1.83s/it]"
     ]
    },
    {
     "name": "stdout",
     "output_type": "stream",
     "text": [
      "Epoch 109: | Train Loss: 0.18645 | Val Loss: 0.18164 | Train Acc: 99.620| Val Acc: 92.593\n"
     ]
    },
    {
     "name": "stderr",
     "output_type": "stream",
     "text": [
      "\r",
      " 37%|█████████████████████████████▎                                                  | 110/300 [03:16<05:46,  1.83s/it]"
     ]
    },
    {
     "name": "stdout",
     "output_type": "stream",
     "text": [
      "Epoch 110: | Train Loss: 0.18491 | Val Loss: 0.17566 | Train Acc: 99.049| Val Acc: 92.593\n"
     ]
    },
    {
     "name": "stderr",
     "output_type": "stream",
     "text": [
      "\r",
      " 37%|█████████████████████████████▌                                                  | 111/300 [03:18<05:43,  1.82s/it]"
     ]
    },
    {
     "name": "stdout",
     "output_type": "stream",
     "text": [
      "Epoch 111: | Train Loss: 0.17476 | Val Loss: 0.18009 | Train Acc: 99.810| Val Acc: 92.593\n"
     ]
    },
    {
     "name": "stderr",
     "output_type": "stream",
     "text": [
      "\r",
      " 37%|█████████████████████████████▊                                                  | 112/300 [03:20<05:40,  1.81s/it]"
     ]
    },
    {
     "name": "stdout",
     "output_type": "stream",
     "text": [
      "Epoch 112: | Train Loss: 0.18340 | Val Loss: 0.16870 | Train Acc: 100.000| Val Acc: 92.783\n"
     ]
    },
    {
     "name": "stderr",
     "output_type": "stream",
     "text": [
      "\r",
      " 38%|██████████████████████████████▏                                                 | 113/300 [03:22<05:40,  1.82s/it]"
     ]
    },
    {
     "name": "stdout",
     "output_type": "stream",
     "text": [
      "Epoch 113: | Train Loss: 0.18677 | Val Loss: 0.18086 | Train Acc: 99.240| Val Acc: 92.688\n"
     ]
    },
    {
     "name": "stderr",
     "output_type": "stream",
     "text": [
      "\r",
      " 38%|██████████████████████████████▍                                                 | 114/300 [03:24<05:38,  1.82s/it]"
     ]
    },
    {
     "name": "stdout",
     "output_type": "stream",
     "text": [
      "Epoch 114: | Train Loss: 0.17578 | Val Loss: 0.17300 | Train Acc: 99.240| Val Acc: 92.498\n"
     ]
    },
    {
     "name": "stderr",
     "output_type": "stream",
     "text": [
      "\r",
      " 38%|██████████████████████████████▋                                                 | 115/300 [03:25<05:34,  1.81s/it]"
     ]
    },
    {
     "name": "stdout",
     "output_type": "stream",
     "text": [
      "Epoch 115: | Train Loss: 0.18183 | Val Loss: 0.16740 | Train Acc: 99.620| Val Acc: 92.403\n"
     ]
    },
    {
     "name": "stderr",
     "output_type": "stream",
     "text": [
      "\r",
      " 39%|██████████████████████████████▉                                                 | 116/300 [03:27<05:33,  1.81s/it]"
     ]
    },
    {
     "name": "stdout",
     "output_type": "stream",
     "text": [
      "Epoch 116: | Train Loss: 0.17625 | Val Loss: 0.17545 | Train Acc: 100.000| Val Acc: 92.498\n"
     ]
    },
    {
     "name": "stderr",
     "output_type": "stream",
     "text": [
      "\r",
      " 39%|███████████████████████████████▏                                                | 117/300 [03:29<05:31,  1.81s/it]"
     ]
    },
    {
     "name": "stdout",
     "output_type": "stream",
     "text": [
      "Epoch 117: | Train Loss: 0.18853 | Val Loss: 0.17388 | Train Acc: 99.430| Val Acc: 92.593\n"
     ]
    },
    {
     "name": "stderr",
     "output_type": "stream",
     "text": [
      "\r",
      " 39%|███████████████████████████████▍                                                | 118/300 [03:31<05:31,  1.82s/it]"
     ]
    },
    {
     "name": "stdout",
     "output_type": "stream",
     "text": [
      "Epoch 118: | Train Loss: 0.16998 | Val Loss: 0.17543 | Train Acc: 99.810| Val Acc: 93.067\n"
     ]
    },
    {
     "name": "stderr",
     "output_type": "stream",
     "text": [
      "\r",
      " 40%|███████████████████████████████▋                                                | 119/300 [03:33<05:30,  1.83s/it]"
     ]
    },
    {
     "name": "stdout",
     "output_type": "stream",
     "text": [
      "Epoch 119: | Train Loss: 0.19581 | Val Loss: 0.17792 | Train Acc: 99.049| Val Acc: 92.593\n"
     ]
    },
    {
     "name": "stderr",
     "output_type": "stream",
     "text": [
      "\r",
      " 40%|████████████████████████████████                                                | 120/300 [03:34<05:23,  1.80s/it]"
     ]
    },
    {
     "name": "stdout",
     "output_type": "stream",
     "text": [
      "Epoch 120: | Train Loss: 0.17374 | Val Loss: 0.17595 | Train Acc: 99.430| Val Acc: 92.688\n"
     ]
    },
    {
     "name": "stderr",
     "output_type": "stream",
     "text": [
      "\r",
      " 40%|████████████████████████████████▎                                               | 121/300 [03:36<05:17,  1.78s/it]"
     ]
    },
    {
     "name": "stdout",
     "output_type": "stream",
     "text": [
      "Epoch 121: | Train Loss: 0.19842 | Val Loss: 0.17658 | Train Acc: 99.240| Val Acc: 92.498\n"
     ]
    },
    {
     "name": "stderr",
     "output_type": "stream",
     "text": [
      "\r",
      " 41%|████████████████████████████████▌                                               | 122/300 [03:38<05:13,  1.76s/it]"
     ]
    },
    {
     "name": "stdout",
     "output_type": "stream",
     "text": [
      "Epoch 122: | Train Loss: 0.18309 | Val Loss: 0.17531 | Train Acc: 99.430| Val Acc: 92.972\n"
     ]
    },
    {
     "name": "stderr",
     "output_type": "stream",
     "text": [
      "\r",
      " 41%|████████████████████████████████▊                                               | 123/300 [03:40<05:12,  1.76s/it]"
     ]
    },
    {
     "name": "stdout",
     "output_type": "stream",
     "text": [
      "Epoch 123: | Train Loss: 0.18840 | Val Loss: 0.17342 | Train Acc: 99.240| Val Acc: 92.972\n"
     ]
    },
    {
     "name": "stderr",
     "output_type": "stream",
     "text": [
      "\r",
      " 41%|█████████████████████████████████                                               | 124/300 [03:41<05:10,  1.77s/it]"
     ]
    },
    {
     "name": "stdout",
     "output_type": "stream",
     "text": [
      "Epoch 124: | Train Loss: 0.18774 | Val Loss: 0.16728 | Train Acc: 99.430| Val Acc: 92.783\n"
     ]
    },
    {
     "name": "stderr",
     "output_type": "stream",
     "text": [
      "\r",
      " 42%|█████████████████████████████████▎                                              | 125/300 [03:43<05:06,  1.75s/it]"
     ]
    },
    {
     "name": "stdout",
     "output_type": "stream",
     "text": [
      "Epoch 125: | Train Loss: 0.17815 | Val Loss: 0.17183 | Train Acc: 99.810| Val Acc: 93.162\n"
     ]
    },
    {
     "name": "stderr",
     "output_type": "stream",
     "text": [
      "\r",
      " 42%|█████████████████████████████████▌                                              | 126/300 [03:45<05:18,  1.83s/it]"
     ]
    },
    {
     "name": "stdout",
     "output_type": "stream",
     "text": [
      "Epoch 126: | Train Loss: 0.17820 | Val Loss: 0.18420 | Train Acc: 99.240| Val Acc: 92.972\n"
     ]
    },
    {
     "name": "stderr",
     "output_type": "stream",
     "text": [
      "\r",
      " 42%|█████████████████████████████████▊                                              | 127/300 [03:47<05:18,  1.84s/it]"
     ]
    },
    {
     "name": "stdout",
     "output_type": "stream",
     "text": [
      "Epoch 127: | Train Loss: 0.17720 | Val Loss: 0.17220 | Train Acc: 99.810| Val Acc: 92.593\n"
     ]
    },
    {
     "name": "stderr",
     "output_type": "stream",
     "text": [
      "\r",
      " 43%|██████████████████████████████████▏                                             | 128/300 [03:49<05:13,  1.82s/it]"
     ]
    },
    {
     "name": "stdout",
     "output_type": "stream",
     "text": [
      "Epoch 128: | Train Loss: 0.17487 | Val Loss: 0.18082 | Train Acc: 99.430| Val Acc: 92.688\n"
     ]
    },
    {
     "name": "stderr",
     "output_type": "stream",
     "text": [
      "\r",
      " 43%|██████████████████████████████████▍                                             | 129/300 [03:51<05:08,  1.80s/it]"
     ]
    },
    {
     "name": "stdout",
     "output_type": "stream",
     "text": [
      "Epoch 129: | Train Loss: 0.17624 | Val Loss: 0.17450 | Train Acc: 99.620| Val Acc: 92.783\n"
     ]
    },
    {
     "name": "stderr",
     "output_type": "stream",
     "text": [
      "\r",
      " 43%|██████████████████████████████████▋                                             | 130/300 [03:52<05:02,  1.78s/it]"
     ]
    },
    {
     "name": "stdout",
     "output_type": "stream",
     "text": [
      "Epoch 130: | Train Loss: 0.16919 | Val Loss: 0.16271 | Train Acc: 99.620| Val Acc: 93.162\n"
     ]
    },
    {
     "name": "stderr",
     "output_type": "stream",
     "text": [
      "\r",
      " 44%|██████████████████████████████████▉                                             | 131/300 [03:54<04:58,  1.76s/it]"
     ]
    },
    {
     "name": "stdout",
     "output_type": "stream",
     "text": [
      "Epoch 131: | Train Loss: 0.17934 | Val Loss: 0.17183 | Train Acc: 99.620| Val Acc: 92.877\n"
     ]
    },
    {
     "name": "stderr",
     "output_type": "stream",
     "text": [
      "\r",
      " 44%|███████████████████████████████████▏                                            | 132/300 [03:56<04:55,  1.76s/it]"
     ]
    },
    {
     "name": "stdout",
     "output_type": "stream",
     "text": [
      "Epoch 132: | Train Loss: 0.16691 | Val Loss: 0.16970 | Train Acc: 99.430| Val Acc: 92.688\n"
     ]
    },
    {
     "name": "stderr",
     "output_type": "stream",
     "text": [
      "\r",
      " 44%|███████████████████████████████████▍                                            | 133/300 [03:57<04:53,  1.76s/it]"
     ]
    },
    {
     "name": "stdout",
     "output_type": "stream",
     "text": [
      "Epoch 133: | Train Loss: 0.19472 | Val Loss: 0.17320 | Train Acc: 99.620| Val Acc: 92.877\n"
     ]
    },
    {
     "name": "stderr",
     "output_type": "stream",
     "text": [
      "\r",
      " 45%|███████████████████████████████████▋                                            | 134/300 [03:59<04:51,  1.75s/it]"
     ]
    },
    {
     "name": "stdout",
     "output_type": "stream",
     "text": [
      "Epoch 134: | Train Loss: 0.16915 | Val Loss: 0.16565 | Train Acc: 99.620| Val Acc: 92.972\n"
     ]
    },
    {
     "name": "stderr",
     "output_type": "stream",
     "text": [
      "\r",
      " 45%|████████████████████████████████████                                            | 135/300 [04:01<04:52,  1.77s/it]"
     ]
    },
    {
     "name": "stdout",
     "output_type": "stream",
     "text": [
      "Epoch 135: | Train Loss: 0.18190 | Val Loss: 0.16288 | Train Acc: 99.240| Val Acc: 92.877\n"
     ]
    },
    {
     "name": "stderr",
     "output_type": "stream",
     "text": [
      "\r",
      " 45%|████████████████████████████████████▎                                           | 136/300 [04:03<04:49,  1.77s/it]"
     ]
    },
    {
     "name": "stdout",
     "output_type": "stream",
     "text": [
      "Epoch 136: | Train Loss: 0.17503 | Val Loss: 0.16838 | Train Acc: 99.240| Val Acc: 92.877\n"
     ]
    },
    {
     "name": "stderr",
     "output_type": "stream",
     "text": [
      "\r",
      " 46%|████████████████████████████████████▌                                           | 137/300 [04:04<04:45,  1.75s/it]"
     ]
    },
    {
     "name": "stdout",
     "output_type": "stream",
     "text": [
      "Epoch 137: | Train Loss: 0.18301 | Val Loss: 0.17403 | Train Acc: 99.620| Val Acc: 93.067\n"
     ]
    },
    {
     "name": "stderr",
     "output_type": "stream",
     "text": [
      "\r",
      " 46%|████████████████████████████████████▊                                           | 138/300 [04:06<04:43,  1.75s/it]"
     ]
    },
    {
     "name": "stdout",
     "output_type": "stream",
     "text": [
      "Epoch 138: | Train Loss: 0.18217 | Val Loss: 0.17593 | Train Acc: 99.810| Val Acc: 92.688\n"
     ]
    },
    {
     "name": "stderr",
     "output_type": "stream",
     "text": [
      "\r",
      " 46%|█████████████████████████████████████                                           | 139/300 [04:08<04:49,  1.80s/it]"
     ]
    },
    {
     "name": "stdout",
     "output_type": "stream",
     "text": [
      "Epoch 139: | Train Loss: 0.18332 | Val Loss: 0.16975 | Train Acc: 98.859| Val Acc: 92.783\n"
     ]
    },
    {
     "name": "stderr",
     "output_type": "stream",
     "text": [
      "\r",
      " 47%|█████████████████████████████████████▎                                          | 140/300 [04:10<04:50,  1.82s/it]"
     ]
    },
    {
     "name": "stdout",
     "output_type": "stream",
     "text": [
      "Epoch 140: | Train Loss: 0.17516 | Val Loss: 0.17735 | Train Acc: 99.620| Val Acc: 92.783\n"
     ]
    },
    {
     "name": "stderr",
     "output_type": "stream",
     "text": [
      "\r",
      " 47%|█████████████████████████████████████▌                                          | 141/300 [04:12<04:51,  1.83s/it]"
     ]
    },
    {
     "name": "stdout",
     "output_type": "stream",
     "text": [
      "Epoch 141: | Train Loss: 0.20303 | Val Loss: 0.17504 | Train Acc: 99.430| Val Acc: 92.593\n"
     ]
    },
    {
     "name": "stderr",
     "output_type": "stream",
     "text": [
      "\r",
      " 47%|█████████████████████████████████████▊                                          | 142/300 [04:14<04:47,  1.82s/it]"
     ]
    },
    {
     "name": "stdout",
     "output_type": "stream",
     "text": [
      "Epoch 142: | Train Loss: 0.18663 | Val Loss: 0.17415 | Train Acc: 99.430| Val Acc: 93.067\n"
     ]
    },
    {
     "name": "stderr",
     "output_type": "stream",
     "text": [
      "\r",
      " 48%|██████████████████████████████████████▏                                         | 143/300 [04:15<04:44,  1.81s/it]"
     ]
    },
    {
     "name": "stdout",
     "output_type": "stream",
     "text": [
      "Epoch 143: | Train Loss: 0.20597 | Val Loss: 0.18666 | Train Acc: 99.240| Val Acc: 92.972\n"
     ]
    },
    {
     "name": "stderr",
     "output_type": "stream",
     "text": [
      "\r",
      " 48%|██████████████████████████████████████▍                                         | 144/300 [04:17<04:40,  1.80s/it]"
     ]
    },
    {
     "name": "stdout",
     "output_type": "stream",
     "text": [
      "Epoch 144: | Train Loss: 0.17644 | Val Loss: 0.17967 | Train Acc: 99.430| Val Acc: 92.783\n"
     ]
    },
    {
     "name": "stderr",
     "output_type": "stream",
     "text": [
      "\r",
      " 48%|██████████████████████████████████████▋                                         | 145/300 [04:19<04:37,  1.79s/it]"
     ]
    },
    {
     "name": "stdout",
     "output_type": "stream",
     "text": [
      "Epoch 145: | Train Loss: 0.17595 | Val Loss: 0.17872 | Train Acc: 99.810| Val Acc: 93.067\n"
     ]
    },
    {
     "name": "stderr",
     "output_type": "stream",
     "text": [
      "\r",
      " 49%|██████████████████████████████████████▉                                         | 146/300 [04:21<04:36,  1.79s/it]"
     ]
    },
    {
     "name": "stdout",
     "output_type": "stream",
     "text": [
      "Epoch 146: | Train Loss: 0.18184 | Val Loss: 0.18780 | Train Acc: 99.240| Val Acc: 92.688\n"
     ]
    },
    {
     "name": "stderr",
     "output_type": "stream",
     "text": [
      "\r",
      " 49%|███████████████████████████████████████▏                                        | 147/300 [04:23<04:34,  1.79s/it]"
     ]
    },
    {
     "name": "stdout",
     "output_type": "stream",
     "text": [
      "Epoch 147: | Train Loss: 0.17946 | Val Loss: 0.17957 | Train Acc: 99.430| Val Acc: 92.783\n"
     ]
    },
    {
     "name": "stderr",
     "output_type": "stream",
     "text": [
      "\r",
      " 49%|███████████████████████████████████████▍                                        | 148/300 [04:25<04:40,  1.85s/it]"
     ]
    },
    {
     "name": "stdout",
     "output_type": "stream",
     "text": [
      "Epoch 148: | Train Loss: 0.18386 | Val Loss: 0.17293 | Train Acc: 99.620| Val Acc: 93.162\n"
     ]
    },
    {
     "name": "stderr",
     "output_type": "stream",
     "text": [
      "\r",
      " 50%|███████████████████████████████████████▋                                        | 149/300 [04:26<04:34,  1.82s/it]"
     ]
    },
    {
     "name": "stdout",
     "output_type": "stream",
     "text": [
      "Epoch 149: | Train Loss: 0.16308 | Val Loss: 0.19238 | Train Acc: 99.620| Val Acc: 92.877\n"
     ]
    },
    {
     "name": "stderr",
     "output_type": "stream",
     "text": [
      "\r",
      " 50%|████████████████████████████████████████                                        | 150/300 [04:28<04:29,  1.79s/it]"
     ]
    },
    {
     "name": "stdout",
     "output_type": "stream",
     "text": [
      "Epoch 150: | Train Loss: 0.16815 | Val Loss: 0.17307 | Train Acc: 99.810| Val Acc: 93.067\n"
     ]
    },
    {
     "name": "stderr",
     "output_type": "stream",
     "text": [
      "\r",
      " 50%|████████████████████████████████████████▎                                       | 151/300 [04:30<04:24,  1.78s/it]"
     ]
    },
    {
     "name": "stdout",
     "output_type": "stream",
     "text": [
      "Epoch 151: | Train Loss: 0.19611 | Val Loss: 0.17788 | Train Acc: 99.430| Val Acc: 92.118\n"
     ]
    },
    {
     "name": "stderr",
     "output_type": "stream",
     "text": [
      "\r",
      " 51%|████████████████████████████████████████▌                                       | 152/300 [04:32<04:20,  1.76s/it]"
     ]
    },
    {
     "name": "stdout",
     "output_type": "stream",
     "text": [
      "Epoch 152: | Train Loss: 0.19837 | Val Loss: 0.18246 | Train Acc: 99.430| Val Acc: 92.498\n"
     ]
    },
    {
     "name": "stderr",
     "output_type": "stream",
     "text": [
      "\r",
      " 51%|████████████████████████████████████████▊                                       | 153/300 [04:33<04:17,  1.75s/it]"
     ]
    },
    {
     "name": "stdout",
     "output_type": "stream",
     "text": [
      "Epoch 153: | Train Loss: 0.20198 | Val Loss: 0.17089 | Train Acc: 99.240| Val Acc: 92.783\n"
     ]
    },
    {
     "name": "stderr",
     "output_type": "stream",
     "text": [
      "\r",
      " 51%|█████████████████████████████████████████                                       | 154/300 [04:35<04:15,  1.75s/it]"
     ]
    },
    {
     "name": "stdout",
     "output_type": "stream",
     "text": [
      "Epoch 154: | Train Loss: 0.18165 | Val Loss: 0.17852 | Train Acc: 99.430| Val Acc: 92.688\n"
     ]
    },
    {
     "name": "stderr",
     "output_type": "stream",
     "text": [
      "\r",
      " 52%|█████████████████████████████████████████▎                                      | 155/300 [04:37<04:14,  1.75s/it]"
     ]
    },
    {
     "name": "stdout",
     "output_type": "stream",
     "text": [
      "Epoch 155: | Train Loss: 0.17720 | Val Loss: 0.17976 | Train Acc: 99.430| Val Acc: 92.308\n"
     ]
    },
    {
     "name": "stderr",
     "output_type": "stream",
     "text": [
      "\r",
      " 52%|█████████████████████████████████████████▌                                      | 156/300 [04:39<04:12,  1.75s/it]"
     ]
    },
    {
     "name": "stdout",
     "output_type": "stream",
     "text": [
      "Epoch 156: | Train Loss: 0.18414 | Val Loss: 0.16779 | Train Acc: 99.430| Val Acc: 92.593\n"
     ]
    },
    {
     "name": "stderr",
     "output_type": "stream",
     "text": [
      "\r",
      " 52%|█████████████████████████████████████████▊                                      | 157/300 [04:40<04:09,  1.75s/it]"
     ]
    },
    {
     "name": "stdout",
     "output_type": "stream",
     "text": [
      "Epoch 157: | Train Loss: 0.17193 | Val Loss: 0.17887 | Train Acc: 99.049| Val Acc: 92.308\n"
     ]
    },
    {
     "name": "stderr",
     "output_type": "stream",
     "text": [
      "\r",
      " 53%|██████████████████████████████████████████▏                                     | 158/300 [04:42<04:10,  1.77s/it]"
     ]
    },
    {
     "name": "stdout",
     "output_type": "stream",
     "text": [
      "Epoch 158: | Train Loss: 0.17177 | Val Loss: 0.17784 | Train Acc: 99.430| Val Acc: 92.498\n"
     ]
    },
    {
     "name": "stderr",
     "output_type": "stream",
     "text": [
      "\r",
      " 53%|██████████████████████████████████████████▍                                     | 159/300 [04:44<04:12,  1.79s/it]"
     ]
    },
    {
     "name": "stdout",
     "output_type": "stream",
     "text": [
      "Epoch 159: | Train Loss: 0.18467 | Val Loss: 0.19022 | Train Acc: 99.240| Val Acc: 92.498\n"
     ]
    },
    {
     "name": "stderr",
     "output_type": "stream",
     "text": [
      "\r",
      " 53%|██████████████████████████████████████████▋                                     | 160/300 [04:46<04:11,  1.80s/it]"
     ]
    },
    {
     "name": "stdout",
     "output_type": "stream",
     "text": [
      "Epoch 160: | Train Loss: 0.19371 | Val Loss: 0.17890 | Train Acc: 99.240| Val Acc: 92.688\n"
     ]
    },
    {
     "name": "stderr",
     "output_type": "stream",
     "text": [
      "\r",
      " 54%|██████████████████████████████████████████▉                                     | 161/300 [04:48<04:10,  1.80s/it]"
     ]
    },
    {
     "name": "stdout",
     "output_type": "stream",
     "text": [
      "Epoch 161: | Train Loss: 0.17980 | Val Loss: 0.18656 | Train Acc: 99.810| Val Acc: 92.213\n"
     ]
    },
    {
     "name": "stderr",
     "output_type": "stream",
     "text": [
      "\r",
      " 54%|███████████████████████████████████████████▏                                    | 162/300 [04:49<04:06,  1.79s/it]"
     ]
    },
    {
     "name": "stdout",
     "output_type": "stream",
     "text": [
      "Epoch 162: | Train Loss: 0.18131 | Val Loss: 0.18890 | Train Acc: 100.000| Val Acc: 92.972\n"
     ]
    },
    {
     "name": "stderr",
     "output_type": "stream",
     "text": [
      "\r",
      " 54%|███████████████████████████████████████████▍                                    | 163/300 [04:51<04:02,  1.77s/it]"
     ]
    },
    {
     "name": "stdout",
     "output_type": "stream",
     "text": [
      "Epoch 163: | Train Loss: 0.18763 | Val Loss: 0.17697 | Train Acc: 99.430| Val Acc: 92.118\n"
     ]
    },
    {
     "name": "stderr",
     "output_type": "stream",
     "text": [
      "\r",
      " 55%|███████████████████████████████████████████▋                                    | 164/300 [04:53<04:00,  1.77s/it]"
     ]
    },
    {
     "name": "stdout",
     "output_type": "stream",
     "text": [
      "Epoch 164: | Train Loss: 0.18631 | Val Loss: 0.18367 | Train Acc: 99.240| Val Acc: 92.783\n"
     ]
    },
    {
     "name": "stderr",
     "output_type": "stream",
     "text": [
      "\r",
      " 55%|████████████████████████████████████████████                                    | 165/300 [04:55<03:57,  1.76s/it]"
     ]
    },
    {
     "name": "stdout",
     "output_type": "stream",
     "text": [
      "Epoch 165: | Train Loss: 0.18197 | Val Loss: 0.17928 | Train Acc: 99.430| Val Acc: 92.783\n"
     ]
    },
    {
     "name": "stderr",
     "output_type": "stream",
     "text": [
      "\r",
      " 55%|████████████████████████████████████████████▎                                   | 166/300 [04:56<03:54,  1.75s/it]"
     ]
    },
    {
     "name": "stdout",
     "output_type": "stream",
     "text": [
      "Epoch 166: | Train Loss: 0.17927 | Val Loss: 0.18085 | Train Acc: 99.620| Val Acc: 92.688\n"
     ]
    },
    {
     "name": "stderr",
     "output_type": "stream",
     "text": [
      "\r",
      " 56%|████████████████████████████████████████████▌                                   | 167/300 [04:58<03:52,  1.75s/it]"
     ]
    },
    {
     "name": "stdout",
     "output_type": "stream",
     "text": [
      "Epoch 167: | Train Loss: 0.18305 | Val Loss: 0.18513 | Train Acc: 99.240| Val Acc: 92.877\n"
     ]
    },
    {
     "name": "stderr",
     "output_type": "stream",
     "text": [
      "\r",
      " 56%|████████████████████████████████████████████▊                                   | 168/300 [05:00<03:50,  1.74s/it]"
     ]
    },
    {
     "name": "stdout",
     "output_type": "stream",
     "text": [
      "Epoch 168: | Train Loss: 0.17702 | Val Loss: 0.18151 | Train Acc: 99.430| Val Acc: 92.688\n"
     ]
    },
    {
     "name": "stderr",
     "output_type": "stream",
     "text": [
      "\r",
      " 56%|█████████████████████████████████████████████                                   | 169/300 [05:01<03:49,  1.75s/it]"
     ]
    },
    {
     "name": "stdout",
     "output_type": "stream",
     "text": [
      "Epoch 169: | Train Loss: 0.18141 | Val Loss: 0.18553 | Train Acc: 99.049| Val Acc: 91.928\n"
     ]
    },
    {
     "name": "stderr",
     "output_type": "stream",
     "text": [
      "\r",
      " 57%|█████████████████████████████████████████████▎                                  | 170/300 [05:03<03:48,  1.76s/it]"
     ]
    },
    {
     "name": "stdout",
     "output_type": "stream",
     "text": [
      "Epoch 170: | Train Loss: 0.16890 | Val Loss: 0.18324 | Train Acc: 99.810| Val Acc: 92.403\n"
     ]
    },
    {
     "name": "stderr",
     "output_type": "stream",
     "text": [
      "\r",
      " 57%|█████████████████████████████████████████████▌                                  | 171/300 [05:05<03:45,  1.75s/it]"
     ]
    },
    {
     "name": "stdout",
     "output_type": "stream",
     "text": [
      "Epoch 171: | Train Loss: 0.17280 | Val Loss: 0.18779 | Train Acc: 99.810| Val Acc: 92.972\n"
     ]
    },
    {
     "name": "stderr",
     "output_type": "stream",
     "text": [
      "\r",
      " 57%|█████████████████████████████████████████████▊                                  | 172/300 [05:07<03:45,  1.76s/it]"
     ]
    },
    {
     "name": "stdout",
     "output_type": "stream",
     "text": [
      "Epoch 172: | Train Loss: 0.18693 | Val Loss: 0.18033 | Train Acc: 99.430| Val Acc: 92.403\n"
     ]
    },
    {
     "name": "stderr",
     "output_type": "stream",
     "text": [
      "\r",
      " 58%|██████████████████████████████████████████████▏                                 | 173/300 [05:09<03:45,  1.77s/it]"
     ]
    },
    {
     "name": "stdout",
     "output_type": "stream",
     "text": [
      "Epoch 173: | Train Loss: 0.17827 | Val Loss: 0.19265 | Train Acc: 99.810| Val Acc: 92.213\n"
     ]
    },
    {
     "name": "stderr",
     "output_type": "stream",
     "text": [
      "\r",
      " 58%|██████████████████████████████████████████████▍                                 | 174/300 [05:10<03:43,  1.77s/it]"
     ]
    },
    {
     "name": "stdout",
     "output_type": "stream",
     "text": [
      "Epoch 174: | Train Loss: 0.16817 | Val Loss: 0.17550 | Train Acc: 99.620| Val Acc: 92.498\n"
     ]
    },
    {
     "name": "stderr",
     "output_type": "stream",
     "text": [
      "\r",
      " 58%|██████████████████████████████████████████████▋                                 | 175/300 [05:12<03:41,  1.77s/it]"
     ]
    },
    {
     "name": "stdout",
     "output_type": "stream",
     "text": [
      "Epoch 175: | Train Loss: 0.18396 | Val Loss: 0.18284 | Train Acc: 99.810| Val Acc: 93.067\n"
     ]
    },
    {
     "name": "stderr",
     "output_type": "stream",
     "text": [
      "\r",
      " 59%|██████████████████████████████████████████████▉                                 | 176/300 [05:14<03:37,  1.76s/it]"
     ]
    },
    {
     "name": "stdout",
     "output_type": "stream",
     "text": [
      "Epoch 176: | Train Loss: 0.18464 | Val Loss: 0.17957 | Train Acc: 99.430| Val Acc: 92.688\n"
     ]
    },
    {
     "name": "stderr",
     "output_type": "stream",
     "text": [
      "\r",
      " 59%|███████████████████████████████████████████████▏                                | 177/300 [05:16<03:35,  1.75s/it]"
     ]
    },
    {
     "name": "stdout",
     "output_type": "stream",
     "text": [
      "Epoch 177: | Train Loss: 0.18148 | Val Loss: 0.18432 | Train Acc: 99.620| Val Acc: 92.498\n"
     ]
    },
    {
     "name": "stderr",
     "output_type": "stream",
     "text": [
      "\r",
      " 59%|███████████████████████████████████████████████▍                                | 178/300 [05:17<03:33,  1.75s/it]"
     ]
    },
    {
     "name": "stdout",
     "output_type": "stream",
     "text": [
      "Epoch 178: | Train Loss: 0.19564 | Val Loss: 0.18200 | Train Acc: 99.240| Val Acc: 92.213\n"
     ]
    },
    {
     "name": "stderr",
     "output_type": "stream",
     "text": [
      "\r",
      " 60%|███████████████████████████████████████████████▋                                | 179/300 [05:19<03:32,  1.76s/it]"
     ]
    },
    {
     "name": "stdout",
     "output_type": "stream",
     "text": [
      "Epoch 179: | Train Loss: 0.18492 | Val Loss: 0.18173 | Train Acc: 99.620| Val Acc: 92.593\n"
     ]
    },
    {
     "name": "stderr",
     "output_type": "stream",
     "text": [
      "\r",
      " 60%|████████████████████████████████████████████████                                | 180/300 [05:21<03:31,  1.76s/it]"
     ]
    },
    {
     "name": "stdout",
     "output_type": "stream",
     "text": [
      "Epoch 180: | Train Loss: 0.16334 | Val Loss: 0.18785 | Train Acc: 99.430| Val Acc: 92.783\n"
     ]
    },
    {
     "name": "stderr",
     "output_type": "stream",
     "text": [
      "\r",
      " 60%|████████████████████████████████████████████████▎                               | 181/300 [05:23<03:31,  1.78s/it]"
     ]
    },
    {
     "name": "stdout",
     "output_type": "stream",
     "text": [
      "Epoch 181: | Train Loss: 0.17831 | Val Loss: 0.18402 | Train Acc: 99.810| Val Acc: 92.023\n"
     ]
    },
    {
     "name": "stderr",
     "output_type": "stream",
     "text": [
      "\r",
      " 61%|████████████████████████████████████████████████▌                               | 182/300 [05:24<03:30,  1.79s/it]"
     ]
    },
    {
     "name": "stdout",
     "output_type": "stream",
     "text": [
      "Epoch 182: | Train Loss: 0.19128 | Val Loss: 0.17080 | Train Acc: 99.240| Val Acc: 92.308\n"
     ]
    },
    {
     "name": "stderr",
     "output_type": "stream",
     "text": [
      "\r",
      " 61%|████████████████████████████████████████████████▊                               | 183/300 [05:26<03:27,  1.77s/it]"
     ]
    },
    {
     "name": "stdout",
     "output_type": "stream",
     "text": [
      "Epoch 183: | Train Loss: 0.17476 | Val Loss: 0.17010 | Train Acc: 99.430| Val Acc: 92.877\n"
     ]
    },
    {
     "name": "stderr",
     "output_type": "stream",
     "text": [
      "\r",
      " 61%|█████████████████████████████████████████████████                               | 184/300 [05:28<03:24,  1.76s/it]"
     ]
    },
    {
     "name": "stdout",
     "output_type": "stream",
     "text": [
      "Epoch 184: | Train Loss: 0.18536 | Val Loss: 0.18149 | Train Acc: 99.430| Val Acc: 92.403\n"
     ]
    },
    {
     "name": "stderr",
     "output_type": "stream",
     "text": [
      "\r",
      " 62%|█████████████████████████████████████████████████▎                              | 185/300 [05:30<03:22,  1.76s/it]"
     ]
    },
    {
     "name": "stdout",
     "output_type": "stream",
     "text": [
      "Epoch 185: | Train Loss: 0.18544 | Val Loss: 0.18020 | Train Acc: 99.810| Val Acc: 92.877\n"
     ]
    },
    {
     "name": "stderr",
     "output_type": "stream",
     "text": [
      "\r",
      " 62%|█████████████████████████████████████████████████▌                              | 186/300 [05:31<03:20,  1.76s/it]"
     ]
    },
    {
     "name": "stdout",
     "output_type": "stream",
     "text": [
      "Epoch 186: | Train Loss: 0.19107 | Val Loss: 0.18789 | Train Acc: 98.859| Val Acc: 92.688\n"
     ]
    },
    {
     "name": "stderr",
     "output_type": "stream",
     "text": [
      "\r",
      " 62%|█████████████████████████████████████████████████▊                              | 187/300 [05:33<03:19,  1.76s/it]"
     ]
    },
    {
     "name": "stdout",
     "output_type": "stream",
     "text": [
      "Epoch 187: | Train Loss: 0.18709 | Val Loss: 0.18788 | Train Acc: 99.430| Val Acc: 91.833\n"
     ]
    },
    {
     "name": "stderr",
     "output_type": "stream",
     "text": [
      "\r",
      " 63%|██████████████████████████████████████████████████▏                             | 188/300 [05:35<03:16,  1.76s/it]"
     ]
    },
    {
     "name": "stdout",
     "output_type": "stream",
     "text": [
      "Epoch 188: | Train Loss: 0.16240 | Val Loss: 0.18292 | Train Acc: 99.620| Val Acc: 92.593\n"
     ]
    },
    {
     "name": "stderr",
     "output_type": "stream",
     "text": [
      "\r",
      " 63%|██████████████████████████████████████████████████▍                             | 189/300 [05:37<03:14,  1.75s/it]"
     ]
    },
    {
     "name": "stdout",
     "output_type": "stream",
     "text": [
      "Epoch 189: | Train Loss: 0.18089 | Val Loss: 0.17308 | Train Acc: 99.620| Val Acc: 92.498\n"
     ]
    },
    {
     "name": "stderr",
     "output_type": "stream",
     "text": [
      "\r",
      " 63%|██████████████████████████████████████████████████▋                             | 190/300 [05:38<03:11,  1.74s/it]"
     ]
    },
    {
     "name": "stdout",
     "output_type": "stream",
     "text": [
      "Epoch 190: | Train Loss: 0.19395 | Val Loss: 0.17048 | Train Acc: 99.240| Val Acc: 92.877\n"
     ]
    },
    {
     "name": "stderr",
     "output_type": "stream",
     "text": [
      "\r",
      " 64%|██████████████████████████████████████████████████▉                             | 191/300 [05:40<03:09,  1.74s/it]"
     ]
    },
    {
     "name": "stdout",
     "output_type": "stream",
     "text": [
      "Epoch 191: | Train Loss: 0.18277 | Val Loss: 0.18939 | Train Acc: 99.430| Val Acc: 92.118\n"
     ]
    },
    {
     "name": "stderr",
     "output_type": "stream",
     "text": [
      "\r",
      " 64%|███████████████████████████████████████████████████▏                            | 192/300 [05:42<03:08,  1.74s/it]"
     ]
    },
    {
     "name": "stdout",
     "output_type": "stream",
     "text": [
      "Epoch 192: | Train Loss: 0.17642 | Val Loss: 0.17742 | Train Acc: 99.620| Val Acc: 92.783\n"
     ]
    },
    {
     "name": "stderr",
     "output_type": "stream",
     "text": [
      "\r",
      " 64%|███████████████████████████████████████████████████▍                            | 193/300 [05:44<03:06,  1.74s/it]"
     ]
    },
    {
     "name": "stdout",
     "output_type": "stream",
     "text": [
      "Epoch 193: | Train Loss: 0.17013 | Val Loss: 0.17172 | Train Acc: 99.430| Val Acc: 92.972\n"
     ]
    },
    {
     "name": "stderr",
     "output_type": "stream",
     "text": [
      "\r",
      " 65%|███████████████████████████████████████████████████▋                            | 194/300 [05:45<03:04,  1.74s/it]"
     ]
    },
    {
     "name": "stdout",
     "output_type": "stream",
     "text": [
      "Epoch 194: | Train Loss: 0.17780 | Val Loss: 0.18583 | Train Acc: 99.430| Val Acc: 93.162\n"
     ]
    },
    {
     "name": "stderr",
     "output_type": "stream",
     "text": [
      "\r",
      " 65%|████████████████████████████████████████████████████                            | 195/300 [05:47<03:03,  1.75s/it]"
     ]
    },
    {
     "name": "stdout",
     "output_type": "stream",
     "text": [
      "Epoch 195: | Train Loss: 0.17877 | Val Loss: 0.17150 | Train Acc: 99.430| Val Acc: 92.403\n"
     ]
    },
    {
     "name": "stderr",
     "output_type": "stream",
     "text": [
      "\r",
      " 65%|████████████████████████████████████████████████████▎                           | 196/300 [05:49<03:01,  1.74s/it]"
     ]
    },
    {
     "name": "stdout",
     "output_type": "stream",
     "text": [
      "Epoch 196: | Train Loss: 0.17596 | Val Loss: 0.19011 | Train Acc: 99.620| Val Acc: 91.928\n"
     ]
    },
    {
     "name": "stderr",
     "output_type": "stream",
     "text": [
      "\r",
      " 66%|████████████████████████████████████████████████████▌                           | 197/300 [05:51<02:59,  1.74s/it]"
     ]
    },
    {
     "name": "stdout",
     "output_type": "stream",
     "text": [
      "Epoch 197: | Train Loss: 0.17915 | Val Loss: 0.17460 | Train Acc: 100.000| Val Acc: 92.213\n"
     ]
    },
    {
     "name": "stderr",
     "output_type": "stream",
     "text": [
      "\r",
      " 66%|████████████████████████████████████████████████████▊                           | 198/300 [05:52<02:58,  1.75s/it]"
     ]
    },
    {
     "name": "stdout",
     "output_type": "stream",
     "text": [
      "Epoch 198: | Train Loss: 0.16800 | Val Loss: 0.17260 | Train Acc: 99.049| Val Acc: 92.593\n"
     ]
    },
    {
     "name": "stderr",
     "output_type": "stream",
     "text": [
      "\r",
      " 66%|█████████████████████████████████████████████████████                           | 199/300 [05:54<02:57,  1.76s/it]"
     ]
    },
    {
     "name": "stdout",
     "output_type": "stream",
     "text": [
      "Epoch 199: | Train Loss: 0.19578 | Val Loss: 0.18320 | Train Acc: 98.859| Val Acc: 92.213\n"
     ]
    },
    {
     "name": "stderr",
     "output_type": "stream",
     "text": [
      "\r",
      " 67%|█████████████████████████████████████████████████████▎                          | 200/300 [05:56<02:56,  1.77s/it]"
     ]
    },
    {
     "name": "stdout",
     "output_type": "stream",
     "text": [
      "Epoch 200: | Train Loss: 0.16481 | Val Loss: 0.18755 | Train Acc: 100.000| Val Acc: 91.928\n"
     ]
    },
    {
     "name": "stderr",
     "output_type": "stream",
     "text": [
      "\r",
      " 67%|█████████████████████████████████████████████████████▌                          | 201/300 [05:58<02:55,  1.77s/it]"
     ]
    },
    {
     "name": "stdout",
     "output_type": "stream",
     "text": [
      "Epoch 201: | Train Loss: 0.16750 | Val Loss: 0.18252 | Train Acc: 99.810| Val Acc: 92.213\n"
     ]
    },
    {
     "name": "stderr",
     "output_type": "stream",
     "text": [
      "\r",
      " 67%|█████████████████████████████████████████████████████▊                          | 202/300 [06:00<02:54,  1.78s/it]"
     ]
    },
    {
     "name": "stdout",
     "output_type": "stream",
     "text": [
      "Epoch 202: | Train Loss: 0.18914 | Val Loss: 0.18966 | Train Acc: 99.430| Val Acc: 92.403\n"
     ]
    },
    {
     "name": "stderr",
     "output_type": "stream",
     "text": [
      "\r",
      " 68%|██████████████████████████████████████████████████████▏                         | 203/300 [06:01<02:52,  1.77s/it]"
     ]
    },
    {
     "name": "stdout",
     "output_type": "stream",
     "text": [
      "Epoch 203: | Train Loss: 0.18032 | Val Loss: 0.18636 | Train Acc: 99.810| Val Acc: 92.118\n"
     ]
    },
    {
     "name": "stderr",
     "output_type": "stream",
     "text": [
      "\r",
      " 68%|██████████████████████████████████████████████████████▍                         | 204/300 [06:03<02:50,  1.78s/it]"
     ]
    },
    {
     "name": "stdout",
     "output_type": "stream",
     "text": [
      "Epoch 204: | Train Loss: 0.17383 | Val Loss: 0.18351 | Train Acc: 99.620| Val Acc: 92.403\n"
     ]
    },
    {
     "name": "stderr",
     "output_type": "stream",
     "text": [
      "\r",
      " 68%|██████████████████████████████████████████████████████▋                         | 205/300 [06:05<02:50,  1.79s/it]"
     ]
    },
    {
     "name": "stdout",
     "output_type": "stream",
     "text": [
      "Epoch 205: | Train Loss: 0.17884 | Val Loss: 0.18471 | Train Acc: 99.049| Val Acc: 92.783\n"
     ]
    },
    {
     "name": "stderr",
     "output_type": "stream",
     "text": [
      "\r",
      " 69%|██████████████████████████████████████████████████████▉                         | 206/300 [06:07<02:49,  1.80s/it]"
     ]
    },
    {
     "name": "stdout",
     "output_type": "stream",
     "text": [
      "Epoch 206: | Train Loss: 0.18440 | Val Loss: 0.18483 | Train Acc: 99.049| Val Acc: 92.023\n"
     ]
    },
    {
     "name": "stderr",
     "output_type": "stream",
     "text": [
      "\r",
      " 69%|███████████████████████████████████████████████████████▏                        | 207/300 [06:09<02:47,  1.80s/it]"
     ]
    },
    {
     "name": "stdout",
     "output_type": "stream",
     "text": [
      "Epoch 207: | Train Loss: 0.18642 | Val Loss: 0.18132 | Train Acc: 99.430| Val Acc: 92.593\n"
     ]
    },
    {
     "name": "stderr",
     "output_type": "stream",
     "text": [
      "\r",
      " 69%|███████████████████████████████████████████████████████▍                        | 208/300 [06:10<02:45,  1.80s/it]"
     ]
    },
    {
     "name": "stdout",
     "output_type": "stream",
     "text": [
      "Epoch 208: | Train Loss: 0.16800 | Val Loss: 0.17394 | Train Acc: 99.430| Val Acc: 92.688\n"
     ]
    },
    {
     "name": "stderr",
     "output_type": "stream",
     "text": [
      "\r",
      " 70%|███████████████████████████████████████████████████████▋                        | 209/300 [06:12<02:43,  1.80s/it]"
     ]
    },
    {
     "name": "stdout",
     "output_type": "stream",
     "text": [
      "Epoch 209: | Train Loss: 0.18057 | Val Loss: 0.17505 | Train Acc: 99.810| Val Acc: 92.213\n"
     ]
    },
    {
     "name": "stderr",
     "output_type": "stream",
     "text": [
      "\r",
      " 70%|████████████████████████████████████████████████████████                        | 210/300 [06:14<02:41,  1.79s/it]"
     ]
    },
    {
     "name": "stdout",
     "output_type": "stream",
     "text": [
      "Epoch 210: | Train Loss: 0.16813 | Val Loss: 0.17892 | Train Acc: 99.810| Val Acc: 92.877\n"
     ]
    },
    {
     "name": "stderr",
     "output_type": "stream",
     "text": [
      "\r",
      " 70%|████████████████████████████████████████████████████████▎                       | 211/300 [06:16<02:39,  1.79s/it]"
     ]
    },
    {
     "name": "stdout",
     "output_type": "stream",
     "text": [
      "Epoch 211: | Train Loss: 0.18568 | Val Loss: 0.17416 | Train Acc: 99.240| Val Acc: 92.403\n"
     ]
    },
    {
     "name": "stderr",
     "output_type": "stream",
     "text": [
      "\r",
      " 71%|████████████████████████████████████████████████████████▌                       | 212/300 [06:17<02:36,  1.78s/it]"
     ]
    },
    {
     "name": "stdout",
     "output_type": "stream",
     "text": [
      "Epoch 212: | Train Loss: 0.17706 | Val Loss: 0.17675 | Train Acc: 99.620| Val Acc: 92.688\n"
     ]
    },
    {
     "name": "stderr",
     "output_type": "stream",
     "text": [
      "\r",
      " 71%|████████████████████████████████████████████████████████▊                       | 213/300 [06:19<02:34,  1.77s/it]"
     ]
    },
    {
     "name": "stdout",
     "output_type": "stream",
     "text": [
      "Epoch 213: | Train Loss: 0.17320 | Val Loss: 0.18319 | Train Acc: 99.430| Val Acc: 92.403\n"
     ]
    },
    {
     "name": "stderr",
     "output_type": "stream",
     "text": [
      "\r",
      " 71%|█████████████████████████████████████████████████████████                       | 214/300 [06:21<02:34,  1.79s/it]"
     ]
    },
    {
     "name": "stdout",
     "output_type": "stream",
     "text": [
      "Epoch 214: | Train Loss: 0.17332 | Val Loss: 0.17939 | Train Acc: 99.620| Val Acc: 92.118\n"
     ]
    },
    {
     "name": "stderr",
     "output_type": "stream",
     "text": [
      "\r",
      " 72%|█████████████████████████████████████████████████████████▎                      | 215/300 [06:23<02:32,  1.79s/it]"
     ]
    },
    {
     "name": "stdout",
     "output_type": "stream",
     "text": [
      "Epoch 215: | Train Loss: 0.17997 | Val Loss: 0.17612 | Train Acc: 99.810| Val Acc: 92.308\n"
     ]
    },
    {
     "name": "stderr",
     "output_type": "stream",
     "text": [
      "\r",
      " 72%|█████████████████████████████████████████████████████████▌                      | 216/300 [06:25<02:29,  1.78s/it]"
     ]
    },
    {
     "name": "stdout",
     "output_type": "stream",
     "text": [
      "Epoch 216: | Train Loss: 0.16728 | Val Loss: 0.18308 | Train Acc: 99.430| Val Acc: 92.498\n"
     ]
    },
    {
     "name": "stderr",
     "output_type": "stream",
     "text": [
      "\r",
      " 72%|█████████████████████████████████████████████████████████▊                      | 217/300 [06:26<02:26,  1.76s/it]"
     ]
    },
    {
     "name": "stdout",
     "output_type": "stream",
     "text": [
      "Epoch 217: | Train Loss: 0.18186 | Val Loss: 0.18005 | Train Acc: 99.620| Val Acc: 92.403\n"
     ]
    },
    {
     "name": "stderr",
     "output_type": "stream",
     "text": [
      "\r",
      " 73%|██████████████████████████████████████████████████████████▏                     | 218/300 [06:28<02:23,  1.75s/it]"
     ]
    },
    {
     "name": "stdout",
     "output_type": "stream",
     "text": [
      "Epoch 218: | Train Loss: 0.17307 | Val Loss: 0.17632 | Train Acc: 99.430| Val Acc: 92.593\n"
     ]
    },
    {
     "name": "stderr",
     "output_type": "stream",
     "text": [
      "\r",
      " 73%|██████████████████████████████████████████████████████████▍                     | 219/300 [06:30<02:21,  1.75s/it]"
     ]
    },
    {
     "name": "stdout",
     "output_type": "stream",
     "text": [
      "Epoch 219: | Train Loss: 0.16789 | Val Loss: 0.17414 | Train Acc: 99.620| Val Acc: 92.593\n"
     ]
    },
    {
     "name": "stderr",
     "output_type": "stream",
     "text": [
      "\r",
      " 73%|██████████████████████████████████████████████████████████▋                     | 220/300 [06:32<02:20,  1.75s/it]"
     ]
    },
    {
     "name": "stdout",
     "output_type": "stream",
     "text": [
      "Epoch 220: | Train Loss: 0.17506 | Val Loss: 0.18473 | Train Acc: 99.240| Val Acc: 91.833\n"
     ]
    },
    {
     "name": "stderr",
     "output_type": "stream",
     "text": [
      "\r",
      " 74%|██████████████████████████████████████████████████████████▉                     | 221/300 [06:33<02:18,  1.75s/it]"
     ]
    },
    {
     "name": "stdout",
     "output_type": "stream",
     "text": [
      "Epoch 221: | Train Loss: 0.18069 | Val Loss: 0.17997 | Train Acc: 99.049| Val Acc: 92.403\n"
     ]
    },
    {
     "name": "stderr",
     "output_type": "stream",
     "text": [
      "\r",
      " 74%|███████████████████████████████████████████████████████████▏                    | 222/300 [06:35<02:17,  1.76s/it]"
     ]
    },
    {
     "name": "stdout",
     "output_type": "stream",
     "text": [
      "Epoch 222: | Train Loss: 0.16331 | Val Loss: 0.18490 | Train Acc: 100.000| Val Acc: 92.213\n"
     ]
    },
    {
     "name": "stderr",
     "output_type": "stream",
     "text": [
      "\r",
      " 74%|███████████████████████████████████████████████████████████▍                    | 223/300 [06:37<02:17,  1.78s/it]"
     ]
    },
    {
     "name": "stdout",
     "output_type": "stream",
     "text": [
      "Epoch 223: | Train Loss: 0.18990 | Val Loss: 0.19727 | Train Acc: 98.859| Val Acc: 92.118\n"
     ]
    },
    {
     "name": "stderr",
     "output_type": "stream",
     "text": [
      "\r",
      " 75%|███████████████████████████████████████████████████████████▋                    | 224/300 [06:39<02:16,  1.79s/it]"
     ]
    },
    {
     "name": "stdout",
     "output_type": "stream",
     "text": [
      "Epoch 224: | Train Loss: 0.18665 | Val Loss: 0.17533 | Train Acc: 99.810| Val Acc: 92.118\n"
     ]
    },
    {
     "name": "stderr",
     "output_type": "stream",
     "text": [
      "\r",
      " 75%|████████████████████████████████████████████████████████████                    | 225/300 [06:41<02:13,  1.78s/it]"
     ]
    },
    {
     "name": "stdout",
     "output_type": "stream",
     "text": [
      "Epoch 225: | Train Loss: 0.16068 | Val Loss: 0.19240 | Train Acc: 99.810| Val Acc: 91.833\n"
     ]
    },
    {
     "name": "stderr",
     "output_type": "stream",
     "text": [
      "\r",
      " 75%|████████████████████████████████████████████████████████████▎                   | 226/300 [06:42<02:12,  1.78s/it]"
     ]
    },
    {
     "name": "stdout",
     "output_type": "stream",
     "text": [
      "Epoch 226: | Train Loss: 0.17212 | Val Loss: 0.17727 | Train Acc: 99.620| Val Acc: 92.593\n"
     ]
    },
    {
     "name": "stderr",
     "output_type": "stream",
     "text": [
      "\r",
      " 76%|████████████████████████████████████████████████████████████▌                   | 227/300 [06:44<02:10,  1.79s/it]"
     ]
    },
    {
     "name": "stdout",
     "output_type": "stream",
     "text": [
      "Epoch 227: | Train Loss: 0.18050 | Val Loss: 0.17903 | Train Acc: 99.810| Val Acc: 92.308\n"
     ]
    },
    {
     "name": "stderr",
     "output_type": "stream",
     "text": [
      "\r",
      " 76%|████████████████████████████████████████████████████████████▊                   | 228/300 [06:46<02:07,  1.77s/it]"
     ]
    },
    {
     "name": "stdout",
     "output_type": "stream",
     "text": [
      "Epoch 228: | Train Loss: 0.19007 | Val Loss: 0.17752 | Train Acc: 99.620| Val Acc: 92.308\n"
     ]
    },
    {
     "name": "stderr",
     "output_type": "stream",
     "text": [
      "\r",
      " 76%|█████████████████████████████████████████████████████████████                   | 229/300 [06:48<02:09,  1.82s/it]"
     ]
    },
    {
     "name": "stdout",
     "output_type": "stream",
     "text": [
      "Epoch 229: | Train Loss: 0.16821 | Val Loss: 0.17736 | Train Acc: 99.620| Val Acc: 92.118\n"
     ]
    },
    {
     "name": "stderr",
     "output_type": "stream",
     "text": [
      "\r",
      " 77%|█████████████████████████████████████████████████████████████▎                  | 230/300 [06:50<02:05,  1.80s/it]"
     ]
    },
    {
     "name": "stdout",
     "output_type": "stream",
     "text": [
      "Epoch 230: | Train Loss: 0.16924 | Val Loss: 0.18290 | Train Acc: 99.430| Val Acc: 92.498\n"
     ]
    },
    {
     "name": "stderr",
     "output_type": "stream",
     "text": [
      "\r",
      " 77%|█████████████████████████████████████████████████████████████▌                  | 231/300 [06:51<02:03,  1.79s/it]"
     ]
    },
    {
     "name": "stdout",
     "output_type": "stream",
     "text": [
      "Epoch 231: | Train Loss: 0.18383 | Val Loss: 0.17582 | Train Acc: 99.049| Val Acc: 92.403\n"
     ]
    },
    {
     "name": "stderr",
     "output_type": "stream",
     "text": [
      "\r",
      " 77%|█████████████████████████████████████████████████████████████▊                  | 232/300 [06:53<02:03,  1.82s/it]"
     ]
    },
    {
     "name": "stdout",
     "output_type": "stream",
     "text": [
      "Epoch 232: | Train Loss: 0.17620 | Val Loss: 0.18320 | Train Acc: 99.430| Val Acc: 92.213\n"
     ]
    },
    {
     "name": "stderr",
     "output_type": "stream",
     "text": [
      "\r",
      " 78%|██████████████████████████████████████████████████████████████▏                 | 233/300 [06:55<02:02,  1.82s/it]"
     ]
    },
    {
     "name": "stdout",
     "output_type": "stream",
     "text": [
      "Epoch 233: | Train Loss: 0.18836 | Val Loss: 0.17916 | Train Acc: 99.240| Val Acc: 92.308\n"
     ]
    },
    {
     "name": "stderr",
     "output_type": "stream",
     "text": [
      "\r",
      " 78%|██████████████████████████████████████████████████████████████▍                 | 234/300 [06:57<02:00,  1.82s/it]"
     ]
    },
    {
     "name": "stdout",
     "output_type": "stream",
     "text": [
      "Epoch 234: | Train Loss: 0.19335 | Val Loss: 0.18014 | Train Acc: 99.049| Val Acc: 91.833\n"
     ]
    },
    {
     "name": "stderr",
     "output_type": "stream",
     "text": [
      "\r",
      " 78%|██████████████████████████████████████████████████████████████▋                 | 235/300 [06:59<01:58,  1.83s/it]"
     ]
    },
    {
     "name": "stdout",
     "output_type": "stream",
     "text": [
      "Epoch 235: | Train Loss: 0.17867 | Val Loss: 0.18326 | Train Acc: 99.430| Val Acc: 92.118\n"
     ]
    },
    {
     "name": "stderr",
     "output_type": "stream",
     "text": [
      "\r",
      " 79%|██████████████████████████████████████████████████████████████▉                 | 236/300 [07:00<01:56,  1.82s/it]"
     ]
    },
    {
     "name": "stdout",
     "output_type": "stream",
     "text": [
      "Epoch 236: | Train Loss: 0.15231 | Val Loss: 0.18386 | Train Acc: 99.810| Val Acc: 92.023\n"
     ]
    },
    {
     "name": "stderr",
     "output_type": "stream",
     "text": [
      "\r",
      " 79%|███████████████████████████████████████████████████████████████▏                | 237/300 [07:02<01:53,  1.80s/it]"
     ]
    },
    {
     "name": "stdout",
     "output_type": "stream",
     "text": [
      "Epoch 237: | Train Loss: 0.16773 | Val Loss: 0.18487 | Train Acc: 99.620| Val Acc: 92.403\n"
     ]
    },
    {
     "name": "stderr",
     "output_type": "stream",
     "text": [
      "\r",
      " 79%|███████████████████████████████████████████████████████████████▍                | 238/300 [07:04<01:51,  1.80s/it]"
     ]
    },
    {
     "name": "stdout",
     "output_type": "stream",
     "text": [
      "Epoch 238: | Train Loss: 0.16356 | Val Loss: 0.17808 | Train Acc: 99.620| Val Acc: 92.498\n"
     ]
    },
    {
     "name": "stderr",
     "output_type": "stream",
     "text": [
      "\r",
      " 80%|███████████████████████████████████████████████████████████████▋                | 239/300 [07:06<01:48,  1.78s/it]"
     ]
    },
    {
     "name": "stdout",
     "output_type": "stream",
     "text": [
      "Epoch 239: | Train Loss: 0.18753 | Val Loss: 0.18116 | Train Acc: 99.049| Val Acc: 92.213\n"
     ]
    },
    {
     "name": "stderr",
     "output_type": "stream",
     "text": [
      "\r",
      " 80%|████████████████████████████████████████████████████████████████                | 240/300 [07:08<01:46,  1.78s/it]"
     ]
    },
    {
     "name": "stdout",
     "output_type": "stream",
     "text": [
      "Epoch 240: | Train Loss: 0.17240 | Val Loss: 0.19468 | Train Acc: 99.810| Val Acc: 92.308\n"
     ]
    },
    {
     "name": "stderr",
     "output_type": "stream",
     "text": [
      "\r",
      " 80%|████████████████████████████████████████████████████████████████▎               | 241/300 [07:09<01:45,  1.79s/it]"
     ]
    },
    {
     "name": "stdout",
     "output_type": "stream",
     "text": [
      "Epoch 241: | Train Loss: 0.17055 | Val Loss: 0.18424 | Train Acc: 99.810| Val Acc: 92.403\n"
     ]
    },
    {
     "name": "stderr",
     "output_type": "stream",
     "text": [
      "\r",
      " 81%|████████████████████████████████████████████████████████████████▌               | 242/300 [07:11<01:42,  1.77s/it]"
     ]
    },
    {
     "name": "stdout",
     "output_type": "stream",
     "text": [
      "Epoch 242: | Train Loss: 0.18412 | Val Loss: 0.17791 | Train Acc: 99.430| Val Acc: 92.688\n"
     ]
    },
    {
     "name": "stderr",
     "output_type": "stream",
     "text": [
      "\r",
      " 81%|████████████████████████████████████████████████████████████████▊               | 243/300 [07:13<01:40,  1.76s/it]"
     ]
    },
    {
     "name": "stdout",
     "output_type": "stream",
     "text": [
      "Epoch 243: | Train Loss: 0.16973 | Val Loss: 0.17814 | Train Acc: 99.810| Val Acc: 92.783\n"
     ]
    },
    {
     "name": "stderr",
     "output_type": "stream",
     "text": [
      "\r",
      " 81%|█████████████████████████████████████████████████████████████████               | 244/300 [07:15<01:38,  1.76s/it]"
     ]
    },
    {
     "name": "stdout",
     "output_type": "stream",
     "text": [
      "Epoch 244: | Train Loss: 0.18763 | Val Loss: 0.18230 | Train Acc: 99.240| Val Acc: 92.688\n"
     ]
    },
    {
     "name": "stderr",
     "output_type": "stream",
     "text": [
      "\r",
      " 82%|█████████████████████████████████████████████████████████████████▎              | 245/300 [07:16<01:36,  1.76s/it]"
     ]
    },
    {
     "name": "stdout",
     "output_type": "stream",
     "text": [
      "Epoch 245: | Train Loss: 0.16956 | Val Loss: 0.18079 | Train Acc: 99.810| Val Acc: 92.593\n"
     ]
    },
    {
     "name": "stderr",
     "output_type": "stream",
     "text": [
      "\r",
      " 82%|█████████████████████████████████████████████████████████████████▌              | 246/300 [07:18<01:35,  1.77s/it]"
     ]
    },
    {
     "name": "stdout",
     "output_type": "stream",
     "text": [
      "Epoch 246: | Train Loss: 0.15844 | Val Loss: 0.18095 | Train Acc: 99.810| Val Acc: 92.783\n"
     ]
    },
    {
     "name": "stderr",
     "output_type": "stream",
     "text": [
      "\r",
      " 82%|█████████████████████████████████████████████████████████████████▊              | 247/300 [07:20<01:34,  1.78s/it]"
     ]
    },
    {
     "name": "stdout",
     "output_type": "stream",
     "text": [
      "Epoch 247: | Train Loss: 0.17089 | Val Loss: 0.18221 | Train Acc: 100.000| Val Acc: 92.403\n"
     ]
    },
    {
     "name": "stderr",
     "output_type": "stream",
     "text": [
      "\r",
      " 83%|██████████████████████████████████████████████████████████████████▏             | 248/300 [07:22<01:32,  1.78s/it]"
     ]
    },
    {
     "name": "stdout",
     "output_type": "stream",
     "text": [
      "Epoch 248: | Train Loss: 0.16528 | Val Loss: 0.18133 | Train Acc: 99.430| Val Acc: 92.593\n"
     ]
    },
    {
     "name": "stderr",
     "output_type": "stream",
     "text": [
      "\r",
      " 83%|██████████████████████████████████████████████████████████████████▍             | 249/300 [07:23<01:30,  1.77s/it]"
     ]
    },
    {
     "name": "stdout",
     "output_type": "stream",
     "text": [
      "Epoch 249: | Train Loss: 0.17271 | Val Loss: 0.18467 | Train Acc: 99.810| Val Acc: 92.593\n"
     ]
    },
    {
     "name": "stderr",
     "output_type": "stream",
     "text": [
      "\r",
      " 83%|██████████████████████████████████████████████████████████████████▋             | 250/300 [07:25<01:28,  1.76s/it]"
     ]
    },
    {
     "name": "stdout",
     "output_type": "stream",
     "text": [
      "Epoch 250: | Train Loss: 0.17628 | Val Loss: 0.18015 | Train Acc: 99.049| Val Acc: 92.593\n"
     ]
    },
    {
     "name": "stderr",
     "output_type": "stream",
     "text": [
      "\r",
      " 84%|██████████████████████████████████████████████████████████████████▉             | 251/300 [07:27<01:26,  1.76s/it]"
     ]
    },
    {
     "name": "stdout",
     "output_type": "stream",
     "text": [
      "Epoch 251: | Train Loss: 0.17081 | Val Loss: 0.17858 | Train Acc: 99.430| Val Acc: 92.593\n"
     ]
    },
    {
     "name": "stderr",
     "output_type": "stream",
     "text": [
      "\r",
      " 84%|███████████████████████████████████████████████████████████████████▏            | 252/300 [07:29<01:24,  1.76s/it]"
     ]
    },
    {
     "name": "stdout",
     "output_type": "stream",
     "text": [
      "Epoch 252: | Train Loss: 0.16051 | Val Loss: 0.17418 | Train Acc: 99.620| Val Acc: 92.498\n"
     ]
    },
    {
     "name": "stderr",
     "output_type": "stream",
     "text": [
      "\r",
      " 84%|███████████████████████████████████████████████████████████████████▍            | 253/300 [07:31<01:24,  1.79s/it]"
     ]
    },
    {
     "name": "stdout",
     "output_type": "stream",
     "text": [
      "Epoch 253: | Train Loss: 0.16588 | Val Loss: 0.17604 | Train Acc: 99.810| Val Acc: 92.783\n"
     ]
    },
    {
     "name": "stderr",
     "output_type": "stream",
     "text": [
      "\r",
      " 85%|███████████████████████████████████████████████████████████████████▋            | 254/300 [07:33<01:26,  1.89s/it]"
     ]
    },
    {
     "name": "stdout",
     "output_type": "stream",
     "text": [
      "Epoch 254: | Train Loss: 0.16663 | Val Loss: 0.18064 | Train Acc: 99.620| Val Acc: 92.593\n"
     ]
    },
    {
     "name": "stderr",
     "output_type": "stream",
     "text": [
      "\r",
      " 85%|████████████████████████████████████████████████████████████████████            | 255/300 [07:35<01:26,  1.92s/it]"
     ]
    },
    {
     "name": "stdout",
     "output_type": "stream",
     "text": [
      "Epoch 255: | Train Loss: 0.17667 | Val Loss: 0.18087 | Train Acc: 99.620| Val Acc: 92.593\n"
     ]
    },
    {
     "name": "stderr",
     "output_type": "stream",
     "text": [
      "\r",
      " 85%|████████████████████████████████████████████████████████████████████▎           | 256/300 [07:36<01:22,  1.87s/it]"
     ]
    },
    {
     "name": "stdout",
     "output_type": "stream",
     "text": [
      "Epoch 256: | Train Loss: 0.17567 | Val Loss: 0.17946 | Train Acc: 99.430| Val Acc: 92.498\n"
     ]
    },
    {
     "name": "stderr",
     "output_type": "stream",
     "text": [
      "\r",
      " 86%|████████████████████████████████████████████████████████████████████▌           | 257/300 [07:38<01:19,  1.84s/it]"
     ]
    },
    {
     "name": "stdout",
     "output_type": "stream",
     "text": [
      "Epoch 257: | Train Loss: 0.17072 | Val Loss: 0.18096 | Train Acc: 99.430| Val Acc: 92.403\n"
     ]
    },
    {
     "name": "stderr",
     "output_type": "stream",
     "text": [
      "\r",
      " 86%|████████████████████████████████████████████████████████████████████▊           | 258/300 [07:40<01:17,  1.84s/it]"
     ]
    },
    {
     "name": "stdout",
     "output_type": "stream",
     "text": [
      "Epoch 258: | Train Loss: 0.16628 | Val Loss: 0.17851 | Train Acc: 99.430| Val Acc: 92.593\n"
     ]
    },
    {
     "name": "stderr",
     "output_type": "stream",
     "text": [
      "\r",
      " 86%|█████████████████████████████████████████████████████████████████████           | 259/300 [07:42<01:15,  1.84s/it]"
     ]
    },
    {
     "name": "stdout",
     "output_type": "stream",
     "text": [
      "Epoch 259: | Train Loss: 0.16643 | Val Loss: 0.18278 | Train Acc: 100.000| Val Acc: 92.403\n"
     ]
    },
    {
     "name": "stderr",
     "output_type": "stream",
     "text": [
      "\r",
      " 87%|█████████████████████████████████████████████████████████████████████▎          | 260/300 [07:44<01:13,  1.84s/it]"
     ]
    },
    {
     "name": "stdout",
     "output_type": "stream",
     "text": [
      "Epoch 260: | Train Loss: 0.16951 | Val Loss: 0.17360 | Train Acc: 99.810| Val Acc: 92.783\n"
     ]
    },
    {
     "name": "stderr",
     "output_type": "stream",
     "text": [
      "\r",
      " 87%|█████████████████████████████████████████████████████████████████████▌          | 261/300 [07:46<01:11,  1.84s/it]"
     ]
    },
    {
     "name": "stdout",
     "output_type": "stream",
     "text": [
      "Epoch 261: | Train Loss: 0.17382 | Val Loss: 0.18359 | Train Acc: 99.810| Val Acc: 92.403\n"
     ]
    },
    {
     "name": "stderr",
     "output_type": "stream",
     "text": [
      "\r",
      " 87%|█████████████████████████████████████████████████████████████████████▊          | 262/300 [07:47<01:09,  1.84s/it]"
     ]
    },
    {
     "name": "stdout",
     "output_type": "stream",
     "text": [
      "Epoch 262: | Train Loss: 0.20029 | Val Loss: 0.18171 | Train Acc: 99.430| Val Acc: 92.403\n"
     ]
    },
    {
     "name": "stderr",
     "output_type": "stream",
     "text": [
      "\r",
      " 88%|██████████████████████████████████████████████████████████████████████▏         | 263/300 [07:49<01:07,  1.83s/it]"
     ]
    },
    {
     "name": "stdout",
     "output_type": "stream",
     "text": [
      "Epoch 263: | Train Loss: 0.18120 | Val Loss: 0.18962 | Train Acc: 98.859| Val Acc: 92.118\n"
     ]
    },
    {
     "name": "stderr",
     "output_type": "stream",
     "text": [
      "\r",
      " 88%|██████████████████████████████████████████████████████████████████████▍         | 264/300 [07:51<01:05,  1.83s/it]"
     ]
    },
    {
     "name": "stdout",
     "output_type": "stream",
     "text": [
      "Epoch 264: | Train Loss: 0.17487 | Val Loss: 0.18979 | Train Acc: 99.430| Val Acc: 92.403\n"
     ]
    },
    {
     "name": "stderr",
     "output_type": "stream",
     "text": [
      "\r",
      " 88%|██████████████████████████████████████████████████████████████████████▋         | 265/300 [07:53<01:05,  1.86s/it]"
     ]
    },
    {
     "name": "stdout",
     "output_type": "stream",
     "text": [
      "Epoch 265: | Train Loss: 0.16544 | Val Loss: 0.18680 | Train Acc: 99.240| Val Acc: 92.308\n"
     ]
    },
    {
     "name": "stderr",
     "output_type": "stream",
     "text": [
      "\r",
      " 89%|██████████████████████████████████████████████████████████████████████▉         | 266/300 [07:55<01:03,  1.85s/it]"
     ]
    },
    {
     "name": "stdout",
     "output_type": "stream",
     "text": [
      "Epoch 266: | Train Loss: 0.17400 | Val Loss: 0.18920 | Train Acc: 99.810| Val Acc: 92.403\n"
     ]
    },
    {
     "name": "stderr",
     "output_type": "stream",
     "text": [
      "\r",
      " 89%|███████████████████████████████████████████████████████████████████████▏        | 267/300 [07:57<01:00,  1.84s/it]"
     ]
    },
    {
     "name": "stdout",
     "output_type": "stream",
     "text": [
      "Epoch 267: | Train Loss: 0.18169 | Val Loss: 0.18272 | Train Acc: 99.049| Val Acc: 92.783\n"
     ]
    },
    {
     "name": "stderr",
     "output_type": "stream",
     "text": [
      "\r",
      " 89%|███████████████████████████████████████████████████████████████████████▍        | 268/300 [07:58<00:57,  1.81s/it]"
     ]
    },
    {
     "name": "stdout",
     "output_type": "stream",
     "text": [
      "Epoch 268: | Train Loss: 0.18774 | Val Loss: 0.18594 | Train Acc: 99.620| Val Acc: 92.403\n"
     ]
    },
    {
     "name": "stderr",
     "output_type": "stream",
     "text": [
      "\r",
      " 90%|███████████████████████████████████████████████████████████████████████▋        | 269/300 [08:00<00:56,  1.83s/it]"
     ]
    },
    {
     "name": "stdout",
     "output_type": "stream",
     "text": [
      "Epoch 269: | Train Loss: 0.17304 | Val Loss: 0.17607 | Train Acc: 99.810| Val Acc: 92.593\n"
     ]
    },
    {
     "name": "stderr",
     "output_type": "stream",
     "text": [
      "\r",
      " 90%|████████████████████████████████████████████████████████████████████████        | 270/300 [08:02<00:55,  1.83s/it]"
     ]
    },
    {
     "name": "stdout",
     "output_type": "stream",
     "text": [
      "Epoch 270: | Train Loss: 0.17403 | Val Loss: 0.17772 | Train Acc: 99.620| Val Acc: 92.593\n"
     ]
    },
    {
     "name": "stderr",
     "output_type": "stream",
     "text": [
      "\r",
      " 90%|████████████████████████████████████████████████████████████████████████▎       | 271/300 [08:04<00:53,  1.86s/it]"
     ]
    },
    {
     "name": "stdout",
     "output_type": "stream",
     "text": [
      "Epoch 271: | Train Loss: 0.16590 | Val Loss: 0.18048 | Train Acc: 99.810| Val Acc: 92.023\n"
     ]
    },
    {
     "name": "stderr",
     "output_type": "stream",
     "text": [
      "\r",
      " 91%|████████████████████████████████████████████████████████████████████████▌       | 272/300 [08:06<00:52,  1.87s/it]"
     ]
    },
    {
     "name": "stdout",
     "output_type": "stream",
     "text": [
      "Epoch 272: | Train Loss: 0.16797 | Val Loss: 0.17874 | Train Acc: 99.620| Val Acc: 92.023\n"
     ]
    },
    {
     "name": "stderr",
     "output_type": "stream",
     "text": [
      "\r",
      " 91%|████████████████████████████████████████████████████████████████████████▊       | 273/300 [08:08<00:50,  1.85s/it]"
     ]
    },
    {
     "name": "stdout",
     "output_type": "stream",
     "text": [
      "Epoch 273: | Train Loss: 0.19234 | Val Loss: 0.18080 | Train Acc: 99.049| Val Acc: 92.403\n"
     ]
    },
    {
     "name": "stderr",
     "output_type": "stream",
     "text": [
      "\r",
      " 91%|█████████████████████████████████████████████████████████████████████████       | 274/300 [08:10<00:48,  1.86s/it]"
     ]
    },
    {
     "name": "stdout",
     "output_type": "stream",
     "text": [
      "Epoch 274: | Train Loss: 0.17795 | Val Loss: 0.17518 | Train Acc: 99.620| Val Acc: 92.593\n"
     ]
    },
    {
     "name": "stderr",
     "output_type": "stream",
     "text": [
      "\r",
      " 92%|█████████████████████████████████████████████████████████████████████████▎      | 275/300 [08:11<00:46,  1.84s/it]"
     ]
    },
    {
     "name": "stdout",
     "output_type": "stream",
     "text": [
      "Epoch 275: | Train Loss: 0.16678 | Val Loss: 0.17480 | Train Acc: 99.810| Val Acc: 92.308\n"
     ]
    },
    {
     "name": "stderr",
     "output_type": "stream",
     "text": [
      "\r",
      " 92%|█████████████████████████████████████████████████████████████████████████▌      | 276/300 [08:13<00:44,  1.84s/it]"
     ]
    },
    {
     "name": "stdout",
     "output_type": "stream",
     "text": [
      "Epoch 276: | Train Loss: 0.18346 | Val Loss: 0.17842 | Train Acc: 99.620| Val Acc: 92.308\n"
     ]
    },
    {
     "name": "stderr",
     "output_type": "stream",
     "text": [
      "\r",
      " 92%|█████████████████████████████████████████████████████████████████████████▊      | 277/300 [08:15<00:42,  1.83s/it]"
     ]
    },
    {
     "name": "stdout",
     "output_type": "stream",
     "text": [
      "Epoch 277: | Train Loss: 0.19927 | Val Loss: 0.17667 | Train Acc: 99.240| Val Acc: 92.593\n"
     ]
    },
    {
     "name": "stderr",
     "output_type": "stream",
     "text": [
      "\r",
      " 93%|██████████████████████████████████████████████████████████████████████████▏     | 278/300 [08:17<00:39,  1.82s/it]"
     ]
    },
    {
     "name": "stdout",
     "output_type": "stream",
     "text": [
      "Epoch 278: | Train Loss: 0.18329 | Val Loss: 0.18331 | Train Acc: 99.240| Val Acc: 92.688\n"
     ]
    },
    {
     "name": "stderr",
     "output_type": "stream",
     "text": [
      "\r",
      " 93%|██████████████████████████████████████████████████████████████████████████▍     | 279/300 [08:19<00:37,  1.80s/it]"
     ]
    },
    {
     "name": "stdout",
     "output_type": "stream",
     "text": [
      "Epoch 279: | Train Loss: 0.16599 | Val Loss: 0.17512 | Train Acc: 99.620| Val Acc: 92.403\n"
     ]
    },
    {
     "name": "stderr",
     "output_type": "stream",
     "text": [
      "\r",
      " 93%|██████████████████████████████████████████████████████████████████████████▋     | 280/300 [08:20<00:35,  1.79s/it]"
     ]
    },
    {
     "name": "stdout",
     "output_type": "stream",
     "text": [
      "Epoch 280: | Train Loss: 0.16885 | Val Loss: 0.17662 | Train Acc: 99.810| Val Acc: 92.403\n"
     ]
    },
    {
     "name": "stderr",
     "output_type": "stream",
     "text": [
      "\r",
      " 94%|██████████████████████████████████████████████████████████████████████████▉     | 281/300 [08:22<00:34,  1.81s/it]"
     ]
    },
    {
     "name": "stdout",
     "output_type": "stream",
     "text": [
      "Epoch 281: | Train Loss: 0.16251 | Val Loss: 0.18419 | Train Acc: 99.810| Val Acc: 92.118\n"
     ]
    },
    {
     "name": "stderr",
     "output_type": "stream",
     "text": [
      "\r",
      " 94%|███████████████████████████████████████████████████████████████████████████▏    | 282/300 [08:24<00:32,  1.82s/it]"
     ]
    },
    {
     "name": "stdout",
     "output_type": "stream",
     "text": [
      "Epoch 282: | Train Loss: 0.17283 | Val Loss: 0.18072 | Train Acc: 99.620| Val Acc: 92.403\n"
     ]
    },
    {
     "name": "stderr",
     "output_type": "stream",
     "text": [
      "\r",
      " 94%|███████████████████████████████████████████████████████████████████████████▍    | 283/300 [08:26<00:31,  1.82s/it]"
     ]
    },
    {
     "name": "stdout",
     "output_type": "stream",
     "text": [
      "Epoch 283: | Train Loss: 0.16174 | Val Loss: 0.18560 | Train Acc: 99.620| Val Acc: 92.308\n"
     ]
    },
    {
     "name": "stderr",
     "output_type": "stream",
     "text": [
      "\r",
      " 95%|███████████████████████████████████████████████████████████████████████████▋    | 284/300 [08:28<00:29,  1.82s/it]"
     ]
    },
    {
     "name": "stdout",
     "output_type": "stream",
     "text": [
      "Epoch 284: | Train Loss: 0.17144 | Val Loss: 0.18645 | Train Acc: 100.000| Val Acc: 92.023\n"
     ]
    },
    {
     "name": "stderr",
     "output_type": "stream",
     "text": [
      "\r",
      " 95%|████████████████████████████████████████████████████████████████████████████    | 285/300 [08:29<00:26,  1.80s/it]"
     ]
    },
    {
     "name": "stdout",
     "output_type": "stream",
     "text": [
      "Epoch 285: | Train Loss: 0.16014 | Val Loss: 0.18212 | Train Acc: 99.810| Val Acc: 92.498\n"
     ]
    },
    {
     "name": "stderr",
     "output_type": "stream",
     "text": [
      "\r",
      " 95%|████████████████████████████████████████████████████████████████████████████▎   | 286/300 [08:31<00:24,  1.78s/it]"
     ]
    },
    {
     "name": "stdout",
     "output_type": "stream",
     "text": [
      "Epoch 286: | Train Loss: 0.17960 | Val Loss: 0.18248 | Train Acc: 99.620| Val Acc: 92.403\n"
     ]
    },
    {
     "name": "stderr",
     "output_type": "stream",
     "text": [
      "\r",
      " 96%|████████████████████████████████████████████████████████████████████████████▌   | 287/300 [08:33<00:23,  1.78s/it]"
     ]
    },
    {
     "name": "stdout",
     "output_type": "stream",
     "text": [
      "Epoch 287: | Train Loss: 0.17825 | Val Loss: 0.18448 | Train Acc: 99.240| Val Acc: 92.118\n"
     ]
    },
    {
     "name": "stderr",
     "output_type": "stream",
     "text": [
      "\r",
      " 96%|████████████████████████████████████████████████████████████████████████████▊   | 288/300 [08:35<00:21,  1.77s/it]"
     ]
    },
    {
     "name": "stdout",
     "output_type": "stream",
     "text": [
      "Epoch 288: | Train Loss: 0.19069 | Val Loss: 0.18427 | Train Acc: 99.240| Val Acc: 92.308\n"
     ]
    },
    {
     "name": "stderr",
     "output_type": "stream",
     "text": [
      "\r",
      " 96%|█████████████████████████████████████████████████████████████████████████████   | 289/300 [08:36<00:19,  1.77s/it]"
     ]
    },
    {
     "name": "stdout",
     "output_type": "stream",
     "text": [
      "Epoch 289: | Train Loss: 0.16714 | Val Loss: 0.17601 | Train Acc: 99.620| Val Acc: 92.213\n"
     ]
    },
    {
     "name": "stderr",
     "output_type": "stream",
     "text": [
      "\r",
      " 97%|█████████████████████████████████████████████████████████████████████████████▎  | 290/300 [08:38<00:17,  1.78s/it]"
     ]
    },
    {
     "name": "stdout",
     "output_type": "stream",
     "text": [
      "Epoch 290: | Train Loss: 0.17935 | Val Loss: 0.18628 | Train Acc: 99.620| Val Acc: 92.308\n"
     ]
    },
    {
     "name": "stderr",
     "output_type": "stream",
     "text": [
      "\r",
      " 97%|█████████████████████████████████████████████████████████████████████████████▌  | 291/300 [08:40<00:15,  1.78s/it]"
     ]
    },
    {
     "name": "stdout",
     "output_type": "stream",
     "text": [
      "Epoch 291: | Train Loss: 0.17378 | Val Loss: 0.18562 | Train Acc: 99.620| Val Acc: 92.118\n"
     ]
    },
    {
     "name": "stderr",
     "output_type": "stream",
     "text": [
      "\r",
      " 97%|█████████████████████████████████████████████████████████████████████████████▊  | 292/300 [08:42<00:14,  1.78s/it]"
     ]
    },
    {
     "name": "stdout",
     "output_type": "stream",
     "text": [
      "Epoch 292: | Train Loss: 0.16171 | Val Loss: 0.18739 | Train Acc: 99.620| Val Acc: 92.593\n"
     ]
    },
    {
     "name": "stderr",
     "output_type": "stream",
     "text": [
      "\r",
      " 98%|██████████████████████████████████████████████████████████████████████████████▏ | 293/300 [08:44<00:12,  1.78s/it]"
     ]
    },
    {
     "name": "stdout",
     "output_type": "stream",
     "text": [
      "Epoch 293: | Train Loss: 0.16741 | Val Loss: 0.18255 | Train Acc: 99.430| Val Acc: 92.308\n"
     ]
    },
    {
     "name": "stderr",
     "output_type": "stream",
     "text": [
      "\r",
      " 98%|██████████████████████████████████████████████████████████████████████████████▍ | 294/300 [08:45<00:10,  1.78s/it]"
     ]
    },
    {
     "name": "stdout",
     "output_type": "stream",
     "text": [
      "Epoch 294: | Train Loss: 0.16107 | Val Loss: 0.18132 | Train Acc: 99.620| Val Acc: 92.213\n"
     ]
    },
    {
     "name": "stderr",
     "output_type": "stream",
     "text": [
      "\r",
      " 98%|██████████████████████████████████████████████████████████████████████████████▋ | 295/300 [08:47<00:09,  1.81s/it]"
     ]
    },
    {
     "name": "stdout",
     "output_type": "stream",
     "text": [
      "Epoch 295: | Train Loss: 0.17651 | Val Loss: 0.18644 | Train Acc: 99.430| Val Acc: 91.928\n"
     ]
    },
    {
     "name": "stderr",
     "output_type": "stream",
     "text": [
      "\r",
      " 99%|██████████████████████████████████████████████████████████████████████████████▉ | 296/300 [08:49<00:07,  1.80s/it]"
     ]
    },
    {
     "name": "stdout",
     "output_type": "stream",
     "text": [
      "Epoch 296: | Train Loss: 0.17404 | Val Loss: 0.17965 | Train Acc: 99.810| Val Acc: 92.308\n"
     ]
    },
    {
     "name": "stderr",
     "output_type": "stream",
     "text": [
      "\r",
      " 99%|███████████████████████████████████████████████████████████████████████████████▏| 297/300 [08:51<00:05,  1.80s/it]"
     ]
    },
    {
     "name": "stdout",
     "output_type": "stream",
     "text": [
      "Epoch 297: | Train Loss: 0.17575 | Val Loss: 0.17582 | Train Acc: 99.240| Val Acc: 92.403\n"
     ]
    },
    {
     "name": "stderr",
     "output_type": "stream",
     "text": [
      "\r",
      " 99%|███████████████████████████████████████████████████████████████████████████████▍| 298/300 [08:53<00:03,  1.81s/it]"
     ]
    },
    {
     "name": "stdout",
     "output_type": "stream",
     "text": [
      "Epoch 298: | Train Loss: 0.16465 | Val Loss: 0.17713 | Train Acc: 99.810| Val Acc: 92.498\n"
     ]
    },
    {
     "name": "stderr",
     "output_type": "stream",
     "text": [
      "\r",
      "100%|███████████████████████████████████████████████████████████████████████████████▋| 299/300 [08:55<00:01,  1.82s/it]"
     ]
    },
    {
     "name": "stdout",
     "output_type": "stream",
     "text": [
      "Epoch 299: | Train Loss: 0.16210 | Val Loss: 0.18150 | Train Acc: 99.810| Val Acc: 92.783\n"
     ]
    },
    {
     "name": "stderr",
     "output_type": "stream",
     "text": [
      "100%|████████████████████████████████████████████████████████████████████████████████| 300/300 [08:56<00:00,  1.79s/it]"
     ]
    },
    {
     "name": "stdout",
     "output_type": "stream",
     "text": [
      "Epoch 300: | Train Loss: 0.17451 | Val Loss: 0.17855 | Train Acc: 99.810| Val Acc: 92.213\n"
     ]
    },
    {
     "name": "stderr",
     "output_type": "stream",
     "text": [
      "\n"
     ]
    }
   ],
   "source": [
    "for e in tqdm(range(1, EPOCHS+1)):\n",
    "    \n",
    "    # Train model\n",
    "    train_epoch_loss = 0\n",
    "    train_epoch_acc = 0\n",
    "    model.train()\n",
    "    for X_train_batch, y_train_batch in train_DL:\n",
    "        X_train_batch, y_train_batch = X_train_batch.to(device), y_train_batch.to(device)\n",
    "        optimizer.zero_grad()\n",
    "        \n",
    "        y_train_pred = model(X_train_batch)\n",
    "        \n",
    "        train_loss = criterion(y_train_pred, y_train_batch)\n",
    "        train_acc = acc_epoch(y_train_pred, y_train_batch)\n",
    "        \n",
    "        train_loss.backward()\n",
    "        optimizer.step()\n",
    "        \n",
    "        train_epoch_loss += train_loss.item()\n",
    "        train_epoch_acc += train_acc.item()\n",
    "        \n",
    "        \n",
    "    # Test model with validation set    \n",
    "    with torch.no_grad():\n",
    "        \n",
    "        val_epoch_loss = 0\n",
    "        val_epoch_acc = 0\n",
    "        \n",
    "        model.eval()\n",
    "        for X_val_batch, y_val_batch in val_DL:\n",
    "            X_val_batch, y_val_batch = X_val_batch.to(device), y_val_batch.to(device)\n",
    "            \n",
    "            y_val_pred = model(X_val_batch)\n",
    "                        \n",
    "            val_loss = criterion(y_val_pred, y_val_batch)\n",
    "            val_acc = acc_epoch(y_val_pred, y_val_batch)\n",
    "            \n",
    "            val_epoch_loss += val_loss.item()\n",
    "            val_epoch_acc += val_acc.item()\n",
    "    \n",
    "    loss_dict['train'].append(train_epoch_loss/len(train_DL))\n",
    "    loss_dict['val'].append(val_epoch_loss/len(val_DL))\n",
    "    acc_dict['train'].append(train_epoch_acc/len(train_DL))\n",
    "    acc_dict['val'].append(val_epoch_acc/len(val_DL))\n",
    "                              \n",
    "    \n",
    "    print(f'Epoch {e+0:03}: | Train Loss: {train_epoch_loss/len(train_DL):.5f} | Val Loss: {val_epoch_loss/len(val_DL):.5f} | Train Acc: {train_epoch_acc/len(train_DL):.3f}| Val Acc: {val_epoch_acc/len(val_DL):.3f}')"
   ]
  },
  {
   "cell_type": "markdown",
   "metadata": {},
   "source": [
    "#### Show Plots\n",
    "Show the plots for training and validation accuracy per epoch and loss per epoch."
   ]
  },
  {
   "cell_type": "code",
   "execution_count": 26,
   "metadata": {
    "scrolled": false
   },
   "outputs": [
    {
     "data": {
      "text/plain": [
       "Text(0.5, 1.0, 'Train & Validation Loss per Epoch')"
      ]
     },
     "execution_count": 26,
     "metadata": {},
     "output_type": "execute_result"
    },
    {
     "data": {
      "image/png": "[encoded data removed]",
      "text/plain": [
       "<Figure size 1440x504 with 2 Axes>"
      ]
     },
     "metadata": {
      "needs_background": "light"
     },
     "output_type": "display_data"
    }
   ],
   "source": [
    "# Create dataframes\n",
    "train_val_acc_df = pd.DataFrame.from_dict(acc_dict).reset_index().melt(id_vars=['index']).rename(columns={\"index\":\"epochs\"})\n",
    "train_val_loss_df = pd.DataFrame.from_dict(loss_dict).reset_index().melt(id_vars=['index']).rename(columns={\"index\":\"epochs\"})\n",
    "# Plot the dataframes\n",
    "fig, axes = plt.subplots(nrows=1, ncols=2, figsize=(20,7))\n",
    "sns.lineplot(data=train_val_acc_df, x = \"epochs\", y=\"value\", hue=\"variable\",  ax=axes[0]).set_title('Train & Validation Accuracy per Epoch')\n",
    "sns.lineplot(data=train_val_loss_df, x = \"epochs\", y=\"value\", hue=\"variable\", ax=axes[1]).set_title('Train & Validation Loss per Epoch')"
   ]
  },
  {
   "cell_type": "markdown",
   "metadata": {},
   "source": [
    "#### Response Features From Testing Predictor Features\n",
    "Get the predicted classes (matchup results) from the testing data features."
   ]
  },
  {
   "cell_type": "code",
   "execution_count": 27,
   "metadata": {},
   "outputs": [],
   "source": [
    "y_pred_list = []\n",
    "with torch.no_grad():\n",
    "    model.eval()\n",
    "    for X_batch, _ in test_DL:\n",
    "        X_batch = X_batch.to('cuda:0')\n",
    "        y_test_pred = model(X_batch)\n",
    "        _, y_pred_tags = torch.max(y_test_pred, dim = 1)\n",
    "        y_pred_list.append(y_pred_tags.cpu().numpy())\n",
    "y_pred_list = [a.squeeze().tolist() for a in y_pred_list]"
   ]
  },
  {
   "cell_type": "markdown",
   "metadata": {},
   "source": [
    "#### Confusion Matrix"
   ]
  },
  {
   "cell_type": "code",
   "execution_count": 28,
   "metadata": {},
   "outputs": [
    {
     "data": {
      "text/plain": [
       "array([[335,  16,  28],\n",
       "       [  5, 292,  32],\n",
       "       [  3,  42, 563]], dtype=int64)"
      ]
     },
     "execution_count": 28,
     "metadata": {},
     "output_type": "execute_result"
    }
   ],
   "source": [
    "confusion_matrix(y_test, y_pred_list)"
   ]
  },
  {
   "cell_type": "markdown",
   "metadata": {},
   "source": [
    "#### Results\n",
    "The classification report below shows precision, recall, f1-score, and accuracy of the model with the testing dataset. It can be observed that the create ANN does a decent job at predicting matchup results."
   ]
  },
  {
   "cell_type": "code",
   "execution_count": 29,
   "metadata": {},
   "outputs": [
    {
     "name": "stdout",
     "output_type": "stream",
     "text": [
      "              precision    recall  f1-score   support\n",
      "\n",
      "           0       0.98      0.88      0.93       379\n",
      "           1       0.83      0.89      0.86       329\n",
      "           2       0.90      0.93      0.91       608\n",
      "\n",
      "    accuracy                           0.90      1316\n",
      "   macro avg       0.90      0.90      0.90      1316\n",
      "weighted avg       0.91      0.90      0.90      1316\n",
      "\n"
     ]
    }
   ],
   "source": [
    "print(classification_report(y_test, y_pred_list))"
   ]
  },
  {
   "cell_type": "code",
   "execution_count": null,
   "metadata": {},
   "outputs": [],
   "source": []
  }
 ],
 "metadata": {
  "kernelspec": {
   "display_name": "Python 3",
   "language": "python",
   "name": "python3"
  },
  "language_info": {
   "codemirror_mode": {
    "name": "ipython",
    "version": 3
   },
   "file_extension": ".py",
   "mimetype": "text/x-python",
   "name": "python",
   "nbconvert_exporter": "python",
   "pygments_lexer": "ipython3",
   "version": "3.8.5"
  }
 },
 "nbformat": 4,
 "nbformat_minor": 4
}
